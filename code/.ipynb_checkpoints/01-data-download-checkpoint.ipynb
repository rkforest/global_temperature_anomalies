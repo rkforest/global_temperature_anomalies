{
 "cells": [
  {
   "cell_type": "markdown",
   "id": "0bd71ea4",
   "metadata": {
    "tags": []
   },
   "source": [
    "<a id='dd'></a>\n",
    "# data download"
   ]
  },
  {
   "cell_type": "markdown",
   "id": "aa12904f-8de8-49d3-aa1c-639ad30557a1",
   "metadata": {
    "tags": []
   },
   "source": [
    "[libraries](#dd-libraries)  \n",
    "[parameters](#dd-parameters)  \n",
    "[directories](#dd-directories)  \n",
    "[download](#dd-download)  \n",
    "[catalog](#dd-catalog)  "
   ]
  },
  {
   "cell_type": "markdown",
   "id": "ad46782b-7efd-41e6-ae0a-1967ea38b394",
   "metadata": {
    "tags": [],
    "toc-hr-collapsed": true
   },
   "source": [
    "<a id='dd-libraries'></a>\n",
    "## libraries"
   ]
  },
  {
   "cell_type": "markdown",
   "id": "1b69cecd-9edc-4796-b23d-e99c33d599f6",
   "metadata": {
    "tags": []
   },
   "source": [
    "[Return to Start of Notebook](#dd)  "
   ]
  },
  {
   "cell_type": "code",
   "execution_count": 1,
   "id": "ed794b8b-d867-45cf-818a-86835b0c7a74",
   "metadata": {
    "tags": []
   },
   "outputs": [],
   "source": [
    "import os\n",
    "#import glob\n",
    "#import gzip\n",
    "import pandas as pd\n",
    "import xarray as xr"
   ]
  },
  {
   "cell_type": "code",
   "execution_count": 2,
   "id": "501ffbdb-4af1-4702-b651-b1d59d0a1cdd",
   "metadata": {
    "tags": []
   },
   "outputs": [],
   "source": [
    "import warnings \n",
    "from functools import partial \n",
    "from IPython.core.interactiveshell import InteractiveShell "
   ]
  },
  {
   "cell_type": "code",
   "execution_count": 3,
   "id": "c89c197e-9717-4719-b1c0-ecbe80a78e71",
   "metadata": {
    "tags": []
   },
   "outputs": [],
   "source": [
    "from data_download import download_csv\n",
    "from data_download import download_nc\n",
    "from data_download import directory_catalog"
   ]
  },
  {
   "cell_type": "markdown",
   "id": "f947f68e-6940-4519-b91c-88dca40dccf8",
   "metadata": {
    "tags": [],
    "toc-hr-collapsed": true
   },
   "source": [
    "<a id='dd-parameters'></a>\n",
    "## parameters"
   ]
  },
  {
   "cell_type": "markdown",
   "id": "bea40202-9e08-4e42-9670-41bd38dd4456",
   "metadata": {
    "tags": []
   },
   "source": [
    "[Return to Start of Notebook](#dd)  "
   ]
  },
  {
   "cell_type": "code",
   "execution_count": 4,
   "id": "74427bc8-7a75-4a4d-9e8f-5f26024d076d",
   "metadata": {
    "tags": []
   },
   "outputs": [],
   "source": [
    "# ignore warnings \n",
    "warnings.filterwarnings('ignore')"
   ]
  },
  {
   "cell_type": "code",
   "execution_count": 5,
   "id": "46a88ecc-e7d0-4879-a683-328932ace5cd",
   "metadata": {
    "tags": []
   },
   "outputs": [],
   "source": [
    "# shorter traceback error messages\n",
    "get_ipython().showtraceback = partial(get_ipython().showtraceback,exception_only=True)"
   ]
  },
  {
   "cell_type": "code",
   "execution_count": 6,
   "id": "d9408afe-c39a-4d6e-aef4-a04663dba7b2",
   "metadata": {
    "tags": []
   },
   "outputs": [],
   "source": [
    "# shows result of cell without needing print\n",
    "InteractiveShell.ast_node_interactivity = \"last_expr_or_assign\""
   ]
  },
  {
   "cell_type": "markdown",
   "id": "706952ec-335c-4081-950f-04cfa14127a0",
   "metadata": {
    "toc-hr-collapsed": true
   },
   "source": [
    "<a id='dd-directories'></a>\n",
    "## directories"
   ]
  },
  {
   "cell_type": "markdown",
   "id": "d6d36254-a7bd-4dc7-ae33-e2441a30fd04",
   "metadata": {},
   "source": [
    "[Return to Start of Notebook](#dd)  "
   ]
  },
  {
   "cell_type": "code",
   "execution_count": 7,
   "id": "f44ec88f-c532-4448-a1fa-2a093a81d7bb",
   "metadata": {
    "tags": []
   },
   "outputs": [
    {
     "data": {
      "text/plain": [
       "'/Users/rkforest/gta/data/raw-data'"
      ]
     },
     "execution_count": 7,
     "metadata": {},
     "output_type": "execute_result"
    }
   ],
   "source": [
    "project_id = 'gta'\n",
    "home_dir = os.path.expanduser(\"~\")\n",
    "project_dir = os.path.join(home_dir, project_id)\n",
    "data_dir = os.path.join(project_dir, 'data')\n",
    "raw_data_dir =os.path.join(data_dir, 'raw-data')"
   ]
  },
  {
   "cell_type": "code",
   "execution_count": 8,
   "id": "72569bb9-1536-4578-80d5-a772821ca5d6",
   "metadata": {
    "tags": []
   },
   "outputs": [],
   "source": [
    "def create_directory(directory_name):\n",
    "    if not os.path.exists(directory_name):\n",
    "        print('Created new directory: ', directory_name)\n",
    "        os.mkdir(directory_name)"
   ]
  },
  {
   "cell_type": "code",
   "execution_count": 9,
   "id": "4056cc93-26c8-4c85-9e9f-741f03cff3a4",
   "metadata": {
    "tags": []
   },
   "outputs": [],
   "source": [
    "create_directory(project_dir)\n",
    "create_directory(data_dir)\n",
    "create_directory(raw_data_dir)"
   ]
  },
  {
   "cell_type": "code",
   "execution_count": 10,
   "id": "a1c58332-3f14-44a0-ad64-168854ec13f0",
   "metadata": {
    "tags": []
   },
   "outputs": [
    {
     "data": {
      "text/plain": [
       "'/Users/rkforest/gta'"
      ]
     },
     "execution_count": 10,
     "metadata": {},
     "output_type": "execute_result"
    }
   ],
   "source": [
    "os.chdir(project_dir)\n",
    "os.getcwd()"
   ]
  },
  {
   "cell_type": "markdown",
   "id": "c45e3ff3-1e5e-4063-bea0-dfe552afba17",
   "metadata": {
    "toc-hr-collapsed": true
   },
   "source": [
    "<a id='dd-download'></a>\n",
    "## download "
   ]
  },
  {
   "cell_type": "markdown",
   "id": "eb69d9e6-1c1e-4864-8786-a2f38cb97996",
   "metadata": {},
   "source": [
    "[Return to Start of Notebook](#dd)  "
   ]
  },
  {
   "cell_type": "markdown",
   "id": "542adfa2-19a2-409d-99b8-2493c2e44677",
   "metadata": {
    "toc-hr-collapsed": true
   },
   "source": [
    "#### download csv"
   ]
  },
  {
   "cell_type": "code",
   "execution_count": 11,
   "id": "db7d36cc-78b0-4f0e-9b61-df0db2fb2083",
   "metadata": {
    "tags": []
   },
   "outputs": [
    {
     "name": "stdout",
     "output_type": "stream",
     "text": [
      "current file is latest 2023-04-14\n",
      "current file is latest 2023-04-14\n",
      "current file is latest 2023-04-14\n",
      "current file is latest 2023-04-14\n"
     ]
    }
   ],
   "source": [
    "download_csv(raw_data_dir, 'GLB')\n",
    "download_csv(raw_data_dir, 'NH')\n",
    "download_csv(raw_data_dir, 'SH')\n",
    "download_csv(raw_data_dir, 'ZonAnn')"
   ]
  },
  {
   "cell_type": "markdown",
   "id": "0bc2b764-a52f-415d-8282-8b40f5e1f209",
   "metadata": {
    "toc-hr-collapsed": true
   },
   "source": [
    "#### download netcdf"
   ]
  },
  {
   "cell_type": "code",
   "execution_count": 12,
   "id": "2b9e0259-6eb8-4f75-89df-d4929af0daff",
   "metadata": {
    "tags": []
   },
   "outputs": [
    {
     "name": "stdout",
     "output_type": "stream",
     "text": [
      "current file is latest 2023-04-14\n"
     ]
    }
   ],
   "source": [
    "download_nc(raw_data_dir)"
   ]
  },
  {
   "cell_type": "markdown",
   "id": "af6eec9c-676f-430f-b6e6-8f79d3f19a4f",
   "metadata": {
    "tags": [],
    "toc-hr-collapsed": true
   },
   "source": [
    "<a id='dd-catalog'></a>\n",
    "## catalog"
   ]
  },
  {
   "cell_type": "markdown",
   "id": "72d8f80d-41eb-49e9-a882-f453ac8e9126",
   "metadata": {},
   "source": [
    "[Return to Start of Notebook](#dd)  "
   ]
  },
  {
   "cell_type": "code",
   "execution_count": 13,
   "id": "f98547b1-ecdc-4d04-8c70-0a5dfee5eeb8",
   "metadata": {
    "tags": []
   },
   "outputs": [
    {
     "data": {
      "text/html": [
       "<div>\n",
       "<style scoped>\n",
       "    .dataframe tbody tr th:only-of-type {\n",
       "        vertical-align: middle;\n",
       "    }\n",
       "\n",
       "    .dataframe tbody tr th {\n",
       "        vertical-align: top;\n",
       "    }\n",
       "\n",
       "    .dataframe thead th {\n",
       "        text-align: right;\n",
       "    }\n",
       "</style>\n",
       "<table border=\"1\" class=\"dataframe\">\n",
       "  <thead>\n",
       "    <tr style=\"text-align: right;\">\n",
       "      <th></th>\n",
       "      <th>directory</th>\n",
       "      <th>file</th>\n",
       "      <th>rows, cols</th>\n",
       "    </tr>\n",
       "  </thead>\n",
       "  <tbody>\n",
       "    <tr>\n",
       "      <th>0</th>\n",
       "      <td>raw-data</td>\n",
       "      <td>GLB.Ts+dSST.csv</td>\n",
       "      <td>(144, 19)</td>\n",
       "    </tr>\n",
       "    <tr>\n",
       "      <th>1</th>\n",
       "      <td>raw-data</td>\n",
       "      <td>NH.Ts+dSST.csv</td>\n",
       "      <td>(144, 19)</td>\n",
       "    </tr>\n",
       "    <tr>\n",
       "      <th>2</th>\n",
       "      <td>raw-data</td>\n",
       "      <td>SH.Ts+dSST.csv</td>\n",
       "      <td>(144, 19)</td>\n",
       "    </tr>\n",
       "    <tr>\n",
       "      <th>3</th>\n",
       "      <td>raw-data</td>\n",
       "      <td>ZonAnn.Ts+dSST.csv</td>\n",
       "      <td>(142, 15)</td>\n",
       "    </tr>\n",
       "  </tbody>\n",
       "</table>\n",
       "</div>"
      ],
      "text/plain": [
       "  directory                file rows, cols\n",
       "0  raw-data     GLB.Ts+dSST.csv  (144, 19)\n",
       "1  raw-data      NH.Ts+dSST.csv  (144, 19)\n",
       "2  raw-data      SH.Ts+dSST.csv  (144, 19)\n",
       "3  raw-data  ZonAnn.Ts+dSST.csv  (142, 15)"
      ]
     },
     "execution_count": 13,
     "metadata": {},
     "output_type": "execute_result"
    }
   ],
   "source": [
    "df = directory_catalog(raw_data_dir, 'csv')"
   ]
  },
  {
   "cell_type": "code",
   "execution_count": 14,
   "id": "e67b742c-bda5-4bbf-b826-b78ce06b40ab",
   "metadata": {
    "tags": []
   },
   "outputs": [
    {
     "data": {
      "text/html": [
       "<div>\n",
       "<style scoped>\n",
       "    .dataframe tbody tr th:only-of-type {\n",
       "        vertical-align: middle;\n",
       "    }\n",
       "\n",
       "    .dataframe tbody tr th {\n",
       "        vertical-align: top;\n",
       "    }\n",
       "\n",
       "    .dataframe thead th {\n",
       "        text-align: right;\n",
       "    }\n",
       "</style>\n",
       "<table border=\"1\" class=\"dataframe\">\n",
       "  <thead>\n",
       "    <tr style=\"text-align: right;\">\n",
       "      <th></th>\n",
       "      <th>directory</th>\n",
       "      <th>file</th>\n",
       "      <th>dimensions</th>\n",
       "    </tr>\n",
       "  </thead>\n",
       "  <tbody>\n",
       "    <tr>\n",
       "      <th>0</th>\n",
       "      <td>raw-data</td>\n",
       "      <td>gistemp1200_GHCNv4_ERSSTv5.nc</td>\n",
       "      <td>(time, lat, lon)</td>\n",
       "    </tr>\n",
       "  </tbody>\n",
       "</table>\n",
       "</div>"
      ],
      "text/plain": [
       "  directory                           file        dimensions\n",
       "0  raw-data  gistemp1200_GHCNv4_ERSSTv5.nc  (time, lat, lon)"
      ]
     },
     "execution_count": 14,
     "metadata": {},
     "output_type": "execute_result"
    }
   ],
   "source": [
    "df = directory_catalog(raw_data_dir, 'nc')"
   ]
  },
  {
   "cell_type": "code",
   "execution_count": null,
   "id": "c25c2253-97d4-4250-92ed-5a340cd72985",
   "metadata": {},
   "outputs": [],
   "source": []
  }
 ],
 "metadata": {
  "interpreter": {
   "hash": "dadb38d82647d96d5382ce5812a5d64c7d4d3210fd59b769fd19e4966085dba7"
  },
  "kernelspec": {
   "display_name": "Python 3 (ipykernel)",
   "language": "python",
   "name": "python3"
  },
  "language_info": {
   "codemirror_mode": {
    "name": "ipython",
    "version": 3
   },
   "file_extension": ".py",
   "mimetype": "text/x-python",
   "name": "python",
   "nbconvert_exporter": "python",
   "pygments_lexer": "ipython3",
   "version": "3.11.3"
  },
  "toc-autonumbering": false,
  "toc-showcode": true,
  "toc-showmarkdowntxt": false,
  "toc-showtags": false
 },
 "nbformat": 4,
 "nbformat_minor": 5
}
