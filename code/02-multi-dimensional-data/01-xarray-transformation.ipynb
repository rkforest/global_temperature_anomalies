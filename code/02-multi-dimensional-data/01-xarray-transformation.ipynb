{
 "cells": [
  {
   "cell_type": "markdown",
   "id": "8fb82884",
   "metadata": {
    "tags": []
   },
   "source": [
    "<a id='xr'></a>  \n",
    "# Xarray"
   ]
  },
  {
   "cell_type": "markdown",
   "id": "25180fc2-3faa-4580-9b3d-c428b4268199",
   "metadata": {},
   "source": [
    "Xarray provides two main data structures:\n",
    "- DataArrays that wrap underlying data containers (e.g. numpy arrays) and contain associated metadata\n",
    "- DataSets that are dictionary-like containers of DataArrays"
   ]
  },
  {
   "cell_type": "markdown",
   "id": "9a811d61-c335-4287-a05d-22d290bed44e",
   "metadata": {},
   "source": [
    "Xarray has some high level objects that let you do common computations:\n",
    "\n",
    "1. groupby : Bin data in to groups and reduce\n",
    "2. resample : Groupby specialized for time axes. Either downsample or upsample your data.\n",
    "3. rolling : Operate on rolling windows of your data e.g. running mean\n",
    "4. coarsen : Downsample your data\n",
    "5. weighted : Weight your data before reducing"
   ]
  },
  {
   "cell_type": "markdown",
   "id": "39c3b93f-bfc4-4987-87d5-cb0d4a887569",
   "metadata": {},
   "source": [
    "[data structures](#xr-structures)  \n",
    "[import](#xr-import)  \n",
    "[explore](#xr-explore)  \n",
    "[coarsen](#xr-coarsen)  \n",
    "[transform](#xr-transform)  \n",
    "[select](#xr-select)  \n",
    "[export](#xr-export)  "
   ]
  },
  {
   "cell_type": "markdown",
   "id": "f1d333cb-10f2-42d4-8fec-dd8803f14812",
   "metadata": {
    "tags": [],
    "toc-hr-collapsed": true
   },
   "source": [
    "## libraries"
   ]
  },
  {
   "cell_type": "code",
   "execution_count": 1,
   "id": "hungarian-longer",
   "metadata": {
    "tags": []
   },
   "outputs": [],
   "source": [
    "import os\n",
    "import numpy as np\n",
    "import pandas as pd\n",
    "import xarray as xr\n",
    "import cartopy.crs as ccrs"
   ]
  },
  {
   "cell_type": "code",
   "execution_count": 2,
   "id": "ca1389ee-7fb5-4ae1-8909-29c64b1a3716",
   "metadata": {
    "tags": []
   },
   "outputs": [],
   "source": [
    "import warnings # to ignore warnings\n",
    "from functools import partial # for shorter traceback error messages\n",
    "from IPython.core.interactiveshell import InteractiveShell # to automtically show cell output"
   ]
  },
  {
   "cell_type": "markdown",
   "id": "df58e1af-371f-4aff-b8ec-89166eeac2ef",
   "metadata": {
    "tags": [],
    "toc-hr-collapsed": true
   },
   "source": [
    "### parameters"
   ]
  },
  {
   "cell_type": "code",
   "execution_count": 3,
   "id": "59a05ac5-ce3e-4aa4-809c-431e8e98417a",
   "metadata": {
    "tags": []
   },
   "outputs": [],
   "source": [
    "# ignore warnings \n",
    "warnings.filterwarnings('ignore')"
   ]
  },
  {
   "cell_type": "code",
   "execution_count": 4,
   "id": "af1755af-6cf7-409f-bfb5-78cac7b90af1",
   "metadata": {
    "tags": []
   },
   "outputs": [],
   "source": [
    "# shorter traceback error messages\n",
    "get_ipython().showtraceback = partial(get_ipython().showtraceback,exception_only=True)"
   ]
  },
  {
   "cell_type": "code",
   "execution_count": 5,
   "id": "81aab21a-c179-413e-9421-8de9a24a9fc2",
   "metadata": {
    "tags": []
   },
   "outputs": [],
   "source": [
    "# shows result of cell without needing print\n",
    "InteractiveShell.ast_node_interactivity = \"last_expr_or_assign\""
   ]
  },
  {
   "cell_type": "markdown",
   "id": "35af648d-35fc-4319-95a3-8ae17ef6bdb4",
   "metadata": {
    "toc-hr-collapsed": true
   },
   "source": [
    "## directories"
   ]
  },
  {
   "cell_type": "code",
   "execution_count": 6,
   "id": "eaf16b05-b900-46d0-830c-6102eee48943",
   "metadata": {
    "tags": []
   },
   "outputs": [
    {
     "data": {
      "text/plain": [
       "'gta'"
      ]
     },
     "execution_count": 6,
     "metadata": {},
     "output_type": "execute_result"
    }
   ],
   "source": [
    "project_id = 'gta'\n",
    "#project_id = 'ea'"
   ]
  },
  {
   "cell_type": "code",
   "execution_count": 7,
   "id": "33f210a6-350f-4ff2-a22e-00d8159ea078",
   "metadata": {
    "tags": []
   },
   "outputs": [
    {
     "data": {
      "text/plain": [
       "'/Users/rkforest/gta/data/transformed-data'"
      ]
     },
     "execution_count": 7,
     "metadata": {},
     "output_type": "execute_result"
    }
   ],
   "source": [
    "home_dir = os.path.expanduser(\"~\")\n",
    "project_dir = os.path.join(home_dir, project_id)\n",
    "data_dir = os.path.join(project_dir, 'data')\n",
    "transformed_data_dir = os.path.join(data_dir, 'transformed-data')"
   ]
  },
  {
   "cell_type": "code",
   "execution_count": 8,
   "id": "a62a253e-2977-49a3-81ac-0173a39f4a1f",
   "metadata": {
    "tags": []
   },
   "outputs": [
    {
     "data": {
      "text/plain": [
       "'/Users/rkforest/gta/data/raw-data'"
      ]
     },
     "execution_count": 8,
     "metadata": {},
     "output_type": "execute_result"
    }
   ],
   "source": [
    "if project_id == 'ea':\n",
    "    raw_data_dir = os.path.join(home_dir,'earth-analytics','data','earthpy-downloads')\n",
    "else:\n",
    "    raw_data_dir = os.path.join(project_dir, data_dir, 'raw-data')\n",
    "raw_data_dir"
   ]
  },
  {
   "cell_type": "code",
   "execution_count": 9,
   "id": "53355a05-96d9-4703-9ef0-e3353c7ba095",
   "metadata": {
    "tags": []
   },
   "outputs": [],
   "source": [
    "def create_directory(directory_name):\n",
    "    if not os.path.exists(directory_name):\n",
    "        print('Created new directory: ', directory_name)\n",
    "        os.mkdir(directory_name)"
   ]
  },
  {
   "cell_type": "code",
   "execution_count": 10,
   "id": "7681c589-d136-4495-b690-f8f37abae122",
   "metadata": {
    "tags": []
   },
   "outputs": [],
   "source": [
    "create_directory(transformed_data_dir)"
   ]
  },
  {
   "cell_type": "code",
   "execution_count": 11,
   "id": "f61a3545-acd6-48d9-93b7-ec332f0c7864",
   "metadata": {
    "tags": []
   },
   "outputs": [
    {
     "data": {
      "text/plain": [
       "'/Users/rkforest/gta'"
      ]
     },
     "execution_count": 11,
     "metadata": {},
     "output_type": "execute_result"
    }
   ],
   "source": [
    "os.chdir(project_dir)\n",
    "os.getcwd()"
   ]
  },
  {
   "cell_type": "markdown",
   "id": "cffb54f8-17b0-4803-9b02-3c6d74702e0d",
   "metadata": {},
   "source": [
    "<a id='xr-structures'></a>\n",
    "## data structures"
   ]
  },
  {
   "cell_type": "markdown",
   "id": "20fd6e3e-4b34-461c-8635-39802832bc74",
   "metadata": {},
   "source": [
    "[Return to Start of Notebook](#xr)  "
   ]
  },
  {
   "cell_type": "markdown",
   "id": "7e9dab81-195e-4ccc-9344-37314c82df4a",
   "metadata": {},
   "source": [
    "- **xarray** has two fundamental data structures:\n",
    "  - a **Dataset**, which can hold multiple DataArrays that potentially share the same coordinates  \n",
    "  - a **DataArray**, which holds a single multi-dimensional variable and its coordinates"
   ]
  },
  {
   "cell_type": "markdown",
   "id": "aee4d214-336c-495b-b970-f6c6197ea46c",
   "metadata": {},
   "source": [
    "A **Dataset** has four key properties:\n",
    "\n",
    "- **Dimensions**: dictionary of dimension names and lengths\n",
    "- **Coordinates**: for each dimension, an array that contains the labels for data points in Data Variables\n",
    "- **Data Variables**: for each variable, variable name, associated dimensions, and values\n",
    "- **Attributes**: metadata"
   ]
  },
  {
   "cell_type": "markdown",
   "id": "3f0f27aa-eece-4f58-95d6-0e67b11193cc",
   "metadata": {},
   "source": [
    "A **DataArray** has four essential attributes:\n",
    "- **Dimensions**: dimension names\n",
    "- **Coordinates**: for each dimension, an array that contains the labels for each value\n",
    "- **Values**:  a numpy.ndarray containing the values\n",
    "- **Attributes**: metadata"
   ]
  },
  {
   "cell_type": "markdown",
   "id": "cbb09542-4bd8-4a5c-928b-2b4c4b03362a",
   "metadata": {
    "toc-hr-collapsed": true
   },
   "source": [
    "<a id='xr-import'></a>\n",
    "## import"
   ]
  },
  {
   "cell_type": "markdown",
   "id": "7374de16-cb6e-4a66-a206-87a2b8244b1a",
   "metadata": {
    "tags": []
   },
   "source": [
    "[Return to Start of Notebook](#xr)  "
   ]
  },
  {
   "cell_type": "code",
   "execution_count": 12,
   "id": "083ef779-76e0-4572-b4af-d6138328329f",
   "metadata": {
    "tags": []
   },
   "outputs": [
    {
     "data": {
      "text/plain": [
       "'/Users/rkforest/gta/data/raw-data/gistemp1200_GHCNv4_ERSSTv5.nc'"
      ]
     },
     "execution_count": 12,
     "metadata": {},
     "output_type": "execute_result"
    }
   ],
   "source": [
    "file_name = \"gistemp1200_GHCNv4_ERSSTv5.nc\"\n",
    "file_path = os.path.join(raw_data_dir, file_name )"
   ]
  },
  {
   "cell_type": "code",
   "execution_count": 13,
   "id": "13d3d043-b988-470f-ae19-643e12782a19",
   "metadata": {
    "tags": []
   },
   "outputs": [
    {
     "data": {
      "text/plain": [
       "xarray.core.dataset.Dataset"
      ]
     },
     "execution_count": 13,
     "metadata": {},
     "output_type": "execute_result"
    }
   ],
   "source": [
    "ds = xr.open_dataset(file_path)\n",
    "type(ds)"
   ]
  },
  {
   "cell_type": "code",
   "execution_count": 14,
   "id": "8d916fd7-1b09-4094-9943-43cd46e7deb0",
   "metadata": {},
   "outputs": [
    {
     "data": {
      "text/html": [
       "<div><svg style=\"position: absolute; width: 0; height: 0; overflow: hidden\">\n",
       "<defs>\n",
       "<symbol id=\"icon-database\" viewBox=\"0 0 32 32\">\n",
       "<path d=\"M16 0c-8.837 0-16 2.239-16 5v4c0 2.761 7.163 5 16 5s16-2.239 16-5v-4c0-2.761-7.163-5-16-5z\"></path>\n",
       "<path d=\"M16 17c-8.837 0-16-2.239-16-5v6c0 2.761 7.163 5 16 5s16-2.239 16-5v-6c0 2.761-7.163 5-16 5z\"></path>\n",
       "<path d=\"M16 26c-8.837 0-16-2.239-16-5v6c0 2.761 7.163 5 16 5s16-2.239 16-5v-6c0 2.761-7.163 5-16 5z\"></path>\n",
       "</symbol>\n",
       "<symbol id=\"icon-file-text2\" viewBox=\"0 0 32 32\">\n",
       "<path d=\"M28.681 7.159c-0.694-0.947-1.662-2.053-2.724-3.116s-2.169-2.030-3.116-2.724c-1.612-1.182-2.393-1.319-2.841-1.319h-15.5c-1.378 0-2.5 1.121-2.5 2.5v27c0 1.378 1.122 2.5 2.5 2.5h23c1.378 0 2.5-1.122 2.5-2.5v-19.5c0-0.448-0.137-1.23-1.319-2.841zM24.543 5.457c0.959 0.959 1.712 1.825 2.268 2.543h-4.811v-4.811c0.718 0.556 1.584 1.309 2.543 2.268zM28 29.5c0 0.271-0.229 0.5-0.5 0.5h-23c-0.271 0-0.5-0.229-0.5-0.5v-27c0-0.271 0.229-0.5 0.5-0.5 0 0 15.499-0 15.5 0v7c0 0.552 0.448 1 1 1h7v19.5z\"></path>\n",
       "<path d=\"M23 26h-14c-0.552 0-1-0.448-1-1s0.448-1 1-1h14c0.552 0 1 0.448 1 1s-0.448 1-1 1z\"></path>\n",
       "<path d=\"M23 22h-14c-0.552 0-1-0.448-1-1s0.448-1 1-1h14c0.552 0 1 0.448 1 1s-0.448 1-1 1z\"></path>\n",
       "<path d=\"M23 18h-14c-0.552 0-1-0.448-1-1s0.448-1 1-1h14c0.552 0 1 0.448 1 1s-0.448 1-1 1z\"></path>\n",
       "</symbol>\n",
       "</defs>\n",
       "</svg>\n",
       "<style>/* CSS stylesheet for displaying xarray objects in jupyterlab.\n",
       " *\n",
       " */\n",
       "\n",
       ":root {\n",
       "  --xr-font-color0: var(--jp-content-font-color0, rgba(0, 0, 0, 1));\n",
       "  --xr-font-color2: var(--jp-content-font-color2, rgba(0, 0, 0, 0.54));\n",
       "  --xr-font-color3: var(--jp-content-font-color3, rgba(0, 0, 0, 0.38));\n",
       "  --xr-border-color: var(--jp-border-color2, #e0e0e0);\n",
       "  --xr-disabled-color: var(--jp-layout-color3, #bdbdbd);\n",
       "  --xr-background-color: var(--jp-layout-color0, white);\n",
       "  --xr-background-color-row-even: var(--jp-layout-color1, white);\n",
       "  --xr-background-color-row-odd: var(--jp-layout-color2, #eeeeee);\n",
       "}\n",
       "\n",
       "html[theme=dark],\n",
       "body[data-theme=dark],\n",
       "body.vscode-dark {\n",
       "  --xr-font-color0: rgba(255, 255, 255, 1);\n",
       "  --xr-font-color2: rgba(255, 255, 255, 0.54);\n",
       "  --xr-font-color3: rgba(255, 255, 255, 0.38);\n",
       "  --xr-border-color: #1F1F1F;\n",
       "  --xr-disabled-color: #515151;\n",
       "  --xr-background-color: #111111;\n",
       "  --xr-background-color-row-even: #111111;\n",
       "  --xr-background-color-row-odd: #313131;\n",
       "}\n",
       "\n",
       ".xr-wrap {\n",
       "  display: block !important;\n",
       "  min-width: 300px;\n",
       "  max-width: 700px;\n",
       "}\n",
       "\n",
       ".xr-text-repr-fallback {\n",
       "  /* fallback to plain text repr when CSS is not injected (untrusted notebook) */\n",
       "  display: none;\n",
       "}\n",
       "\n",
       ".xr-header {\n",
       "  padding-top: 6px;\n",
       "  padding-bottom: 6px;\n",
       "  margin-bottom: 4px;\n",
       "  border-bottom: solid 1px var(--xr-border-color);\n",
       "}\n",
       "\n",
       ".xr-header > div,\n",
       ".xr-header > ul {\n",
       "  display: inline;\n",
       "  margin-top: 0;\n",
       "  margin-bottom: 0;\n",
       "}\n",
       "\n",
       ".xr-obj-type,\n",
       ".xr-array-name {\n",
       "  margin-left: 2px;\n",
       "  margin-right: 10px;\n",
       "}\n",
       "\n",
       ".xr-obj-type {\n",
       "  color: var(--xr-font-color2);\n",
       "}\n",
       "\n",
       ".xr-sections {\n",
       "  padding-left: 0 !important;\n",
       "  display: grid;\n",
       "  grid-template-columns: 150px auto auto 1fr 20px 20px;\n",
       "}\n",
       "\n",
       ".xr-section-item {\n",
       "  display: contents;\n",
       "}\n",
       "\n",
       ".xr-section-item input {\n",
       "  display: none;\n",
       "}\n",
       "\n",
       ".xr-section-item input + label {\n",
       "  color: var(--xr-disabled-color);\n",
       "}\n",
       "\n",
       ".xr-section-item input:enabled + label {\n",
       "  cursor: pointer;\n",
       "  color: var(--xr-font-color2);\n",
       "}\n",
       "\n",
       ".xr-section-item input:enabled + label:hover {\n",
       "  color: var(--xr-font-color0);\n",
       "}\n",
       "\n",
       ".xr-section-summary {\n",
       "  grid-column: 1;\n",
       "  color: var(--xr-font-color2);\n",
       "  font-weight: 500;\n",
       "}\n",
       "\n",
       ".xr-section-summary > span {\n",
       "  display: inline-block;\n",
       "  padding-left: 0.5em;\n",
       "}\n",
       "\n",
       ".xr-section-summary-in:disabled + label {\n",
       "  color: var(--xr-font-color2);\n",
       "}\n",
       "\n",
       ".xr-section-summary-in + label:before {\n",
       "  display: inline-block;\n",
       "  content: '►';\n",
       "  font-size: 11px;\n",
       "  width: 15px;\n",
       "  text-align: center;\n",
       "}\n",
       "\n",
       ".xr-section-summary-in:disabled + label:before {\n",
       "  color: var(--xr-disabled-color);\n",
       "}\n",
       "\n",
       ".xr-section-summary-in:checked + label:before {\n",
       "  content: '▼';\n",
       "}\n",
       "\n",
       ".xr-section-summary-in:checked + label > span {\n",
       "  display: none;\n",
       "}\n",
       "\n",
       ".xr-section-summary,\n",
       ".xr-section-inline-details {\n",
       "  padding-top: 4px;\n",
       "  padding-bottom: 4px;\n",
       "}\n",
       "\n",
       ".xr-section-inline-details {\n",
       "  grid-column: 2 / -1;\n",
       "}\n",
       "\n",
       ".xr-section-details {\n",
       "  display: none;\n",
       "  grid-column: 1 / -1;\n",
       "  margin-bottom: 5px;\n",
       "}\n",
       "\n",
       ".xr-section-summary-in:checked ~ .xr-section-details {\n",
       "  display: contents;\n",
       "}\n",
       "\n",
       ".xr-array-wrap {\n",
       "  grid-column: 1 / -1;\n",
       "  display: grid;\n",
       "  grid-template-columns: 20px auto;\n",
       "}\n",
       "\n",
       ".xr-array-wrap > label {\n",
       "  grid-column: 1;\n",
       "  vertical-align: top;\n",
       "}\n",
       "\n",
       ".xr-preview {\n",
       "  color: var(--xr-font-color3);\n",
       "}\n",
       "\n",
       ".xr-array-preview,\n",
       ".xr-array-data {\n",
       "  padding: 0 5px !important;\n",
       "  grid-column: 2;\n",
       "}\n",
       "\n",
       ".xr-array-data,\n",
       ".xr-array-in:checked ~ .xr-array-preview {\n",
       "  display: none;\n",
       "}\n",
       "\n",
       ".xr-array-in:checked ~ .xr-array-data,\n",
       ".xr-array-preview {\n",
       "  display: inline-block;\n",
       "}\n",
       "\n",
       ".xr-dim-list {\n",
       "  display: inline-block !important;\n",
       "  list-style: none;\n",
       "  padding: 0 !important;\n",
       "  margin: 0;\n",
       "}\n",
       "\n",
       ".xr-dim-list li {\n",
       "  display: inline-block;\n",
       "  padding: 0;\n",
       "  margin: 0;\n",
       "}\n",
       "\n",
       ".xr-dim-list:before {\n",
       "  content: '(';\n",
       "}\n",
       "\n",
       ".xr-dim-list:after {\n",
       "  content: ')';\n",
       "}\n",
       "\n",
       ".xr-dim-list li:not(:last-child):after {\n",
       "  content: ',';\n",
       "  padding-right: 5px;\n",
       "}\n",
       "\n",
       ".xr-has-index {\n",
       "  font-weight: bold;\n",
       "}\n",
       "\n",
       ".xr-var-list,\n",
       ".xr-var-item {\n",
       "  display: contents;\n",
       "}\n",
       "\n",
       ".xr-var-item > div,\n",
       ".xr-var-item label,\n",
       ".xr-var-item > .xr-var-name span {\n",
       "  background-color: var(--xr-background-color-row-even);\n",
       "  margin-bottom: 0;\n",
       "}\n",
       "\n",
       ".xr-var-item > .xr-var-name:hover span {\n",
       "  padding-right: 5px;\n",
       "}\n",
       "\n",
       ".xr-var-list > li:nth-child(odd) > div,\n",
       ".xr-var-list > li:nth-child(odd) > label,\n",
       ".xr-var-list > li:nth-child(odd) > .xr-var-name span {\n",
       "  background-color: var(--xr-background-color-row-odd);\n",
       "}\n",
       "\n",
       ".xr-var-name {\n",
       "  grid-column: 1;\n",
       "}\n",
       "\n",
       ".xr-var-dims {\n",
       "  grid-column: 2;\n",
       "}\n",
       "\n",
       ".xr-var-dtype {\n",
       "  grid-column: 3;\n",
       "  text-align: right;\n",
       "  color: var(--xr-font-color2);\n",
       "}\n",
       "\n",
       ".xr-var-preview {\n",
       "  grid-column: 4;\n",
       "}\n",
       "\n",
       ".xr-index-preview {\n",
       "  grid-column: 2 / 5;\n",
       "  color: var(--xr-font-color2);\n",
       "}\n",
       "\n",
       ".xr-var-name,\n",
       ".xr-var-dims,\n",
       ".xr-var-dtype,\n",
       ".xr-preview,\n",
       ".xr-attrs dt {\n",
       "  white-space: nowrap;\n",
       "  overflow: hidden;\n",
       "  text-overflow: ellipsis;\n",
       "  padding-right: 10px;\n",
       "}\n",
       "\n",
       ".xr-var-name:hover,\n",
       ".xr-var-dims:hover,\n",
       ".xr-var-dtype:hover,\n",
       ".xr-attrs dt:hover {\n",
       "  overflow: visible;\n",
       "  width: auto;\n",
       "  z-index: 1;\n",
       "}\n",
       "\n",
       ".xr-var-attrs,\n",
       ".xr-var-data,\n",
       ".xr-index-data {\n",
       "  display: none;\n",
       "  background-color: var(--xr-background-color) !important;\n",
       "  padding-bottom: 5px !important;\n",
       "}\n",
       "\n",
       ".xr-var-attrs-in:checked ~ .xr-var-attrs,\n",
       ".xr-var-data-in:checked ~ .xr-var-data,\n",
       ".xr-index-data-in:checked ~ .xr-index-data {\n",
       "  display: block;\n",
       "}\n",
       "\n",
       ".xr-var-data > table {\n",
       "  float: right;\n",
       "}\n",
       "\n",
       ".xr-var-name span,\n",
       ".xr-var-data,\n",
       ".xr-index-name div,\n",
       ".xr-index-data,\n",
       ".xr-attrs {\n",
       "  padding-left: 25px !important;\n",
       "}\n",
       "\n",
       ".xr-attrs,\n",
       ".xr-var-attrs,\n",
       ".xr-var-data,\n",
       ".xr-index-data {\n",
       "  grid-column: 1 / -1;\n",
       "}\n",
       "\n",
       "dl.xr-attrs {\n",
       "  padding: 0;\n",
       "  margin: 0;\n",
       "  display: grid;\n",
       "  grid-template-columns: 125px auto;\n",
       "}\n",
       "\n",
       ".xr-attrs dt,\n",
       ".xr-attrs dd {\n",
       "  padding: 0;\n",
       "  margin: 0;\n",
       "  float: left;\n",
       "  padding-right: 10px;\n",
       "  width: auto;\n",
       "}\n",
       "\n",
       ".xr-attrs dt {\n",
       "  font-weight: normal;\n",
       "  grid-column: 1;\n",
       "}\n",
       "\n",
       ".xr-attrs dt:hover span {\n",
       "  display: inline-block;\n",
       "  background: var(--xr-background-color);\n",
       "  padding-right: 10px;\n",
       "}\n",
       "\n",
       ".xr-attrs dd {\n",
       "  grid-column: 2;\n",
       "  white-space: pre-wrap;\n",
       "  word-break: break-all;\n",
       "}\n",
       "\n",
       ".xr-icon-database,\n",
       ".xr-icon-file-text2,\n",
       ".xr-no-icon {\n",
       "  display: inline-block;\n",
       "  vertical-align: middle;\n",
       "  width: 1em;\n",
       "  height: 1.5em !important;\n",
       "  stroke-width: 0;\n",
       "  stroke: currentColor;\n",
       "  fill: currentColor;\n",
       "}\n",
       "</style><pre class='xr-text-repr-fallback'>&lt;xarray.Dataset&gt;\n",
       "Dimensions:      (lat: 90, lon: 180, time: 1719, nv: 2)\n",
       "Coordinates:\n",
       "  * lat          (lat) float32 -89.0 -87.0 -85.0 -83.0 ... 83.0 85.0 87.0 89.0\n",
       "  * lon          (lon) float32 -179.0 -177.0 -175.0 -173.0 ... 175.0 177.0 179.0\n",
       "  * time         (time) datetime64[ns] 1880-01-15 1880-02-15 ... 2023-03-15\n",
       "Dimensions without coordinates: nv\n",
       "Data variables:\n",
       "    time_bnds    (time, nv) datetime64[ns] ...\n",
       "    tempanomaly  (time, lat, lon) float32 ...\n",
       "Attributes:\n",
       "    title:        GISTEMP Surface Temperature Analysis\n",
       "    institution:  NASA Goddard Institute for Space Studies\n",
       "    source:       http://data.giss.nasa.gov/gistemp/\n",
       "    Conventions:  CF-1.6\n",
       "    history:      Created 2023-04-11 11:10:31 by SBBX_to_nc 2.0 - ILAND=1200,...</pre><div class='xr-wrap' style='display:none'><div class='xr-header'><div class='xr-obj-type'>xarray.Dataset</div></div><ul class='xr-sections'><li class='xr-section-item'><input id='section-3dd0860b-aac1-43ee-b35e-a4224cdb7e27' class='xr-section-summary-in' type='checkbox' disabled ><label for='section-3dd0860b-aac1-43ee-b35e-a4224cdb7e27' class='xr-section-summary'  title='Expand/collapse section'>Dimensions:</label><div class='xr-section-inline-details'><ul class='xr-dim-list'><li><span class='xr-has-index'>lat</span>: 90</li><li><span class='xr-has-index'>lon</span>: 180</li><li><span class='xr-has-index'>time</span>: 1719</li><li><span>nv</span>: 2</li></ul></div><div class='xr-section-details'></div></li><li class='xr-section-item'><input id='section-2e53a9bf-16df-487a-a6d6-6ace38a4d0a7' class='xr-section-summary-in' type='checkbox'  checked><label for='section-2e53a9bf-16df-487a-a6d6-6ace38a4d0a7' class='xr-section-summary' >Coordinates: <span>(3)</span></label><div class='xr-section-inline-details'></div><div class='xr-section-details'><ul class='xr-var-list'><li class='xr-var-item'><div class='xr-var-name'><span class='xr-has-index'>lat</span></div><div class='xr-var-dims'>(lat)</div><div class='xr-var-dtype'>float32</div><div class='xr-var-preview xr-preview'>-89.0 -87.0 -85.0 ... 87.0 89.0</div><input id='attrs-9dd7e44e-8c2e-4156-8363-4365c396358c' class='xr-var-attrs-in' type='checkbox' ><label for='attrs-9dd7e44e-8c2e-4156-8363-4365c396358c' title='Show/Hide attributes'><svg class='icon xr-icon-file-text2'><use xlink:href='#icon-file-text2'></use></svg></label><input id='data-b8b1102b-d562-4624-a6ad-2ec16250bc25' class='xr-var-data-in' type='checkbox'><label for='data-b8b1102b-d562-4624-a6ad-2ec16250bc25' title='Show/Hide data repr'><svg class='icon xr-icon-database'><use xlink:href='#icon-database'></use></svg></label><div class='xr-var-attrs'><dl class='xr-attrs'><dt><span>standard_name :</span></dt><dd>latitude</dd><dt><span>long_name :</span></dt><dd>Latitude</dd><dt><span>units :</span></dt><dd>degrees_north</dd></dl></div><div class='xr-var-data'><pre>array([-89., -87., -85., -83., -81., -79., -77., -75., -73., -71., -69., -67.,\n",
       "       -65., -63., -61., -59., -57., -55., -53., -51., -49., -47., -45., -43.,\n",
       "       -41., -39., -37., -35., -33., -31., -29., -27., -25., -23., -21., -19.,\n",
       "       -17., -15., -13., -11.,  -9.,  -7.,  -5.,  -3.,  -1.,   1.,   3.,   5.,\n",
       "         7.,   9.,  11.,  13.,  15.,  17.,  19.,  21.,  23.,  25.,  27.,  29.,\n",
       "        31.,  33.,  35.,  37.,  39.,  41.,  43.,  45.,  47.,  49.,  51.,  53.,\n",
       "        55.,  57.,  59.,  61.,  63.,  65.,  67.,  69.,  71.,  73.,  75.,  77.,\n",
       "        79.,  81.,  83.,  85.,  87.,  89.], dtype=float32)</pre></div></li><li class='xr-var-item'><div class='xr-var-name'><span class='xr-has-index'>lon</span></div><div class='xr-var-dims'>(lon)</div><div class='xr-var-dtype'>float32</div><div class='xr-var-preview xr-preview'>-179.0 -177.0 ... 177.0 179.0</div><input id='attrs-bf83c5d6-a57a-4ee3-8184-230eaea81ae1' class='xr-var-attrs-in' type='checkbox' ><label for='attrs-bf83c5d6-a57a-4ee3-8184-230eaea81ae1' title='Show/Hide attributes'><svg class='icon xr-icon-file-text2'><use xlink:href='#icon-file-text2'></use></svg></label><input id='data-b7c34c8e-dfdd-4881-a292-87928d05b1e2' class='xr-var-data-in' type='checkbox'><label for='data-b7c34c8e-dfdd-4881-a292-87928d05b1e2' title='Show/Hide data repr'><svg class='icon xr-icon-database'><use xlink:href='#icon-database'></use></svg></label><div class='xr-var-attrs'><dl class='xr-attrs'><dt><span>standard_name :</span></dt><dd>longitude</dd><dt><span>long_name :</span></dt><dd>Longitude</dd><dt><span>units :</span></dt><dd>degrees_east</dd></dl></div><div class='xr-var-data'><pre>array([-179., -177., -175., -173., -171., -169., -167., -165., -163., -161.,\n",
       "       -159., -157., -155., -153., -151., -149., -147., -145., -143., -141.,\n",
       "       -139., -137., -135., -133., -131., -129., -127., -125., -123., -121.,\n",
       "       -119., -117., -115., -113., -111., -109., -107., -105., -103., -101.,\n",
       "        -99.,  -97.,  -95.,  -93.,  -91.,  -89.,  -87.,  -85.,  -83.,  -81.,\n",
       "        -79.,  -77.,  -75.,  -73.,  -71.,  -69.,  -67.,  -65.,  -63.,  -61.,\n",
       "        -59.,  -57.,  -55.,  -53.,  -51.,  -49.,  -47.,  -45.,  -43.,  -41.,\n",
       "        -39.,  -37.,  -35.,  -33.,  -31.,  -29.,  -27.,  -25.,  -23.,  -21.,\n",
       "        -19.,  -17.,  -15.,  -13.,  -11.,   -9.,   -7.,   -5.,   -3.,   -1.,\n",
       "          1.,    3.,    5.,    7.,    9.,   11.,   13.,   15.,   17.,   19.,\n",
       "         21.,   23.,   25.,   27.,   29.,   31.,   33.,   35.,   37.,   39.,\n",
       "         41.,   43.,   45.,   47.,   49.,   51.,   53.,   55.,   57.,   59.,\n",
       "         61.,   63.,   65.,   67.,   69.,   71.,   73.,   75.,   77.,   79.,\n",
       "         81.,   83.,   85.,   87.,   89.,   91.,   93.,   95.,   97.,   99.,\n",
       "        101.,  103.,  105.,  107.,  109.,  111.,  113.,  115.,  117.,  119.,\n",
       "        121.,  123.,  125.,  127.,  129.,  131.,  133.,  135.,  137.,  139.,\n",
       "        141.,  143.,  145.,  147.,  149.,  151.,  153.,  155.,  157.,  159.,\n",
       "        161.,  163.,  165.,  167.,  169.,  171.,  173.,  175.,  177.,  179.],\n",
       "      dtype=float32)</pre></div></li><li class='xr-var-item'><div class='xr-var-name'><span class='xr-has-index'>time</span></div><div class='xr-var-dims'>(time)</div><div class='xr-var-dtype'>datetime64[ns]</div><div class='xr-var-preview xr-preview'>1880-01-15 ... 2023-03-15</div><input id='attrs-c56ec358-074f-41c5-ae1f-40ed0fe88a95' class='xr-var-attrs-in' type='checkbox' ><label for='attrs-c56ec358-074f-41c5-ae1f-40ed0fe88a95' title='Show/Hide attributes'><svg class='icon xr-icon-file-text2'><use xlink:href='#icon-file-text2'></use></svg></label><input id='data-c5534b9a-3dc9-4e5e-8743-aa2c7998793a' class='xr-var-data-in' type='checkbox'><label for='data-c5534b9a-3dc9-4e5e-8743-aa2c7998793a' title='Show/Hide data repr'><svg class='icon xr-icon-database'><use xlink:href='#icon-database'></use></svg></label><div class='xr-var-attrs'><dl class='xr-attrs'><dt><span>long_name :</span></dt><dd>time</dd><dt><span>bounds :</span></dt><dd>time_bnds</dd></dl></div><div class='xr-var-data'><pre>array([&#x27;1880-01-15T00:00:00.000000000&#x27;, &#x27;1880-02-15T00:00:00.000000000&#x27;,\n",
       "       &#x27;1880-03-15T00:00:00.000000000&#x27;, ..., &#x27;2023-01-15T00:00:00.000000000&#x27;,\n",
       "       &#x27;2023-02-15T00:00:00.000000000&#x27;, &#x27;2023-03-15T00:00:00.000000000&#x27;],\n",
       "      dtype=&#x27;datetime64[ns]&#x27;)</pre></div></li></ul></div></li><li class='xr-section-item'><input id='section-31d39995-46ee-47b3-a090-1f96a31fa0c3' class='xr-section-summary-in' type='checkbox'  checked><label for='section-31d39995-46ee-47b3-a090-1f96a31fa0c3' class='xr-section-summary' >Data variables: <span>(2)</span></label><div class='xr-section-inline-details'></div><div class='xr-section-details'><ul class='xr-var-list'><li class='xr-var-item'><div class='xr-var-name'><span>time_bnds</span></div><div class='xr-var-dims'>(time, nv)</div><div class='xr-var-dtype'>datetime64[ns]</div><div class='xr-var-preview xr-preview'>...</div><input id='attrs-f6c9537d-0397-44fa-a0a1-6f5686be5012' class='xr-var-attrs-in' type='checkbox' disabled><label for='attrs-f6c9537d-0397-44fa-a0a1-6f5686be5012' title='Show/Hide attributes'><svg class='icon xr-icon-file-text2'><use xlink:href='#icon-file-text2'></use></svg></label><input id='data-8c9afd43-c6a5-4f2d-92fa-c37a1514d033' class='xr-var-data-in' type='checkbox'><label for='data-8c9afd43-c6a5-4f2d-92fa-c37a1514d033' title='Show/Hide data repr'><svg class='icon xr-icon-database'><use xlink:href='#icon-database'></use></svg></label><div class='xr-var-attrs'><dl class='xr-attrs'></dl></div><div class='xr-var-data'><pre>[3438 values with dtype=datetime64[ns]]</pre></div></li><li class='xr-var-item'><div class='xr-var-name'><span>tempanomaly</span></div><div class='xr-var-dims'>(time, lat, lon)</div><div class='xr-var-dtype'>float32</div><div class='xr-var-preview xr-preview'>...</div><input id='attrs-e2abb958-6c4f-4611-b494-8b4947443125' class='xr-var-attrs-in' type='checkbox' ><label for='attrs-e2abb958-6c4f-4611-b494-8b4947443125' title='Show/Hide attributes'><svg class='icon xr-icon-file-text2'><use xlink:href='#icon-file-text2'></use></svg></label><input id='data-043af586-a52f-4825-a3bd-ffe34d184bf6' class='xr-var-data-in' type='checkbox'><label for='data-043af586-a52f-4825-a3bd-ffe34d184bf6' title='Show/Hide data repr'><svg class='icon xr-icon-database'><use xlink:href='#icon-database'></use></svg></label><div class='xr-var-attrs'><dl class='xr-attrs'><dt><span>long_name :</span></dt><dd>Surface temperature anomaly</dd><dt><span>units :</span></dt><dd>K</dd><dt><span>cell_methods :</span></dt><dd>time: mean</dd></dl></div><div class='xr-var-data'><pre>[27847800 values with dtype=float32]</pre></div></li></ul></div></li><li class='xr-section-item'><input id='section-3c12837e-3267-44d4-bb18-05215651fbd6' class='xr-section-summary-in' type='checkbox'  ><label for='section-3c12837e-3267-44d4-bb18-05215651fbd6' class='xr-section-summary' >Indexes: <span>(3)</span></label><div class='xr-section-inline-details'></div><div class='xr-section-details'><ul class='xr-var-list'><li class='xr-var-item'><div class='xr-index-name'><div>lat</div></div><div class='xr-index-preview'>PandasIndex</div><div></div><input id='index-51dbc9a2-e19f-4e54-b99c-ae0719f7ec73' class='xr-index-data-in' type='checkbox'/><label for='index-51dbc9a2-e19f-4e54-b99c-ae0719f7ec73' title='Show/Hide index repr'><svg class='icon xr-icon-database'><use xlink:href='#icon-database'></use></svg></label><div class='xr-index-data'><pre>PandasIndex(Index([-89.0, -87.0, -85.0, -83.0, -81.0, -79.0, -77.0, -75.0, -73.0, -71.0,\n",
       "       -69.0, -67.0, -65.0, -63.0, -61.0, -59.0, -57.0, -55.0, -53.0, -51.0,\n",
       "       -49.0, -47.0, -45.0, -43.0, -41.0, -39.0, -37.0, -35.0, -33.0, -31.0,\n",
       "       -29.0, -27.0, -25.0, -23.0, -21.0, -19.0, -17.0, -15.0, -13.0, -11.0,\n",
       "        -9.0,  -7.0,  -5.0,  -3.0,  -1.0,   1.0,   3.0,   5.0,   7.0,   9.0,\n",
       "        11.0,  13.0,  15.0,  17.0,  19.0,  21.0,  23.0,  25.0,  27.0,  29.0,\n",
       "        31.0,  33.0,  35.0,  37.0,  39.0,  41.0,  43.0,  45.0,  47.0,  49.0,\n",
       "        51.0,  53.0,  55.0,  57.0,  59.0,  61.0,  63.0,  65.0,  67.0,  69.0,\n",
       "        71.0,  73.0,  75.0,  77.0,  79.0,  81.0,  83.0,  85.0,  87.0,  89.0],\n",
       "      dtype=&#x27;float32&#x27;, name=&#x27;lat&#x27;))</pre></div></li><li class='xr-var-item'><div class='xr-index-name'><div>lon</div></div><div class='xr-index-preview'>PandasIndex</div><div></div><input id='index-d8f88e01-c61c-4f44-af3e-920b5ca6f2f8' class='xr-index-data-in' type='checkbox'/><label for='index-d8f88e01-c61c-4f44-af3e-920b5ca6f2f8' title='Show/Hide index repr'><svg class='icon xr-icon-database'><use xlink:href='#icon-database'></use></svg></label><div class='xr-index-data'><pre>PandasIndex(Index([-179.0, -177.0, -175.0, -173.0, -171.0, -169.0, -167.0, -165.0, -163.0,\n",
       "       -161.0,\n",
       "       ...\n",
       "        161.0,  163.0,  165.0,  167.0,  169.0,  171.0,  173.0,  175.0,  177.0,\n",
       "        179.0],\n",
       "      dtype=&#x27;float32&#x27;, name=&#x27;lon&#x27;, length=180))</pre></div></li><li class='xr-var-item'><div class='xr-index-name'><div>time</div></div><div class='xr-index-preview'>PandasIndex</div><div></div><input id='index-6b50efb6-400b-4471-975f-798da66592b7' class='xr-index-data-in' type='checkbox'/><label for='index-6b50efb6-400b-4471-975f-798da66592b7' title='Show/Hide index repr'><svg class='icon xr-icon-database'><use xlink:href='#icon-database'></use></svg></label><div class='xr-index-data'><pre>PandasIndex(DatetimeIndex([&#x27;1880-01-15&#x27;, &#x27;1880-02-15&#x27;, &#x27;1880-03-15&#x27;, &#x27;1880-04-15&#x27;,\n",
       "               &#x27;1880-05-15&#x27;, &#x27;1880-06-15&#x27;, &#x27;1880-07-15&#x27;, &#x27;1880-08-15&#x27;,\n",
       "               &#x27;1880-09-15&#x27;, &#x27;1880-10-15&#x27;,\n",
       "               ...\n",
       "               &#x27;2022-06-15&#x27;, &#x27;2022-07-15&#x27;, &#x27;2022-08-15&#x27;, &#x27;2022-09-15&#x27;,\n",
       "               &#x27;2022-10-15&#x27;, &#x27;2022-11-15&#x27;, &#x27;2022-12-15&#x27;, &#x27;2023-01-15&#x27;,\n",
       "               &#x27;2023-02-15&#x27;, &#x27;2023-03-15&#x27;],\n",
       "              dtype=&#x27;datetime64[ns]&#x27;, name=&#x27;time&#x27;, length=1719, freq=None))</pre></div></li></ul></div></li><li class='xr-section-item'><input id='section-95d18242-0d50-4e0a-a214-a8c0f07dc74c' class='xr-section-summary-in' type='checkbox'  checked><label for='section-95d18242-0d50-4e0a-a214-a8c0f07dc74c' class='xr-section-summary' >Attributes: <span>(5)</span></label><div class='xr-section-inline-details'></div><div class='xr-section-details'><dl class='xr-attrs'><dt><span>title :</span></dt><dd>GISTEMP Surface Temperature Analysis</dd><dt><span>institution :</span></dt><dd>NASA Goddard Institute for Space Studies</dd><dt><span>source :</span></dt><dd>http://data.giss.nasa.gov/gistemp/</dd><dt><span>Conventions :</span></dt><dd>CF-1.6</dd><dt><span>history :</span></dt><dd>Created 2023-04-11 11:10:31 by SBBX_to_nc 2.0 - ILAND=1200, IOCEAN=NCDC/ER5, Base: 1951-1980</dd></dl></div></li></ul></div></div>"
      ],
      "text/plain": [
       "<xarray.Dataset>\n",
       "Dimensions:      (lat: 90, lon: 180, time: 1719, nv: 2)\n",
       "Coordinates:\n",
       "  * lat          (lat) float32 -89.0 -87.0 -85.0 -83.0 ... 83.0 85.0 87.0 89.0\n",
       "  * lon          (lon) float32 -179.0 -177.0 -175.0 -173.0 ... 175.0 177.0 179.0\n",
       "  * time         (time) datetime64[ns] 1880-01-15 1880-02-15 ... 2023-03-15\n",
       "Dimensions without coordinates: nv\n",
       "Data variables:\n",
       "    time_bnds    (time, nv) datetime64[ns] ...\n",
       "    tempanomaly  (time, lat, lon) float32 ...\n",
       "Attributes:\n",
       "    title:        GISTEMP Surface Temperature Analysis\n",
       "    institution:  NASA Goddard Institute for Space Studies\n",
       "    source:       http://data.giss.nasa.gov/gistemp/\n",
       "    Conventions:  CF-1.6\n",
       "    history:      Created 2023-04-11 11:10:31 by SBBX_to_nc 2.0 - ILAND=1200,..."
      ]
     },
     "execution_count": 14,
     "metadata": {},
     "output_type": "execute_result"
    }
   ],
   "source": [
    "ds"
   ]
  },
  {
   "cell_type": "markdown",
   "id": "c5d4e60b-8a7f-47ca-b184-237f7d622b84",
   "metadata": {
    "toc-hr-collapsed": true
   },
   "source": [
    "<a id='xr-explore'></a>\n",
    "## explore"
   ]
  },
  {
   "cell_type": "markdown",
   "id": "9bd5431d-ee8d-46ba-919c-43d3cdb1b5c9",
   "metadata": {},
   "source": [
    "[Return to Start of Notebook](#xr)  "
   ]
  },
  {
   "cell_type": "markdown",
   "id": "da4e06d6-341f-4853-9411-8a6568424f86",
   "metadata": {},
   "source": [
    "### Dataset"
   ]
  },
  {
   "cell_type": "code",
   "execution_count": 15,
   "id": "302a4e4d-de04-4b5a-bb1e-36cb87cd7053",
   "metadata": {},
   "outputs": [
    {
     "data": {
      "text/plain": [
       "Frozen({'lat': 90, 'lon': 180, 'time': 1719, 'nv': 2})"
      ]
     },
     "execution_count": 15,
     "metadata": {},
     "output_type": "execute_result"
    }
   ],
   "source": [
    "ds.dims"
   ]
  },
  {
   "cell_type": "code",
   "execution_count": 16,
   "id": "a05bc649-7e88-41ca-bc51-cb37b7963cab",
   "metadata": {},
   "outputs": [
    {
     "data": {
      "text/plain": [
       "Coordinates:\n",
       "  * lat      (lat) float32 -89.0 -87.0 -85.0 -83.0 -81.0 ... 83.0 85.0 87.0 89.0\n",
       "  * lon      (lon) float32 -179.0 -177.0 -175.0 -173.0 ... 175.0 177.0 179.0\n",
       "  * time     (time) datetime64[ns] 1880-01-15 1880-02-15 ... 2023-03-15"
      ]
     },
     "execution_count": 16,
     "metadata": {},
     "output_type": "execute_result"
    }
   ],
   "source": [
    "ds.coords"
   ]
  },
  {
   "cell_type": "code",
   "execution_count": 17,
   "id": "5175f4f1-14b6-4d6b-b786-2d9c221e0c0e",
   "metadata": {},
   "outputs": [
    {
     "data": {
      "text/plain": [
       "Data variables:\n",
       "    time_bnds    (time, nv) datetime64[ns] ...\n",
       "    tempanomaly  (time, lat, lon) float32 ..."
      ]
     },
     "execution_count": 17,
     "metadata": {},
     "output_type": "execute_result"
    }
   ],
   "source": [
    "ds.data_vars"
   ]
  },
  {
   "cell_type": "code",
   "execution_count": 18,
   "id": "c28d8a92-3035-4395-b524-05605bbaa420",
   "metadata": {},
   "outputs": [
    {
     "data": {
      "text/plain": [
       "{'title': 'GISTEMP Surface Temperature Analysis',\n",
       " 'institution': 'NASA Goddard Institute for Space Studies',\n",
       " 'source': 'http://data.giss.nasa.gov/gistemp/',\n",
       " 'Conventions': 'CF-1.6',\n",
       " 'history': 'Created 2023-04-11 11:10:31 by SBBX_to_nc 2.0 - ILAND=1200, IOCEAN=NCDC/ER5, Base: 1951-1980'}"
      ]
     },
     "execution_count": 18,
     "metadata": {},
     "output_type": "execute_result"
    }
   ],
   "source": [
    "ds.attrs"
   ]
  },
  {
   "cell_type": "markdown",
   "id": "a82bb8de-142d-4594-97a6-876d25b765ff",
   "metadata": {},
   "source": [
    "### DataArray"
   ]
  },
  {
   "cell_type": "code",
   "execution_count": 19,
   "id": "9b3a10c9-77b7-49dc-ba7d-7cca140da795",
   "metadata": {},
   "outputs": [],
   "source": [
    "da = ds['tempanomaly']\n",
    "da.attrs = ds.attrs"
   ]
  },
  {
   "cell_type": "code",
   "execution_count": 20,
   "id": "187cff0e-4b22-463f-9cb4-8c79adece443",
   "metadata": {},
   "outputs": [
    {
     "data": {
      "text/plain": [
       "('time', 'lat', 'lon')"
      ]
     },
     "execution_count": 20,
     "metadata": {},
     "output_type": "execute_result"
    }
   ],
   "source": [
    "da.dims"
   ]
  },
  {
   "cell_type": "code",
   "execution_count": 21,
   "id": "4618b366-c9ed-406d-be1f-cd963e3637e3",
   "metadata": {},
   "outputs": [
    {
     "data": {
      "text/plain": [
       "Coordinates:\n",
       "  * lat      (lat) float32 -89.0 -87.0 -85.0 -83.0 -81.0 ... 83.0 85.0 87.0 89.0\n",
       "  * lon      (lon) float32 -179.0 -177.0 -175.0 -173.0 ... 175.0 177.0 179.0\n",
       "  * time     (time) datetime64[ns] 1880-01-15 1880-02-15 ... 2023-03-15"
      ]
     },
     "execution_count": 21,
     "metadata": {},
     "output_type": "execute_result"
    }
   ],
   "source": [
    "da.coords"
   ]
  },
  {
   "cell_type": "code",
   "execution_count": 22,
   "id": "25242654-62c8-4136-82d8-c32a804bf87d",
   "metadata": {},
   "outputs": [
    {
     "data": {
      "text/plain": [
       "{'title': 'GISTEMP Surface Temperature Analysis',\n",
       " 'institution': 'NASA Goddard Institute for Space Studies',\n",
       " 'source': 'http://data.giss.nasa.gov/gistemp/',\n",
       " 'Conventions': 'CF-1.6',\n",
       " 'history': 'Created 2023-04-11 11:10:31 by SBBX_to_nc 2.0 - ILAND=1200, IOCEAN=NCDC/ER5, Base: 1951-1980'}"
      ]
     },
     "execution_count": 22,
     "metadata": {},
     "output_type": "execute_result"
    }
   ],
   "source": [
    "da.attrs"
   ]
  },
  {
   "cell_type": "code",
   "execution_count": 23,
   "id": "b0245b5d-bc39-4e7d-ac09-8d0c39b2a0e4",
   "metadata": {
    "tags": []
   },
   "outputs": [
    {
     "data": {
      "text/plain": [
       "numpy.ndarray"
      ]
     },
     "execution_count": 23,
     "metadata": {},
     "output_type": "execute_result"
    }
   ],
   "source": [
    "type(da.values)"
   ]
  },
  {
   "cell_type": "markdown",
   "id": "fdbcfa1f-4946-43a5-809f-f0b3c901290f",
   "metadata": {
    "toc-hr-collapsed": true
   },
   "source": [
    "<a id='xr-coarsen'></a>\n",
    "## coarsen"
   ]
  },
  {
   "cell_type": "markdown",
   "id": "cb918ea9-465d-4dbe-a0c0-aea7bd93ec0d",
   "metadata": {},
   "source": [
    "[Return to Start of Notebook](#xr)  "
   ]
  },
  {
   "cell_type": "code",
   "execution_count": 24,
   "id": "35f23841-a280-4061-b2f6-6248e512accf",
   "metadata": {},
   "outputs": [
    {
     "data": {
      "text/html": [
       "<div><svg style=\"position: absolute; width: 0; height: 0; overflow: hidden\">\n",
       "<defs>\n",
       "<symbol id=\"icon-database\" viewBox=\"0 0 32 32\">\n",
       "<path d=\"M16 0c-8.837 0-16 2.239-16 5v4c0 2.761 7.163 5 16 5s16-2.239 16-5v-4c0-2.761-7.163-5-16-5z\"></path>\n",
       "<path d=\"M16 17c-8.837 0-16-2.239-16-5v6c0 2.761 7.163 5 16 5s16-2.239 16-5v-6c0 2.761-7.163 5-16 5z\"></path>\n",
       "<path d=\"M16 26c-8.837 0-16-2.239-16-5v6c0 2.761 7.163 5 16 5s16-2.239 16-5v-6c0 2.761-7.163 5-16 5z\"></path>\n",
       "</symbol>\n",
       "<symbol id=\"icon-file-text2\" viewBox=\"0 0 32 32\">\n",
       "<path d=\"M28.681 7.159c-0.694-0.947-1.662-2.053-2.724-3.116s-2.169-2.030-3.116-2.724c-1.612-1.182-2.393-1.319-2.841-1.319h-15.5c-1.378 0-2.5 1.121-2.5 2.5v27c0 1.378 1.122 2.5 2.5 2.5h23c1.378 0 2.5-1.122 2.5-2.5v-19.5c0-0.448-0.137-1.23-1.319-2.841zM24.543 5.457c0.959 0.959 1.712 1.825 2.268 2.543h-4.811v-4.811c0.718 0.556 1.584 1.309 2.543 2.268zM28 29.5c0 0.271-0.229 0.5-0.5 0.5h-23c-0.271 0-0.5-0.229-0.5-0.5v-27c0-0.271 0.229-0.5 0.5-0.5 0 0 15.499-0 15.5 0v7c0 0.552 0.448 1 1 1h7v19.5z\"></path>\n",
       "<path d=\"M23 26h-14c-0.552 0-1-0.448-1-1s0.448-1 1-1h14c0.552 0 1 0.448 1 1s-0.448 1-1 1z\"></path>\n",
       "<path d=\"M23 22h-14c-0.552 0-1-0.448-1-1s0.448-1 1-1h14c0.552 0 1 0.448 1 1s-0.448 1-1 1z\"></path>\n",
       "<path d=\"M23 18h-14c-0.552 0-1-0.448-1-1s0.448-1 1-1h14c0.552 0 1 0.448 1 1s-0.448 1-1 1z\"></path>\n",
       "</symbol>\n",
       "</defs>\n",
       "</svg>\n",
       "<style>/* CSS stylesheet for displaying xarray objects in jupyterlab.\n",
       " *\n",
       " */\n",
       "\n",
       ":root {\n",
       "  --xr-font-color0: var(--jp-content-font-color0, rgba(0, 0, 0, 1));\n",
       "  --xr-font-color2: var(--jp-content-font-color2, rgba(0, 0, 0, 0.54));\n",
       "  --xr-font-color3: var(--jp-content-font-color3, rgba(0, 0, 0, 0.38));\n",
       "  --xr-border-color: var(--jp-border-color2, #e0e0e0);\n",
       "  --xr-disabled-color: var(--jp-layout-color3, #bdbdbd);\n",
       "  --xr-background-color: var(--jp-layout-color0, white);\n",
       "  --xr-background-color-row-even: var(--jp-layout-color1, white);\n",
       "  --xr-background-color-row-odd: var(--jp-layout-color2, #eeeeee);\n",
       "}\n",
       "\n",
       "html[theme=dark],\n",
       "body[data-theme=dark],\n",
       "body.vscode-dark {\n",
       "  --xr-font-color0: rgba(255, 255, 255, 1);\n",
       "  --xr-font-color2: rgba(255, 255, 255, 0.54);\n",
       "  --xr-font-color3: rgba(255, 255, 255, 0.38);\n",
       "  --xr-border-color: #1F1F1F;\n",
       "  --xr-disabled-color: #515151;\n",
       "  --xr-background-color: #111111;\n",
       "  --xr-background-color-row-even: #111111;\n",
       "  --xr-background-color-row-odd: #313131;\n",
       "}\n",
       "\n",
       ".xr-wrap {\n",
       "  display: block !important;\n",
       "  min-width: 300px;\n",
       "  max-width: 700px;\n",
       "}\n",
       "\n",
       ".xr-text-repr-fallback {\n",
       "  /* fallback to plain text repr when CSS is not injected (untrusted notebook) */\n",
       "  display: none;\n",
       "}\n",
       "\n",
       ".xr-header {\n",
       "  padding-top: 6px;\n",
       "  padding-bottom: 6px;\n",
       "  margin-bottom: 4px;\n",
       "  border-bottom: solid 1px var(--xr-border-color);\n",
       "}\n",
       "\n",
       ".xr-header > div,\n",
       ".xr-header > ul {\n",
       "  display: inline;\n",
       "  margin-top: 0;\n",
       "  margin-bottom: 0;\n",
       "}\n",
       "\n",
       ".xr-obj-type,\n",
       ".xr-array-name {\n",
       "  margin-left: 2px;\n",
       "  margin-right: 10px;\n",
       "}\n",
       "\n",
       ".xr-obj-type {\n",
       "  color: var(--xr-font-color2);\n",
       "}\n",
       "\n",
       ".xr-sections {\n",
       "  padding-left: 0 !important;\n",
       "  display: grid;\n",
       "  grid-template-columns: 150px auto auto 1fr 20px 20px;\n",
       "}\n",
       "\n",
       ".xr-section-item {\n",
       "  display: contents;\n",
       "}\n",
       "\n",
       ".xr-section-item input {\n",
       "  display: none;\n",
       "}\n",
       "\n",
       ".xr-section-item input + label {\n",
       "  color: var(--xr-disabled-color);\n",
       "}\n",
       "\n",
       ".xr-section-item input:enabled + label {\n",
       "  cursor: pointer;\n",
       "  color: var(--xr-font-color2);\n",
       "}\n",
       "\n",
       ".xr-section-item input:enabled + label:hover {\n",
       "  color: var(--xr-font-color0);\n",
       "}\n",
       "\n",
       ".xr-section-summary {\n",
       "  grid-column: 1;\n",
       "  color: var(--xr-font-color2);\n",
       "  font-weight: 500;\n",
       "}\n",
       "\n",
       ".xr-section-summary > span {\n",
       "  display: inline-block;\n",
       "  padding-left: 0.5em;\n",
       "}\n",
       "\n",
       ".xr-section-summary-in:disabled + label {\n",
       "  color: var(--xr-font-color2);\n",
       "}\n",
       "\n",
       ".xr-section-summary-in + label:before {\n",
       "  display: inline-block;\n",
       "  content: '►';\n",
       "  font-size: 11px;\n",
       "  width: 15px;\n",
       "  text-align: center;\n",
       "}\n",
       "\n",
       ".xr-section-summary-in:disabled + label:before {\n",
       "  color: var(--xr-disabled-color);\n",
       "}\n",
       "\n",
       ".xr-section-summary-in:checked + label:before {\n",
       "  content: '▼';\n",
       "}\n",
       "\n",
       ".xr-section-summary-in:checked + label > span {\n",
       "  display: none;\n",
       "}\n",
       "\n",
       ".xr-section-summary,\n",
       ".xr-section-inline-details {\n",
       "  padding-top: 4px;\n",
       "  padding-bottom: 4px;\n",
       "}\n",
       "\n",
       ".xr-section-inline-details {\n",
       "  grid-column: 2 / -1;\n",
       "}\n",
       "\n",
       ".xr-section-details {\n",
       "  display: none;\n",
       "  grid-column: 1 / -1;\n",
       "  margin-bottom: 5px;\n",
       "}\n",
       "\n",
       ".xr-section-summary-in:checked ~ .xr-section-details {\n",
       "  display: contents;\n",
       "}\n",
       "\n",
       ".xr-array-wrap {\n",
       "  grid-column: 1 / -1;\n",
       "  display: grid;\n",
       "  grid-template-columns: 20px auto;\n",
       "}\n",
       "\n",
       ".xr-array-wrap > label {\n",
       "  grid-column: 1;\n",
       "  vertical-align: top;\n",
       "}\n",
       "\n",
       ".xr-preview {\n",
       "  color: var(--xr-font-color3);\n",
       "}\n",
       "\n",
       ".xr-array-preview,\n",
       ".xr-array-data {\n",
       "  padding: 0 5px !important;\n",
       "  grid-column: 2;\n",
       "}\n",
       "\n",
       ".xr-array-data,\n",
       ".xr-array-in:checked ~ .xr-array-preview {\n",
       "  display: none;\n",
       "}\n",
       "\n",
       ".xr-array-in:checked ~ .xr-array-data,\n",
       ".xr-array-preview {\n",
       "  display: inline-block;\n",
       "}\n",
       "\n",
       ".xr-dim-list {\n",
       "  display: inline-block !important;\n",
       "  list-style: none;\n",
       "  padding: 0 !important;\n",
       "  margin: 0;\n",
       "}\n",
       "\n",
       ".xr-dim-list li {\n",
       "  display: inline-block;\n",
       "  padding: 0;\n",
       "  margin: 0;\n",
       "}\n",
       "\n",
       ".xr-dim-list:before {\n",
       "  content: '(';\n",
       "}\n",
       "\n",
       ".xr-dim-list:after {\n",
       "  content: ')';\n",
       "}\n",
       "\n",
       ".xr-dim-list li:not(:last-child):after {\n",
       "  content: ',';\n",
       "  padding-right: 5px;\n",
       "}\n",
       "\n",
       ".xr-has-index {\n",
       "  font-weight: bold;\n",
       "}\n",
       "\n",
       ".xr-var-list,\n",
       ".xr-var-item {\n",
       "  display: contents;\n",
       "}\n",
       "\n",
       ".xr-var-item > div,\n",
       ".xr-var-item label,\n",
       ".xr-var-item > .xr-var-name span {\n",
       "  background-color: var(--xr-background-color-row-even);\n",
       "  margin-bottom: 0;\n",
       "}\n",
       "\n",
       ".xr-var-item > .xr-var-name:hover span {\n",
       "  padding-right: 5px;\n",
       "}\n",
       "\n",
       ".xr-var-list > li:nth-child(odd) > div,\n",
       ".xr-var-list > li:nth-child(odd) > label,\n",
       ".xr-var-list > li:nth-child(odd) > .xr-var-name span {\n",
       "  background-color: var(--xr-background-color-row-odd);\n",
       "}\n",
       "\n",
       ".xr-var-name {\n",
       "  grid-column: 1;\n",
       "}\n",
       "\n",
       ".xr-var-dims {\n",
       "  grid-column: 2;\n",
       "}\n",
       "\n",
       ".xr-var-dtype {\n",
       "  grid-column: 3;\n",
       "  text-align: right;\n",
       "  color: var(--xr-font-color2);\n",
       "}\n",
       "\n",
       ".xr-var-preview {\n",
       "  grid-column: 4;\n",
       "}\n",
       "\n",
       ".xr-index-preview {\n",
       "  grid-column: 2 / 5;\n",
       "  color: var(--xr-font-color2);\n",
       "}\n",
       "\n",
       ".xr-var-name,\n",
       ".xr-var-dims,\n",
       ".xr-var-dtype,\n",
       ".xr-preview,\n",
       ".xr-attrs dt {\n",
       "  white-space: nowrap;\n",
       "  overflow: hidden;\n",
       "  text-overflow: ellipsis;\n",
       "  padding-right: 10px;\n",
       "}\n",
       "\n",
       ".xr-var-name:hover,\n",
       ".xr-var-dims:hover,\n",
       ".xr-var-dtype:hover,\n",
       ".xr-attrs dt:hover {\n",
       "  overflow: visible;\n",
       "  width: auto;\n",
       "  z-index: 1;\n",
       "}\n",
       "\n",
       ".xr-var-attrs,\n",
       ".xr-var-data,\n",
       ".xr-index-data {\n",
       "  display: none;\n",
       "  background-color: var(--xr-background-color) !important;\n",
       "  padding-bottom: 5px !important;\n",
       "}\n",
       "\n",
       ".xr-var-attrs-in:checked ~ .xr-var-attrs,\n",
       ".xr-var-data-in:checked ~ .xr-var-data,\n",
       ".xr-index-data-in:checked ~ .xr-index-data {\n",
       "  display: block;\n",
       "}\n",
       "\n",
       ".xr-var-data > table {\n",
       "  float: right;\n",
       "}\n",
       "\n",
       ".xr-var-name span,\n",
       ".xr-var-data,\n",
       ".xr-index-name div,\n",
       ".xr-index-data,\n",
       ".xr-attrs {\n",
       "  padding-left: 25px !important;\n",
       "}\n",
       "\n",
       ".xr-attrs,\n",
       ".xr-var-attrs,\n",
       ".xr-var-data,\n",
       ".xr-index-data {\n",
       "  grid-column: 1 / -1;\n",
       "}\n",
       "\n",
       "dl.xr-attrs {\n",
       "  padding: 0;\n",
       "  margin: 0;\n",
       "  display: grid;\n",
       "  grid-template-columns: 125px auto;\n",
       "}\n",
       "\n",
       ".xr-attrs dt,\n",
       ".xr-attrs dd {\n",
       "  padding: 0;\n",
       "  margin: 0;\n",
       "  float: left;\n",
       "  padding-right: 10px;\n",
       "  width: auto;\n",
       "}\n",
       "\n",
       ".xr-attrs dt {\n",
       "  font-weight: normal;\n",
       "  grid-column: 1;\n",
       "}\n",
       "\n",
       ".xr-attrs dt:hover span {\n",
       "  display: inline-block;\n",
       "  background: var(--xr-background-color);\n",
       "  padding-right: 10px;\n",
       "}\n",
       "\n",
       ".xr-attrs dd {\n",
       "  grid-column: 2;\n",
       "  white-space: pre-wrap;\n",
       "  word-break: break-all;\n",
       "}\n",
       "\n",
       ".xr-icon-database,\n",
       ".xr-icon-file-text2,\n",
       ".xr-no-icon {\n",
       "  display: inline-block;\n",
       "  vertical-align: middle;\n",
       "  width: 1em;\n",
       "  height: 1.5em !important;\n",
       "  stroke-width: 0;\n",
       "  stroke: currentColor;\n",
       "  fill: currentColor;\n",
       "}\n",
       "</style><pre class='xr-text-repr-fallback'>&lt;xarray.Dataset&gt;\n",
       "Dimensions:      (time: 1719, nv: 2, lat: 45, lon: 90)\n",
       "Coordinates:\n",
       "  * lat          (lat) float32 -88.0 -84.0 -80.0 -76.0 ... 76.0 80.0 84.0 88.0\n",
       "  * lon          (lon) float32 -178.0 -174.0 -170.0 -166.0 ... 170.0 174.0 178.0\n",
       "  * time         (time) datetime64[ns] 1880-01-15 1880-02-15 ... 2023-03-15\n",
       "Dimensions without coordinates: nv\n",
       "Data variables:\n",
       "    time_bnds    (time, nv) datetime64[ns] 1880-01-01 1880-02-01 ... 2023-04-01\n",
       "    tempanomaly  (time, lat, lon) float32 nan nan nan nan ... 4.14 4.14 4.14\n",
       "Attributes:\n",
       "    title:        GISTEMP Surface Temperature Analysis\n",
       "    institution:  NASA Goddard Institute for Space Studies\n",
       "    source:       http://data.giss.nasa.gov/gistemp/\n",
       "    Conventions:  CF-1.6\n",
       "    history:      Created 2023-04-11 11:10:31 by SBBX_to_nc 2.0 - ILAND=1200,...</pre><div class='xr-wrap' style='display:none'><div class='xr-header'><div class='xr-obj-type'>xarray.Dataset</div></div><ul class='xr-sections'><li class='xr-section-item'><input id='section-a4887297-b40e-4843-8a80-10a74fd3d196' class='xr-section-summary-in' type='checkbox' disabled ><label for='section-a4887297-b40e-4843-8a80-10a74fd3d196' class='xr-section-summary'  title='Expand/collapse section'>Dimensions:</label><div class='xr-section-inline-details'><ul class='xr-dim-list'><li><span class='xr-has-index'>time</span>: 1719</li><li><span>nv</span>: 2</li><li><span class='xr-has-index'>lat</span>: 45</li><li><span class='xr-has-index'>lon</span>: 90</li></ul></div><div class='xr-section-details'></div></li><li class='xr-section-item'><input id='section-f5184676-a913-42e5-8cfd-187f5bde5995' class='xr-section-summary-in' type='checkbox'  checked><label for='section-f5184676-a913-42e5-8cfd-187f5bde5995' class='xr-section-summary' >Coordinates: <span>(3)</span></label><div class='xr-section-inline-details'></div><div class='xr-section-details'><ul class='xr-var-list'><li class='xr-var-item'><div class='xr-var-name'><span class='xr-has-index'>lat</span></div><div class='xr-var-dims'>(lat)</div><div class='xr-var-dtype'>float32</div><div class='xr-var-preview xr-preview'>-88.0 -84.0 -80.0 ... 84.0 88.0</div><input id='attrs-b8373544-a1bf-4898-a128-ad8c11347469' class='xr-var-attrs-in' type='checkbox' ><label for='attrs-b8373544-a1bf-4898-a128-ad8c11347469' title='Show/Hide attributes'><svg class='icon xr-icon-file-text2'><use xlink:href='#icon-file-text2'></use></svg></label><input id='data-69f93ab8-1fc5-4694-8878-52b624c56ad6' class='xr-var-data-in' type='checkbox'><label for='data-69f93ab8-1fc5-4694-8878-52b624c56ad6' title='Show/Hide data repr'><svg class='icon xr-icon-database'><use xlink:href='#icon-database'></use></svg></label><div class='xr-var-attrs'><dl class='xr-attrs'><dt><span>standard_name :</span></dt><dd>latitude</dd><dt><span>long_name :</span></dt><dd>Latitude</dd><dt><span>units :</span></dt><dd>degrees_north</dd></dl></div><div class='xr-var-data'><pre>array([-88., -84., -80., -76., -72., -68., -64., -60., -56., -52., -48., -44.,\n",
       "       -40., -36., -32., -28., -24., -20., -16., -12.,  -8.,  -4.,   0.,   4.,\n",
       "         8.,  12.,  16.,  20.,  24.,  28.,  32.,  36.,  40.,  44.,  48.,  52.,\n",
       "        56.,  60.,  64.,  68.,  72.,  76.,  80.,  84.,  88.], dtype=float32)</pre></div></li><li class='xr-var-item'><div class='xr-var-name'><span class='xr-has-index'>lon</span></div><div class='xr-var-dims'>(lon)</div><div class='xr-var-dtype'>float32</div><div class='xr-var-preview xr-preview'>-178.0 -174.0 ... 174.0 178.0</div><input id='attrs-3dc52b5b-d142-4959-aeab-193ab56f369a' class='xr-var-attrs-in' type='checkbox' ><label for='attrs-3dc52b5b-d142-4959-aeab-193ab56f369a' title='Show/Hide attributes'><svg class='icon xr-icon-file-text2'><use xlink:href='#icon-file-text2'></use></svg></label><input id='data-32c2cbb6-835b-47b5-afd2-5dda9c63a532' class='xr-var-data-in' type='checkbox'><label for='data-32c2cbb6-835b-47b5-afd2-5dda9c63a532' title='Show/Hide data repr'><svg class='icon xr-icon-database'><use xlink:href='#icon-database'></use></svg></label><div class='xr-var-attrs'><dl class='xr-attrs'><dt><span>standard_name :</span></dt><dd>longitude</dd><dt><span>long_name :</span></dt><dd>Longitude</dd><dt><span>units :</span></dt><dd>degrees_east</dd></dl></div><div class='xr-var-data'><pre>array([-178., -174., -170., -166., -162., -158., -154., -150., -146., -142.,\n",
       "       -138., -134., -130., -126., -122., -118., -114., -110., -106., -102.,\n",
       "        -98.,  -94.,  -90.,  -86.,  -82.,  -78.,  -74.,  -70.,  -66.,  -62.,\n",
       "        -58.,  -54.,  -50.,  -46.,  -42.,  -38.,  -34.,  -30.,  -26.,  -22.,\n",
       "        -18.,  -14.,  -10.,   -6.,   -2.,    2.,    6.,   10.,   14.,   18.,\n",
       "         22.,   26.,   30.,   34.,   38.,   42.,   46.,   50.,   54.,   58.,\n",
       "         62.,   66.,   70.,   74.,   78.,   82.,   86.,   90.,   94.,   98.,\n",
       "        102.,  106.,  110.,  114.,  118.,  122.,  126.,  130.,  134.,  138.,\n",
       "        142.,  146.,  150.,  154.,  158.,  162.,  166.,  170.,  174.,  178.],\n",
       "      dtype=float32)</pre></div></li><li class='xr-var-item'><div class='xr-var-name'><span class='xr-has-index'>time</span></div><div class='xr-var-dims'>(time)</div><div class='xr-var-dtype'>datetime64[ns]</div><div class='xr-var-preview xr-preview'>1880-01-15 ... 2023-03-15</div><input id='attrs-c3c0895e-a956-42d6-b1ef-6ecc2f475b6c' class='xr-var-attrs-in' type='checkbox' ><label for='attrs-c3c0895e-a956-42d6-b1ef-6ecc2f475b6c' title='Show/Hide attributes'><svg class='icon xr-icon-file-text2'><use xlink:href='#icon-file-text2'></use></svg></label><input id='data-cf688ae1-7f05-4aec-8c1b-9a5ff7c52ed3' class='xr-var-data-in' type='checkbox'><label for='data-cf688ae1-7f05-4aec-8c1b-9a5ff7c52ed3' title='Show/Hide data repr'><svg class='icon xr-icon-database'><use xlink:href='#icon-database'></use></svg></label><div class='xr-var-attrs'><dl class='xr-attrs'><dt><span>long_name :</span></dt><dd>time</dd><dt><span>bounds :</span></dt><dd>time_bnds</dd></dl></div><div class='xr-var-data'><pre>array([&#x27;1880-01-15T00:00:00.000000000&#x27;, &#x27;1880-02-15T00:00:00.000000000&#x27;,\n",
       "       &#x27;1880-03-15T00:00:00.000000000&#x27;, ..., &#x27;2023-01-15T00:00:00.000000000&#x27;,\n",
       "       &#x27;2023-02-15T00:00:00.000000000&#x27;, &#x27;2023-03-15T00:00:00.000000000&#x27;],\n",
       "      dtype=&#x27;datetime64[ns]&#x27;)</pre></div></li></ul></div></li><li class='xr-section-item'><input id='section-206fda91-a0ff-447d-9cc5-53e0687f5e31' class='xr-section-summary-in' type='checkbox'  checked><label for='section-206fda91-a0ff-447d-9cc5-53e0687f5e31' class='xr-section-summary' >Data variables: <span>(2)</span></label><div class='xr-section-inline-details'></div><div class='xr-section-details'><ul class='xr-var-list'><li class='xr-var-item'><div class='xr-var-name'><span>time_bnds</span></div><div class='xr-var-dims'>(time, nv)</div><div class='xr-var-dtype'>datetime64[ns]</div><div class='xr-var-preview xr-preview'>1880-01-01 ... 2023-04-01</div><input id='attrs-e2307ad4-ee83-4831-b4da-7b61967f0773' class='xr-var-attrs-in' type='checkbox' disabled><label for='attrs-e2307ad4-ee83-4831-b4da-7b61967f0773' title='Show/Hide attributes'><svg class='icon xr-icon-file-text2'><use xlink:href='#icon-file-text2'></use></svg></label><input id='data-428dfda8-5931-4bb9-9d28-d244f5a37711' class='xr-var-data-in' type='checkbox'><label for='data-428dfda8-5931-4bb9-9d28-d244f5a37711' title='Show/Hide data repr'><svg class='icon xr-icon-database'><use xlink:href='#icon-database'></use></svg></label><div class='xr-var-attrs'><dl class='xr-attrs'></dl></div><div class='xr-var-data'><pre>array([[&#x27;1880-01-01T00:00:00.000000000&#x27;, &#x27;1880-02-01T00:00:00.000000000&#x27;],\n",
       "       [&#x27;1880-02-01T00:00:00.000000000&#x27;, &#x27;1880-03-01T00:00:00.000000000&#x27;],\n",
       "       [&#x27;1880-03-01T00:00:00.000000000&#x27;, &#x27;1880-04-01T00:00:00.000000000&#x27;],\n",
       "       ...,\n",
       "       [&#x27;2023-01-01T00:00:00.000000000&#x27;, &#x27;2023-02-01T00:00:00.000000000&#x27;],\n",
       "       [&#x27;2023-02-01T00:00:00.000000000&#x27;, &#x27;2023-03-01T00:00:00.000000000&#x27;],\n",
       "       [&#x27;2023-03-01T00:00:00.000000000&#x27;, &#x27;2023-04-01T00:00:00.000000000&#x27;]],\n",
       "      dtype=&#x27;datetime64[ns]&#x27;)</pre></div></li><li class='xr-var-item'><div class='xr-var-name'><span>tempanomaly</span></div><div class='xr-var-dims'>(time, lat, lon)</div><div class='xr-var-dtype'>float32</div><div class='xr-var-preview xr-preview'>nan nan nan nan ... 4.14 4.14 4.14</div><input id='attrs-f99c727a-ddc7-4927-8fde-0b7e2d814eb4' class='xr-var-attrs-in' type='checkbox' ><label for='attrs-f99c727a-ddc7-4927-8fde-0b7e2d814eb4' title='Show/Hide attributes'><svg class='icon xr-icon-file-text2'><use xlink:href='#icon-file-text2'></use></svg></label><input id='data-b210af1a-fb26-44f3-96dd-237659a6d0d3' class='xr-var-data-in' type='checkbox'><label for='data-b210af1a-fb26-44f3-96dd-237659a6d0d3' title='Show/Hide data repr'><svg class='icon xr-icon-database'><use xlink:href='#icon-database'></use></svg></label><div class='xr-var-attrs'><dl class='xr-attrs'><dt><span>title :</span></dt><dd>GISTEMP Surface Temperature Analysis</dd><dt><span>institution :</span></dt><dd>NASA Goddard Institute for Space Studies</dd><dt><span>source :</span></dt><dd>http://data.giss.nasa.gov/gistemp/</dd><dt><span>Conventions :</span></dt><dd>CF-1.6</dd><dt><span>history :</span></dt><dd>Created 2023-04-11 11:10:31 by SBBX_to_nc 2.0 - ILAND=1200, IOCEAN=NCDC/ER5, Base: 1951-1980</dd></dl></div><div class='xr-var-data'><pre>array([[[        nan,         nan,         nan, ...,         nan,\n",
       "                 nan,         nan],\n",
       "        [        nan,         nan,         nan, ...,         nan,\n",
       "                 nan,         nan],\n",
       "        [        nan,         nan,         nan, ...,         nan,\n",
       "                 nan,         nan],\n",
       "        ...,\n",
       "        [        nan,         nan,         nan, ...,         nan,\n",
       "                 nan,         nan],\n",
       "        [        nan,         nan,         nan, ...,         nan,\n",
       "                 nan,         nan],\n",
       "        [        nan,         nan,         nan, ...,         nan,\n",
       "                 nan,         nan]],\n",
       "\n",
       "       [[        nan,         nan,         nan, ...,         nan,\n",
       "                 nan,         nan],\n",
       "        [        nan,         nan,         nan, ...,         nan,\n",
       "                 nan,         nan],\n",
       "        [        nan,         nan,         nan, ...,         nan,\n",
       "                 nan,         nan],\n",
       "...\n",
       "        [ 2.32      ,  2.32      ,  2.3075    , ...,  1.9300001 ,\n",
       "          2.1799998 ,  2.1799998 ],\n",
       "        [ 6.27      ,  6.27      ,  6.27      , ...,  6.27      ,\n",
       "          6.27      ,  6.27      ],\n",
       "        [ 6.27      ,  6.27      ,  6.27      , ...,  6.27      ,\n",
       "          6.27      ,  6.27      ]],\n",
       "\n",
       "       [[ 1.49      ,  1.49      ,  1.49      , ...,  1.49      ,\n",
       "          1.49      ,  1.49      ],\n",
       "        [ 1.49      ,  1.49      ,  1.49      , ...,  1.49      ,\n",
       "          1.49      ,  1.49      ],\n",
       "        [-1.12      , -1.12      , -1.04      , ..., -1.1424999 ,\n",
       "         -1.185     , -1.185     ],\n",
       "        ...,\n",
       "        [ 4.5699997 ,  4.5699997 ,  5.3975    , ...,  1.5074999 ,\n",
       "          2.155     ,  2.155     ],\n",
       "        [ 4.14      ,  4.14      ,  4.14      , ...,  4.14      ,\n",
       "          4.14      ,  4.14      ],\n",
       "        [ 4.14      ,  4.14      ,  4.14      , ...,  4.14      ,\n",
       "          4.14      ,  4.14      ]]], dtype=float32)</pre></div></li></ul></div></li><li class='xr-section-item'><input id='section-27c8db7c-80c3-42e6-b218-40a6c65907ad' class='xr-section-summary-in' type='checkbox'  ><label for='section-27c8db7c-80c3-42e6-b218-40a6c65907ad' class='xr-section-summary' >Indexes: <span>(3)</span></label><div class='xr-section-inline-details'></div><div class='xr-section-details'><ul class='xr-var-list'><li class='xr-var-item'><div class='xr-index-name'><div>lat</div></div><div class='xr-index-preview'>PandasIndex</div><div></div><input id='index-107c08b0-d81c-48c7-b5da-f6e454f264cc' class='xr-index-data-in' type='checkbox'/><label for='index-107c08b0-d81c-48c7-b5da-f6e454f264cc' title='Show/Hide index repr'><svg class='icon xr-icon-database'><use xlink:href='#icon-database'></use></svg></label><div class='xr-index-data'><pre>PandasIndex(Index([-88.0, -84.0, -80.0, -76.0, -72.0, -68.0, -64.0, -60.0, -56.0, -52.0,\n",
       "       -48.0, -44.0, -40.0, -36.0, -32.0, -28.0, -24.0, -20.0, -16.0, -12.0,\n",
       "        -8.0,  -4.0,   0.0,   4.0,   8.0,  12.0,  16.0,  20.0,  24.0,  28.0,\n",
       "        32.0,  36.0,  40.0,  44.0,  48.0,  52.0,  56.0,  60.0,  64.0,  68.0,\n",
       "        72.0,  76.0,  80.0,  84.0,  88.0],\n",
       "      dtype=&#x27;float32&#x27;, name=&#x27;lat&#x27;))</pre></div></li><li class='xr-var-item'><div class='xr-index-name'><div>lon</div></div><div class='xr-index-preview'>PandasIndex</div><div></div><input id='index-d9437c05-c0b6-4182-b6a1-c2d5009a9f2a' class='xr-index-data-in' type='checkbox'/><label for='index-d9437c05-c0b6-4182-b6a1-c2d5009a9f2a' title='Show/Hide index repr'><svg class='icon xr-icon-database'><use xlink:href='#icon-database'></use></svg></label><div class='xr-index-data'><pre>PandasIndex(Index([-178.0, -174.0, -170.0, -166.0, -162.0, -158.0, -154.0, -150.0, -146.0,\n",
       "       -142.0, -138.0, -134.0, -130.0, -126.0, -122.0, -118.0, -114.0, -110.0,\n",
       "       -106.0, -102.0,  -98.0,  -94.0,  -90.0,  -86.0,  -82.0,  -78.0,  -74.0,\n",
       "        -70.0,  -66.0,  -62.0,  -58.0,  -54.0,  -50.0,  -46.0,  -42.0,  -38.0,\n",
       "        -34.0,  -30.0,  -26.0,  -22.0,  -18.0,  -14.0,  -10.0,   -6.0,   -2.0,\n",
       "          2.0,    6.0,   10.0,   14.0,   18.0,   22.0,   26.0,   30.0,   34.0,\n",
       "         38.0,   42.0,   46.0,   50.0,   54.0,   58.0,   62.0,   66.0,   70.0,\n",
       "         74.0,   78.0,   82.0,   86.0,   90.0,   94.0,   98.0,  102.0,  106.0,\n",
       "        110.0,  114.0,  118.0,  122.0,  126.0,  130.0,  134.0,  138.0,  142.0,\n",
       "        146.0,  150.0,  154.0,  158.0,  162.0,  166.0,  170.0,  174.0,  178.0],\n",
       "      dtype=&#x27;float32&#x27;, name=&#x27;lon&#x27;))</pre></div></li><li class='xr-var-item'><div class='xr-index-name'><div>time</div></div><div class='xr-index-preview'>PandasIndex</div><div></div><input id='index-5dab410b-50d3-4a8b-a67b-227762285323' class='xr-index-data-in' type='checkbox'/><label for='index-5dab410b-50d3-4a8b-a67b-227762285323' title='Show/Hide index repr'><svg class='icon xr-icon-database'><use xlink:href='#icon-database'></use></svg></label><div class='xr-index-data'><pre>PandasIndex(DatetimeIndex([&#x27;1880-01-15&#x27;, &#x27;1880-02-15&#x27;, &#x27;1880-03-15&#x27;, &#x27;1880-04-15&#x27;,\n",
       "               &#x27;1880-05-15&#x27;, &#x27;1880-06-15&#x27;, &#x27;1880-07-15&#x27;, &#x27;1880-08-15&#x27;,\n",
       "               &#x27;1880-09-15&#x27;, &#x27;1880-10-15&#x27;,\n",
       "               ...\n",
       "               &#x27;2022-06-15&#x27;, &#x27;2022-07-15&#x27;, &#x27;2022-08-15&#x27;, &#x27;2022-09-15&#x27;,\n",
       "               &#x27;2022-10-15&#x27;, &#x27;2022-11-15&#x27;, &#x27;2022-12-15&#x27;, &#x27;2023-01-15&#x27;,\n",
       "               &#x27;2023-02-15&#x27;, &#x27;2023-03-15&#x27;],\n",
       "              dtype=&#x27;datetime64[ns]&#x27;, name=&#x27;time&#x27;, length=1719, freq=None))</pre></div></li></ul></div></li><li class='xr-section-item'><input id='section-42f8e50a-b5db-427e-97ab-6255e8e3bd7a' class='xr-section-summary-in' type='checkbox'  checked><label for='section-42f8e50a-b5db-427e-97ab-6255e8e3bd7a' class='xr-section-summary' >Attributes: <span>(5)</span></label><div class='xr-section-inline-details'></div><div class='xr-section-details'><dl class='xr-attrs'><dt><span>title :</span></dt><dd>GISTEMP Surface Temperature Analysis</dd><dt><span>institution :</span></dt><dd>NASA Goddard Institute for Space Studies</dd><dt><span>source :</span></dt><dd>http://data.giss.nasa.gov/gistemp/</dd><dt><span>Conventions :</span></dt><dd>CF-1.6</dd><dt><span>history :</span></dt><dd>Created 2023-04-11 11:10:31 by SBBX_to_nc 2.0 - ILAND=1200, IOCEAN=NCDC/ER5, Base: 1951-1980</dd></dl></div></li></ul></div></div>"
      ],
      "text/plain": [
       "<xarray.Dataset>\n",
       "Dimensions:      (time: 1719, nv: 2, lat: 45, lon: 90)\n",
       "Coordinates:\n",
       "  * lat          (lat) float32 -88.0 -84.0 -80.0 -76.0 ... 76.0 80.0 84.0 88.0\n",
       "  * lon          (lon) float32 -178.0 -174.0 -170.0 -166.0 ... 170.0 174.0 178.0\n",
       "  * time         (time) datetime64[ns] 1880-01-15 1880-02-15 ... 2023-03-15\n",
       "Dimensions without coordinates: nv\n",
       "Data variables:\n",
       "    time_bnds    (time, nv) datetime64[ns] 1880-01-01 1880-02-01 ... 2023-04-01\n",
       "    tempanomaly  (time, lat, lon) float32 nan nan nan nan ... 4.14 4.14 4.14\n",
       "Attributes:\n",
       "    title:        GISTEMP Surface Temperature Analysis\n",
       "    institution:  NASA Goddard Institute for Space Studies\n",
       "    source:       http://data.giss.nasa.gov/gistemp/\n",
       "    Conventions:  CF-1.6\n",
       "    history:      Created 2023-04-11 11:10:31 by SBBX_to_nc 2.0 - ILAND=1200,..."
      ]
     },
     "execution_count": 24,
     "metadata": {},
     "output_type": "execute_result"
    }
   ],
   "source": [
    "ds_coarse = ds.coarsen(lon=2, lat=2, boundary='pad').mean()\n",
    "ds_coarse"
   ]
  },
  {
   "cell_type": "code",
   "execution_count": 25,
   "id": "8501f17a-893b-4c8e-a4fa-e279a32a9029",
   "metadata": {},
   "outputs": [
    {
     "data": {
      "image/png": "[encoded data removed]",
      "text/plain": [
       "<Figure size 1400x600 with 2 Axes>"
      ]
     },
     "metadata": {},
     "output_type": "display_data"
    }
   ],
   "source": [
    "ds_coarse['tempanomaly'].isel(time=-1).plot(figsize=(14, 6), edgecolor='grey');"
   ]
  },
  {
   "cell_type": "code",
   "execution_count": 26,
   "id": "66df59b1-dbd8-42e9-b462-e185b8f57494",
   "metadata": {},
   "outputs": [
    {
     "data": {
      "image/png": "[encoded data removed]",
      "text/plain": [
       "<Figure size 1400x600 with 2 Axes>"
      ]
     },
     "metadata": {},
     "output_type": "display_data"
    }
   ],
   "source": [
    "ds['tempanomaly'].isel(time=-1).plot(figsize=(14, 6), edgecolor='grey');"
   ]
  },
  {
   "cell_type": "markdown",
   "id": "f047a115-57af-4477-a539-079f91ac90e1",
   "metadata": {
    "toc-hr-collapsed": true
   },
   "source": [
    "<a id='xr-transform'></a>\n",
    "## transform"
   ]
  },
  {
   "cell_type": "markdown",
   "id": "269ac268-57d7-4471-ac6f-1f27e8a26300",
   "metadata": {},
   "source": [
    "[Return to Start of Notebook](#xr)  "
   ]
  },
  {
   "cell_type": "code",
   "execution_count": 27,
   "id": "7aeb6f4e-27bb-40a2-aafc-87e538ceb4f2",
   "metadata": {},
   "outputs": [
    {
     "data": {
      "text/plain": [
       "{'title': 'GISTEMP Surface Temperature Analysis',\n",
       " 'institution': 'NASA Goddard Institute for Space Studies',\n",
       " 'source': 'http://data.giss.nasa.gov/gistemp/',\n",
       " 'Conventions': 'CF-1.6',\n",
       " 'history': 'Created 2023-04-11 11:10:31 by SBBX_to_nc 2.0 - ILAND=1200, IOCEAN=NCDC/ER5, Base: 1951-1980',\n",
       " 'units': 'C',\n",
       " 'long_name': 'Global Temperature Anomalies'}"
      ]
     },
     "execution_count": 27,
     "metadata": {},
     "output_type": "execute_result"
    }
   ],
   "source": [
    "ds.attrs[\"units\"] = \"C\"\n",
    "ds.attrs[\"long_name\"] = \"Global Temperature Anomalies\"\n",
    "ds.attrs"
   ]
  },
  {
   "cell_type": "markdown",
   "id": "86549763-b02e-4fd1-88a7-12a175573b25",
   "metadata": {
    "toc-hr-collapsed": true
   },
   "source": [
    "<a id='xr-select'></a>\n",
    "## select"
   ]
  },
  {
   "cell_type": "markdown",
   "id": "e2a98605-6dfc-4cdc-a05b-a44c68a2c3ba",
   "metadata": {},
   "source": [
    "[Return to Start of Notebook](#xr)  "
   ]
  },
  {
   "cell_type": "markdown",
   "id": "d25793f4-3876-48c9-8774-f01c715cee8a",
   "metadata": {},
   "source": [
    "### .sel\n",
    "- returns DataArray"
   ]
  },
  {
   "cell_type": "markdown",
   "id": "4cde3fea-5e4d-4618-b02b-cccd7107bd89",
   "metadata": {},
   "source": [
    "#### single year"
   ]
  },
  {
   "cell_type": "code",
   "execution_count": 28,
   "id": "0c7acd45-468a-49f8-81f7-9e93fcf301a1",
   "metadata": {},
   "outputs": [
    {
     "name": "stdout",
     "output_type": "stream",
     "text": [
      "<class 'xarray.core.dataarray.DataArray'>\n"
     ]
    }
   ],
   "source": [
    "sel_year = 2020\n",
    "sel = da.sel({'time':str(sel_year)})\n",
    "print(type(sel))"
   ]
  },
  {
   "cell_type": "code",
   "execution_count": 29,
   "id": "18ad028a-155c-4173-9c53-7afa54eb7ec2",
   "metadata": {
    "tags": []
   },
   "outputs": [
    {
     "data": {
      "text/plain": [
       "Coordinates:\n",
       "  * lat      (lat) float32 -89.0 -87.0 -85.0 -83.0 -81.0 ... 83.0 85.0 87.0 89.0\n",
       "  * lon      (lon) float32 -179.0 -177.0 -175.0 -173.0 ... 175.0 177.0 179.0\n",
       "  * time     (time) datetime64[ns] 2020-01-15 2020-02-15 ... 2020-12-15"
      ]
     },
     "execution_count": 29,
     "metadata": {},
     "output_type": "execute_result"
    }
   ],
   "source": [
    "sel.coords"
   ]
  },
  {
   "cell_type": "markdown",
   "id": "1b3acd28-0256-43e2-9475-3acaccb6b78d",
   "metadata": {},
   "source": [
    "#### slice date range"
   ]
  },
  {
   "cell_type": "code",
   "execution_count": 30,
   "id": "f99c08d5-2d7a-4784-8a84-9d2b7dbafdb8",
   "metadata": {},
   "outputs": [
    {
     "data": {
      "text/plain": [
       "Coordinates:\n",
       "  * lat      (lat) float32 -89.0 -87.0 -85.0 -83.0 -81.0 ... 83.0 85.0 87.0 89.0\n",
       "  * lon      (lon) float32 -179.0 -177.0 -175.0 -173.0 ... 175.0 177.0 179.0\n",
       "  * time     (time) datetime64[ns] 2000-01-15 2000-02-15 ... 2020-12-15"
      ]
     },
     "execution_count": 30,
     "metadata": {},
     "output_type": "execute_result"
    }
   ],
   "source": [
    "sel_year1 = str(2000)\n",
    "sel_year2 = str(2020)\n",
    "sel = da.sel(time=slice(sel_year1, sel_year2))\n",
    "sel.coords"
   ]
  },
  {
   "cell_type": "code",
   "execution_count": 31,
   "id": "7ba029b0-a228-49d7-8d69-5a08ebd19dd7",
   "metadata": {},
   "outputs": [
    {
     "data": {
      "image/png": "[encoded data removed]",
      "text/plain": [
       "<Figure size 640x480 with 1 Axes>"
      ]
     },
     "metadata": {},
     "output_type": "display_data"
    }
   ],
   "source": [
    "sel.plot();"
   ]
  },
  {
   "cell_type": "markdown",
   "id": "eb2b3544-d35a-4bbf-b3c1-e631d683e8b0",
   "metadata": {},
   "source": [
    "#### .values\n",
    "- returns ndarray"
   ]
  },
  {
   "cell_type": "code",
   "execution_count": 32,
   "id": "c18d108d-3f87-470e-842e-d152a965ee7d",
   "metadata": {},
   "outputs": [
    {
     "name": "stdout",
     "output_type": "stream",
     "text": [
      "<class 'numpy.ndarray'>\n"
     ]
    }
   ],
   "source": [
    "val = sel.values\n",
    "print(type(val))"
   ]
  },
  {
   "cell_type": "markdown",
   "id": "5026946b-b0fb-4faf-aeb5-c842a3030ed7",
   "metadata": {},
   "source": [
    "#### location"
   ]
  },
  {
   "cell_type": "code",
   "execution_count": 33,
   "id": "7040a2d3-4492-4588-8636-612fefb578e2",
   "metadata": {},
   "outputs": [
    {
     "data": {
      "text/plain": [
       "Coordinates:\n",
       "    lat      float32 -89.0\n",
       "    lon      float32 -179.0\n",
       "  * time     (time) datetime64[ns] 1880-01-15 1880-02-15 ... 2023-03-15"
      ]
     },
     "execution_count": 33,
     "metadata": {},
     "output_type": "execute_result"
    }
   ],
   "source": [
    "sel_lat = -89.0\n",
    "sel_lon =  -179.0\n",
    "sel = da.sel(lat=str(sel_lat), lon = str(sel_lon))\n",
    "val = sel.values\n",
    "sel.coords"
   ]
  },
  {
   "cell_type": "markdown",
   "id": "9e7c196b-6ca2-4c80-81e8-45a70fc567a5",
   "metadata": {},
   "source": [
    "### .isel"
   ]
  },
  {
   "cell_type": "code",
   "execution_count": 34,
   "id": "998b2dd1-f37b-4a7f-90f3-86e00d0f5968",
   "metadata": {},
   "outputs": [
    {
     "data": {
      "text/plain": [
       "Coordinates:\n",
       "  * lat      (lat) float32 -89.0 -87.0 -85.0 -83.0 -81.0 ... 83.0 85.0 87.0 89.0\n",
       "  * lon      (lon) float32 -179.0 -177.0 -175.0 -173.0 ... 175.0 177.0 179.0\n",
       "    time     datetime64[ns] 2023-02-15"
      ]
     },
     "execution_count": 34,
     "metadata": {},
     "output_type": "execute_result"
    }
   ],
   "source": [
    "sel_int = -2\n",
    "sel = da.isel(time = sel_int)\n",
    "sel.coords"
   ]
  },
  {
   "cell_type": "markdown",
   "id": "2a277544-1519-4b2a-94fa-028b2a0b79b1",
   "metadata": {},
   "source": [
    "### brackets"
   ]
  },
  {
   "cell_type": "code",
   "execution_count": 35,
   "id": "35d4ad5c-4be6-415b-abb0-2a06391c41de",
   "metadata": {},
   "outputs": [
    {
     "data": {
      "text/plain": [
       "Coordinates:\n",
       "  * lat      (lat) float32 -89.0 -87.0 -85.0 -83.0 -81.0 ... 83.0 85.0 87.0 89.0\n",
       "  * lon      (lon) float32 -179.0 -177.0 -175.0 -173.0 ... 175.0 177.0 179.0\n",
       "    time     datetime64[ns] 2023-02-15"
      ]
     },
     "execution_count": 35,
     "metadata": {},
     "output_type": "execute_result"
    }
   ],
   "source": [
    "sel = da[sel_int,:,:]\n",
    "sel.coords"
   ]
  },
  {
   "cell_type": "markdown",
   "id": "09e0b5a9-182b-46bc-b587-eea0b167cdc0",
   "metadata": {},
   "source": [
    "### .loc"
   ]
  },
  {
   "cell_type": "code",
   "execution_count": 36,
   "id": "2ba4c585-135a-40f1-92de-45faa120f2c6",
   "metadata": {},
   "outputs": [
    {
     "data": {
      "text/plain": [
       "Coordinates:\n",
       "  * lat      (lat) float32 -89.0 -87.0 -85.0 -83.0 -81.0 ... 83.0 85.0 87.0 89.0\n",
       "  * lon      (lon) float32 -179.0 -177.0 -175.0 -173.0 ... 175.0 177.0 179.0\n",
       "  * time     (time) datetime64[ns] 2020-01-15 2020-02-15 ... 2020-12-15"
      ]
     },
     "execution_count": 36,
     "metadata": {},
     "output_type": "execute_result"
    }
   ],
   "source": [
    "sel = da.loc[str(sel_year)]\n",
    "sel.coords"
   ]
  },
  {
   "cell_type": "markdown",
   "id": "af91f3e2-909e-4317-92e2-3244ea64eb0b",
   "metadata": {},
   "source": [
    "### single value"
   ]
  },
  {
   "cell_type": "code",
   "execution_count": 37,
   "id": "8e392112-d6bd-438f-86be-744388d7ae53",
   "metadata": {},
   "outputs": [
    {
     "data": {
      "text/plain": [
       "array([-1.23      ,  1.14      , -0.09      ,  2.        ,  1.6899999 ,\n",
       "        1.6899999 ,  0.32      , -0.48999998,  0.14      , -0.84999996,\n",
       "        1.1       ,  0.34      ], dtype=float32)"
      ]
     },
     "execution_count": 37,
     "metadata": {},
     "output_type": "execute_result"
    }
   ],
   "source": [
    "val = da.sel(time = str(sel_year),\n",
    "             lat = str(sel_lat),\n",
    "             lon = str(sel_lon)).values\n",
    "val"
   ]
  },
  {
   "cell_type": "markdown",
   "id": "543fb3fd-b93c-4184-9579-9094c5a78af2",
   "metadata": {
    "toc-hr-collapsed": true
   },
   "source": [
    "<a id='xr-export'></a>\n",
    "## export"
   ]
  },
  {
   "cell_type": "markdown",
   "id": "b6f43c3a-fefe-47aa-95ec-99446d56290b",
   "metadata": {},
   "source": [
    "[Return to Start of Notebook](#xr)  "
   ]
  },
  {
   "cell_type": "code",
   "execution_count": 38,
   "id": "96aa0579-df0e-4f4c-961e-258c927cf9d1",
   "metadata": {
    "tags": []
   },
   "outputs": [
    {
     "data": {
      "text/plain": [
       "'/Users/rkforest/gta/data/transformed-data/global_multi-dimensional.nc'"
      ]
     },
     "execution_count": 38,
     "metadata": {},
     "output_type": "execute_result"
    }
   ],
   "source": [
    "save_file_name = 'global_multi-dimensional.nc'\n",
    "save_path = os.path.join(transformed_data_dir,  save_file_name)"
   ]
  },
  {
   "cell_type": "code",
   "execution_count": 39,
   "id": "31be5e57-d281-48a9-a018-69b0718bb8e9",
   "metadata": {
    "tags": []
   },
   "outputs": [],
   "source": [
    "ds_coarse.to_netcdf(save_path) "
   ]
  },
  {
   "cell_type": "code",
   "execution_count": null,
   "id": "c29415f5-1abc-4d02-85e9-a0e8db953253",
   "metadata": {},
   "outputs": [],
   "source": []
  }
 ],
 "metadata": {
  "interpreter": {
   "hash": "a242e183465bb9023de0138d2b64ba329c59b510ac4eb42cc190969549979312"
  },
  "kernelspec": {
   "display_name": "Python 3 (ipykernel)",
   "language": "python",
   "name": "python3"
  },
  "language_info": {
   "codemirror_mode": {
    "name": "ipython",
    "version": 3
   },
   "file_extension": ".py",
   "mimetype": "text/x-python",
   "name": "python",
   "nbconvert_exporter": "python",
   "pygments_lexer": "ipython3",
   "version": "3.10.10"
  },
  "toc-autonumbering": false
 },
 "nbformat": 4,
 "nbformat_minor": 5
}
