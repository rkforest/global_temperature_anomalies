{
 "cells": [
  {
   "cell_type": "markdown",
   "id": "0bd71ea4",
   "metadata": {
    "tags": []
   },
   "source": [
    "<a id='dd'></a>\n",
    "# data download"
   ]
  },
  {
   "cell_type": "markdown",
   "id": "aa12904f-8de8-49d3-aa1c-639ad30557a1",
   "metadata": {
    "tags": []
   },
   "source": [
    "[libraries](#dd-libraries)  \n",
    "[parameters](#dd-parameters)  \n",
    "[directories](#dd-directories)  \n",
    "[download](#dd-download)  \n",
    "[catalog](#dd-catalog)  \n",
    "[paths](#dd-paths)  \n",
    "[read](#dd-read)   "
   ]
  },
  {
   "cell_type": "markdown",
   "id": "ad46782b-7efd-41e6-ae0a-1967ea38b394",
   "metadata": {
    "tags": [],
    "toc-hr-collapsed": true
   },
   "source": [
    "<a id='dd-libraries'></a>\n",
    "## libraries"
   ]
  },
  {
   "cell_type": "markdown",
   "id": "1b69cecd-9edc-4796-b23d-e99c33d599f6",
   "metadata": {
    "tags": []
   },
   "source": [
    "[Return to Start of Notebook](#dd)  "
   ]
  },
  {
   "cell_type": "code",
   "execution_count": 1,
   "id": "ed794b8b-d867-45cf-818a-86835b0c7a74",
   "metadata": {
    "tags": []
   },
   "outputs": [],
   "source": [
    "import os\n",
    "import glob\n",
    "import gzip\n",
    "import pandas as pd\n",
    "import xarray as xr"
   ]
  },
  {
   "cell_type": "code",
   "execution_count": 2,
   "id": "501ffbdb-4af1-4702-b651-b1d59d0a1cdd",
   "metadata": {
    "tags": []
   },
   "outputs": [],
   "source": [
    "import warnings \n",
    "from functools import partial \n",
    "from IPython.core.interactiveshell import InteractiveShell "
   ]
  },
  {
   "cell_type": "code",
   "execution_count": 3,
   "id": "c89c197e-9717-4719-b1c0-ecbe80a78e71",
   "metadata": {
    "tags": []
   },
   "outputs": [],
   "source": [
    "from data_download import download_csv\n",
    "from data_download import download_nc\n",
    "from data_download import directory_catalog\n",
    "from data_download import read_raw_data"
   ]
  },
  {
   "cell_type": "markdown",
   "id": "f947f68e-6940-4519-b91c-88dca40dccf8",
   "metadata": {
    "tags": [],
    "toc-hr-collapsed": true
   },
   "source": [
    "<a id='dd-parameters'></a>\n",
    "## parameters"
   ]
  },
  {
   "cell_type": "markdown",
   "id": "bea40202-9e08-4e42-9670-41bd38dd4456",
   "metadata": {
    "tags": []
   },
   "source": [
    "[Return to Start of Notebook](#dd)  "
   ]
  },
  {
   "cell_type": "code",
   "execution_count": 4,
   "id": "74427bc8-7a75-4a4d-9e8f-5f26024d076d",
   "metadata": {
    "tags": []
   },
   "outputs": [],
   "source": [
    "# ignore warnings \n",
    "warnings.filterwarnings('ignore')"
   ]
  },
  {
   "cell_type": "code",
   "execution_count": 5,
   "id": "46a88ecc-e7d0-4879-a683-328932ace5cd",
   "metadata": {
    "tags": []
   },
   "outputs": [],
   "source": [
    "# shorter traceback error messages\n",
    "get_ipython().showtraceback = partial(get_ipython().showtraceback,exception_only=True)"
   ]
  },
  {
   "cell_type": "code",
   "execution_count": 6,
   "id": "d9408afe-c39a-4d6e-aef4-a04663dba7b2",
   "metadata": {
    "tags": []
   },
   "outputs": [],
   "source": [
    "# shows result of cell without needing print\n",
    "InteractiveShell.ast_node_interactivity = \"last_expr_or_assign\""
   ]
  },
  {
   "cell_type": "markdown",
   "id": "706952ec-335c-4081-950f-04cfa14127a0",
   "metadata": {
    "toc-hr-collapsed": true
   },
   "source": [
    "<a id='dd-directories'></a>\n",
    "## directories"
   ]
  },
  {
   "cell_type": "markdown",
   "id": "d6d36254-a7bd-4dc7-ae33-e2441a30fd04",
   "metadata": {},
   "source": [
    "[Return to Start of Notebook](#dd)  "
   ]
  },
  {
   "cell_type": "code",
   "execution_count": 7,
   "id": "f44ec88f-c532-4448-a1fa-2a093a81d7bb",
   "metadata": {
    "tags": []
   },
   "outputs": [
    {
     "data": {
      "text/plain": [
       "'/Users/rkforest/kr/project/data/raw-data'"
      ]
     },
     "execution_count": 7,
     "metadata": {},
     "output_type": "execute_result"
    }
   ],
   "source": [
    "project_id = 'kr'\n",
    "home_dir = os.path.expanduser(\"~\")\n",
    "project_dir = os.path.join(home_dir, project_id,  'project')\n",
    "data_dir = os.path.join(project_dir, 'data')\n",
    "raw_data_dir =os.path.join(data_dir, 'raw-data')"
   ]
  },
  {
   "cell_type": "code",
   "execution_count": 8,
   "id": "72569bb9-1536-4578-80d5-a772821ca5d6",
   "metadata": {
    "tags": []
   },
   "outputs": [],
   "source": [
    "def create_directory(directory_name):\n",
    "    if not os.path.exists(directory_name):\n",
    "        print('Created new directory: ', directory_name)\n",
    "        os.mkdir(directory_name)"
   ]
  },
  {
   "cell_type": "code",
   "execution_count": 9,
   "id": "4056cc93-26c8-4c85-9e9f-741f03cff3a4",
   "metadata": {
    "tags": []
   },
   "outputs": [],
   "source": [
    "create_directory(project_dir)\n",
    "create_directory(data_dir)\n",
    "create_directory(raw_data_dir)"
   ]
  },
  {
   "cell_type": "code",
   "execution_count": 10,
   "id": "a1c58332-3f14-44a0-ad64-168854ec13f0",
   "metadata": {
    "tags": []
   },
   "outputs": [
    {
     "data": {
      "text/plain": [
       "'/Users/rkforest/kr/project'"
      ]
     },
     "execution_count": 10,
     "metadata": {},
     "output_type": "execute_result"
    }
   ],
   "source": [
    "os.chdir(project_dir)\n",
    "os.getcwd()"
   ]
  },
  {
   "cell_type": "markdown",
   "id": "c45e3ff3-1e5e-4063-bea0-dfe552afba17",
   "metadata": {
    "toc-hr-collapsed": true
   },
   "source": [
    "<a id='dd-download'></a>\n",
    "## download "
   ]
  },
  {
   "cell_type": "markdown",
   "id": "eb69d9e6-1c1e-4864-8786-a2f38cb97996",
   "metadata": {},
   "source": [
    "[Return to Start of Notebook](#dd)  "
   ]
  },
  {
   "cell_type": "markdown",
   "id": "542adfa2-19a2-409d-99b8-2493c2e44677",
   "metadata": {
    "toc-hr-collapsed": true
   },
   "source": [
    "#### download csv"
   ]
  },
  {
   "cell_type": "code",
   "execution_count": 11,
   "id": "db7d36cc-78b0-4f0e-9b61-df0db2fb2083",
   "metadata": {
    "tags": []
   },
   "outputs": [
    {
     "name": "stdout",
     "output_type": "stream",
     "text": [
      "current file is latest 2023-04-12\n",
      "current file is latest 2023-04-12\n",
      "current file is latest 2023-04-12\n",
      "current file is latest 2023-04-12\n"
     ]
    }
   ],
   "source": [
    "download_csv(raw_data_dir, 'GLB')\n",
    "download_csv(raw_data_dir, 'NH')\n",
    "download_csv(raw_data_dir, 'SH')\n",
    "download_csv(raw_data_dir, 'ZonAnn')"
   ]
  },
  {
   "cell_type": "markdown",
   "id": "0bc2b764-a52f-415d-8282-8b40f5e1f209",
   "metadata": {
    "toc-hr-collapsed": true
   },
   "source": [
    "#### download netcdf"
   ]
  },
  {
   "cell_type": "code",
   "execution_count": 12,
   "id": "2b9e0259-6eb8-4f75-89df-d4929af0daff",
   "metadata": {
    "tags": []
   },
   "outputs": [
    {
     "name": "stdout",
     "output_type": "stream",
     "text": [
      "current file is latest 2023-04-12\n"
     ]
    }
   ],
   "source": [
    "download_nc(raw_data_dir)"
   ]
  },
  {
   "cell_type": "markdown",
   "id": "af6eec9c-676f-430f-b6e6-8f79d3f19a4f",
   "metadata": {
    "tags": [],
    "toc-hr-collapsed": true
   },
   "source": [
    "<a id='dd-catalog'></a>\n",
    "## catalog"
   ]
  },
  {
   "cell_type": "markdown",
   "id": "72d8f80d-41eb-49e9-a882-f453ac8e9126",
   "metadata": {},
   "source": [
    "[Return to Start of Notebook](#dd)  "
   ]
  },
  {
   "cell_type": "code",
   "execution_count": 13,
   "id": "f98547b1-ecdc-4d04-8c70-0a5dfee5eeb8",
   "metadata": {
    "tags": []
   },
   "outputs": [
    {
     "data": {
      "text/html": [
       "<div>\n",
       "<style scoped>\n",
       "    .dataframe tbody tr th:only-of-type {\n",
       "        vertical-align: middle;\n",
       "    }\n",
       "\n",
       "    .dataframe tbody tr th {\n",
       "        vertical-align: top;\n",
       "    }\n",
       "\n",
       "    .dataframe thead th {\n",
       "        text-align: right;\n",
       "    }\n",
       "</style>\n",
       "<table border=\"1\" class=\"dataframe\">\n",
       "  <thead>\n",
       "    <tr style=\"text-align: right;\">\n",
       "      <th></th>\n",
       "      <th>directory</th>\n",
       "      <th>file</th>\n",
       "      <th>rows, cols</th>\n",
       "    </tr>\n",
       "  </thead>\n",
       "  <tbody>\n",
       "    <tr>\n",
       "      <th>0</th>\n",
       "      <td>raw-data</td>\n",
       "      <td>GLB.Ts+dSST.csv</td>\n",
       "      <td>(144, 19)</td>\n",
       "    </tr>\n",
       "    <tr>\n",
       "      <th>1</th>\n",
       "      <td>raw-data</td>\n",
       "      <td>NH.Ts+dSST.csv</td>\n",
       "      <td>(144, 19)</td>\n",
       "    </tr>\n",
       "    <tr>\n",
       "      <th>2</th>\n",
       "      <td>raw-data</td>\n",
       "      <td>SH.Ts+dSST.csv</td>\n",
       "      <td>(144, 19)</td>\n",
       "    </tr>\n",
       "    <tr>\n",
       "      <th>3</th>\n",
       "      <td>raw-data</td>\n",
       "      <td>ZonAnn.Ts+dSST.csv</td>\n",
       "      <td>(142, 15)</td>\n",
       "    </tr>\n",
       "  </tbody>\n",
       "</table>\n",
       "</div>"
      ],
      "text/plain": [
       "  directory                file rows, cols\n",
       "0  raw-data     GLB.Ts+dSST.csv  (144, 19)\n",
       "1  raw-data      NH.Ts+dSST.csv  (144, 19)\n",
       "2  raw-data      SH.Ts+dSST.csv  (144, 19)\n",
       "3  raw-data  ZonAnn.Ts+dSST.csv  (142, 15)"
      ]
     },
     "execution_count": 13,
     "metadata": {},
     "output_type": "execute_result"
    }
   ],
   "source": [
    "df = directory_catalog(raw_data_dir, 'csv')"
   ]
  },
  {
   "cell_type": "code",
   "execution_count": 14,
   "id": "e67b742c-bda5-4bbf-b826-b78ce06b40ab",
   "metadata": {
    "tags": []
   },
   "outputs": [
    {
     "data": {
      "text/html": [
       "<div>\n",
       "<style scoped>\n",
       "    .dataframe tbody tr th:only-of-type {\n",
       "        vertical-align: middle;\n",
       "    }\n",
       "\n",
       "    .dataframe tbody tr th {\n",
       "        vertical-align: top;\n",
       "    }\n",
       "\n",
       "    .dataframe thead th {\n",
       "        text-align: right;\n",
       "    }\n",
       "</style>\n",
       "<table border=\"1\" class=\"dataframe\">\n",
       "  <thead>\n",
       "    <tr style=\"text-align: right;\">\n",
       "      <th></th>\n",
       "      <th>directory</th>\n",
       "      <th>file</th>\n",
       "      <th>dimensions</th>\n",
       "    </tr>\n",
       "  </thead>\n",
       "  <tbody>\n",
       "    <tr>\n",
       "      <th>0</th>\n",
       "      <td>raw-data</td>\n",
       "      <td>gistemp1200_GHCNv4_ERSSTv5.nc</td>\n",
       "      <td>(time, lat, lon)</td>\n",
       "    </tr>\n",
       "  </tbody>\n",
       "</table>\n",
       "</div>"
      ],
      "text/plain": [
       "  directory                           file        dimensions\n",
       "0  raw-data  gistemp1200_GHCNv4_ERSSTv5.nc  (time, lat, lon)"
      ]
     },
     "execution_count": 14,
     "metadata": {},
     "output_type": "execute_result"
    }
   ],
   "source": [
    "df = directory_catalog(raw_data_dir, 'nc')"
   ]
  },
  {
   "cell_type": "markdown",
   "id": "5aec36b1-faea-4dcb-801b-edb38597340c",
   "metadata": {
    "tags": [],
    "toc-hr-collapsed": true
   },
   "source": [
    "<a id='dd-paths'></a>\n",
    "## paths"
   ]
  },
  {
   "cell_type": "markdown",
   "id": "03bebe62-fc2f-4918-86b5-70c9b9bf5483",
   "metadata": {},
   "source": [
    "[Return to Start of Notebook](#dd)  "
   ]
  },
  {
   "cell_type": "code",
   "execution_count": 15,
   "id": "3d4a2e3b-a496-4979-a02e-2665f5ef36ca",
   "metadata": {
    "tags": []
   },
   "outputs": [
    {
     "name": "stdout",
     "output_type": "stream",
     "text": [
      "/Users/rkforest/kr/project/data/raw-data/GLB.Ts+dSST.csv\n",
      "/Users/rkforest/kr/project/data/raw-data/NH.Ts+dSST.csv\n",
      "/Users/rkforest/kr/project/data/raw-data/SH.Ts+dSST.csv\n",
      "/Users/rkforest/kr/project/data/raw-data/ZonAnn.Ts+dSST.csv\n"
     ]
    }
   ],
   "source": [
    "file_paths_csv =  sorted(glob.glob(os.path.join(raw_data_dir, '*.csv')))\n",
    "[print(path) for path in file_paths_csv];"
   ]
  },
  {
   "cell_type": "code",
   "execution_count": 16,
   "id": "80f6f24e-2b2c-46a6-951b-2c50a50e91a7",
   "metadata": {
    "tags": []
   },
   "outputs": [
    {
     "name": "stdout",
     "output_type": "stream",
     "text": [
      "/Users/rkforest/kr/project/data/raw-data/gistemp1200_GHCNv4_ERSSTv5.nc\n"
     ]
    }
   ],
   "source": [
    "file_paths_nc  =  sorted(glob.glob(os.path.join(raw_data_dir, '*.nc')))\n",
    "[print(path) for path in file_paths_nc];"
   ]
  },
  {
   "cell_type": "markdown",
   "id": "8f0682ca-6084-4a51-80ac-f26a2fe89918",
   "metadata": {
    "tags": [],
    "toc-hr-collapsed": true
   },
   "source": [
    "<a id='dd-read'></a>\n",
    "## read"
   ]
  },
  {
   "cell_type": "markdown",
   "id": "2250591a-94cb-4972-a139-a3b48929d185",
   "metadata": {},
   "source": [
    "[Return to Start of Notebook](#dd)  "
   ]
  },
  {
   "cell_type": "markdown",
   "id": "849c1554-2f95-4ef2-b35b-d5f26d7dd4c0",
   "metadata": {
    "toc-hr-collapsed": true
   },
   "source": [
    "#### csv"
   ]
  },
  {
   "cell_type": "code",
   "execution_count": 17,
   "id": "d36fef95-fb4e-4c39-aad1-43b40719f994",
   "metadata": {
    "tags": []
   },
   "outputs": [],
   "source": [
    "dfg = read_raw_data(file_paths_csv[0], skiprows=1);\n",
    "dfn = read_raw_data(file_paths_csv[1], skiprows=1);\n",
    "dfs = read_raw_data(file_paths_csv[2], skiprows=1);\n",
    "dfz = read_raw_data(file_paths_csv[3]);"
   ]
  },
  {
   "cell_type": "code",
   "execution_count": 18,
   "id": "215acea9-b5c0-4636-b9aa-d606508618d0",
   "metadata": {
    "tags": []
   },
   "outputs": [
    {
     "data": {
      "text/html": [
       "<div>\n",
       "<style scoped>\n",
       "    .dataframe tbody tr th:only-of-type {\n",
       "        vertical-align: middle;\n",
       "    }\n",
       "\n",
       "    .dataframe tbody tr th {\n",
       "        vertical-align: top;\n",
       "    }\n",
       "\n",
       "    .dataframe thead th {\n",
       "        text-align: right;\n",
       "    }\n",
       "</style>\n",
       "<table border=\"1\" class=\"dataframe\">\n",
       "  <thead>\n",
       "    <tr style=\"text-align: right;\">\n",
       "      <th></th>\n",
       "      <th>Year</th>\n",
       "      <th>Jan</th>\n",
       "      <th>Feb</th>\n",
       "      <th>Mar</th>\n",
       "      <th>Apr</th>\n",
       "      <th>May</th>\n",
       "      <th>Jun</th>\n",
       "      <th>Jul</th>\n",
       "      <th>Aug</th>\n",
       "      <th>Sep</th>\n",
       "      <th>Oct</th>\n",
       "      <th>Nov</th>\n",
       "      <th>Dec</th>\n",
       "      <th>J-D</th>\n",
       "      <th>D-N</th>\n",
       "      <th>DJF</th>\n",
       "      <th>MAM</th>\n",
       "      <th>JJA</th>\n",
       "      <th>SON</th>\n",
       "    </tr>\n",
       "  </thead>\n",
       "  <tbody>\n",
       "    <tr>\n",
       "      <th>0</th>\n",
       "      <td>1880</td>\n",
       "      <td>-0.18</td>\n",
       "      <td>-0.24</td>\n",
       "      <td>-.08</td>\n",
       "      <td>-.16</td>\n",
       "      <td>-.10</td>\n",
       "      <td>-.21</td>\n",
       "      <td>-.18</td>\n",
       "      <td>-.10</td>\n",
       "      <td>-.14</td>\n",
       "      <td>-.23</td>\n",
       "      <td>-.21</td>\n",
       "      <td>-.17</td>\n",
       "      <td>-.17</td>\n",
       "      <td>***</td>\n",
       "      <td>***</td>\n",
       "      <td>-.11</td>\n",
       "      <td>-.16</td>\n",
       "      <td>-.20</td>\n",
       "    </tr>\n",
       "  </tbody>\n",
       "</table>\n",
       "</div>"
      ],
      "text/plain": [
       "   Year   Jan   Feb   Mar   Apr   May   Jun   Jul   Aug   Sep   Oct   Nov   \n",
       "0  1880 -0.18 -0.24  -.08  -.16  -.10  -.21  -.18  -.10  -.14  -.23  -.21  \\\n",
       "\n",
       "    Dec   J-D  D-N  DJF   MAM   JJA   SON  \n",
       "0  -.17  -.17  ***  ***  -.11  -.16  -.20  "
      ]
     },
     "execution_count": 18,
     "metadata": {},
     "output_type": "execute_result"
    }
   ],
   "source": [
    "dfg.head(1)"
   ]
  },
  {
   "cell_type": "code",
   "execution_count": 19,
   "id": "abe75e7d-ad4d-4f39-809a-a1f159c2c69a",
   "metadata": {
    "tags": []
   },
   "outputs": [
    {
     "data": {
      "text/html": [
       "<div>\n",
       "<style scoped>\n",
       "    .dataframe tbody tr th:only-of-type {\n",
       "        vertical-align: middle;\n",
       "    }\n",
       "\n",
       "    .dataframe tbody tr th {\n",
       "        vertical-align: top;\n",
       "    }\n",
       "\n",
       "    .dataframe thead th {\n",
       "        text-align: right;\n",
       "    }\n",
       "</style>\n",
       "<table border=\"1\" class=\"dataframe\">\n",
       "  <thead>\n",
       "    <tr style=\"text-align: right;\">\n",
       "      <th></th>\n",
       "      <th>Year</th>\n",
       "      <th>Jan</th>\n",
       "      <th>Feb</th>\n",
       "      <th>Mar</th>\n",
       "      <th>Apr</th>\n",
       "      <th>May</th>\n",
       "      <th>Jun</th>\n",
       "      <th>Jul</th>\n",
       "      <th>Aug</th>\n",
       "      <th>Sep</th>\n",
       "      <th>Oct</th>\n",
       "      <th>Nov</th>\n",
       "      <th>Dec</th>\n",
       "      <th>J-D</th>\n",
       "      <th>D-N</th>\n",
       "      <th>DJF</th>\n",
       "      <th>MAM</th>\n",
       "      <th>JJA</th>\n",
       "      <th>SON</th>\n",
       "    </tr>\n",
       "  </thead>\n",
       "  <tbody>\n",
       "    <tr>\n",
       "      <th>0</th>\n",
       "      <td>1880</td>\n",
       "      <td>-0.36</td>\n",
       "      <td>-0.51</td>\n",
       "      <td>-.23</td>\n",
       "      <td>-.30</td>\n",
       "      <td>-.06</td>\n",
       "      <td>-.16</td>\n",
       "      <td>-.19</td>\n",
       "      <td>-.27</td>\n",
       "      <td>-.23</td>\n",
       "      <td>-.32</td>\n",
       "      <td>-.43</td>\n",
       "      <td>-.40</td>\n",
       "      <td>-.29</td>\n",
       "      <td>***</td>\n",
       "      <td>***</td>\n",
       "      <td>-.20</td>\n",
       "      <td>-.21</td>\n",
       "      <td>-.33</td>\n",
       "    </tr>\n",
       "  </tbody>\n",
       "</table>\n",
       "</div>"
      ],
      "text/plain": [
       "   Year   Jan   Feb   Mar   Apr   May   Jun   Jul   Aug   Sep   Oct   Nov   \n",
       "0  1880 -0.36 -0.51  -.23  -.30  -.06  -.16  -.19  -.27  -.23  -.32  -.43  \\\n",
       "\n",
       "    Dec   J-D  D-N  DJF   MAM   JJA   SON  \n",
       "0  -.40  -.29  ***  ***  -.20  -.21  -.33  "
      ]
     },
     "execution_count": 19,
     "metadata": {},
     "output_type": "execute_result"
    }
   ],
   "source": [
    "dfn.head(1)"
   ]
  },
  {
   "cell_type": "code",
   "execution_count": 20,
   "id": "8f226688-e9ce-4a29-8719-e50ba1189c68",
   "metadata": {
    "tags": []
   },
   "outputs": [
    {
     "data": {
      "text/html": [
       "<div>\n",
       "<style scoped>\n",
       "    .dataframe tbody tr th:only-of-type {\n",
       "        vertical-align: middle;\n",
       "    }\n",
       "\n",
       "    .dataframe tbody tr th {\n",
       "        vertical-align: top;\n",
       "    }\n",
       "\n",
       "    .dataframe thead th {\n",
       "        text-align: right;\n",
       "    }\n",
       "</style>\n",
       "<table border=\"1\" class=\"dataframe\">\n",
       "  <thead>\n",
       "    <tr style=\"text-align: right;\">\n",
       "      <th></th>\n",
       "      <th>Year</th>\n",
       "      <th>Jan</th>\n",
       "      <th>Feb</th>\n",
       "      <th>Mar</th>\n",
       "      <th>Apr</th>\n",
       "      <th>May</th>\n",
       "      <th>Jun</th>\n",
       "      <th>Jul</th>\n",
       "      <th>Aug</th>\n",
       "      <th>Sep</th>\n",
       "      <th>Oct</th>\n",
       "      <th>Nov</th>\n",
       "      <th>Dec</th>\n",
       "      <th>J-D</th>\n",
       "      <th>D-N</th>\n",
       "      <th>DJF</th>\n",
       "      <th>MAM</th>\n",
       "      <th>JJA</th>\n",
       "      <th>SON</th>\n",
       "    </tr>\n",
       "  </thead>\n",
       "  <tbody>\n",
       "    <tr>\n",
       "      <th>0</th>\n",
       "      <td>1880</td>\n",
       "      <td>0.01</td>\n",
       "      <td>0.04</td>\n",
       "      <td>.06</td>\n",
       "      <td>-.01</td>\n",
       "      <td>-.12</td>\n",
       "      <td>-.25</td>\n",
       "      <td>-.17</td>\n",
       "      <td>.07</td>\n",
       "      <td>-.04</td>\n",
       "      <td>-.14</td>\n",
       "      <td>.00</td>\n",
       "      <td>.06</td>\n",
       "      <td>-.04</td>\n",
       "      <td>***</td>\n",
       "      <td>***</td>\n",
       "      <td>-.02</td>\n",
       "      <td>-.11</td>\n",
       "      <td>-.06</td>\n",
       "    </tr>\n",
       "  </tbody>\n",
       "</table>\n",
       "</div>"
      ],
      "text/plain": [
       "   Year   Jan   Feb  Mar   Apr   May   Jun   Jul  Aug   Sep   Oct  Nov  Dec   \n",
       "0  1880  0.01  0.04  .06  -.01  -.12  -.25  -.17  .07  -.04  -.14  .00  .06  \\\n",
       "\n",
       "    J-D  D-N  DJF   MAM   JJA   SON  \n",
       "0  -.04  ***  ***  -.02  -.11  -.06  "
      ]
     },
     "execution_count": 20,
     "metadata": {},
     "output_type": "execute_result"
    }
   ],
   "source": [
    "dfs.head(1)"
   ]
  },
  {
   "cell_type": "code",
   "execution_count": 21,
   "id": "7f328eaf-ad08-4cd0-9180-05e3ebf0056f",
   "metadata": {
    "tags": []
   },
   "outputs": [
    {
     "data": {
      "text/html": [
       "<div>\n",
       "<style scoped>\n",
       "    .dataframe tbody tr th:only-of-type {\n",
       "        vertical-align: middle;\n",
       "    }\n",
       "\n",
       "    .dataframe tbody tr th {\n",
       "        vertical-align: top;\n",
       "    }\n",
       "\n",
       "    .dataframe thead th {\n",
       "        text-align: right;\n",
       "    }\n",
       "</style>\n",
       "<table border=\"1\" class=\"dataframe\">\n",
       "  <thead>\n",
       "    <tr style=\"text-align: right;\">\n",
       "      <th></th>\n",
       "      <th>Year</th>\n",
       "      <th>Glob</th>\n",
       "      <th>NHem</th>\n",
       "      <th>SHem</th>\n",
       "      <th>24N-90N</th>\n",
       "      <th>24S-24N</th>\n",
       "      <th>90S-24S</th>\n",
       "      <th>64N-90N</th>\n",
       "      <th>44N-64N</th>\n",
       "      <th>24N-44N</th>\n",
       "      <th>EQU-24N</th>\n",
       "      <th>24S-EQU</th>\n",
       "      <th>44S-24S</th>\n",
       "      <th>64S-44S</th>\n",
       "      <th>90S-64S</th>\n",
       "    </tr>\n",
       "  </thead>\n",
       "  <tbody>\n",
       "    <tr>\n",
       "      <th>0</th>\n",
       "      <td>1880</td>\n",
       "      <td>-0.17</td>\n",
       "      <td>-0.29</td>\n",
       "      <td>-0.04</td>\n",
       "      <td>-0.37</td>\n",
       "      <td>-0.12</td>\n",
       "      <td>-0.02</td>\n",
       "      <td>-0.8</td>\n",
       "      <td>-0.48</td>\n",
       "      <td>-0.29</td>\n",
       "      <td>-0.16</td>\n",
       "      <td>-0.09</td>\n",
       "      <td>-0.04</td>\n",
       "      <td>0.05</td>\n",
       "      <td>0.66</td>\n",
       "    </tr>\n",
       "  </tbody>\n",
       "</table>\n",
       "</div>"
      ],
      "text/plain": [
       "   Year  Glob  NHem  SHem  24N-90N  24S-24N  90S-24S  64N-90N  44N-64N   \n",
       "0  1880 -0.17 -0.29 -0.04    -0.37    -0.12    -0.02     -0.8    -0.48  \\\n",
       "\n",
       "   24N-44N  EQU-24N  24S-EQU  44S-24S  64S-44S  90S-64S  \n",
       "0    -0.29    -0.16    -0.09    -0.04     0.05     0.66  "
      ]
     },
     "execution_count": 21,
     "metadata": {},
     "output_type": "execute_result"
    }
   ],
   "source": [
    "dfz.head(1)"
   ]
  },
  {
   "cell_type": "markdown",
   "id": "fa95f175-6f04-44d1-b05a-531aa1334d41",
   "metadata": {
    "toc-hr-collapsed": true
   },
   "source": [
    "#### netcdf"
   ]
  },
  {
   "cell_type": "code",
   "execution_count": 23,
   "id": "08f41be6-ca38-4dd0-b332-d6bc16d3e8e2",
   "metadata": {
    "tags": []
   },
   "outputs": [
    {
     "data": {
      "text/html": [
       "<div><svg style=\"position: absolute; width: 0; height: 0; overflow: hidden\">\n",
       "<defs>\n",
       "<symbol id=\"icon-database\" viewBox=\"0 0 32 32\">\n",
       "<path d=\"M16 0c-8.837 0-16 2.239-16 5v4c0 2.761 7.163 5 16 5s16-2.239 16-5v-4c0-2.761-7.163-5-16-5z\"></path>\n",
       "<path d=\"M16 17c-8.837 0-16-2.239-16-5v6c0 2.761 7.163 5 16 5s16-2.239 16-5v-6c0 2.761-7.163 5-16 5z\"></path>\n",
       "<path d=\"M16 26c-8.837 0-16-2.239-16-5v6c0 2.761 7.163 5 16 5s16-2.239 16-5v-6c0 2.761-7.163 5-16 5z\"></path>\n",
       "</symbol>\n",
       "<symbol id=\"icon-file-text2\" viewBox=\"0 0 32 32\">\n",
       "<path d=\"M28.681 7.159c-0.694-0.947-1.662-2.053-2.724-3.116s-2.169-2.030-3.116-2.724c-1.612-1.182-2.393-1.319-2.841-1.319h-15.5c-1.378 0-2.5 1.121-2.5 2.5v27c0 1.378 1.122 2.5 2.5 2.5h23c1.378 0 2.5-1.122 2.5-2.5v-19.5c0-0.448-0.137-1.23-1.319-2.841zM24.543 5.457c0.959 0.959 1.712 1.825 2.268 2.543h-4.811v-4.811c0.718 0.556 1.584 1.309 2.543 2.268zM28 29.5c0 0.271-0.229 0.5-0.5 0.5h-23c-0.271 0-0.5-0.229-0.5-0.5v-27c0-0.271 0.229-0.5 0.5-0.5 0 0 15.499-0 15.5 0v7c0 0.552 0.448 1 1 1h7v19.5z\"></path>\n",
       "<path d=\"M23 26h-14c-0.552 0-1-0.448-1-1s0.448-1 1-1h14c0.552 0 1 0.448 1 1s-0.448 1-1 1z\"></path>\n",
       "<path d=\"M23 22h-14c-0.552 0-1-0.448-1-1s0.448-1 1-1h14c0.552 0 1 0.448 1 1s-0.448 1-1 1z\"></path>\n",
       "<path d=\"M23 18h-14c-0.552 0-1-0.448-1-1s0.448-1 1-1h14c0.552 0 1 0.448 1 1s-0.448 1-1 1z\"></path>\n",
       "</symbol>\n",
       "</defs>\n",
       "</svg>\n",
       "<style>/* CSS stylesheet for displaying xarray objects in jupyterlab.\n",
       " *\n",
       " */\n",
       "\n",
       ":root {\n",
       "  --xr-font-color0: var(--jp-content-font-color0, rgba(0, 0, 0, 1));\n",
       "  --xr-font-color2: var(--jp-content-font-color2, rgba(0, 0, 0, 0.54));\n",
       "  --xr-font-color3: var(--jp-content-font-color3, rgba(0, 0, 0, 0.38));\n",
       "  --xr-border-color: var(--jp-border-color2, #e0e0e0);\n",
       "  --xr-disabled-color: var(--jp-layout-color3, #bdbdbd);\n",
       "  --xr-background-color: var(--jp-layout-color0, white);\n",
       "  --xr-background-color-row-even: var(--jp-layout-color1, white);\n",
       "  --xr-background-color-row-odd: var(--jp-layout-color2, #eeeeee);\n",
       "}\n",
       "\n",
       "html[theme=dark],\n",
       "body[data-theme=dark],\n",
       "body.vscode-dark {\n",
       "  --xr-font-color0: rgba(255, 255, 255, 1);\n",
       "  --xr-font-color2: rgba(255, 255, 255, 0.54);\n",
       "  --xr-font-color3: rgba(255, 255, 255, 0.38);\n",
       "  --xr-border-color: #1F1F1F;\n",
       "  --xr-disabled-color: #515151;\n",
       "  --xr-background-color: #111111;\n",
       "  --xr-background-color-row-even: #111111;\n",
       "  --xr-background-color-row-odd: #313131;\n",
       "}\n",
       "\n",
       ".xr-wrap {\n",
       "  display: block !important;\n",
       "  min-width: 300px;\n",
       "  max-width: 700px;\n",
       "}\n",
       "\n",
       ".xr-text-repr-fallback {\n",
       "  /* fallback to plain text repr when CSS is not injected (untrusted notebook) */\n",
       "  display: none;\n",
       "}\n",
       "\n",
       ".xr-header {\n",
       "  padding-top: 6px;\n",
       "  padding-bottom: 6px;\n",
       "  margin-bottom: 4px;\n",
       "  border-bottom: solid 1px var(--xr-border-color);\n",
       "}\n",
       "\n",
       ".xr-header > div,\n",
       ".xr-header > ul {\n",
       "  display: inline;\n",
       "  margin-top: 0;\n",
       "  margin-bottom: 0;\n",
       "}\n",
       "\n",
       ".xr-obj-type,\n",
       ".xr-array-name {\n",
       "  margin-left: 2px;\n",
       "  margin-right: 10px;\n",
       "}\n",
       "\n",
       ".xr-obj-type {\n",
       "  color: var(--xr-font-color2);\n",
       "}\n",
       "\n",
       ".xr-sections {\n",
       "  padding-left: 0 !important;\n",
       "  display: grid;\n",
       "  grid-template-columns: 150px auto auto 1fr 20px 20px;\n",
       "}\n",
       "\n",
       ".xr-section-item {\n",
       "  display: contents;\n",
       "}\n",
       "\n",
       ".xr-section-item input {\n",
       "  display: none;\n",
       "}\n",
       "\n",
       ".xr-section-item input + label {\n",
       "  color: var(--xr-disabled-color);\n",
       "}\n",
       "\n",
       ".xr-section-item input:enabled + label {\n",
       "  cursor: pointer;\n",
       "  color: var(--xr-font-color2);\n",
       "}\n",
       "\n",
       ".xr-section-item input:enabled + label:hover {\n",
       "  color: var(--xr-font-color0);\n",
       "}\n",
       "\n",
       ".xr-section-summary {\n",
       "  grid-column: 1;\n",
       "  color: var(--xr-font-color2);\n",
       "  font-weight: 500;\n",
       "}\n",
       "\n",
       ".xr-section-summary > span {\n",
       "  display: inline-block;\n",
       "  padding-left: 0.5em;\n",
       "}\n",
       "\n",
       ".xr-section-summary-in:disabled + label {\n",
       "  color: var(--xr-font-color2);\n",
       "}\n",
       "\n",
       ".xr-section-summary-in + label:before {\n",
       "  display: inline-block;\n",
       "  content: '►';\n",
       "  font-size: 11px;\n",
       "  width: 15px;\n",
       "  text-align: center;\n",
       "}\n",
       "\n",
       ".xr-section-summary-in:disabled + label:before {\n",
       "  color: var(--xr-disabled-color);\n",
       "}\n",
       "\n",
       ".xr-section-summary-in:checked + label:before {\n",
       "  content: '▼';\n",
       "}\n",
       "\n",
       ".xr-section-summary-in:checked + label > span {\n",
       "  display: none;\n",
       "}\n",
       "\n",
       ".xr-section-summary,\n",
       ".xr-section-inline-details {\n",
       "  padding-top: 4px;\n",
       "  padding-bottom: 4px;\n",
       "}\n",
       "\n",
       ".xr-section-inline-details {\n",
       "  grid-column: 2 / -1;\n",
       "}\n",
       "\n",
       ".xr-section-details {\n",
       "  display: none;\n",
       "  grid-column: 1 / -1;\n",
       "  margin-bottom: 5px;\n",
       "}\n",
       "\n",
       ".xr-section-summary-in:checked ~ .xr-section-details {\n",
       "  display: contents;\n",
       "}\n",
       "\n",
       ".xr-array-wrap {\n",
       "  grid-column: 1 / -1;\n",
       "  display: grid;\n",
       "  grid-template-columns: 20px auto;\n",
       "}\n",
       "\n",
       ".xr-array-wrap > label {\n",
       "  grid-column: 1;\n",
       "  vertical-align: top;\n",
       "}\n",
       "\n",
       ".xr-preview {\n",
       "  color: var(--xr-font-color3);\n",
       "}\n",
       "\n",
       ".xr-array-preview,\n",
       ".xr-array-data {\n",
       "  padding: 0 5px !important;\n",
       "  grid-column: 2;\n",
       "}\n",
       "\n",
       ".xr-array-data,\n",
       ".xr-array-in:checked ~ .xr-array-preview {\n",
       "  display: none;\n",
       "}\n",
       "\n",
       ".xr-array-in:checked ~ .xr-array-data,\n",
       ".xr-array-preview {\n",
       "  display: inline-block;\n",
       "}\n",
       "\n",
       ".xr-dim-list {\n",
       "  display: inline-block !important;\n",
       "  list-style: none;\n",
       "  padding: 0 !important;\n",
       "  margin: 0;\n",
       "}\n",
       "\n",
       ".xr-dim-list li {\n",
       "  display: inline-block;\n",
       "  padding: 0;\n",
       "  margin: 0;\n",
       "}\n",
       "\n",
       ".xr-dim-list:before {\n",
       "  content: '(';\n",
       "}\n",
       "\n",
       ".xr-dim-list:after {\n",
       "  content: ')';\n",
       "}\n",
       "\n",
       ".xr-dim-list li:not(:last-child):after {\n",
       "  content: ',';\n",
       "  padding-right: 5px;\n",
       "}\n",
       "\n",
       ".xr-has-index {\n",
       "  font-weight: bold;\n",
       "}\n",
       "\n",
       ".xr-var-list,\n",
       ".xr-var-item {\n",
       "  display: contents;\n",
       "}\n",
       "\n",
       ".xr-var-item > div,\n",
       ".xr-var-item label,\n",
       ".xr-var-item > .xr-var-name span {\n",
       "  background-color: var(--xr-background-color-row-even);\n",
       "  margin-bottom: 0;\n",
       "}\n",
       "\n",
       ".xr-var-item > .xr-var-name:hover span {\n",
       "  padding-right: 5px;\n",
       "}\n",
       "\n",
       ".xr-var-list > li:nth-child(odd) > div,\n",
       ".xr-var-list > li:nth-child(odd) > label,\n",
       ".xr-var-list > li:nth-child(odd) > .xr-var-name span {\n",
       "  background-color: var(--xr-background-color-row-odd);\n",
       "}\n",
       "\n",
       ".xr-var-name {\n",
       "  grid-column: 1;\n",
       "}\n",
       "\n",
       ".xr-var-dims {\n",
       "  grid-column: 2;\n",
       "}\n",
       "\n",
       ".xr-var-dtype {\n",
       "  grid-column: 3;\n",
       "  text-align: right;\n",
       "  color: var(--xr-font-color2);\n",
       "}\n",
       "\n",
       ".xr-var-preview {\n",
       "  grid-column: 4;\n",
       "}\n",
       "\n",
       ".xr-index-preview {\n",
       "  grid-column: 2 / 5;\n",
       "  color: var(--xr-font-color2);\n",
       "}\n",
       "\n",
       ".xr-var-name,\n",
       ".xr-var-dims,\n",
       ".xr-var-dtype,\n",
       ".xr-preview,\n",
       ".xr-attrs dt {\n",
       "  white-space: nowrap;\n",
       "  overflow: hidden;\n",
       "  text-overflow: ellipsis;\n",
       "  padding-right: 10px;\n",
       "}\n",
       "\n",
       ".xr-var-name:hover,\n",
       ".xr-var-dims:hover,\n",
       ".xr-var-dtype:hover,\n",
       ".xr-attrs dt:hover {\n",
       "  overflow: visible;\n",
       "  width: auto;\n",
       "  z-index: 1;\n",
       "}\n",
       "\n",
       ".xr-var-attrs,\n",
       ".xr-var-data,\n",
       ".xr-index-data {\n",
       "  display: none;\n",
       "  background-color: var(--xr-background-color) !important;\n",
       "  padding-bottom: 5px !important;\n",
       "}\n",
       "\n",
       ".xr-var-attrs-in:checked ~ .xr-var-attrs,\n",
       ".xr-var-data-in:checked ~ .xr-var-data,\n",
       ".xr-index-data-in:checked ~ .xr-index-data {\n",
       "  display: block;\n",
       "}\n",
       "\n",
       ".xr-var-data > table {\n",
       "  float: right;\n",
       "}\n",
       "\n",
       ".xr-var-name span,\n",
       ".xr-var-data,\n",
       ".xr-index-name div,\n",
       ".xr-index-data,\n",
       ".xr-attrs {\n",
       "  padding-left: 25px !important;\n",
       "}\n",
       "\n",
       ".xr-attrs,\n",
       ".xr-var-attrs,\n",
       ".xr-var-data,\n",
       ".xr-index-data {\n",
       "  grid-column: 1 / -1;\n",
       "}\n",
       "\n",
       "dl.xr-attrs {\n",
       "  padding: 0;\n",
       "  margin: 0;\n",
       "  display: grid;\n",
       "  grid-template-columns: 125px auto;\n",
       "}\n",
       "\n",
       ".xr-attrs dt,\n",
       ".xr-attrs dd {\n",
       "  padding: 0;\n",
       "  margin: 0;\n",
       "  float: left;\n",
       "  padding-right: 10px;\n",
       "  width: auto;\n",
       "}\n",
       "\n",
       ".xr-attrs dt {\n",
       "  font-weight: normal;\n",
       "  grid-column: 1;\n",
       "}\n",
       "\n",
       ".xr-attrs dt:hover span {\n",
       "  display: inline-block;\n",
       "  background: var(--xr-background-color);\n",
       "  padding-right: 10px;\n",
       "}\n",
       "\n",
       ".xr-attrs dd {\n",
       "  grid-column: 2;\n",
       "  white-space: pre-wrap;\n",
       "  word-break: break-all;\n",
       "}\n",
       "\n",
       ".xr-icon-database,\n",
       ".xr-icon-file-text2,\n",
       ".xr-no-icon {\n",
       "  display: inline-block;\n",
       "  vertical-align: middle;\n",
       "  width: 1em;\n",
       "  height: 1.5em !important;\n",
       "  stroke-width: 0;\n",
       "  stroke: currentColor;\n",
       "  fill: currentColor;\n",
       "}\n",
       "</style><pre class='xr-text-repr-fallback'>&lt;xarray.Dataset&gt;\n",
       "Dimensions:      (lat: 90, lon: 180, time: 1718, nv: 2)\n",
       "Coordinates:\n",
       "  * lat          (lat) float32 -89.0 -87.0 -85.0 -83.0 ... 83.0 85.0 87.0 89.0\n",
       "  * lon          (lon) float32 -179.0 -177.0 -175.0 -173.0 ... 175.0 177.0 179.0\n",
       "  * time         (time) datetime64[ns] 1880-01-15 1880-02-15 ... 2023-02-15\n",
       "Dimensions without coordinates: nv\n",
       "Data variables:\n",
       "    time_bnds    (time, nv) datetime64[ns] ...\n",
       "    tempanomaly  (time, lat, lon) float32 ...\n",
       "Attributes:\n",
       "    title:        GISTEMP Surface Temperature Analysis\n",
       "    institution:  NASA Goddard Institute for Space Studies\n",
       "    source:       http://data.giss.nasa.gov/gistemp/\n",
       "    Conventions:  CF-1.6\n",
       "    history:      Created 2023-03-12 11:33:56 by SBBX_to_nc 2.0 - ILAND=1200,...</pre><div class='xr-wrap' style='display:none'><div class='xr-header'><div class='xr-obj-type'>xarray.Dataset</div></div><ul class='xr-sections'><li class='xr-section-item'><input id='section-b627427f-7a55-48d0-8035-d45df6b652c2' class='xr-section-summary-in' type='checkbox' disabled ><label for='section-b627427f-7a55-48d0-8035-d45df6b652c2' class='xr-section-summary'  title='Expand/collapse section'>Dimensions:</label><div class='xr-section-inline-details'><ul class='xr-dim-list'><li><span class='xr-has-index'>lat</span>: 90</li><li><span class='xr-has-index'>lon</span>: 180</li><li><span class='xr-has-index'>time</span>: 1718</li><li><span>nv</span>: 2</li></ul></div><div class='xr-section-details'></div></li><li class='xr-section-item'><input id='section-87c95551-f0a4-422b-bbfc-276cd1f1786a' class='xr-section-summary-in' type='checkbox'  checked><label for='section-87c95551-f0a4-422b-bbfc-276cd1f1786a' class='xr-section-summary' >Coordinates: <span>(3)</span></label><div class='xr-section-inline-details'></div><div class='xr-section-details'><ul class='xr-var-list'><li class='xr-var-item'><div class='xr-var-name'><span class='xr-has-index'>lat</span></div><div class='xr-var-dims'>(lat)</div><div class='xr-var-dtype'>float32</div><div class='xr-var-preview xr-preview'>-89.0 -87.0 -85.0 ... 87.0 89.0</div><input id='attrs-d1fa0e74-db74-4837-b1f8-b7a997318cdc' class='xr-var-attrs-in' type='checkbox' ><label for='attrs-d1fa0e74-db74-4837-b1f8-b7a997318cdc' title='Show/Hide attributes'><svg class='icon xr-icon-file-text2'><use xlink:href='#icon-file-text2'></use></svg></label><input id='data-e7a5aa50-f04d-405c-af51-bde0ff8453e3' class='xr-var-data-in' type='checkbox'><label for='data-e7a5aa50-f04d-405c-af51-bde0ff8453e3' title='Show/Hide data repr'><svg class='icon xr-icon-database'><use xlink:href='#icon-database'></use></svg></label><div class='xr-var-attrs'><dl class='xr-attrs'><dt><span>standard_name :</span></dt><dd>latitude</dd><dt><span>long_name :</span></dt><dd>Latitude</dd><dt><span>units :</span></dt><dd>degrees_north</dd></dl></div><div class='xr-var-data'><pre>array([-89., -87., -85., -83., -81., -79., -77., -75., -73., -71., -69., -67.,\n",
       "       -65., -63., -61., -59., -57., -55., -53., -51., -49., -47., -45., -43.,\n",
       "       -41., -39., -37., -35., -33., -31., -29., -27., -25., -23., -21., -19.,\n",
       "       -17., -15., -13., -11.,  -9.,  -7.,  -5.,  -3.,  -1.,   1.,   3.,   5.,\n",
       "         7.,   9.,  11.,  13.,  15.,  17.,  19.,  21.,  23.,  25.,  27.,  29.,\n",
       "        31.,  33.,  35.,  37.,  39.,  41.,  43.,  45.,  47.,  49.,  51.,  53.,\n",
       "        55.,  57.,  59.,  61.,  63.,  65.,  67.,  69.,  71.,  73.,  75.,  77.,\n",
       "        79.,  81.,  83.,  85.,  87.,  89.], dtype=float32)</pre></div></li><li class='xr-var-item'><div class='xr-var-name'><span class='xr-has-index'>lon</span></div><div class='xr-var-dims'>(lon)</div><div class='xr-var-dtype'>float32</div><div class='xr-var-preview xr-preview'>-179.0 -177.0 ... 177.0 179.0</div><input id='attrs-8732632c-e73e-4043-861f-a2e0e7906863' class='xr-var-attrs-in' type='checkbox' ><label for='attrs-8732632c-e73e-4043-861f-a2e0e7906863' title='Show/Hide attributes'><svg class='icon xr-icon-file-text2'><use xlink:href='#icon-file-text2'></use></svg></label><input id='data-f576e629-692c-4aa8-bb30-e0534575cd6b' class='xr-var-data-in' type='checkbox'><label for='data-f576e629-692c-4aa8-bb30-e0534575cd6b' title='Show/Hide data repr'><svg class='icon xr-icon-database'><use xlink:href='#icon-database'></use></svg></label><div class='xr-var-attrs'><dl class='xr-attrs'><dt><span>standard_name :</span></dt><dd>longitude</dd><dt><span>long_name :</span></dt><dd>Longitude</dd><dt><span>units :</span></dt><dd>degrees_east</dd></dl></div><div class='xr-var-data'><pre>array([-179., -177., -175., -173., -171., -169., -167., -165., -163., -161.,\n",
       "       -159., -157., -155., -153., -151., -149., -147., -145., -143., -141.,\n",
       "       -139., -137., -135., -133., -131., -129., -127., -125., -123., -121.,\n",
       "       -119., -117., -115., -113., -111., -109., -107., -105., -103., -101.,\n",
       "        -99.,  -97.,  -95.,  -93.,  -91.,  -89.,  -87.,  -85.,  -83.,  -81.,\n",
       "        -79.,  -77.,  -75.,  -73.,  -71.,  -69.,  -67.,  -65.,  -63.,  -61.,\n",
       "        -59.,  -57.,  -55.,  -53.,  -51.,  -49.,  -47.,  -45.,  -43.,  -41.,\n",
       "        -39.,  -37.,  -35.,  -33.,  -31.,  -29.,  -27.,  -25.,  -23.,  -21.,\n",
       "        -19.,  -17.,  -15.,  -13.,  -11.,   -9.,   -7.,   -5.,   -3.,   -1.,\n",
       "          1.,    3.,    5.,    7.,    9.,   11.,   13.,   15.,   17.,   19.,\n",
       "         21.,   23.,   25.,   27.,   29.,   31.,   33.,   35.,   37.,   39.,\n",
       "         41.,   43.,   45.,   47.,   49.,   51.,   53.,   55.,   57.,   59.,\n",
       "         61.,   63.,   65.,   67.,   69.,   71.,   73.,   75.,   77.,   79.,\n",
       "         81.,   83.,   85.,   87.,   89.,   91.,   93.,   95.,   97.,   99.,\n",
       "        101.,  103.,  105.,  107.,  109.,  111.,  113.,  115.,  117.,  119.,\n",
       "        121.,  123.,  125.,  127.,  129.,  131.,  133.,  135.,  137.,  139.,\n",
       "        141.,  143.,  145.,  147.,  149.,  151.,  153.,  155.,  157.,  159.,\n",
       "        161.,  163.,  165.,  167.,  169.,  171.,  173.,  175.,  177.,  179.],\n",
       "      dtype=float32)</pre></div></li><li class='xr-var-item'><div class='xr-var-name'><span class='xr-has-index'>time</span></div><div class='xr-var-dims'>(time)</div><div class='xr-var-dtype'>datetime64[ns]</div><div class='xr-var-preview xr-preview'>1880-01-15 ... 2023-02-15</div><input id='attrs-6d9a51ad-bba4-49e5-84d4-a3daf33f5865' class='xr-var-attrs-in' type='checkbox' ><label for='attrs-6d9a51ad-bba4-49e5-84d4-a3daf33f5865' title='Show/Hide attributes'><svg class='icon xr-icon-file-text2'><use xlink:href='#icon-file-text2'></use></svg></label><input id='data-513ea7ab-8d8b-43b6-ae9d-e117a6dd2d07' class='xr-var-data-in' type='checkbox'><label for='data-513ea7ab-8d8b-43b6-ae9d-e117a6dd2d07' title='Show/Hide data repr'><svg class='icon xr-icon-database'><use xlink:href='#icon-database'></use></svg></label><div class='xr-var-attrs'><dl class='xr-attrs'><dt><span>long_name :</span></dt><dd>time</dd><dt><span>bounds :</span></dt><dd>time_bnds</dd></dl></div><div class='xr-var-data'><pre>array([&#x27;1880-01-15T00:00:00.000000000&#x27;, &#x27;1880-02-15T00:00:00.000000000&#x27;,\n",
       "       &#x27;1880-03-15T00:00:00.000000000&#x27;, ..., &#x27;2022-12-15T00:00:00.000000000&#x27;,\n",
       "       &#x27;2023-01-15T00:00:00.000000000&#x27;, &#x27;2023-02-15T00:00:00.000000000&#x27;],\n",
       "      dtype=&#x27;datetime64[ns]&#x27;)</pre></div></li></ul></div></li><li class='xr-section-item'><input id='section-f235bde7-5084-4f94-bcba-5715efc43fc8' class='xr-section-summary-in' type='checkbox'  checked><label for='section-f235bde7-5084-4f94-bcba-5715efc43fc8' class='xr-section-summary' >Data variables: <span>(2)</span></label><div class='xr-section-inline-details'></div><div class='xr-section-details'><ul class='xr-var-list'><li class='xr-var-item'><div class='xr-var-name'><span>time_bnds</span></div><div class='xr-var-dims'>(time, nv)</div><div class='xr-var-dtype'>datetime64[ns]</div><div class='xr-var-preview xr-preview'>...</div><input id='attrs-c2248272-5e72-4ba1-a498-cc20498669eb' class='xr-var-attrs-in' type='checkbox' disabled><label for='attrs-c2248272-5e72-4ba1-a498-cc20498669eb' title='Show/Hide attributes'><svg class='icon xr-icon-file-text2'><use xlink:href='#icon-file-text2'></use></svg></label><input id='data-cbf5b560-eea3-4dac-835f-a62d387810da' class='xr-var-data-in' type='checkbox'><label for='data-cbf5b560-eea3-4dac-835f-a62d387810da' title='Show/Hide data repr'><svg class='icon xr-icon-database'><use xlink:href='#icon-database'></use></svg></label><div class='xr-var-attrs'><dl class='xr-attrs'></dl></div><div class='xr-var-data'><pre>[3436 values with dtype=datetime64[ns]]</pre></div></li><li class='xr-var-item'><div class='xr-var-name'><span>tempanomaly</span></div><div class='xr-var-dims'>(time, lat, lon)</div><div class='xr-var-dtype'>float32</div><div class='xr-var-preview xr-preview'>...</div><input id='attrs-71b7f6ac-e150-4c64-b591-2f7e5e143e52' class='xr-var-attrs-in' type='checkbox' ><label for='attrs-71b7f6ac-e150-4c64-b591-2f7e5e143e52' title='Show/Hide attributes'><svg class='icon xr-icon-file-text2'><use xlink:href='#icon-file-text2'></use></svg></label><input id='data-4b39c407-6ffe-4518-b16e-79ac7d0be1be' class='xr-var-data-in' type='checkbox'><label for='data-4b39c407-6ffe-4518-b16e-79ac7d0be1be' title='Show/Hide data repr'><svg class='icon xr-icon-database'><use xlink:href='#icon-database'></use></svg></label><div class='xr-var-attrs'><dl class='xr-attrs'><dt><span>long_name :</span></dt><dd>Surface temperature anomaly</dd><dt><span>units :</span></dt><dd>K</dd><dt><span>cell_methods :</span></dt><dd>time: mean</dd></dl></div><div class='xr-var-data'><pre>[27831600 values with dtype=float32]</pre></div></li></ul></div></li><li class='xr-section-item'><input id='section-e7537696-fdd0-48a9-984d-e8c2fa35e426' class='xr-section-summary-in' type='checkbox'  ><label for='section-e7537696-fdd0-48a9-984d-e8c2fa35e426' class='xr-section-summary' >Indexes: <span>(3)</span></label><div class='xr-section-inline-details'></div><div class='xr-section-details'><ul class='xr-var-list'><li class='xr-var-item'><div class='xr-index-name'><div>lat</div></div><div class='xr-index-preview'>PandasIndex</div><div></div><input id='index-24c9a509-0e16-4db0-bad7-7aa2143bce13' class='xr-index-data-in' type='checkbox'/><label for='index-24c9a509-0e16-4db0-bad7-7aa2143bce13' title='Show/Hide index repr'><svg class='icon xr-icon-database'><use xlink:href='#icon-database'></use></svg></label><div class='xr-index-data'><pre>PandasIndex(Index([-89.0, -87.0, -85.0, -83.0, -81.0, -79.0, -77.0, -75.0, -73.0, -71.0,\n",
       "       -69.0, -67.0, -65.0, -63.0, -61.0, -59.0, -57.0, -55.0, -53.0, -51.0,\n",
       "       -49.0, -47.0, -45.0, -43.0, -41.0, -39.0, -37.0, -35.0, -33.0, -31.0,\n",
       "       -29.0, -27.0, -25.0, -23.0, -21.0, -19.0, -17.0, -15.0, -13.0, -11.0,\n",
       "        -9.0,  -7.0,  -5.0,  -3.0,  -1.0,   1.0,   3.0,   5.0,   7.0,   9.0,\n",
       "        11.0,  13.0,  15.0,  17.0,  19.0,  21.0,  23.0,  25.0,  27.0,  29.0,\n",
       "        31.0,  33.0,  35.0,  37.0,  39.0,  41.0,  43.0,  45.0,  47.0,  49.0,\n",
       "        51.0,  53.0,  55.0,  57.0,  59.0,  61.0,  63.0,  65.0,  67.0,  69.0,\n",
       "        71.0,  73.0,  75.0,  77.0,  79.0,  81.0,  83.0,  85.0,  87.0,  89.0],\n",
       "      dtype=&#x27;float32&#x27;, name=&#x27;lat&#x27;))</pre></div></li><li class='xr-var-item'><div class='xr-index-name'><div>lon</div></div><div class='xr-index-preview'>PandasIndex</div><div></div><input id='index-27710c4c-f653-4be4-82ba-794f6f660a61' class='xr-index-data-in' type='checkbox'/><label for='index-27710c4c-f653-4be4-82ba-794f6f660a61' title='Show/Hide index repr'><svg class='icon xr-icon-database'><use xlink:href='#icon-database'></use></svg></label><div class='xr-index-data'><pre>PandasIndex(Index([-179.0, -177.0, -175.0, -173.0, -171.0, -169.0, -167.0, -165.0, -163.0,\n",
       "       -161.0,\n",
       "       ...\n",
       "        161.0,  163.0,  165.0,  167.0,  169.0,  171.0,  173.0,  175.0,  177.0,\n",
       "        179.0],\n",
       "      dtype=&#x27;float32&#x27;, name=&#x27;lon&#x27;, length=180))</pre></div></li><li class='xr-var-item'><div class='xr-index-name'><div>time</div></div><div class='xr-index-preview'>PandasIndex</div><div></div><input id='index-2a99df89-7c0b-490c-8905-913a84f08d14' class='xr-index-data-in' type='checkbox'/><label for='index-2a99df89-7c0b-490c-8905-913a84f08d14' title='Show/Hide index repr'><svg class='icon xr-icon-database'><use xlink:href='#icon-database'></use></svg></label><div class='xr-index-data'><pre>PandasIndex(DatetimeIndex([&#x27;1880-01-15&#x27;, &#x27;1880-02-15&#x27;, &#x27;1880-03-15&#x27;, &#x27;1880-04-15&#x27;,\n",
       "               &#x27;1880-05-15&#x27;, &#x27;1880-06-15&#x27;, &#x27;1880-07-15&#x27;, &#x27;1880-08-15&#x27;,\n",
       "               &#x27;1880-09-15&#x27;, &#x27;1880-10-15&#x27;,\n",
       "               ...\n",
       "               &#x27;2022-05-15&#x27;, &#x27;2022-06-15&#x27;, &#x27;2022-07-15&#x27;, &#x27;2022-08-15&#x27;,\n",
       "               &#x27;2022-09-15&#x27;, &#x27;2022-10-15&#x27;, &#x27;2022-11-15&#x27;, &#x27;2022-12-15&#x27;,\n",
       "               &#x27;2023-01-15&#x27;, &#x27;2023-02-15&#x27;],\n",
       "              dtype=&#x27;datetime64[ns]&#x27;, name=&#x27;time&#x27;, length=1718, freq=None))</pre></div></li></ul></div></li><li class='xr-section-item'><input id='section-37ba2199-dfb0-418d-9dcc-eb6f0847f9b7' class='xr-section-summary-in' type='checkbox'  checked><label for='section-37ba2199-dfb0-418d-9dcc-eb6f0847f9b7' class='xr-section-summary' >Attributes: <span>(5)</span></label><div class='xr-section-inline-details'></div><div class='xr-section-details'><dl class='xr-attrs'><dt><span>title :</span></dt><dd>GISTEMP Surface Temperature Analysis</dd><dt><span>institution :</span></dt><dd>NASA Goddard Institute for Space Studies</dd><dt><span>source :</span></dt><dd>http://data.giss.nasa.gov/gistemp/</dd><dt><span>Conventions :</span></dt><dd>CF-1.6</dd><dt><span>history :</span></dt><dd>Created 2023-03-12 11:33:56 by SBBX_to_nc 2.0 - ILAND=1200, IOCEAN=NCDC/ER5, Base: 1951-1980</dd></dl></div></li></ul></div></div>"
      ],
      "text/plain": [
       "<xarray.Dataset>\n",
       "Dimensions:      (lat: 90, lon: 180, time: 1718, nv: 2)\n",
       "Coordinates:\n",
       "  * lat          (lat) float32 -89.0 -87.0 -85.0 -83.0 ... 83.0 85.0 87.0 89.0\n",
       "  * lon          (lon) float32 -179.0 -177.0 -175.0 -173.0 ... 175.0 177.0 179.0\n",
       "  * time         (time) datetime64[ns] 1880-01-15 1880-02-15 ... 2023-02-15\n",
       "Dimensions without coordinates: nv\n",
       "Data variables:\n",
       "    time_bnds    (time, nv) datetime64[ns] ...\n",
       "    tempanomaly  (time, lat, lon) float32 ...\n",
       "Attributes:\n",
       "    title:        GISTEMP Surface Temperature Analysis\n",
       "    institution:  NASA Goddard Institute for Space Studies\n",
       "    source:       http://data.giss.nasa.gov/gistemp/\n",
       "    Conventions:  CF-1.6\n",
       "    history:      Created 2023-03-12 11:33:56 by SBBX_to_nc 2.0 - ILAND=1200,..."
      ]
     },
     "execution_count": 23,
     "metadata": {},
     "output_type": "execute_result"
    }
   ],
   "source": [
    "gz = gzip.open(file_paths_nc[0], 'rb')\n",
    "ds = xr.open_dataset(gz)"
   ]
  },
  {
   "cell_type": "code",
   "execution_count": null,
   "id": "35b432ee-5e83-4a04-be14-34430f834177",
   "metadata": {},
   "outputs": [],
   "source": []
  }
 ],
 "metadata": {
  "interpreter": {
   "hash": "dadb38d82647d96d5382ce5812a5d64c7d4d3210fd59b769fd19e4966085dba7"
  },
  "kernelspec": {
   "display_name": "Python 3 (ipykernel)",
   "language": "python",
   "name": "python3"
  },
  "language_info": {
   "codemirror_mode": {
    "name": "ipython",
    "version": 3
   },
   "file_extension": ".py",
   "mimetype": "text/x-python",
   "name": "python",
   "nbconvert_exporter": "python",
   "pygments_lexer": "ipython3",
   "version": "3.10.10"
  },
  "toc-autonumbering": false,
  "toc-showcode": true,
  "toc-showmarkdowntxt": false,
  "toc-showtags": false
 },
 "nbformat": 4,
 "nbformat_minor": 5
}
