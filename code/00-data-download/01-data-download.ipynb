{
 "cells": [
  {
   "cell_type": "markdown",
   "id": "0bd71ea4",
   "metadata": {
    "tags": []
   },
   "source": [
    "<a id='dd'></a>\n",
    "# data download"
   ]
  },
  {
   "cell_type": "markdown",
   "id": "aa12904f-8de8-49d3-aa1c-639ad30557a1",
   "metadata": {
    "tags": []
   },
   "source": [
    "[download](#dd-download)  \n",
    "[catalog](#dd-catalog)  \n",
    "[paths](#dd-paths)   "
   ]
  },
  {
   "cell_type": "code",
   "execution_count": 1,
   "id": "9ef6ce81-9e49-443e-aaa3-34dcd88b8257",
   "metadata": {
    "tags": []
   },
   "outputs": [],
   "source": [
    "project_id = 'gta'\n",
    "#project_id = 'ea'"
   ]
  },
  {
   "cell_type": "markdown",
   "id": "ad46782b-7efd-41e6-ae0a-1967ea38b394",
   "metadata": {
    "tags": []
   },
   "source": [
    "## libraries"
   ]
  },
  {
   "cell_type": "code",
   "execution_count": 2,
   "id": "ed794b8b-d867-45cf-818a-86835b0c7a74",
   "metadata": {
    "tags": []
   },
   "outputs": [],
   "source": [
    "import os\n",
    "import shutil\n",
    "import glob\n",
    "import pooch\n",
    "import earthpy as et\n",
    "import pandas as pd\n",
    "import xarray as xr"
   ]
  },
  {
   "cell_type": "code",
   "execution_count": 3,
   "id": "501ffbdb-4af1-4702-b651-b1d59d0a1cdd",
   "metadata": {
    "tags": []
   },
   "outputs": [],
   "source": [
    "import warnings # to ignore warnings\n",
    "from functools import partial # for shorter traceback error messages\n",
    "from IPython.core.interactiveshell import InteractiveShell # to automtically show cell output"
   ]
  },
  {
   "cell_type": "markdown",
   "id": "f947f68e-6940-4519-b91c-88dca40dccf8",
   "metadata": {
    "tags": [],
    "toc-hr-collapsed": true
   },
   "source": [
    "### parameters"
   ]
  },
  {
   "cell_type": "code",
   "execution_count": 4,
   "id": "74427bc8-7a75-4a4d-9e8f-5f26024d076d",
   "metadata": {
    "tags": []
   },
   "outputs": [],
   "source": [
    "# ignore warnings \n",
    "warnings.filterwarnings('ignore')"
   ]
  },
  {
   "cell_type": "code",
   "execution_count": 5,
   "id": "46a88ecc-e7d0-4879-a683-328932ace5cd",
   "metadata": {
    "tags": []
   },
   "outputs": [],
   "source": [
    "# shorter traceback error messages\n",
    "get_ipython().showtraceback = partial(get_ipython().showtraceback,exception_only=True)"
   ]
  },
  {
   "cell_type": "code",
   "execution_count": 6,
   "id": "d9408afe-c39a-4d6e-aef4-a04663dba7b2",
   "metadata": {
    "tags": []
   },
   "outputs": [],
   "source": [
    "# shows result of cell without needing print\n",
    "InteractiveShell.ast_node_interactivity = \"last_expr_or_assign\""
   ]
  },
  {
   "cell_type": "markdown",
   "id": "706952ec-335c-4081-950f-04cfa14127a0",
   "metadata": {
    "toc-hr-collapsed": true
   },
   "source": [
    "## directories"
   ]
  },
  {
   "cell_type": "code",
   "execution_count": 7,
   "id": "f44ec88f-c532-4448-a1fa-2a093a81d7bb",
   "metadata": {
    "tags": []
   },
   "outputs": [
    {
     "data": {
      "text/plain": [
       "'/Users/rkforest/gta/data'"
      ]
     },
     "execution_count": 7,
     "metadata": {},
     "output_type": "execute_result"
    }
   ],
   "source": [
    "home_dir = os.path.expanduser(\"~\")\n",
    "project_dir = os.path.join(home_dir, project_id )\n",
    "data_dir = os.path.join(project_dir, 'data')"
   ]
  },
  {
   "cell_type": "code",
   "execution_count": 8,
   "id": "246a02f2-8420-433e-8321-a7930c3be42b",
   "metadata": {
    "tags": []
   },
   "outputs": [
    {
     "data": {
      "text/plain": [
       "'/Users/rkforest/gta/data/raw-data'"
      ]
     },
     "execution_count": 8,
     "metadata": {},
     "output_type": "execute_result"
    }
   ],
   "source": [
    "if project_id == 'ea':\n",
    "    raw_data_dir = os.path.join(home_dir,'earth-analytics','data','earthpy-downloads')\n",
    "else:\n",
    "    raw_data_dir = os.path.join(project_dir, data_dir, 'raw-data')\n",
    "raw_data_dir"
   ]
  },
  {
   "cell_type": "code",
   "execution_count": 9,
   "id": "cf150fc3-0120-46be-9453-e1aa8fc378b9",
   "metadata": {
    "tags": []
   },
   "outputs": [
    {
     "data": {
      "text/plain": [
       "PosixPath('/Users/rkforest/Library/Caches/gta')"
      ]
     },
     "execution_count": 9,
     "metadata": {},
     "output_type": "execute_result"
    }
   ],
   "source": [
    "pooch_cache_dir = pooch.os_cache(project_id)"
   ]
  },
  {
   "cell_type": "code",
   "execution_count": 10,
   "id": "72569bb9-1536-4578-80d5-a772821ca5d6",
   "metadata": {
    "tags": []
   },
   "outputs": [],
   "source": [
    "def create_directory(directory_name):\n",
    "    if not os.path.exists(directory_name):\n",
    "        print('Created new directory: ', directory_name)\n",
    "        os.mkdir(directory_name)"
   ]
  },
  {
   "cell_type": "code",
   "execution_count": 11,
   "id": "4056cc93-26c8-4c85-9e9f-741f03cff3a4",
   "metadata": {
    "tags": []
   },
   "outputs": [],
   "source": [
    "create_directory(project_dir)\n",
    "create_directory(data_dir)\n",
    "create_directory(raw_data_dir)"
   ]
  },
  {
   "cell_type": "code",
   "execution_count": 12,
   "id": "a1c58332-3f14-44a0-ad64-168854ec13f0",
   "metadata": {
    "tags": []
   },
   "outputs": [
    {
     "data": {
      "text/plain": [
       "'/Users/rkforest/gta'"
      ]
     },
     "execution_count": 12,
     "metadata": {},
     "output_type": "execute_result"
    }
   ],
   "source": [
    "os.chdir(project_dir)\n",
    "os.getcwd()"
   ]
  },
  {
   "cell_type": "markdown",
   "id": "c45e3ff3-1e5e-4063-bea0-dfe552afba17",
   "metadata": {},
   "source": [
    "<a id='env-download'></a>\n",
    "## download"
   ]
  },
  {
   "cell_type": "markdown",
   "id": "eb69d9e6-1c1e-4864-8786-a2f38cb97996",
   "metadata": {},
   "source": [
    "[Return to Start of Notebook](#env)  "
   ]
  },
  {
   "cell_type": "markdown",
   "id": "13ab5591-e739-4b80-ba1a-654d056ccc14",
   "metadata": {},
   "source": [
    "### global temperature anomaly data"
   ]
  },
  {
   "cell_type": "code",
   "execution_count": 13,
   "id": "653e3561-c0ee-455d-98c2-bff8b77bdfbe",
   "metadata": {
    "tags": []
   },
   "outputs": [],
   "source": [
    "if project_id == 'gta':  \n",
    "    \n",
    "    file_names_gta = [\"gistemp1200_GHCNv4_ERSSTv5.nc.gz\",\n",
    "                      \"GLB.Ts+dSST.csv\",\n",
    "                      \"NH.Ts+dSST.csv\",\n",
    "                      \"SH.Ts+dSST.csv\",\n",
    "                      \"ZonAnn.Ts+dSST.csv\"] \n",
    "    \n",
    "    hash_dict = {}\n",
    "    for file_name in file_names_gta:\n",
    "        hash_dict[file_name] = pooch.file_hash(os.path.join(pooch_cache_dir, file_name))\n",
    "    \n",
    "    gta_pooch = pooch.create(\n",
    "        path=pooch_cache_dir,\n",
    "        base_url=\"https://data.giss.nasa.gov/gistemp/tabledata_v4/\",\n",
    "        registry=hash_dict,\n",
    "        urls={file_names_gta[0]:\"https://data.giss.nasa.gov/gistemp/tabledata_v4/\"})\n",
    "    \n",
    "    for index, file_name in enumerate(file_names_gta):   \n",
    "        if index == 0:\n",
    "            cache_file_path = gta_pooch.fetch(file_name,processor=pooch.Decompress())   \n",
    "            save_file_path = os.path.join(raw_data_dir, file_name).rstrip('.gz')\n",
    "        else:\n",
    "            cache_file_path = gta_pooch.fetch(file_name)\n",
    "            save_file_path = os.path.join(raw_data_dir, file_name)\n",
    "           \n",
    "        if (not os.path.exists(save_file_path)) or\\\n",
    "           (pooch.file_hash(cache_file_path) != pooch.file_hash(save_file_path)):\n",
    "            shutil.copy2(cache_file_path, save_file_path)\n"
   ]
  },
  {
   "cell_type": "markdown",
   "id": "c1a19943-0b8d-46f1-856e-af6d1a45f202",
   "metadata": {
    "tags": [],
    "toc-hr-collapsed": true
   },
   "source": [
    "<a id='env-paths'></a>\n",
    "## paths"
   ]
  },
  {
   "cell_type": "markdown",
   "id": "f554fd70-1443-4b7b-af6b-846119bea1e4",
   "metadata": {},
   "source": [
    "[Return to Start of Notebook](#env)  "
   ]
  },
  {
   "cell_type": "code",
   "execution_count": 14,
   "id": "80f6f24e-2b2c-46a6-951b-2c50a50e91a7",
   "metadata": {
    "tags": []
   },
   "outputs": [
    {
     "data": {
      "text/plain": [
       "['/Users/rkforest/gta/data/raw-data/gistemp1200_GHCNv4_ERSSTv5.nc']"
      ]
     },
     "execution_count": 14,
     "metadata": {},
     "output_type": "execute_result"
    }
   ],
   "source": [
    "raw_data_paths_nc  =  sorted(glob.glob(os.path.join(raw_data_dir, '*.nc*')))\n",
    "raw_data_paths_nc"
   ]
  },
  {
   "cell_type": "code",
   "execution_count": 15,
   "id": "3d4a2e3b-a496-4979-a02e-2665f5ef36ca",
   "metadata": {
    "tags": []
   },
   "outputs": [
    {
     "data": {
      "text/plain": [
       "['/Users/rkforest/gta/data/raw-data/GLB.Ts+dSST.csv',\n",
       " '/Users/rkforest/gta/data/raw-data/NH.Ts+dSST.csv',\n",
       " '/Users/rkforest/gta/data/raw-data/SH.Ts+dSST.csv',\n",
       " '/Users/rkforest/gta/data/raw-data/ZonAnn.Ts+dSST.csv']"
      ]
     },
     "execution_count": 15,
     "metadata": {},
     "output_type": "execute_result"
    }
   ],
   "source": [
    "raw_data_paths_csv =  sorted(glob.glob(os.path.join(raw_data_dir, '*dSST.csv')))\n",
    "raw_data_paths_csv"
   ]
  },
  {
   "cell_type": "markdown",
   "id": "af6eec9c-676f-430f-b6e6-8f79d3f19a4f",
   "metadata": {
    "tags": [],
    "toc-hr-collapsed": true
   },
   "source": [
    "<a id='env-atalog'></a>\n",
    "## catalog"
   ]
  },
  {
   "cell_type": "markdown",
   "id": "72d8f80d-41eb-49e9-a882-f453ac8e9126",
   "metadata": {},
   "source": [
    "[Return to Start of Notebook](#env)  "
   ]
  },
  {
   "cell_type": "code",
   "execution_count": 16,
   "id": "a026f392-46d7-41ed-907e-e150aa72b462",
   "metadata": {},
   "outputs": [
    {
     "data": {
      "text/html": [
       "<div>\n",
       "<style scoped>\n",
       "    .dataframe tbody tr th:only-of-type {\n",
       "        vertical-align: middle;\n",
       "    }\n",
       "\n",
       "    .dataframe tbody tr th {\n",
       "        vertical-align: top;\n",
       "    }\n",
       "\n",
       "    .dataframe thead th {\n",
       "        text-align: right;\n",
       "    }\n",
       "</style>\n",
       "<table border=\"1\" class=\"dataframe\">\n",
       "  <thead>\n",
       "    <tr style=\"text-align: right;\">\n",
       "      <th></th>\n",
       "      <th>dimensions</th>\n",
       "    </tr>\n",
       "    <tr>\n",
       "      <th>file</th>\n",
       "      <th></th>\n",
       "    </tr>\n",
       "  </thead>\n",
       "  <tbody>\n",
       "    <tr>\n",
       "      <th>gistemp1200_GHCNv4_ERSSTv5.nc</th>\n",
       "      <td>(time, lat, lon)</td>\n",
       "    </tr>\n",
       "  </tbody>\n",
       "</table>\n",
       "</div>"
      ],
      "text/plain": [
       "                                     dimensions\n",
       "file                                           \n",
       "gistemp1200_GHCNv4_ERSSTv5.nc  (time, lat, lon)"
      ]
     },
     "execution_count": 16,
     "metadata": {},
     "output_type": "execute_result"
    }
   ],
   "source": [
    "files = []\n",
    "dims = []\n",
    "for path in raw_data_paths_nc:\n",
    "    file_name = os.path.basename(path)\n",
    "    files.append(file_name)    \n",
    "    ds = xr.open_dataset(path)\n",
    "    da = ds['tempanomaly']\n",
    "    dims.append(da.dims) \n",
    "    \n",
    "#    data = {'directory' : raw_data_dir,\n",
    "#            'dimensions' : dims   \n",
    "#    }  \n",
    "\n",
    "df = pd.DataFrame(index = files, \n",
    "                  data = {'dimensions':dims}  \n",
    "                 )\n",
    "\n",
    "df.index.name = 'file'\n",
    "df"
   ]
  },
  {
   "cell_type": "code",
   "execution_count": 17,
   "id": "2ba3c2b3-df76-4500-906a-f384fc178d9d",
   "metadata": {
    "tags": []
   },
   "outputs": [
    {
     "data": {
      "text/html": [
       "<div>\n",
       "<style scoped>\n",
       "    .dataframe tbody tr th:only-of-type {\n",
       "        vertical-align: middle;\n",
       "    }\n",
       "\n",
       "    .dataframe tbody tr th {\n",
       "        vertical-align: top;\n",
       "    }\n",
       "\n",
       "    .dataframe thead th {\n",
       "        text-align: right;\n",
       "    }\n",
       "</style>\n",
       "<table border=\"1\" class=\"dataframe\">\n",
       "  <thead>\n",
       "    <tr style=\"text-align: right;\">\n",
       "      <th></th>\n",
       "      <th>rows</th>\n",
       "      <th>cols</th>\n",
       "    </tr>\n",
       "    <tr>\n",
       "      <th>file</th>\n",
       "      <th></th>\n",
       "      <th></th>\n",
       "    </tr>\n",
       "  </thead>\n",
       "  <tbody>\n",
       "    <tr>\n",
       "      <th>GLB.Ts+dSST.csv</th>\n",
       "      <td>144</td>\n",
       "      <td>19</td>\n",
       "    </tr>\n",
       "    <tr>\n",
       "      <th>NH.Ts+dSST.csv</th>\n",
       "      <td>144</td>\n",
       "      <td>19</td>\n",
       "    </tr>\n",
       "    <tr>\n",
       "      <th>SH.Ts+dSST.csv</th>\n",
       "      <td>144</td>\n",
       "      <td>19</td>\n",
       "    </tr>\n",
       "    <tr>\n",
       "      <th>ZonAnn.Ts+dSST.csv</th>\n",
       "      <td>143</td>\n",
       "      <td>15</td>\n",
       "    </tr>\n",
       "  </tbody>\n",
       "</table>\n",
       "</div>"
      ],
      "text/plain": [
       "                    rows  cols\n",
       "file                          \n",
       "GLB.Ts+dSST.csv      144    19\n",
       "NH.Ts+dSST.csv       144    19\n",
       "SH.Ts+dSST.csv       144    19\n",
       "ZonAnn.Ts+dSST.csv   143    15"
      ]
     },
     "execution_count": 17,
     "metadata": {},
     "output_type": "execute_result"
    }
   ],
   "source": [
    "files=[]\n",
    "rows=[]\n",
    "cols=[]\n",
    "\n",
    "for idx, path in enumerate(raw_data_paths_csv):\n",
    "    file_name = os.path.basename(path)\n",
    "    files.append(file_name)    \n",
    "    if idx == 3:\n",
    "        df = pd.read_csv(path, skiprows=0)\n",
    "    else:\n",
    "        df = pd.read_csv(path, skiprows=1)   \n",
    "    rows.append(df.shape[0])\n",
    "    cols.append(df.shape[1])\n",
    "    \n",
    "df = pd.DataFrame(index=files,\n",
    "                  data={'rows': rows,'cols': cols}\n",
    "                 )\n",
    "df.index.name = 'file'\n",
    "df"
   ]
  },
  {
   "cell_type": "code",
   "execution_count": null,
   "id": "967275e8-6ccc-4dba-a07e-e94ff34c09fc",
   "metadata": {},
   "outputs": [],
   "source": []
  }
 ],
 "metadata": {
  "interpreter": {
   "hash": "dadb38d82647d96d5382ce5812a5d64c7d4d3210fd59b769fd19e4966085dba7"
  },
  "kernelspec": {
   "display_name": "Python 3 (ipykernel)",
   "language": "python",
   "name": "python3"
  },
  "language_info": {
   "codemirror_mode": {
    "name": "ipython",
    "version": 3
   },
   "file_extension": ".py",
   "mimetype": "text/x-python",
   "name": "python",
   "nbconvert_exporter": "python",
   "pygments_lexer": "ipython3",
   "version": "3.10.10"
  },
  "toc-autonumbering": false,
  "toc-showcode": true,
  "toc-showmarkdowntxt": false,
  "toc-showtags": false
 },
 "nbformat": 4,
 "nbformat_minor": 5
}
