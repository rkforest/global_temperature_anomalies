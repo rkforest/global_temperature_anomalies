{
 "cells": [
  {
   "cell_type": "markdown",
   "id": "0bd71ea4",
   "metadata": {
    "tags": []
   },
   "source": [
    "<a id='dt'></a>\n",
    "# data transformation"
   ]
  },
  {
   "cell_type": "markdown",
   "id": "aa12904f-8de8-49d3-aa1c-639ad30557a1",
   "metadata": {
    "tags": []
   },
   "source": [
    "[libraries](#dt-libraries)  \n",
    "[parameters](#dt-parameters)  \n",
    "[directories](#dt-directories)  \n",
    "[paths](#dt-paths)  \n",
    "[read](#dt-read)  \n",
    "[concatenate](#dt-concatenate)  \n",
    "[reset index](#dt-resetindex)  \n",
    "[reshape](#dt-reshape)  \n",
    "[columns](#dt-columns)  \n",
    "[export](#dt-export)  "
   ]
  },
  {
   "cell_type": "markdown",
   "id": "ad46782b-7efd-41e6-ae0a-1967ea38b394",
   "metadata": {
    "tags": [],
    "toc-hr-collapsed": true
   },
   "source": [
    "<a id='dt-libraries'></a>\n",
    "## libraries"
   ]
  },
  {
   "cell_type": "markdown",
   "id": "ae5d669a-fd39-4fa9-9c25-c3c59206cba7",
   "metadata": {},
   "source": [
    "[Return to Start of Notebook](#dt)  "
   ]
  },
  {
   "cell_type": "code",
   "execution_count": 1,
   "id": "ed794b8b-d867-45cf-818a-86835b0c7a74",
   "metadata": {
    "tags": []
   },
   "outputs": [],
   "source": [
    "import os\n",
    "import glob\n",
    "#import gzip\n",
    "import pandas as pd\n",
    "#import xarray as xr"
   ]
  },
  {
   "cell_type": "code",
   "execution_count": 2,
   "id": "501ffbdb-4af1-4702-b651-b1d59d0a1cdd",
   "metadata": {
    "tags": []
   },
   "outputs": [],
   "source": [
    "import warnings # to ignore warnings\n",
    "from functools import partial # for shorter traceback error messages\n",
    "from IPython.core.interactiveshell import InteractiveShell # to automtically show cell output"
   ]
  },
  {
   "cell_type": "code",
   "execution_count": 3,
   "id": "e8586081-b9d7-4497-9c48-71564e0d08fc",
   "metadata": {},
   "outputs": [],
   "source": [
    "#from data_transformation import read_csv\n",
    "#from data_transformation import reshape_raw_data"
   ]
  },
  {
   "cell_type": "markdown",
   "id": "f947f68e-6940-4519-b91c-88dca40dccf8",
   "metadata": {
    "tags": [],
    "toc-hr-collapsed": true
   },
   "source": [
    "<a id='dt-parameters'></a>\n",
    "## parameters"
   ]
  },
  {
   "cell_type": "markdown",
   "id": "384b2bf9-3e96-41bc-8cdd-a7e4ea561b44",
   "metadata": {},
   "source": [
    "[Return to Start of Notebook](#dt)  "
   ]
  },
  {
   "cell_type": "code",
   "execution_count": 4,
   "id": "74427bc8-7a75-4a4d-9e8f-5f26024d076d",
   "metadata": {
    "tags": []
   },
   "outputs": [],
   "source": [
    "# ignore warnings \n",
    "warnings.filterwarnings('ignore')"
   ]
  },
  {
   "cell_type": "code",
   "execution_count": 5,
   "id": "46a88ecc-e7d0-4879-a683-328932ace5cd",
   "metadata": {
    "tags": []
   },
   "outputs": [],
   "source": [
    "# shorter traceback error messages\n",
    "get_ipython().showtraceback = partial(get_ipython().showtraceback,exception_only=True)"
   ]
  },
  {
   "cell_type": "code",
   "execution_count": 6,
   "id": "d9408afe-c39a-4d6e-aef4-a04663dba7b2",
   "metadata": {
    "tags": []
   },
   "outputs": [],
   "source": [
    "# shows result of cell without needing print\n",
    "InteractiveShell.ast_node_interactivity = \"last_expr_or_assign\""
   ]
  },
  {
   "cell_type": "markdown",
   "id": "706952ec-335c-4081-950f-04cfa14127a0",
   "metadata": {
    "toc-hr-collapsed": true
   },
   "source": [
    "<a id='dt-directories'></a>\n",
    "## directories"
   ]
  },
  {
   "cell_type": "markdown",
   "id": "bfc8d282-9956-49b9-b167-164a7a693587",
   "metadata": {},
   "source": [
    "[Return to Start of Notebook](#dt)  "
   ]
  },
  {
   "cell_type": "code",
   "execution_count": 7,
   "id": "9ef6ce81-9e49-443e-aaa3-34dcd88b8257",
   "metadata": {
    "tags": []
   },
   "outputs": [
    {
     "data": {
      "text/plain": [
       "'/Users/rkforest/kr/project/data/transformed-data'"
      ]
     },
     "execution_count": 7,
     "metadata": {},
     "output_type": "execute_result"
    }
   ],
   "source": [
    "project_id = 'kr'\n",
    "home_dir = os.path.expanduser(\"~\")\n",
    "project_dir = os.path.join(home_dir, project_id,  'project')\n",
    "data_dir = os.path.join(project_dir, 'data')\n",
    "raw_data_dir = os.path.join(data_dir, 'raw-data')\n",
    "transformed_data_dir = os.path.join(data_dir, 'transformed-data')"
   ]
  },
  {
   "cell_type": "code",
   "execution_count": 8,
   "id": "72569bb9-1536-4578-80d5-a772821ca5d6",
   "metadata": {
    "tags": []
   },
   "outputs": [],
   "source": [
    "def create_directory(directory_name):\n",
    "    if not os.path.exists(directory_name):\n",
    "        print('Created new directory: ', directory_name)\n",
    "        os.mkdir(directory_name)"
   ]
  },
  {
   "cell_type": "code",
   "execution_count": 9,
   "id": "4056cc93-26c8-4c85-9e9f-741f03cff3a4",
   "metadata": {
    "tags": []
   },
   "outputs": [],
   "source": [
    "create_directory(transformed_data_dir)"
   ]
  },
  {
   "cell_type": "code",
   "execution_count": 10,
   "id": "a1c58332-3f14-44a0-ad64-168854ec13f0",
   "metadata": {
    "tags": []
   },
   "outputs": [
    {
     "data": {
      "text/plain": [
       "'/Users/rkforest/kr/project'"
      ]
     },
     "execution_count": 10,
     "metadata": {},
     "output_type": "execute_result"
    }
   ],
   "source": [
    "os.chdir(project_dir)\n",
    "os.getcwd()"
   ]
  },
  {
   "cell_type": "markdown",
   "id": "3dd5b15b-a6c1-43d8-8669-4681025ab294",
   "metadata": {
    "tags": [],
    "toc-hr-collapsed": true
   },
   "source": [
    "<a id='dt-paths'></a>\n",
    "## paths"
   ]
  },
  {
   "cell_type": "markdown",
   "id": "3aa8291a-a70c-40bd-a57f-182639557dd3",
   "metadata": {},
   "source": [
    "[Return to Start of Notebook](#dt)  "
   ]
  },
  {
   "cell_type": "code",
   "execution_count": 11,
   "id": "3d4a2e3b-a496-4979-a02e-2665f5ef36ca",
   "metadata": {
    "tags": []
   },
   "outputs": [
    {
     "name": "stdout",
     "output_type": "stream",
     "text": [
      "/Users/rkforest/kr/project/data/raw-data/GLB.Ts+dSST.csv\n",
      "/Users/rkforest/kr/project/data/raw-data/NH.Ts+dSST.csv\n",
      "/Users/rkforest/kr/project/data/raw-data/SH.Ts+dSST.csv\n",
      "/Users/rkforest/kr/project/data/raw-data/ZonAnn.Ts+dSST.csv\n"
     ]
    }
   ],
   "source": [
    "file_paths_csv =  sorted(glob.glob(os.path.join(raw_data_dir, '*.csv')))\n",
    "[print(path) for path in file_paths_csv];"
   ]
  },
  {
   "cell_type": "code",
   "execution_count": 12,
   "id": "80f6f24e-2b2c-46a6-951b-2c50a50e91a7",
   "metadata": {
    "tags": []
   },
   "outputs": [
    {
     "name": "stdout",
     "output_type": "stream",
     "text": [
      "/Users/rkforest/kr/project/data/raw-data/gistemp1200_GHCNv4_ERSSTv5.nc\n"
     ]
    }
   ],
   "source": [
    "file_paths_nc  =  sorted(glob.glob(os.path.join(raw_data_dir, '*.nc')))\n",
    "[print(path) for path in file_paths_nc];"
   ]
  },
  {
   "cell_type": "markdown",
   "id": "133a293a-788a-4d0f-be9d-1a18599aa7ba",
   "metadata": {
    "tags": [],
    "toc-hr-collapsed": true
   },
   "source": [
    "<a id='dt-read'></a>\n",
    "## read"
   ]
  },
  {
   "cell_type": "markdown",
   "id": "9023ba91-edcd-4aa6-aa8e-42647b3590ca",
   "metadata": {},
   "source": [
    "[Return to Start of Notebook](#dt)  "
   ]
  },
  {
   "cell_type": "code",
   "execution_count": 13,
   "id": "3c35ac79-981f-4a52-9e40-a226189c29de",
   "metadata": {
    "tags": []
   },
   "outputs": [],
   "source": [
    "def read_csv_all(file_id, file_path):\n",
    "   \n",
    "    df = pd.read_csv(file_path, skiprows=1) # initial read for columns\n",
    "    df_cols = list(df.columns)\n",
    "        \n",
    "    # months Jan thru Dec\n",
    "    cols_to_import  = df_cols[:14]\n",
    "    # seasons\n",
    "    cols_to_import.extend(df_cols[15:])\n",
    "        \n",
    "    df = pd.read_csv(\n",
    "            file_path,\n",
    "            usecols=cols_to_import,   \n",
    "            parse_dates=['Year'],  \n",
    "            skiprows=1,\n",
    "            na_values=['***']\n",
    "    )\n",
    "        \n",
    "    df['area'] = file_id\n",
    "    \n",
    "    return df"
   ]
  },
  {
   "cell_type": "code",
   "execution_count": 14,
   "id": "87e5e66b-d17e-4551-a33e-10463caab3a7",
   "metadata": {
    "tags": []
   },
   "outputs": [
    {
     "data": {
      "text/html": [
       "<div>\n",
       "<style scoped>\n",
       "    .dataframe tbody tr th:only-of-type {\n",
       "        vertical-align: middle;\n",
       "    }\n",
       "\n",
       "    .dataframe tbody tr th {\n",
       "        vertical-align: top;\n",
       "    }\n",
       "\n",
       "    .dataframe thead th {\n",
       "        text-align: right;\n",
       "    }\n",
       "</style>\n",
       "<table border=\"1\" class=\"dataframe\">\n",
       "  <thead>\n",
       "    <tr style=\"text-align: right;\">\n",
       "      <th></th>\n",
       "      <th>Year</th>\n",
       "      <th>Jan</th>\n",
       "      <th>Feb</th>\n",
       "      <th>Mar</th>\n",
       "      <th>Apr</th>\n",
       "      <th>May</th>\n",
       "      <th>Jun</th>\n",
       "      <th>Jul</th>\n",
       "      <th>Aug</th>\n",
       "      <th>Sep</th>\n",
       "      <th>Oct</th>\n",
       "      <th>Nov</th>\n",
       "      <th>Dec</th>\n",
       "      <th>J-D</th>\n",
       "      <th>DJF</th>\n",
       "      <th>MAM</th>\n",
       "      <th>JJA</th>\n",
       "      <th>SON</th>\n",
       "      <th>area</th>\n",
       "    </tr>\n",
       "  </thead>\n",
       "  <tbody>\n",
       "    <tr>\n",
       "      <th>0</th>\n",
       "      <td>1880-01-01</td>\n",
       "      <td>-0.18</td>\n",
       "      <td>-0.24</td>\n",
       "      <td>-0.08</td>\n",
       "      <td>-0.16</td>\n",
       "      <td>-0.1</td>\n",
       "      <td>-0.21</td>\n",
       "      <td>-0.18</td>\n",
       "      <td>-0.1</td>\n",
       "      <td>-0.14</td>\n",
       "      <td>-0.23</td>\n",
       "      <td>-0.21</td>\n",
       "      <td>-0.17</td>\n",
       "      <td>-0.17</td>\n",
       "      <td>NaN</td>\n",
       "      <td>-0.11</td>\n",
       "      <td>-0.16</td>\n",
       "      <td>-0.2</td>\n",
       "      <td>GLB</td>\n",
       "    </tr>\n",
       "  </tbody>\n",
       "</table>\n",
       "</div>"
      ],
      "text/plain": [
       "        Year   Jan   Feb   Mar   Apr  May   Jun   Jul  Aug   Sep   Oct   Nov   \n",
       "0 1880-01-01 -0.18 -0.24 -0.08 -0.16 -0.1 -0.21 -0.18 -0.1 -0.14 -0.23 -0.21  \\\n",
       "\n",
       "    Dec   J-D  DJF   MAM   JJA  SON area  \n",
       "0 -0.17 -0.17  NaN -0.11 -0.16 -0.2  GLB  "
      ]
     },
     "execution_count": 14,
     "metadata": {},
     "output_type": "execute_result"
    }
   ],
   "source": [
    "dfg = read_csv_all('GLB', file_paths_csv[0])\n",
    "dfn = read_csv_all('NH', file_paths_csv[1])\n",
    "dfs = read_csv_all('SH', file_paths_csv[2])\n",
    "dfg.head(1)"
   ]
  },
  {
   "cell_type": "code",
   "execution_count": 15,
   "id": "695597a8-221a-4c36-a4ae-0683a4ad1134",
   "metadata": {
    "tags": []
   },
   "outputs": [
    {
     "data": {
      "text/html": [
       "<div>\n",
       "<style scoped>\n",
       "    .dataframe tbody tr th:only-of-type {\n",
       "        vertical-align: middle;\n",
       "    }\n",
       "\n",
       "    .dataframe tbody tr th {\n",
       "        vertical-align: top;\n",
       "    }\n",
       "\n",
       "    .dataframe thead th {\n",
       "        text-align: right;\n",
       "    }\n",
       "</style>\n",
       "<table border=\"1\" class=\"dataframe\">\n",
       "  <thead>\n",
       "    <tr style=\"text-align: right;\">\n",
       "      <th></th>\n",
       "      <th>Year</th>\n",
       "      <th>Glob</th>\n",
       "      <th>NHem</th>\n",
       "      <th>SHem</th>\n",
       "      <th>24N-90N</th>\n",
       "      <th>24S-24N</th>\n",
       "      <th>90S-24S</th>\n",
       "      <th>64N-90N</th>\n",
       "      <th>44N-64N</th>\n",
       "      <th>24N-44N</th>\n",
       "      <th>EQU-24N</th>\n",
       "      <th>24S-EQU</th>\n",
       "      <th>44S-24S</th>\n",
       "      <th>64S-44S</th>\n",
       "      <th>90S-64S</th>\n",
       "    </tr>\n",
       "  </thead>\n",
       "  <tbody>\n",
       "    <tr>\n",
       "      <th>0</th>\n",
       "      <td>1880</td>\n",
       "      <td>-0.17</td>\n",
       "      <td>-0.29</td>\n",
       "      <td>-0.04</td>\n",
       "      <td>-0.37</td>\n",
       "      <td>-0.12</td>\n",
       "      <td>-0.02</td>\n",
       "      <td>-0.8</td>\n",
       "      <td>-0.48</td>\n",
       "      <td>-0.29</td>\n",
       "      <td>-0.16</td>\n",
       "      <td>-0.09</td>\n",
       "      <td>-0.04</td>\n",
       "      <td>0.05</td>\n",
       "      <td>0.66</td>\n",
       "    </tr>\n",
       "  </tbody>\n",
       "</table>\n",
       "</div>"
      ],
      "text/plain": [
       "   Year  Glob  NHem  SHem  24N-90N  24S-24N  90S-24S  64N-90N  44N-64N   \n",
       "0  1880 -0.17 -0.29 -0.04    -0.37    -0.12    -0.02     -0.8    -0.48  \\\n",
       "\n",
       "   24N-44N  EQU-24N  24S-EQU  44S-24S  64S-44S  90S-64S  \n",
       "0    -0.29    -0.16    -0.09    -0.04     0.05     0.66  "
      ]
     },
     "execution_count": 15,
     "metadata": {},
     "output_type": "execute_result"
    }
   ],
   "source": [
    "dfz = pd.read_csv(file_paths_csv[3])\n",
    "dfz.head(1)"
   ]
  },
  {
   "cell_type": "markdown",
   "id": "fb3ebab2-fea9-485f-85b1-8a09592d2220",
   "metadata": {
    "toc-hr-collapsed": true
   },
   "source": [
    "<a id='dt-concatenate'></a>\n",
    "## concatenate"
   ]
  },
  {
   "cell_type": "markdown",
   "id": "76441e0e-3eb0-42e0-9afc-236d871704d7",
   "metadata": {},
   "source": [
    "[Return to Start of Notebook](#dt)  "
   ]
  },
  {
   "cell_type": "code",
   "execution_count": 16,
   "id": "a47c192b-4cfa-4de4-a115-2d58f94da517",
   "metadata": {
    "tags": []
   },
   "outputs": [
    {
     "data": {
      "text/html": [
       "<div>\n",
       "<style scoped>\n",
       "    .dataframe tbody tr th:only-of-type {\n",
       "        vertical-align: middle;\n",
       "    }\n",
       "\n",
       "    .dataframe tbody tr th {\n",
       "        vertical-align: top;\n",
       "    }\n",
       "\n",
       "    .dataframe thead th {\n",
       "        text-align: right;\n",
       "    }\n",
       "</style>\n",
       "<table border=\"1\" class=\"dataframe\">\n",
       "  <thead>\n",
       "    <tr style=\"text-align: right;\">\n",
       "      <th></th>\n",
       "      <th>Year</th>\n",
       "      <th>Jan</th>\n",
       "      <th>Feb</th>\n",
       "      <th>Mar</th>\n",
       "      <th>Apr</th>\n",
       "      <th>May</th>\n",
       "      <th>Jun</th>\n",
       "      <th>Jul</th>\n",
       "      <th>Aug</th>\n",
       "      <th>Sep</th>\n",
       "      <th>Oct</th>\n",
       "      <th>Nov</th>\n",
       "      <th>Dec</th>\n",
       "      <th>J-D</th>\n",
       "      <th>DJF</th>\n",
       "      <th>MAM</th>\n",
       "      <th>JJA</th>\n",
       "      <th>SON</th>\n",
       "      <th>area</th>\n",
       "    </tr>\n",
       "  </thead>\n",
       "  <tbody>\n",
       "    <tr>\n",
       "      <th>0</th>\n",
       "      <td>1880-01-01</td>\n",
       "      <td>-0.18</td>\n",
       "      <td>-0.24</td>\n",
       "      <td>-0.08</td>\n",
       "      <td>-0.16</td>\n",
       "      <td>-0.1</td>\n",
       "      <td>-0.21</td>\n",
       "      <td>-0.18</td>\n",
       "      <td>-0.1</td>\n",
       "      <td>-0.14</td>\n",
       "      <td>-0.23</td>\n",
       "      <td>-0.21</td>\n",
       "      <td>-0.17</td>\n",
       "      <td>-0.17</td>\n",
       "      <td>NaN</td>\n",
       "      <td>-0.11</td>\n",
       "      <td>-0.16</td>\n",
       "      <td>-0.2</td>\n",
       "      <td>GLB</td>\n",
       "    </tr>\n",
       "  </tbody>\n",
       "</table>\n",
       "</div>"
      ],
      "text/plain": [
       "        Year   Jan   Feb   Mar   Apr  May   Jun   Jul  Aug   Sep   Oct   Nov   \n",
       "0 1880-01-01 -0.18 -0.24 -0.08 -0.16 -0.1 -0.21 -0.18 -0.1 -0.14 -0.23 -0.21  \\\n",
       "\n",
       "    Dec   J-D  DJF   MAM   JJA  SON area  \n",
       "0 -0.17 -0.17  NaN -0.11 -0.16 -0.2  GLB  "
      ]
     },
     "execution_count": 16,
     "metadata": {},
     "output_type": "execute_result"
    }
   ],
   "source": [
    "dfg_concat = pd.concat([dfg,dfn,dfs])\n",
    "dfg_concat.head(1)"
   ]
  },
  {
   "cell_type": "markdown",
   "id": "a7a555f5-1884-47df-9e20-06fd1d2036ae",
   "metadata": {
    "toc-hr-collapsed": true
   },
   "source": [
    "<a id='dt-resetindex'></a>\n",
    "## reset index"
   ]
  },
  {
   "cell_type": "markdown",
   "id": "39996402-778f-45c5-8fdb-a645468e80c7",
   "metadata": {},
   "source": [
    "[Return to Start of Notebook](#dt)  "
   ]
  },
  {
   "cell_type": "code",
   "execution_count": 17,
   "id": "f85eab38-3c22-4254-bf66-3ed9d81da77a",
   "metadata": {
    "tags": []
   },
   "outputs": [
    {
     "data": {
      "text/html": [
       "<div>\n",
       "<style scoped>\n",
       "    .dataframe tbody tr th:only-of-type {\n",
       "        vertical-align: middle;\n",
       "    }\n",
       "\n",
       "    .dataframe tbody tr th {\n",
       "        vertical-align: top;\n",
       "    }\n",
       "\n",
       "    .dataframe thead th {\n",
       "        text-align: right;\n",
       "    }\n",
       "</style>\n",
       "<table border=\"1\" class=\"dataframe\">\n",
       "  <thead>\n",
       "    <tr style=\"text-align: right;\">\n",
       "      <th></th>\n",
       "      <th>Year</th>\n",
       "      <th>Jan</th>\n",
       "      <th>Feb</th>\n",
       "      <th>Mar</th>\n",
       "      <th>Apr</th>\n",
       "      <th>May</th>\n",
       "      <th>Jun</th>\n",
       "      <th>Jul</th>\n",
       "      <th>Aug</th>\n",
       "      <th>Sep</th>\n",
       "      <th>Oct</th>\n",
       "      <th>Nov</th>\n",
       "      <th>Dec</th>\n",
       "      <th>J-D</th>\n",
       "      <th>DJF</th>\n",
       "      <th>MAM</th>\n",
       "      <th>JJA</th>\n",
       "      <th>SON</th>\n",
       "      <th>area</th>\n",
       "    </tr>\n",
       "  </thead>\n",
       "  <tbody>\n",
       "    <tr>\n",
       "      <th>0</th>\n",
       "      <td>1880-01-01</td>\n",
       "      <td>-0.18</td>\n",
       "      <td>-0.24</td>\n",
       "      <td>-0.08</td>\n",
       "      <td>-0.16</td>\n",
       "      <td>-0.1</td>\n",
       "      <td>-0.21</td>\n",
       "      <td>-0.18</td>\n",
       "      <td>-0.1</td>\n",
       "      <td>-0.14</td>\n",
       "      <td>-0.23</td>\n",
       "      <td>-0.21</td>\n",
       "      <td>-0.17</td>\n",
       "      <td>-0.17</td>\n",
       "      <td>NaN</td>\n",
       "      <td>-0.11</td>\n",
       "      <td>-0.16</td>\n",
       "      <td>-0.2</td>\n",
       "      <td>GLB</td>\n",
       "    </tr>\n",
       "  </tbody>\n",
       "</table>\n",
       "</div>"
      ],
      "text/plain": [
       "        Year   Jan   Feb   Mar   Apr  May   Jun   Jul  Aug   Sep   Oct   Nov   \n",
       "0 1880-01-01 -0.18 -0.24 -0.08 -0.16 -0.1 -0.21 -0.18 -0.1 -0.14 -0.23 -0.21  \\\n",
       "\n",
       "    Dec   J-D  DJF   MAM   JJA  SON area  \n",
       "0 -0.17 -0.17  NaN -0.11 -0.16 -0.2  GLB  "
      ]
     },
     "execution_count": 17,
     "metadata": {},
     "output_type": "execute_result"
    }
   ],
   "source": [
    "dfg_concat = dfg_concat.reset_index(drop=True)\n",
    "dfg_concat.head(1)"
   ]
  },
  {
   "cell_type": "markdown",
   "id": "ac4991a0-ca5f-4c5f-be66-68cc04c3f716",
   "metadata": {
    "toc-hr-collapsed": true
   },
   "source": [
    "<a id='dt-reshape'></a>\n",
    "## reshape"
   ]
  },
  {
   "cell_type": "markdown",
   "id": "cc9ac4bf-71a9-45d6-bbd7-134a15987a94",
   "metadata": {},
   "source": [
    "[Return to Start of Notebook](#dt)  "
   ]
  },
  {
   "cell_type": "code",
   "execution_count": 18,
   "id": "1cb460ba-fca0-4bd8-9edd-6b9559a9f815",
   "metadata": {
    "tags": []
   },
   "outputs": [
    {
     "data": {
      "text/html": [
       "<div>\n",
       "<style scoped>\n",
       "    .dataframe tbody tr th:only-of-type {\n",
       "        vertical-align: middle;\n",
       "    }\n",
       "\n",
       "    .dataframe tbody tr th {\n",
       "        vertical-align: top;\n",
       "    }\n",
       "\n",
       "    .dataframe thead th {\n",
       "        text-align: right;\n",
       "    }\n",
       "</style>\n",
       "<table border=\"1\" class=\"dataframe\">\n",
       "  <thead>\n",
       "    <tr style=\"text-align: right;\">\n",
       "      <th></th>\n",
       "      <th>area</th>\n",
       "      <th>Year</th>\n",
       "      <th>period</th>\n",
       "      <th>anomaly</th>\n",
       "    </tr>\n",
       "  </thead>\n",
       "  <tbody>\n",
       "    <tr>\n",
       "      <th>0</th>\n",
       "      <td>GLB</td>\n",
       "      <td>1880-01-01</td>\n",
       "      <td>Jan</td>\n",
       "      <td>-0.18</td>\n",
       "    </tr>\n",
       "  </tbody>\n",
       "</table>\n",
       "</div>"
      ],
      "text/plain": [
       "  area       Year period  anomaly\n",
       "0  GLB 1880-01-01    Jan    -0.18"
      ]
     },
     "execution_count": 18,
     "metadata": {},
     "output_type": "execute_result"
    }
   ],
   "source": [
    "dfg_transform = pd.melt(dfg_concat,\n",
    "                        id_vars=['area','Year'],\n",
    "                        var_name='period', \n",
    "                value_name='anomaly')\n",
    "dfg_transform.head(1)"
   ]
  },
  {
   "cell_type": "code",
   "execution_count": 19,
   "id": "2ad400e4-d018-4dde-9870-c3814b53b0b3",
   "metadata": {
    "tags": []
   },
   "outputs": [
    {
     "data": {
      "text/html": [
       "<div>\n",
       "<style scoped>\n",
       "    .dataframe tbody tr th:only-of-type {\n",
       "        vertical-align: middle;\n",
       "    }\n",
       "\n",
       "    .dataframe tbody tr th {\n",
       "        vertical-align: top;\n",
       "    }\n",
       "\n",
       "    .dataframe thead th {\n",
       "        text-align: right;\n",
       "    }\n",
       "</style>\n",
       "<table border=\"1\" class=\"dataframe\">\n",
       "  <thead>\n",
       "    <tr style=\"text-align: right;\">\n",
       "      <th></th>\n",
       "      <th>Year</th>\n",
       "      <th>area</th>\n",
       "      <th>anomaly</th>\n",
       "    </tr>\n",
       "  </thead>\n",
       "  <tbody>\n",
       "    <tr>\n",
       "      <th>0</th>\n",
       "      <td>1880</td>\n",
       "      <td>Glob</td>\n",
       "      <td>-0.17</td>\n",
       "    </tr>\n",
       "  </tbody>\n",
       "</table>\n",
       "</div>"
      ],
      "text/plain": [
       "   Year  area  anomaly\n",
       "0  1880  Glob    -0.17"
      ]
     },
     "execution_count": 19,
     "metadata": {},
     "output_type": "execute_result"
    }
   ],
   "source": [
    "dfz_transform = pd.melt(dfz,\n",
    "                id_vars=['Year'],\n",
    "                var_name='area', \n",
    "                value_name='anomaly')\n",
    "dfz_transform.head(1)"
   ]
  },
  {
   "cell_type": "markdown",
   "id": "cfa60127-017d-414e-8bb6-65fbff37ca8e",
   "metadata": {
    "toc-hr-collapsed": true
   },
   "source": [
    "<a id='dt-columns'></a>\n",
    "## columns"
   ]
  },
  {
   "cell_type": "markdown",
   "id": "2ff9189b-cb4b-45e9-a577-96426eb0e724",
   "metadata": {},
   "source": [
    "[Return to Start of Notebook](#dt)  "
   ]
  },
  {
   "cell_type": "markdown",
   "id": "2e3538ed-97e8-42b0-a27a-4f8bd675165f",
   "metadata": {
    "toc-hr-collapsed": true
   },
   "source": [
    "#### add"
   ]
  },
  {
   "cell_type": "code",
   "execution_count": 20,
   "id": "1aac0707-fac3-4dc9-92ea-96a99cc0fe72",
   "metadata": {
    "tags": []
   },
   "outputs": [
    {
     "data": {
      "text/html": [
       "<div>\n",
       "<style scoped>\n",
       "    .dataframe tbody tr th:only-of-type {\n",
       "        vertical-align: middle;\n",
       "    }\n",
       "\n",
       "    .dataframe tbody tr th {\n",
       "        vertical-align: top;\n",
       "    }\n",
       "\n",
       "    .dataframe thead th {\n",
       "        text-align: right;\n",
       "    }\n",
       "</style>\n",
       "<table border=\"1\" class=\"dataframe\">\n",
       "  <thead>\n",
       "    <tr style=\"text-align: right;\">\n",
       "      <th></th>\n",
       "      <th>area</th>\n",
       "      <th>Year</th>\n",
       "      <th>period</th>\n",
       "      <th>anomaly</th>\n",
       "      <th>year</th>\n",
       "    </tr>\n",
       "  </thead>\n",
       "  <tbody>\n",
       "    <tr>\n",
       "      <th>0</th>\n",
       "      <td>GLB</td>\n",
       "      <td>1880-01-01</td>\n",
       "      <td>Jan</td>\n",
       "      <td>-0.18</td>\n",
       "      <td>1880</td>\n",
       "    </tr>\n",
       "  </tbody>\n",
       "</table>\n",
       "</div>"
      ],
      "text/plain": [
       "  area       Year period  anomaly  year\n",
       "0  GLB 1880-01-01    Jan    -0.18  1880"
      ]
     },
     "execution_count": 20,
     "metadata": {},
     "output_type": "execute_result"
    }
   ],
   "source": [
    "dfg_transform['year'] = dfg_transform['Year'].dt.year   \n",
    "\n",
    "dfg_transform.head(1)"
   ]
  },
  {
   "cell_type": "markdown",
   "id": "1b6be8c4-6a78-4f36-bc4d-950afc058260",
   "metadata": {
    "toc-hr-collapsed": true
   },
   "source": [
    "#### drop"
   ]
  },
  {
   "cell_type": "code",
   "execution_count": 21,
   "id": "f64b1da9-3854-4f43-9b5b-6570411298ba",
   "metadata": {
    "tags": []
   },
   "outputs": [
    {
     "data": {
      "text/html": [
       "<div>\n",
       "<style scoped>\n",
       "    .dataframe tbody tr th:only-of-type {\n",
       "        vertical-align: middle;\n",
       "    }\n",
       "\n",
       "    .dataframe tbody tr th {\n",
       "        vertical-align: top;\n",
       "    }\n",
       "\n",
       "    .dataframe thead th {\n",
       "        text-align: right;\n",
       "    }\n",
       "</style>\n",
       "<table border=\"1\" class=\"dataframe\">\n",
       "  <thead>\n",
       "    <tr style=\"text-align: right;\">\n",
       "      <th></th>\n",
       "      <th>area</th>\n",
       "      <th>period</th>\n",
       "      <th>anomaly</th>\n",
       "      <th>year</th>\n",
       "    </tr>\n",
       "  </thead>\n",
       "  <tbody>\n",
       "    <tr>\n",
       "      <th>0</th>\n",
       "      <td>GLB</td>\n",
       "      <td>Jan</td>\n",
       "      <td>-0.18</td>\n",
       "      <td>1880</td>\n",
       "    </tr>\n",
       "  </tbody>\n",
       "</table>\n",
       "</div>"
      ],
      "text/plain": [
       "  area period  anomaly  year\n",
       "0  GLB    Jan    -0.18  1880"
      ]
     },
     "execution_count": 21,
     "metadata": {},
     "output_type": "execute_result"
    }
   ],
   "source": [
    "dfg_transform.drop(columns=['Year'],inplace=True) \n",
    "dfg_transform.head(1)"
   ]
  },
  {
   "cell_type": "markdown",
   "id": "76248106-3037-4b3c-a400-7196d5e7cbab",
   "metadata": {
    "toc-hr-collapsed": true
   },
   "source": [
    "#### reorder"
   ]
  },
  {
   "cell_type": "code",
   "execution_count": 22,
   "id": "974d810b-2e21-40ef-accf-0c42dd51fe00",
   "metadata": {
    "tags": []
   },
   "outputs": [
    {
     "data": {
      "text/html": [
       "<div>\n",
       "<style scoped>\n",
       "    .dataframe tbody tr th:only-of-type {\n",
       "        vertical-align: middle;\n",
       "    }\n",
       "\n",
       "    .dataframe tbody tr th {\n",
       "        vertical-align: top;\n",
       "    }\n",
       "\n",
       "    .dataframe thead th {\n",
       "        text-align: right;\n",
       "    }\n",
       "</style>\n",
       "<table border=\"1\" class=\"dataframe\">\n",
       "  <thead>\n",
       "    <tr style=\"text-align: right;\">\n",
       "      <th></th>\n",
       "      <th>year</th>\n",
       "      <th>area</th>\n",
       "      <th>period</th>\n",
       "      <th>anomaly</th>\n",
       "    </tr>\n",
       "  </thead>\n",
       "  <tbody>\n",
       "    <tr>\n",
       "      <th>0</th>\n",
       "      <td>1880</td>\n",
       "      <td>GLB</td>\n",
       "      <td>Jan</td>\n",
       "      <td>-0.18</td>\n",
       "    </tr>\n",
       "  </tbody>\n",
       "</table>\n",
       "</div>"
      ],
      "text/plain": [
       "   year area period  anomaly\n",
       "0  1880  GLB    Jan    -0.18"
      ]
     },
     "execution_count": 22,
     "metadata": {},
     "output_type": "execute_result"
    }
   ],
   "source": [
    "dfg_transform = dfg_transform.reindex(['year','area','period','anomaly'], axis=1)\n",
    "dfg_transform.head(1)"
   ]
  },
  {
   "cell_type": "markdown",
   "id": "870fccd5-2df2-4483-a76f-5d82ec1e9da3",
   "metadata": {
    "tags": [],
    "toc-hr-collapsed": true
   },
   "source": [
    "#### rename"
   ]
  },
  {
   "cell_type": "code",
   "execution_count": 23,
   "id": "54cab71e-5a1b-454d-9c15-be77c5c761cc",
   "metadata": {
    "tags": []
   },
   "outputs": [
    {
     "data": {
      "text/html": [
       "<div>\n",
       "<style scoped>\n",
       "    .dataframe tbody tr th:only-of-type {\n",
       "        vertical-align: middle;\n",
       "    }\n",
       "\n",
       "    .dataframe tbody tr th {\n",
       "        vertical-align: top;\n",
       "    }\n",
       "\n",
       "    .dataframe thead th {\n",
       "        text-align: right;\n",
       "    }\n",
       "</style>\n",
       "<table border=\"1\" class=\"dataframe\">\n",
       "  <thead>\n",
       "    <tr style=\"text-align: right;\">\n",
       "      <th></th>\n",
       "      <th>year</th>\n",
       "      <th>area</th>\n",
       "      <th>anomaly</th>\n",
       "    </tr>\n",
       "  </thead>\n",
       "  <tbody>\n",
       "    <tr>\n",
       "      <th>0</th>\n",
       "      <td>1880</td>\n",
       "      <td>Glob</td>\n",
       "      <td>-0.17</td>\n",
       "    </tr>\n",
       "  </tbody>\n",
       "</table>\n",
       "</div>"
      ],
      "text/plain": [
       "   year  area  anomaly\n",
       "0  1880  Glob    -0.17"
      ]
     },
     "execution_count": 23,
     "metadata": {},
     "output_type": "execute_result"
    }
   ],
   "source": [
    "col_names = {'Year':'year'}\n",
    "dfz_transform.rename(columns=col_names,inplace=True)\n",
    "dfz_transform.head(1)"
   ]
  },
  {
   "cell_type": "markdown",
   "id": "646736a1-149b-4348-8ae4-1dc530412185",
   "metadata": {
    "tags": [],
    "toc-hr-collapsed": true
   },
   "source": [
    "<a id='dt-export'></a>\n",
    "## export"
   ]
  },
  {
   "cell_type": "markdown",
   "id": "8015971b-321d-4558-a9c3-e2a37c7d3bdd",
   "metadata": {},
   "source": [
    "[Return to Start of Notebook](#dt)  "
   ]
  },
  {
   "cell_type": "code",
   "execution_count": 24,
   "id": "9e15f639-8ce2-4570-a5fe-1cfa5f30db50",
   "metadata": {
    "tags": []
   },
   "outputs": [],
   "source": [
    "def export_file(file_id, df):\n",
    "    save_path = os.path.join(transformed_data_dir,\n",
    "                             file_id + '.csv')\n",
    "    df.to_csv(save_path,\n",
    "              header=True,\n",
    "              index=False,\n",
    "              sep=',',\n",
    "              na_rep='NULL')"
   ]
  },
  {
   "cell_type": "code",
   "execution_count": 25,
   "id": "f3d80168-9dc8-4baf-97d9-daa8890fdb64",
   "metadata": {
    "tags": []
   },
   "outputs": [],
   "source": [
    "export_file('global_transformed_data',dfg_transform)"
   ]
  },
  {
   "cell_type": "code",
   "execution_count": 26,
   "id": "56b7280d-13de-4da1-bf4e-bd110a009d8c",
   "metadata": {},
   "outputs": [],
   "source": [
    "export_file('zonal_transformed_data',dfz_transform)"
   ]
  },
  {
   "cell_type": "code",
   "execution_count": null,
   "id": "8f317616-f31d-42af-a221-edc1085baa95",
   "metadata": {},
   "outputs": [],
   "source": []
  }
 ],
 "metadata": {
  "interpreter": {
   "hash": "dadb38d82647d96d5382ce5812a5d64c7d4d3210fd59b769fd19e4966085dba7"
  },
  "kernelspec": {
   "display_name": "Python 3 (ipykernel)",
   "language": "python",
   "name": "python3"
  },
  "language_info": {
   "codemirror_mode": {
    "name": "ipython",
    "version": 3
   },
   "file_extension": ".py",
   "mimetype": "text/x-python",
   "name": "python",
   "nbconvert_exporter": "python",
   "pygments_lexer": "ipython3",
   "version": "3.10.10"
  },
  "toc-autonumbering": false,
  "toc-showcode": true,
  "toc-showmarkdowntxt": false,
  "toc-showtags": false
 },
 "nbformat": 4,
 "nbformat_minor": 5
}
