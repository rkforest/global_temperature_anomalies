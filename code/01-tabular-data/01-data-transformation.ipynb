{
 "cells": [
  {
   "cell_type": "markdown",
   "id": "0bd71ea4",
   "metadata": {
    "tags": []
   },
   "source": [
    "<a id='dr'></a>\n",
    "# data restructure"
   ]
  },
  {
   "cell_type": "markdown",
   "id": "fc46e07d-c34b-4f7a-9ca4-ec2288928be6",
   "metadata": {},
   "source": [
    "- pandas provides two standardized data structures for tabular data\n",
    "  - Series — A one-dimensional structure, used to represent a vector, i.e., a table column\n",
    "  - DataFrame — A two-dimensional structure, used to represent a table\n",
    "each column in a DataFrame is a Series\n",
    "\n",
    "- pandas is an extension of numpy\n",
    "- series are labelled numpy arrays that represent table columns"
   ]
  },
  {
   "cell_type": "markdown",
   "id": "aa12904f-8de8-49d3-aa1c-639ad30557a1",
   "metadata": {
    "tags": []
   },
   "source": [
    "[libraries](#dr-libraries)   \n",
    "[variables](#dr-variables)    \n",
    "[directories](#dr-directories)   \n",
    "[import](#dr-import)  \n",
    "[explore](#dr-explore)  \n",
    "[combine](#dr-combine)  \n",
    "[melt](#dr-melt)  \n",
    "[nulls](#dr-nulls)  \n",
    "[map](#dr-map)  \n",
    "[columns](#dr-columns)  \n",
    "[filter](#dr-filter)  \n",
    "[index](#dr-index)  \n",
    "[pivot](#dr-pivot)  \n",
    "[plot](#dr-plot)  \n",
    "[export](#dr-export)  "
   ]
  },
  {
   "cell_type": "markdown",
   "id": "e0d4dd19-f6ad-4879-b7b3-cf0426c696fb",
   "metadata": {},
   "source": [
    "## project"
   ]
  },
  {
   "cell_type": "code",
   "execution_count": 1,
   "id": "76e974bc-eb0e-4dea-8610-701683e7d6ea",
   "metadata": {
    "tags": []
   },
   "outputs": [],
   "source": [
    "project_id = 'gta'"
   ]
  },
  {
   "cell_type": "markdown",
   "id": "ad46782b-7efd-41e6-ae0a-1967ea38b394",
   "metadata": {
    "tags": [],
    "toc-hr-collapsed": true
   },
   "source": [
    "<a id='dr-libraries'></a>\n",
    "## libraries"
   ]
  },
  {
   "cell_type": "markdown",
   "id": "ae5d669a-fd39-4fa9-9c25-c3c59206cba7",
   "metadata": {},
   "source": [
    "[Return to Start of Notebook](#dr)  "
   ]
  },
  {
   "cell_type": "code",
   "execution_count": 2,
   "id": "ed794b8b-d867-45cf-818a-86835b0c7a74",
   "metadata": {
    "tags": []
   },
   "outputs": [],
   "source": [
    "import os\n",
    "import glob\n",
    "import calendar\n",
    "import numpy as np\n",
    "import pandas as pd\n",
    "import matplotlib.pyplot as plt"
   ]
  },
  {
   "cell_type": "code",
   "execution_count": 3,
   "id": "501ffbdb-4af1-4702-b651-b1d59d0a1cdd",
   "metadata": {
    "tags": []
   },
   "outputs": [],
   "source": [
    "import warnings # to ignore warnings\n",
    "from functools import partial # for shorter traceback error messages\n",
    "from IPython.core.interactiveshell import InteractiveShell # to automtically show cell output"
   ]
  },
  {
   "cell_type": "code",
   "execution_count": 4,
   "id": "1626ae07-1db0-4046-a059-92f7e6848162",
   "metadata": {
    "tags": []
   },
   "outputs": [],
   "source": [
    "from pandas.api.types import CategoricalDtype"
   ]
  },
  {
   "cell_type": "markdown",
   "id": "f947f68e-6940-4519-b91c-88dca40dccf8",
   "metadata": {
    "tags": [],
    "toc-hr-collapsed": true
   },
   "source": [
    "### parameters"
   ]
  },
  {
   "cell_type": "code",
   "execution_count": 5,
   "id": "74427bc8-7a75-4a4d-9e8f-5f26024d076d",
   "metadata": {
    "tags": []
   },
   "outputs": [],
   "source": [
    "# ignore warnings \n",
    "warnings.filterwarnings('ignore')"
   ]
  },
  {
   "cell_type": "code",
   "execution_count": 6,
   "id": "46a88ecc-e7d0-4879-a683-328932ace5cd",
   "metadata": {
    "tags": []
   },
   "outputs": [],
   "source": [
    "# shorter traceback error messages\n",
    "get_ipython().showtraceback = partial(get_ipython().showtraceback,exception_only=True)"
   ]
  },
  {
   "cell_type": "code",
   "execution_count": 7,
   "id": "d9408afe-c39a-4d6e-aef4-a04663dba7b2",
   "metadata": {
    "tags": []
   },
   "outputs": [],
   "source": [
    "# shows result of cell without needing print\n",
    "InteractiveShell.ast_node_interactivity = \"last_expr_or_assign\""
   ]
  },
  {
   "cell_type": "code",
   "execution_count": 8,
   "id": "d92a3d7a-0c6b-40b0-a95d-bee615657b5b",
   "metadata": {
    "tags": []
   },
   "outputs": [],
   "source": [
    "pd.set_option('display.max_rows',12)\n",
    "#defaults: pd.set_option('display.max_columns',20,'display.max_rows',60,'display.max_colwidth',50)"
   ]
  },
  {
   "cell_type": "code",
   "execution_count": 9,
   "id": "41589fbc-3444-4285-b5ad-0449e93d4797",
   "metadata": {
    "tags": []
   },
   "outputs": [],
   "source": [
    "# pandas \n",
    "pd.options.display.float_format = '{:.1f}'.format\n",
    "\n",
    "#defaults: pd.set_option('display.max_columns',20,'display.max_rows',60,'display.max_colwidth',50)\n",
    "pd.set_option('display.max_columns',50)\n",
    "pd.set_option('display.max_rows',10)\n",
    "pd.set_option('display.max_colwidth',20)"
   ]
  },
  {
   "cell_type": "code",
   "execution_count": 10,
   "id": "6d58b245-d831-4924-a7f6-c930b168acff",
   "metadata": {},
   "outputs": [],
   "source": [
    "plt.rcParams['figure.figsize'] = (4, 2)\n",
    "plt.rcParams['figure.dpi'] = 144"
   ]
  },
  {
   "cell_type": "markdown",
   "id": "d4d0ecf5-7bc1-411b-81e5-6ebb1b9e0edf",
   "metadata": {
    "toc-hr-collapsed": true
   },
   "source": [
    "<a id='dr-variables'></a>\n",
    "## variables"
   ]
  },
  {
   "cell_type": "markdown",
   "id": "d1a6e66e-7280-48b1-b084-a15f0c481771",
   "metadata": {},
   "source": [
    "[Return to Start of Notebook](#dr)  "
   ]
  },
  {
   "cell_type": "code",
   "execution_count": 11,
   "id": "861eaece-ae64-40fd-a2df-e33926021b0a",
   "metadata": {
    "tags": []
   },
   "outputs": [
    {
     "data": {
      "text/plain": [
       "['Jan',\n",
       " 'Feb',\n",
       " 'Mar',\n",
       " 'Apr',\n",
       " 'May',\n",
       " 'Jun',\n",
       " 'Jul',\n",
       " 'Aug',\n",
       " 'Sep',\n",
       " 'Oct',\n",
       " 'Nov',\n",
       " 'Dec']"
      ]
     },
     "execution_count": 11,
     "metadata": {},
     "output_type": "execute_result"
    }
   ],
   "source": [
    "months = [month for month in calendar.month_abbr if month]"
   ]
  },
  {
   "cell_type": "code",
   "execution_count": 12,
   "id": "0daee62b-f089-4e94-aae9-4ceda07b2baa",
   "metadata": {
    "tags": []
   },
   "outputs": [
    {
     "data": {
      "text/plain": [
       "['Spring', 'Summer', 'Autumn', 'Winter']"
      ]
     },
     "execution_count": 12,
     "metadata": {},
     "output_type": "execute_result"
    }
   ],
   "source": [
    "seasons = ['Spring', 'Summer', 'Autumn','Winter']"
   ]
  },
  {
   "cell_type": "code",
   "execution_count": 13,
   "id": "7b09c5a7-0d2b-4abd-9006-ee9dbe17d721",
   "metadata": {
    "tags": []
   },
   "outputs": [],
   "source": [
    "# create dictionary to assign seasons to months\n",
    "months_season_dict = {}\n",
    "for i, month in enumerate(months):\n",
    "    if i in (0, 1, 11):\n",
    "        months_season_dict[month] = 'Winter'\n",
    "    elif i in (2, 3, 4):\n",
    "        months_season_dict[month] = 'Spring'\n",
    "    elif i in (5, 6, 7):\n",
    "        months_season_dict[month] = 'Summer'        \n",
    "    elif i in (8, 9, 10):\n",
    "        months_season_dict[month] = 'Autumn' "
   ]
  },
  {
   "cell_type": "code",
   "execution_count": 14,
   "id": "f26f8251-d820-47f6-b0ac-da991ada38e1",
   "metadata": {
    "tags": []
   },
   "outputs": [
    {
     "data": {
      "text/plain": [
       "{'Jan': 'Winter',\n",
       " 'Feb': 'Winter',\n",
       " 'Mar': 'Spring',\n",
       " 'Apr': 'Spring',\n",
       " 'May': 'Spring',\n",
       " 'Jun': 'Summer',\n",
       " 'Jul': 'Summer',\n",
       " 'Aug': 'Summer',\n",
       " 'Sep': 'Autumn',\n",
       " 'Oct': 'Autumn',\n",
       " 'Nov': 'Autumn',\n",
       " 'Dec': 'Winter'}"
      ]
     },
     "execution_count": 14,
     "metadata": {},
     "output_type": "execute_result"
    }
   ],
   "source": [
    "months_season_dict"
   ]
  },
  {
   "cell_type": "markdown",
   "id": "706952ec-335c-4081-950f-04cfa14127a0",
   "metadata": {
    "toc-hr-collapsed": true
   },
   "source": [
    "<a id='dr-directories'></a>\n",
    "## directories"
   ]
  },
  {
   "cell_type": "markdown",
   "id": "bfc8d282-9956-49b9-b167-164a7a693587",
   "metadata": {},
   "source": [
    "[Return to Start of Notebook](#dr)  "
   ]
  },
  {
   "cell_type": "code",
   "execution_count": 15,
   "id": "9ef6ce81-9e49-443e-aaa3-34dcd88b8257",
   "metadata": {
    "tags": []
   },
   "outputs": [
    {
     "data": {
      "text/plain": [
       "'/Users/rkforest/gta/data/restructured-data'"
      ]
     },
     "execution_count": 15,
     "metadata": {},
     "output_type": "execute_result"
    }
   ],
   "source": [
    "home_dir = os.path.expanduser(\"~\")\n",
    "project_dir = os.path.join(home_dir, project_id)\n",
    "data_dir = os.path.join(project_dir, 'data')\n",
    "raw_data_dir = os.path.join(data_dir, 'raw-data')\n",
    "restructured_data_dir = os.path.join(data_dir, 'restructured-data')"
   ]
  },
  {
   "cell_type": "code",
   "execution_count": 16,
   "id": "72569bb9-1536-4578-80d5-a772821ca5d6",
   "metadata": {
    "tags": []
   },
   "outputs": [],
   "source": [
    "def create_directory(directory_name):\n",
    "    if not os.path.exists(directory_name):\n",
    "        print('Created new directory: ', directory_name)\n",
    "        os.mkdir(directory_name)"
   ]
  },
  {
   "cell_type": "code",
   "execution_count": 17,
   "id": "4056cc93-26c8-4c85-9e9f-741f03cff3a4",
   "metadata": {
    "tags": []
   },
   "outputs": [],
   "source": [
    "create_directory(restructured_data_dir)"
   ]
  },
  {
   "cell_type": "code",
   "execution_count": 18,
   "id": "a1c58332-3f14-44a0-ad64-168854ec13f0",
   "metadata": {
    "tags": []
   },
   "outputs": [
    {
     "data": {
      "text/plain": [
       "'/Users/rkforest/gta'"
      ]
     },
     "execution_count": 18,
     "metadata": {},
     "output_type": "execute_result"
    }
   ],
   "source": [
    "os.chdir(project_dir)\n",
    "os.getcwd()"
   ]
  },
  {
   "cell_type": "markdown",
   "id": "3dd5b15b-a6c1-43d8-8669-4681025ab294",
   "metadata": {
    "tags": [],
    "toc-hr-collapsed": true
   },
   "source": [
    "### paths"
   ]
  },
  {
   "cell_type": "code",
   "execution_count": 19,
   "id": "3d4a2e3b-a496-4979-a02e-2665f5ef36ca",
   "metadata": {
    "tags": []
   },
   "outputs": [
    {
     "name": "stdout",
     "output_type": "stream",
     "text": [
      "/Users/rkforest/gta/data/raw-data/GLB.Ts+dSST.csv\n",
      "/Users/rkforest/gta/data/raw-data/NH.Ts+dSST.csv\n",
      "/Users/rkforest/gta/data/raw-data/SH.Ts+dSST.csv\n",
      "/Users/rkforest/gta/data/raw-data/ZonAnn.Ts+dSST.csv\n"
     ]
    }
   ],
   "source": [
    "file_paths_csv =  sorted(glob.glob(os.path.join(raw_data_dir, '*.csv')))\n",
    "[print(path) for path in file_paths_csv];"
   ]
  },
  {
   "cell_type": "markdown",
   "id": "181bcf12-fa49-4831-9abd-99f95c0309b7",
   "metadata": {
    "tags": [],
    "toc-hr-collapsed": true
   },
   "source": [
    "<a id='dr-import'></a>\n",
    "## import"
   ]
  },
  {
   "cell_type": "markdown",
   "id": "914c90a8-5341-4b87-9bfb-ff32a03f0ec5",
   "metadata": {},
   "source": [
    "[Return to Start of Notebook](#dr)  "
   ]
  },
  {
   "cell_type": "markdown",
   "id": "6c888f0b-7290-4f72-bc33-ea3e08590558",
   "metadata": {
    "jp-MarkdownHeadingCollapsed": true,
    "tags": [],
    "toc-hr-collapsed": true
   },
   "source": [
    "- skiprows  \n",
    "- sep  \n",
    "- usecols  \n",
    "- parse_dates  \n",
    "- index_col (can also use integer of column)\n",
    "- na_values  \n",
    "- nrows  \n",
    "- delim_whitespace"
   ]
  },
  {
   "cell_type": "markdown",
   "id": "ed5e52ef-3625-47c9-85ce-1a6772d86421",
   "metadata": {
    "tags": [],
    "toc-hr-collapsed": true
   },
   "source": [
    "#### columns list\n",
    "- initial read for columns"
   ]
  },
  {
   "cell_type": "code",
   "execution_count": 20,
   "id": "f43cd4e3-769d-4b93-b538-4615efa41888",
   "metadata": {
    "tags": []
   },
   "outputs": [
    {
     "data": {
      "text/plain": [
       "Index(['Year', 'Jan', 'Feb', 'Mar', 'Apr', 'May', 'Jun', 'Jul', 'Aug', 'Sep',\n",
       "       'Oct', 'Nov', 'Dec', 'J-D', 'D-N', 'DJF', 'MAM', 'JJA', 'SON'],\n",
       "      dtype='object')"
      ]
     },
     "execution_count": 20,
     "metadata": {},
     "output_type": "execute_result"
    }
   ],
   "source": [
    "df = pd.read_csv(file_paths_csv[0], skiprows=1)\n",
    "df.columns"
   ]
  },
  {
   "cell_type": "code",
   "execution_count": 21,
   "id": "3c35ac79-981f-4a52-9e40-a226189c29de",
   "metadata": {
    "tags": []
   },
   "outputs": [],
   "source": [
    "def read_raw_data(file_id, file_path, value_type):\n",
    "     \n",
    "    # initial read for columns\n",
    "    df = pd.read_csv(file_path, skiprows=1) \n",
    "    df_cols = list(df.columns)\n",
    "    \n",
    "    if value_type == 'M':\n",
    "        # months Jan thru Dec\n",
    "        cols_to_import  = df_cols[:13]\n",
    "  \n",
    "    elif value_type == 'S':\n",
    "        # seasons\n",
    "        cols_to_import = df_cols[15:]\n",
    "        cols_to_import.insert(0,df_cols[0])\n",
    "\n",
    "    elif value_type == 'Y':\n",
    "        # yearly\n",
    "        cols_to_import = df_cols[13:14]\n",
    "        cols_to_import.insert(0,df_cols[0])\n",
    "        \n",
    "    df = pd.read_csv(\n",
    "            file_path,\n",
    "            usecols=cols_to_import,   \n",
    "            parse_dates=['Year'], \n",
    "            sep=',',\n",
    "            skiprows=1,\n",
    "            na_values=['***'],\n",
    "            delim_whitespace=False\n",
    "    )\n",
    "        \n",
    "    df['area'] = file_id\n",
    "    \n",
    "    return df"
   ]
  },
  {
   "cell_type": "markdown",
   "id": "6658aaff-a7d8-4af5-984e-354674381931",
   "metadata": {
    "tags": [],
    "toc-hr-collapsed": true
   },
   "source": [
    "#### monthly values"
   ]
  },
  {
   "cell_type": "code",
   "execution_count": 22,
   "id": "87e5e66b-d17e-4551-a33e-10463caab3a7",
   "metadata": {
    "tags": []
   },
   "outputs": [
    {
     "data": {
      "text/html": [
       "<div>\n",
       "<style scoped>\n",
       "    .dataframe tbody tr th:only-of-type {\n",
       "        vertical-align: middle;\n",
       "    }\n",
       "\n",
       "    .dataframe tbody tr th {\n",
       "        vertical-align: top;\n",
       "    }\n",
       "\n",
       "    .dataframe thead th {\n",
       "        text-align: right;\n",
       "    }\n",
       "</style>\n",
       "<table border=\"1\" class=\"dataframe\">\n",
       "  <thead>\n",
       "    <tr style=\"text-align: right;\">\n",
       "      <th></th>\n",
       "      <th>Year</th>\n",
       "      <th>Jan</th>\n",
       "      <th>Feb</th>\n",
       "      <th>Mar</th>\n",
       "      <th>Apr</th>\n",
       "      <th>May</th>\n",
       "      <th>Jun</th>\n",
       "      <th>Jul</th>\n",
       "      <th>Aug</th>\n",
       "      <th>Sep</th>\n",
       "      <th>Oct</th>\n",
       "      <th>Nov</th>\n",
       "      <th>Dec</th>\n",
       "      <th>area</th>\n",
       "    </tr>\n",
       "  </thead>\n",
       "  <tbody>\n",
       "    <tr>\n",
       "      <th>0</th>\n",
       "      <td>1880-01-01</td>\n",
       "      <td>-0.2</td>\n",
       "      <td>-0.2</td>\n",
       "      <td>-0.1</td>\n",
       "      <td>-0.2</td>\n",
       "      <td>-0.1</td>\n",
       "      <td>-0.2</td>\n",
       "      <td>-0.2</td>\n",
       "      <td>-0.1</td>\n",
       "      <td>-0.1</td>\n",
       "      <td>-0.2</td>\n",
       "      <td>-0.2</td>\n",
       "      <td>-0.2</td>\n",
       "      <td>GLB</td>\n",
       "    </tr>\n",
       "  </tbody>\n",
       "</table>\n",
       "</div>"
      ],
      "text/plain": [
       "        Year  Jan  Feb  Mar  Apr  May  Jun  Jul  Aug  Sep  Oct  Nov  Dec area\n",
       "0 1880-01-01 -0.2 -0.2 -0.1 -0.2 -0.1 -0.2 -0.2 -0.1 -0.1 -0.2 -0.2 -0.2  GLB"
      ]
     },
     "execution_count": 22,
     "metadata": {},
     "output_type": "execute_result"
    }
   ],
   "source": [
    "df_glb_monthly = read_raw_data('GLB', file_paths_csv[0], 'M')\n",
    "df_glb_monthly.head(1)"
   ]
  },
  {
   "cell_type": "code",
   "execution_count": 23,
   "id": "dff01916-d023-4647-ad8c-447ed5999a9c",
   "metadata": {
    "tags": []
   },
   "outputs": [
    {
     "data": {
      "text/html": [
       "<div>\n",
       "<style scoped>\n",
       "    .dataframe tbody tr th:only-of-type {\n",
       "        vertical-align: middle;\n",
       "    }\n",
       "\n",
       "    .dataframe tbody tr th {\n",
       "        vertical-align: top;\n",
       "    }\n",
       "\n",
       "    .dataframe thead th {\n",
       "        text-align: right;\n",
       "    }\n",
       "</style>\n",
       "<table border=\"1\" class=\"dataframe\">\n",
       "  <thead>\n",
       "    <tr style=\"text-align: right;\">\n",
       "      <th></th>\n",
       "      <th>Year</th>\n",
       "      <th>Jan</th>\n",
       "      <th>Feb</th>\n",
       "      <th>Mar</th>\n",
       "      <th>Apr</th>\n",
       "      <th>May</th>\n",
       "      <th>Jun</th>\n",
       "      <th>Jul</th>\n",
       "      <th>Aug</th>\n",
       "      <th>Sep</th>\n",
       "      <th>Oct</th>\n",
       "      <th>Nov</th>\n",
       "      <th>Dec</th>\n",
       "      <th>area</th>\n",
       "    </tr>\n",
       "  </thead>\n",
       "  <tbody>\n",
       "    <tr>\n",
       "      <th>0</th>\n",
       "      <td>1880-01-01</td>\n",
       "      <td>-0.4</td>\n",
       "      <td>-0.5</td>\n",
       "      <td>-0.2</td>\n",
       "      <td>-0.3</td>\n",
       "      <td>-0.1</td>\n",
       "      <td>-0.2</td>\n",
       "      <td>-0.2</td>\n",
       "      <td>-0.3</td>\n",
       "      <td>-0.2</td>\n",
       "      <td>-0.3</td>\n",
       "      <td>-0.4</td>\n",
       "      <td>-0.4</td>\n",
       "      <td>NH</td>\n",
       "    </tr>\n",
       "  </tbody>\n",
       "</table>\n",
       "</div>"
      ],
      "text/plain": [
       "        Year  Jan  Feb  Mar  Apr  May  Jun  Jul  Aug  Sep  Oct  Nov  Dec area\n",
       "0 1880-01-01 -0.4 -0.5 -0.2 -0.3 -0.1 -0.2 -0.2 -0.3 -0.2 -0.3 -0.4 -0.4   NH"
      ]
     },
     "execution_count": 23,
     "metadata": {},
     "output_type": "execute_result"
    }
   ],
   "source": [
    "df_nh_monthly = read_raw_data('NH', file_paths_csv[1], 'M')\n",
    "df_nh_monthly.head(1)"
   ]
  },
  {
   "cell_type": "code",
   "execution_count": 24,
   "id": "8e318ce7-39a2-424a-85ba-c02e79cd697f",
   "metadata": {
    "tags": []
   },
   "outputs": [
    {
     "data": {
      "text/html": [
       "<div>\n",
       "<style scoped>\n",
       "    .dataframe tbody tr th:only-of-type {\n",
       "        vertical-align: middle;\n",
       "    }\n",
       "\n",
       "    .dataframe tbody tr th {\n",
       "        vertical-align: top;\n",
       "    }\n",
       "\n",
       "    .dataframe thead th {\n",
       "        text-align: right;\n",
       "    }\n",
       "</style>\n",
       "<table border=\"1\" class=\"dataframe\">\n",
       "  <thead>\n",
       "    <tr style=\"text-align: right;\">\n",
       "      <th></th>\n",
       "      <th>Year</th>\n",
       "      <th>Jan</th>\n",
       "      <th>Feb</th>\n",
       "      <th>Mar</th>\n",
       "      <th>Apr</th>\n",
       "      <th>May</th>\n",
       "      <th>Jun</th>\n",
       "      <th>Jul</th>\n",
       "      <th>Aug</th>\n",
       "      <th>Sep</th>\n",
       "      <th>Oct</th>\n",
       "      <th>Nov</th>\n",
       "      <th>Dec</th>\n",
       "      <th>area</th>\n",
       "    </tr>\n",
       "  </thead>\n",
       "  <tbody>\n",
       "    <tr>\n",
       "      <th>0</th>\n",
       "      <td>1880-01-01</td>\n",
       "      <td>0.0</td>\n",
       "      <td>0.0</td>\n",
       "      <td>0.1</td>\n",
       "      <td>-0.0</td>\n",
       "      <td>-0.1</td>\n",
       "      <td>-0.2</td>\n",
       "      <td>-0.2</td>\n",
       "      <td>0.1</td>\n",
       "      <td>-0.1</td>\n",
       "      <td>-0.1</td>\n",
       "      <td>0.0</td>\n",
       "      <td>0.1</td>\n",
       "      <td>SH</td>\n",
       "    </tr>\n",
       "  </tbody>\n",
       "</table>\n",
       "</div>"
      ],
      "text/plain": [
       "        Year  Jan  Feb  Mar  Apr  May  Jun  Jul  Aug  Sep  Oct  Nov  Dec area\n",
       "0 1880-01-01  0.0  0.0  0.1 -0.0 -0.1 -0.2 -0.2  0.1 -0.1 -0.1  0.0  0.1   SH"
      ]
     },
     "execution_count": 24,
     "metadata": {},
     "output_type": "execute_result"
    }
   ],
   "source": [
    "df_sh_monthly = read_raw_data('SH', file_paths_csv[2], 'M')\n",
    "df_sh_monthly.head(1)"
   ]
  },
  {
   "cell_type": "markdown",
   "id": "66b127f4-38df-45a8-9327-4e653faa8f21",
   "metadata": {
    "toc-hr-collapsed": true
   },
   "source": [
    "#### seasonal values"
   ]
  },
  {
   "cell_type": "code",
   "execution_count": 25,
   "id": "fceb13d1-eb87-4d13-ba85-648bde071d76",
   "metadata": {
    "tags": []
   },
   "outputs": [
    {
     "data": {
      "text/html": [
       "<div>\n",
       "<style scoped>\n",
       "    .dataframe tbody tr th:only-of-type {\n",
       "        vertical-align: middle;\n",
       "    }\n",
       "\n",
       "    .dataframe tbody tr th {\n",
       "        vertical-align: top;\n",
       "    }\n",
       "\n",
       "    .dataframe thead th {\n",
       "        text-align: right;\n",
       "    }\n",
       "</style>\n",
       "<table border=\"1\" class=\"dataframe\">\n",
       "  <thead>\n",
       "    <tr style=\"text-align: right;\">\n",
       "      <th></th>\n",
       "      <th>Year</th>\n",
       "      <th>DJF</th>\n",
       "      <th>MAM</th>\n",
       "      <th>JJA</th>\n",
       "      <th>SON</th>\n",
       "      <th>area</th>\n",
       "    </tr>\n",
       "  </thead>\n",
       "  <tbody>\n",
       "    <tr>\n",
       "      <th>0</th>\n",
       "      <td>1880-01-01</td>\n",
       "      <td>NaN</td>\n",
       "      <td>-0.1</td>\n",
       "      <td>-0.2</td>\n",
       "      <td>-0.2</td>\n",
       "      <td>GLB</td>\n",
       "    </tr>\n",
       "  </tbody>\n",
       "</table>\n",
       "</div>"
      ],
      "text/plain": [
       "        Year  DJF  MAM  JJA  SON area\n",
       "0 1880-01-01  NaN -0.1 -0.2 -0.2  GLB"
      ]
     },
     "execution_count": 25,
     "metadata": {},
     "output_type": "execute_result"
    }
   ],
   "source": [
    "df_glb_seasonal = read_raw_data('GLB', file_paths_csv[0], 'S')\n",
    "df_glb_seasonal.head(1)"
   ]
  },
  {
   "cell_type": "markdown",
   "id": "f2f94b4e-ded6-41a3-aa07-c9107d85fd04",
   "metadata": {
    "toc-hr-collapsed": true
   },
   "source": [
    "#### yearly values"
   ]
  },
  {
   "cell_type": "code",
   "execution_count": 26,
   "id": "e7b75a16-2629-4a64-8a58-15516cc7ad39",
   "metadata": {
    "tags": []
   },
   "outputs": [
    {
     "data": {
      "text/html": [
       "<div>\n",
       "<style scoped>\n",
       "    .dataframe tbody tr th:only-of-type {\n",
       "        vertical-align: middle;\n",
       "    }\n",
       "\n",
       "    .dataframe tbody tr th {\n",
       "        vertical-align: top;\n",
       "    }\n",
       "\n",
       "    .dataframe thead th {\n",
       "        text-align: right;\n",
       "    }\n",
       "</style>\n",
       "<table border=\"1\" class=\"dataframe\">\n",
       "  <thead>\n",
       "    <tr style=\"text-align: right;\">\n",
       "      <th></th>\n",
       "      <th>Year</th>\n",
       "      <th>J-D</th>\n",
       "      <th>area</th>\n",
       "    </tr>\n",
       "  </thead>\n",
       "  <tbody>\n",
       "    <tr>\n",
       "      <th>0</th>\n",
       "      <td>1880-01-01</td>\n",
       "      <td>-0.2</td>\n",
       "      <td>GLB</td>\n",
       "    </tr>\n",
       "  </tbody>\n",
       "</table>\n",
       "</div>"
      ],
      "text/plain": [
       "        Year  J-D area\n",
       "0 1880-01-01 -0.2  GLB"
      ]
     },
     "execution_count": 26,
     "metadata": {},
     "output_type": "execute_result"
    }
   ],
   "source": [
    "df_glb_annual = read_raw_data('GLB', file_paths_csv[0], 'Y')\n",
    "df_glb_annual .head(1)"
   ]
  },
  {
   "cell_type": "markdown",
   "id": "60d56e38-54b7-41a1-992e-d04141df1495",
   "metadata": {
    "tags": [],
    "toc-hr-collapsed": true
   },
   "source": [
    "#### zonal values"
   ]
  },
  {
   "cell_type": "code",
   "execution_count": 27,
   "id": "695597a8-221a-4c36-a4ae-0683a4ad1134",
   "metadata": {
    "tags": []
   },
   "outputs": [
    {
     "data": {
      "text/html": [
       "<div>\n",
       "<style scoped>\n",
       "    .dataframe tbody tr th:only-of-type {\n",
       "        vertical-align: middle;\n",
       "    }\n",
       "\n",
       "    .dataframe tbody tr th {\n",
       "        vertical-align: top;\n",
       "    }\n",
       "\n",
       "    .dataframe thead th {\n",
       "        text-align: right;\n",
       "    }\n",
       "</style>\n",
       "<table border=\"1\" class=\"dataframe\">\n",
       "  <thead>\n",
       "    <tr style=\"text-align: right;\">\n",
       "      <th></th>\n",
       "      <th>Year</th>\n",
       "      <th>Glob</th>\n",
       "      <th>NHem</th>\n",
       "      <th>SHem</th>\n",
       "      <th>24N-90N</th>\n",
       "      <th>24S-24N</th>\n",
       "      <th>90S-24S</th>\n",
       "      <th>64N-90N</th>\n",
       "      <th>44N-64N</th>\n",
       "      <th>24N-44N</th>\n",
       "      <th>EQU-24N</th>\n",
       "      <th>24S-EQU</th>\n",
       "      <th>44S-24S</th>\n",
       "      <th>64S-44S</th>\n",
       "      <th>90S-64S</th>\n",
       "    </tr>\n",
       "  </thead>\n",
       "  <tbody>\n",
       "    <tr>\n",
       "      <th>0</th>\n",
       "      <td>1880</td>\n",
       "      <td>-0.2</td>\n",
       "      <td>-0.3</td>\n",
       "      <td>-0.1</td>\n",
       "      <td>-0.4</td>\n",
       "      <td>-0.1</td>\n",
       "      <td>-0.0</td>\n",
       "      <td>-0.8</td>\n",
       "      <td>-0.5</td>\n",
       "      <td>-0.3</td>\n",
       "      <td>-0.1</td>\n",
       "      <td>-0.1</td>\n",
       "      <td>-0.0</td>\n",
       "      <td>0.1</td>\n",
       "      <td>0.7</td>\n",
       "    </tr>\n",
       "  </tbody>\n",
       "</table>\n",
       "</div>"
      ],
      "text/plain": [
       "   Year  Glob  NHem  SHem  24N-90N  24S-24N  90S-24S  64N-90N  44N-64N   \n",
       "0  1880  -0.2  -0.3  -0.1     -0.4     -0.1     -0.0     -0.8     -0.5  \\\n",
       "\n",
       "   24N-44N  EQU-24N  24S-EQU  44S-24S  64S-44S  90S-64S  \n",
       "0     -0.3     -0.1     -0.1     -0.0      0.1      0.7  "
      ]
     },
     "execution_count": 27,
     "metadata": {},
     "output_type": "execute_result"
    }
   ],
   "source": [
    "df_zonal = pd.read_csv(file_paths_csv[3])\n",
    "df_zonal.head(1)"
   ]
  },
  {
   "cell_type": "markdown",
   "id": "7beaf254-af07-4dc5-824a-07835414e316",
   "metadata": {
    "tags": []
   },
   "source": [
    "<a id='dr-explore'></a>\n",
    "## explore"
   ]
  },
  {
   "cell_type": "markdown",
   "id": "0a24c654-3f9a-4f73-8215-b05850b4aca6",
   "metadata": {},
   "source": [
    "[Return to Start of Notebook](#dr)  "
   ]
  },
  {
   "cell_type": "markdown",
   "id": "4cc3dfa2-d378-4fc4-856a-e780d9ab9263",
   "metadata": {},
   "source": [
    "Minimally sufficient pandas:  \n",
    "- attributes  \n",
    "  - shape, dtypes, columns, index, values  \n",
    "- methods\n",
    "  - isna, notna, idxmax, idxmin, nunique, value_counts\n",
    "- other \n",
    "  - info, len, unique"
   ]
  },
  {
   "cell_type": "markdown",
   "id": "a197db82-a77f-48fe-80f8-09651f306682",
   "metadata": {
    "tags": [],
    "toc-hr-collapsed": true
   },
   "source": [
    "### info\n",
    "df.info(memory_usage='deep')"
   ]
  },
  {
   "cell_type": "code",
   "execution_count": 28,
   "id": "12cc1403-2d33-463f-bd48-9c1e347082b7",
   "metadata": {
    "tags": []
   },
   "outputs": [
    {
     "name": "stdout",
     "output_type": "stream",
     "text": [
      "<class 'pandas.core.frame.DataFrame'>\n",
      "RangeIndex: 144 entries, 0 to 143\n",
      "Data columns (total 14 columns):\n",
      " #   Column  Non-Null Count  Dtype         \n",
      "---  ------  --------------  -----         \n",
      " 0   Year    144 non-null    datetime64[ns]\n",
      " 1   Jan     144 non-null    float64       \n",
      " 2   Feb     144 non-null    float64       \n",
      " 3   Mar     144 non-null    float64       \n",
      " 4   Apr     143 non-null    float64       \n",
      " 5   May     143 non-null    float64       \n",
      " 6   Jun     143 non-null    float64       \n",
      " 7   Jul     143 non-null    float64       \n",
      " 8   Aug     143 non-null    float64       \n",
      " 9   Sep     143 non-null    float64       \n",
      " 10  Oct     143 non-null    float64       \n",
      " 11  Nov     143 non-null    float64       \n",
      " 12  Dec     143 non-null    float64       \n",
      " 13  area    144 non-null    object        \n",
      "dtypes: datetime64[ns](1), float64(12), object(1)\n",
      "memory usage: 15.9+ KB\n"
     ]
    }
   ],
   "source": [
    "df_glb_monthly.info()"
   ]
  },
  {
   "cell_type": "markdown",
   "id": "ebb1ee07-9d82-4525-9f8f-35daf8acb98f",
   "metadata": {
    "toc-hr-collapsed": true
   },
   "source": [
    "### shape"
   ]
  },
  {
   "cell_type": "code",
   "execution_count": 29,
   "id": "a343b748-c163-486d-9ba2-2614bd13dd8a",
   "metadata": {
    "tags": []
   },
   "outputs": [
    {
     "data": {
      "text/plain": [
       "(144, 14)"
      ]
     },
     "execution_count": 29,
     "metadata": {},
     "output_type": "execute_result"
    }
   ],
   "source": [
    "df_glb_monthly.shape"
   ]
  },
  {
   "cell_type": "code",
   "execution_count": 30,
   "id": "0a42fc27-cb95-40f7-87cf-94bfda907962",
   "metadata": {
    "tags": []
   },
   "outputs": [
    {
     "data": {
      "text/plain": [
       "144"
      ]
     },
     "execution_count": 30,
     "metadata": {},
     "output_type": "execute_result"
    }
   ],
   "source": [
    "nrows = df_glb_monthly.shape[0]"
   ]
  },
  {
   "cell_type": "code",
   "execution_count": 31,
   "id": "8de85d3d-3e5d-4e87-8404-19a089a496ae",
   "metadata": {
    "tags": []
   },
   "outputs": [
    {
     "data": {
      "text/plain": [
       "14"
      ]
     },
     "execution_count": 31,
     "metadata": {},
     "output_type": "execute_result"
    }
   ],
   "source": [
    "ncols = df_glb_monthly.shape[1]"
   ]
  },
  {
   "cell_type": "code",
   "execution_count": 32,
   "id": "8b29ceab-1cb5-4a2f-80de-eefacc9f027e",
   "metadata": {
    "tags": []
   },
   "outputs": [
    {
     "data": {
      "text/plain": [
       "144"
      ]
     },
     "execution_count": 32,
     "metadata": {},
     "output_type": "execute_result"
    }
   ],
   "source": [
    "nrows = len(df_glb_monthly)"
   ]
  },
  {
   "cell_type": "markdown",
   "id": "a72be9ef-f33b-4c80-a573-88965cd7d066",
   "metadata": {
    "tags": [],
    "toc-hr-collapsed": true
   },
   "source": [
    "### dtypes\n",
    "returns series"
   ]
  },
  {
   "cell_type": "code",
   "execution_count": 33,
   "id": "99eff696-971c-424d-b2c9-a2b9c92163e7",
   "metadata": {
    "tags": []
   },
   "outputs": [
    {
     "data": {
      "text/plain": [
       "Year    datetime64[ns]\n",
       "Jan            float64\n",
       "Feb            float64\n",
       "Mar            float64\n",
       "Apr            float64\n",
       "             ...      \n",
       "Sep            float64\n",
       "Oct            float64\n",
       "Nov            float64\n",
       "Dec            float64\n",
       "area            object\n",
       "Length: 14, dtype: object"
      ]
     },
     "execution_count": 33,
     "metadata": {},
     "output_type": "execute_result"
    }
   ],
   "source": [
    "df_glb_monthly.dtypes"
   ]
  },
  {
   "cell_type": "code",
   "execution_count": 34,
   "id": "2886ac8f-062c-4de0-8f8a-9971ed45e2e0",
   "metadata": {
    "tags": []
   },
   "outputs": [
    {
     "data": {
      "text/plain": [
       "float64           12\n",
       "datetime64[ns]     1\n",
       "object             1\n",
       "Name: count, dtype: int64"
      ]
     },
     "execution_count": 34,
     "metadata": {},
     "output_type": "execute_result"
    }
   ],
   "source": [
    "df_glb_monthly.dtypes.value_counts()"
   ]
  },
  {
   "cell_type": "markdown",
   "id": "8f225db0-0dca-4c3e-b018-d91010680f68",
   "metadata": {
    "tags": [],
    "toc-hr-collapsed": true
   },
   "source": [
    "### columns"
   ]
  },
  {
   "cell_type": "code",
   "execution_count": 35,
   "id": "3e0c4657-5f1b-4258-8a5d-a98558443ac9",
   "metadata": {
    "tags": []
   },
   "outputs": [
    {
     "data": {
      "text/plain": [
       "Index(['Year', 'Jan', 'Feb', 'Mar', 'Apr', 'May', 'Jun', 'Jul', 'Aug', 'Sep',\n",
       "       'Oct', 'Nov', 'Dec', 'area'],\n",
       "      dtype='object')"
      ]
     },
     "execution_count": 35,
     "metadata": {},
     "output_type": "execute_result"
    }
   ],
   "source": [
    "cols = df_glb_monthly.columns"
   ]
  },
  {
   "cell_type": "code",
   "execution_count": 36,
   "id": "0e944cb0-113b-4704-b353-e645e3907147",
   "metadata": {
    "tags": []
   },
   "outputs": [
    {
     "name": "stdout",
     "output_type": "stream",
     "text": [
      "['Year', 'Jan', 'Feb', 'Mar', 'Apr', 'May', 'Jun', 'Jul', 'Aug', 'Sep', 'Oct', 'Nov', 'Dec', 'area']\n"
     ]
    }
   ],
   "source": [
    "cols = list(df_glb_monthly.columns)\n",
    "print(cols)"
   ]
  },
  {
   "cell_type": "markdown",
   "id": "c61665a2-4d2d-499a-9e21-bb4c7a6186c7",
   "metadata": {
    "tags": [],
    "toc-hr-collapsed": true
   },
   "source": [
    "### index \n",
    "- default index is type RangeIndex"
   ]
  },
  {
   "cell_type": "code",
   "execution_count": 37,
   "id": "18c27fc1-b692-47a2-a9f3-2a46c3898680",
   "metadata": {
    "tags": []
   },
   "outputs": [
    {
     "data": {
      "text/plain": [
       "RangeIndex(start=0, stop=144, step=1)"
      ]
     },
     "execution_count": 37,
     "metadata": {},
     "output_type": "execute_result"
    }
   ],
   "source": [
    "index_values = df_glb_monthly.index"
   ]
  },
  {
   "cell_type": "code",
   "execution_count": 38,
   "id": "49897c64-0277-414d-9e57-c3e3e37e44d4",
   "metadata": {
    "tags": []
   },
   "outputs": [
    {
     "data": {
      "text/plain": [
       "pandas.core.indexes.range.RangeIndex"
      ]
     },
     "execution_count": 38,
     "metadata": {},
     "output_type": "execute_result"
    }
   ],
   "source": [
    "type(df_glb_monthly.index)"
   ]
  },
  {
   "cell_type": "code",
   "execution_count": 39,
   "id": "5b28c5b8-80bd-4d54-a5fc-e1f497af05ae",
   "metadata": {
    "tags": []
   },
   "outputs": [
    {
     "name": "stdout",
     "output_type": "stream",
     "text": [
      "None\n"
     ]
    }
   ],
   "source": [
    "print(df_glb_monthly.index.name)"
   ]
  },
  {
   "cell_type": "code",
   "execution_count": 40,
   "id": "a05edcca-83fc-44c1-ab93-41e578e4c060",
   "metadata": {
    "tags": []
   },
   "outputs": [
    {
     "data": {
      "text/plain": [
       "143"
      ]
     },
     "execution_count": 40,
     "metadata": {},
     "output_type": "execute_result"
    }
   ],
   "source": [
    "df_glb_monthly.index.max()"
   ]
  },
  {
   "cell_type": "markdown",
   "id": "2b262f83-b101-4f31-a2dd-fad4d1fc5764",
   "metadata": {
    "tags": [],
    "toc-hr-collapsed": true
   },
   "source": [
    "### values"
   ]
  },
  {
   "cell_type": "markdown",
   "id": "f193e278-f052-4d0b-aace-e1cf276cac85",
   "metadata": {},
   "source": [
    "- pandas has separate numpy arrays for each data type in the df  \n",
    "- when you access the values attribute, it concatenates them into a single array"
   ]
  },
  {
   "cell_type": "markdown",
   "id": "10a01c08-3fb9-429b-81ff-92eb6908e8ad",
   "metadata": {},
   "source": [
    "values returns a numpy array which can be used to improve performance when selecting single values"
   ]
  },
  {
   "cell_type": "code",
   "execution_count": 41,
   "id": "a82dfcf7-48f9-46f1-83d4-0049a597bd32",
   "metadata": {
    "tags": []
   },
   "outputs": [
    {
     "data": {
      "text/plain": [
       "numpy.ndarray"
      ]
     },
     "execution_count": 41,
     "metadata": {},
     "output_type": "execute_result"
    }
   ],
   "source": [
    "type(df_glb_monthly.values)"
   ]
  },
  {
   "cell_type": "code",
   "execution_count": 42,
   "id": "c966a955-9c41-4330-aaf9-4e4e0df76270",
   "metadata": {
    "tags": []
   },
   "outputs": [
    {
     "data": {
      "text/plain": [
       "array([Timestamp('1880-01-01 00:00:00'), -0.18, -0.24, -0.09, -0.16, -0.1,\n",
       "       -0.21, -0.18, -0.1, -0.15, -0.23, -0.22, -0.17, 'GLB'],\n",
       "      dtype=object)"
      ]
     },
     "execution_count": 42,
     "metadata": {},
     "output_type": "execute_result"
    }
   ],
   "source": [
    "df_glb_monthly.values[0]"
   ]
  },
  {
   "cell_type": "code",
   "execution_count": 43,
   "id": "56c8d2d9-f3e9-405e-acab-0b5301762a13",
   "metadata": {
    "tags": []
   },
   "outputs": [
    {
     "name": "stdout",
     "output_type": "stream",
     "text": [
      "[Timestamp('1880-01-01 00:00:00'), -0.18, -0.24, -0.09, -0.16, -0.1, -0.21, -0.18, -0.1, -0.15, -0.23, -0.22, -0.17, 'GLB']\n"
     ]
    }
   ],
   "source": [
    "val_list = df_glb_monthly.values.tolist()\n",
    "print(val_list[0])"
   ]
  },
  {
   "cell_type": "markdown",
   "id": "093aafad-7491-475e-bcb7-ab2ccc5c2068",
   "metadata": {
    "toc-hr-collapsed": true
   },
   "source": [
    "### isna"
   ]
  },
  {
   "cell_type": "markdown",
   "id": "03b80015-5143-442b-95cd-0781f3daf9ec",
   "metadata": {
    "toc-hr-collapsed": true
   },
   "source": [
    "#### .isna.sum()"
   ]
  },
  {
   "cell_type": "code",
   "execution_count": 44,
   "id": "20115d15-06ce-4c9c-a79a-2bb602e8bc58",
   "metadata": {
    "tags": []
   },
   "outputs": [
    {
     "data": {
      "text/plain": [
       "9"
      ]
     },
     "execution_count": 44,
     "metadata": {},
     "output_type": "execute_result"
    }
   ],
   "source": [
    "df_glb_monthly.isna().sum().sum() # total in df"
   ]
  },
  {
   "cell_type": "code",
   "execution_count": 45,
   "id": "5a3158b2-c2be-4b8f-8bdd-edca398ae7b2",
   "metadata": {
    "tags": []
   },
   "outputs": [
    {
     "data": {
      "text/plain": [
       "Year    0\n",
       "Jan     0\n",
       "Feb     0\n",
       "Mar     0\n",
       "Apr     1\n",
       "       ..\n",
       "Sep     1\n",
       "Oct     1\n",
       "Nov     1\n",
       "Dec     1\n",
       "area    0\n",
       "Length: 14, dtype: int64"
      ]
     },
     "execution_count": 45,
     "metadata": {},
     "output_type": "execute_result"
    }
   ],
   "source": [
    "df_glb_monthly.isna().sum() # count by column"
   ]
  },
  {
   "cell_type": "code",
   "execution_count": 46,
   "id": "17fcc7df-a8d2-4719-9762-aa05a8052c6f",
   "metadata": {
    "tags": []
   },
   "outputs": [
    {
     "data": {
      "text/plain": [
       "0      0\n",
       "1      0\n",
       "2      0\n",
       "3      0\n",
       "4      0\n",
       "      ..\n",
       "139    0\n",
       "140    0\n",
       "141    0\n",
       "142    0\n",
       "143    9\n",
       "Length: 144, dtype: int64"
      ]
     },
     "execution_count": 46,
     "metadata": {},
     "output_type": "execute_result"
    }
   ],
   "source": [
    "df_glb_monthly.isna().sum(axis=1) # count by row (sort first)"
   ]
  },
  {
   "cell_type": "markdown",
   "id": "275d2899-dd11-4c0e-9fbc-9918f4ceb65c",
   "metadata": {
    "toc-hr-collapsed": true
   },
   "source": [
    "#### .isna.any()"
   ]
  },
  {
   "cell_type": "code",
   "execution_count": 47,
   "id": "130516dd-b194-4370-854d-066727c47d33",
   "metadata": {
    "tags": []
   },
   "outputs": [
    {
     "data": {
      "text/plain": [
       "1"
      ]
     },
     "execution_count": 47,
     "metadata": {},
     "output_type": "execute_result"
    }
   ],
   "source": [
    "df_glb_monthly.isna().any(axis=1).sum() # number of rows"
   ]
  },
  {
   "cell_type": "code",
   "execution_count": 48,
   "id": "22f7be8f-9118-467d-b9cf-69edc878b300",
   "metadata": {
    "tags": []
   },
   "outputs": [
    {
     "data": {
      "text/html": [
       "<div>\n",
       "<style scoped>\n",
       "    .dataframe tbody tr th:only-of-type {\n",
       "        vertical-align: middle;\n",
       "    }\n",
       "\n",
       "    .dataframe tbody tr th {\n",
       "        vertical-align: top;\n",
       "    }\n",
       "\n",
       "    .dataframe thead th {\n",
       "        text-align: right;\n",
       "    }\n",
       "</style>\n",
       "<table border=\"1\" class=\"dataframe\">\n",
       "  <thead>\n",
       "    <tr style=\"text-align: right;\">\n",
       "      <th></th>\n",
       "      <th>Year</th>\n",
       "      <th>Jan</th>\n",
       "      <th>Feb</th>\n",
       "      <th>Mar</th>\n",
       "      <th>Apr</th>\n",
       "      <th>May</th>\n",
       "      <th>Jun</th>\n",
       "      <th>Jul</th>\n",
       "      <th>Aug</th>\n",
       "      <th>Sep</th>\n",
       "      <th>Oct</th>\n",
       "      <th>Nov</th>\n",
       "      <th>Dec</th>\n",
       "      <th>area</th>\n",
       "    </tr>\n",
       "  </thead>\n",
       "  <tbody>\n",
       "    <tr>\n",
       "      <th>143</th>\n",
       "      <td>2023-01-01</td>\n",
       "      <td>0.9</td>\n",
       "      <td>1.0</td>\n",
       "      <td>1.2</td>\n",
       "      <td>NaN</td>\n",
       "      <td>NaN</td>\n",
       "      <td>NaN</td>\n",
       "      <td>NaN</td>\n",
       "      <td>NaN</td>\n",
       "      <td>NaN</td>\n",
       "      <td>NaN</td>\n",
       "      <td>NaN</td>\n",
       "      <td>NaN</td>\n",
       "      <td>GLB</td>\n",
       "    </tr>\n",
       "  </tbody>\n",
       "</table>\n",
       "</div>"
      ],
      "text/plain": [
       "          Year  Jan  Feb  Mar  Apr  May  Jun  Jul  Aug  Sep  Oct  Nov  Dec   \n",
       "143 2023-01-01  0.9  1.0  1.2  NaN  NaN  NaN  NaN  NaN  NaN  NaN  NaN  NaN  \\\n",
       "\n",
       "    area  \n",
       "143  GLB  "
      ]
     },
     "execution_count": 48,
     "metadata": {},
     "output_type": "execute_result"
    }
   ],
   "source": [
    "filt = df_glb_monthly.isna().any(axis=1)\n",
    "na_recs = df_glb_monthly.loc[filt]\n",
    "na_recs.head(3)"
   ]
  },
  {
   "cell_type": "code",
   "execution_count": 49,
   "id": "bbe920fe-6e1f-4c62-bf3e-b42d4feac570",
   "metadata": {
    "tags": []
   },
   "outputs": [
    {
     "data": {
      "text/plain": [
       "9"
      ]
     },
     "execution_count": 49,
     "metadata": {},
     "output_type": "execute_result"
    }
   ],
   "source": [
    "df_glb_monthly.isna().any().sum() # number of columns"
   ]
  },
  {
   "cell_type": "code",
   "execution_count": 50,
   "id": "b0820e75-fdda-4c2a-9692-22565910ff72",
   "metadata": {
    "tags": []
   },
   "outputs": [
    {
     "data": {
      "text/plain": [
       "Year    False\n",
       "Jan     False\n",
       "Feb     False\n",
       "Mar     False\n",
       "Apr      True\n",
       "        ...  \n",
       "Sep      True\n",
       "Oct      True\n",
       "Nov      True\n",
       "Dec      True\n",
       "area    False\n",
       "Length: 14, dtype: bool"
      ]
     },
     "execution_count": 50,
     "metadata": {},
     "output_type": "execute_result"
    }
   ],
   "source": [
    "df_glb_monthly.isna().any() # which columns"
   ]
  },
  {
   "cell_type": "code",
   "execution_count": 51,
   "id": "10253f32-4ff3-47d6-b1ac-fefc2bd68505",
   "metadata": {
    "tags": []
   },
   "outputs": [
    {
     "data": {
      "text/plain": [
       "0      False\n",
       "1      False\n",
       "2      False\n",
       "3      False\n",
       "4      False\n",
       "       ...  \n",
       "139    False\n",
       "140    False\n",
       "141    False\n",
       "142    False\n",
       "143     True\n",
       "Length: 144, dtype: bool"
      ]
     },
     "execution_count": 51,
     "metadata": {},
     "output_type": "execute_result"
    }
   ],
   "source": [
    "df_glb_monthly.isna().any(axis=1) # which rows"
   ]
  },
  {
   "cell_type": "code",
   "execution_count": 52,
   "id": "9fbfde2c-e61d-4c41-bdfe-93708f002408",
   "metadata": {
    "tags": []
   },
   "outputs": [
    {
     "data": {
      "text/plain": [
       "Year   0.0\n",
       "Jan    0.0\n",
       "Feb    0.0\n",
       "Mar    0.0\n",
       "Apr    0.7\n",
       "        ..\n",
       "Sep    0.7\n",
       "Oct    0.7\n",
       "Nov    0.7\n",
       "Dec    0.7\n",
       "area   0.0\n",
       "Length: 14, dtype: float64"
      ]
     },
     "execution_count": 52,
     "metadata": {},
     "output_type": "execute_result"
    }
   ],
   "source": [
    "df_glb_monthly.isna().mean().round(3) * 100 # percentage that are nan"
   ]
  },
  {
   "cell_type": "markdown",
   "id": "ff5dba49-7f17-4ff7-984c-16509e99f3f5",
   "metadata": {},
   "source": [
    "#### notna"
   ]
  },
  {
   "cell_type": "code",
   "execution_count": 53,
   "id": "67b53367-2eb3-43fb-a799-83748e345412",
   "metadata": {
    "tags": []
   },
   "outputs": [
    {
     "data": {
      "text/plain": [
       "2007"
      ]
     },
     "execution_count": 53,
     "metadata": {},
     "output_type": "execute_result"
    }
   ],
   "source": [
    "df_glb_monthly.notna().sum().sum() # total in df"
   ]
  },
  {
   "cell_type": "code",
   "execution_count": 54,
   "id": "d5a35e1a-b2a1-4f37-9ec7-25cf319ec73a",
   "metadata": {
    "tags": []
   },
   "outputs": [
    {
     "data": {
      "text/plain": [
       "Year     True\n",
       "Jan      True\n",
       "Feb      True\n",
       "Mar      True\n",
       "Apr     False\n",
       "        ...  \n",
       "Sep     False\n",
       "Oct     False\n",
       "Nov     False\n",
       "Dec     False\n",
       "area     True\n",
       "Length: 14, dtype: bool"
      ]
     },
     "execution_count": 54,
     "metadata": {},
     "output_type": "execute_result"
    }
   ],
   "source": [
    "df_glb_monthly.notna().all(axis=0) # which columns"
   ]
  },
  {
   "cell_type": "code",
   "execution_count": 55,
   "id": "81566c5a-fc2a-4d56-9c67-bf3a1e19a2d2",
   "metadata": {
    "tags": []
   },
   "outputs": [
    {
     "data": {
      "text/plain": [
       "141     True\n",
       "142     True\n",
       "143    False\n",
       "dtype: bool"
      ]
     },
     "execution_count": 55,
     "metadata": {},
     "output_type": "execute_result"
    }
   ],
   "source": [
    "df_glb_monthly.notna().all(axis=1).tail(3) # which rows"
   ]
  },
  {
   "cell_type": "markdown",
   "id": "fb3ebab2-fea9-485f-85b1-8a09592d2220",
   "metadata": {
    "toc-hr-collapsed": true
   },
   "source": [
    "<a id='dr-combine'></a>\n",
    "## combine"
   ]
  },
  {
   "cell_type": "markdown",
   "id": "76441e0e-3eb0-42e0-9afc-236d871704d7",
   "metadata": {},
   "source": [
    "[Return to Start of Notebook](#dr)  "
   ]
  },
  {
   "cell_type": "markdown",
   "id": "9b6624f7-5bbd-4c76-b312-b56b1a9c2c13",
   "metadata": {},
   "source": [
    "- pd.concat() for combining DataFrames across rows or columns\n",
    "- pd.merge() for combining data on common columns or indices\n",
    "- .join() for combining data on a key column or an index"
   ]
  },
  {
   "cell_type": "markdown",
   "id": "a5deb6cf-d999-4faa-a37a-66e5837135fa",
   "metadata": {
    "toc-hr-collapsed": true
   },
   "source": [
    "### concatenate"
   ]
  },
  {
   "cell_type": "markdown",
   "id": "91abbd2e-fa28-4ec6-912a-ea74f6bdeab5",
   "metadata": {
    "toc-hr-collapsed": true
   },
   "source": [
    "#### vertical (add new rows): axis=0"
   ]
  },
  {
   "cell_type": "code",
   "execution_count": 56,
   "id": "55585536-e1ed-4d47-a98e-b0146b3daead",
   "metadata": {
    "tags": []
   },
   "outputs": [
    {
     "name": "stdout",
     "output_type": "stream",
     "text": [
      "432\n"
     ]
    }
   ],
   "source": [
    "dfs_to_concat = [df_glb_monthly,\n",
    "                 df_nh_monthly,\n",
    "                 df_sh_monthly]\n",
    "df_concat_v = pd.concat(dfs_to_concat,\n",
    "                        ignore_index=True, # will create new index\n",
    "                        axis=0)\n",
    "print(len(df_concat_v))"
   ]
  },
  {
   "cell_type": "code",
   "execution_count": 57,
   "id": "379aa589-4a32-4099-9c17-90a9e86d8be0",
   "metadata": {
    "tags": []
   },
   "outputs": [
    {
     "data": {
      "text/html": [
       "<div>\n",
       "<style scoped>\n",
       "    .dataframe tbody tr th:only-of-type {\n",
       "        vertical-align: middle;\n",
       "    }\n",
       "\n",
       "    .dataframe tbody tr th {\n",
       "        vertical-align: top;\n",
       "    }\n",
       "\n",
       "    .dataframe thead th {\n",
       "        text-align: right;\n",
       "    }\n",
       "</style>\n",
       "<table border=\"1\" class=\"dataframe\">\n",
       "  <thead>\n",
       "    <tr style=\"text-align: right;\">\n",
       "      <th></th>\n",
       "      <th>Year</th>\n",
       "      <th>Jan</th>\n",
       "      <th>Feb</th>\n",
       "      <th>Mar</th>\n",
       "      <th>Apr</th>\n",
       "      <th>May</th>\n",
       "      <th>Jun</th>\n",
       "      <th>Jul</th>\n",
       "      <th>Aug</th>\n",
       "      <th>Sep</th>\n",
       "      <th>Oct</th>\n",
       "      <th>Nov</th>\n",
       "      <th>Dec</th>\n",
       "      <th>area</th>\n",
       "    </tr>\n",
       "  </thead>\n",
       "  <tbody>\n",
       "    <tr>\n",
       "      <th>0</th>\n",
       "      <td>1880-01-01</td>\n",
       "      <td>-0.2</td>\n",
       "      <td>-0.2</td>\n",
       "      <td>-0.1</td>\n",
       "      <td>-0.2</td>\n",
       "      <td>-0.1</td>\n",
       "      <td>-0.2</td>\n",
       "      <td>-0.2</td>\n",
       "      <td>-0.1</td>\n",
       "      <td>-0.1</td>\n",
       "      <td>-0.2</td>\n",
       "      <td>-0.2</td>\n",
       "      <td>-0.2</td>\n",
       "      <td>GLB</td>\n",
       "    </tr>\n",
       "  </tbody>\n",
       "</table>\n",
       "</div>"
      ],
      "text/plain": [
       "        Year  Jan  Feb  Mar  Apr  May  Jun  Jul  Aug  Sep  Oct  Nov  Dec area\n",
       "0 1880-01-01 -0.2 -0.2 -0.1 -0.2 -0.1 -0.2 -0.2 -0.1 -0.1 -0.2 -0.2 -0.2  GLB"
      ]
     },
     "execution_count": 57,
     "metadata": {},
     "output_type": "execute_result"
    }
   ],
   "source": [
    "df_concat_v.head(1)"
   ]
  },
  {
   "cell_type": "code",
   "execution_count": 58,
   "id": "0cd4b880-1654-4a7c-bc5c-5514fba70c57",
   "metadata": {
    "tags": []
   },
   "outputs": [
    {
     "data": {
      "text/html": [
       "<div>\n",
       "<style scoped>\n",
       "    .dataframe tbody tr th:only-of-type {\n",
       "        vertical-align: middle;\n",
       "    }\n",
       "\n",
       "    .dataframe tbody tr th {\n",
       "        vertical-align: top;\n",
       "    }\n",
       "\n",
       "    .dataframe thead th {\n",
       "        text-align: right;\n",
       "    }\n",
       "</style>\n",
       "<table border=\"1\" class=\"dataframe\">\n",
       "  <thead>\n",
       "    <tr style=\"text-align: right;\">\n",
       "      <th></th>\n",
       "      <th>Year</th>\n",
       "      <th>Jan</th>\n",
       "      <th>Feb</th>\n",
       "      <th>Mar</th>\n",
       "      <th>Apr</th>\n",
       "      <th>May</th>\n",
       "      <th>Jun</th>\n",
       "      <th>Jul</th>\n",
       "      <th>Aug</th>\n",
       "      <th>Sep</th>\n",
       "      <th>Oct</th>\n",
       "      <th>Nov</th>\n",
       "      <th>Dec</th>\n",
       "      <th>area</th>\n",
       "    </tr>\n",
       "  </thead>\n",
       "  <tbody>\n",
       "    <tr>\n",
       "      <th>431</th>\n",
       "      <td>2023-01-01</td>\n",
       "      <td>0.4</td>\n",
       "      <td>0.6</td>\n",
       "      <td>0.8</td>\n",
       "      <td>NaN</td>\n",
       "      <td>NaN</td>\n",
       "      <td>NaN</td>\n",
       "      <td>NaN</td>\n",
       "      <td>NaN</td>\n",
       "      <td>NaN</td>\n",
       "      <td>NaN</td>\n",
       "      <td>NaN</td>\n",
       "      <td>NaN</td>\n",
       "      <td>SH</td>\n",
       "    </tr>\n",
       "  </tbody>\n",
       "</table>\n",
       "</div>"
      ],
      "text/plain": [
       "          Year  Jan  Feb  Mar  Apr  May  Jun  Jul  Aug  Sep  Oct  Nov  Dec   \n",
       "431 2023-01-01  0.4  0.6  0.8  NaN  NaN  NaN  NaN  NaN  NaN  NaN  NaN  NaN  \\\n",
       "\n",
       "    area  \n",
       "431   SH  "
      ]
     },
     "execution_count": 58,
     "metadata": {},
     "output_type": "execute_result"
    }
   ],
   "source": [
    "df_concat_v.tail(1)"
   ]
  },
  {
   "cell_type": "markdown",
   "id": "49870977-9432-40ea-8d99-feb4decb31cf",
   "metadata": {
    "toc-hr-collapsed": true
   },
   "source": [
    "#### horizontal (add new columns): axis=1"
   ]
  },
  {
   "cell_type": "code",
   "execution_count": 59,
   "id": "d7ab044b-0cd3-4ac0-9312-a8a8015bed65",
   "metadata": {
    "tags": []
   },
   "outputs": [
    {
     "name": "stdout",
     "output_type": "stream",
     "text": [
      "144\n"
     ]
    }
   ],
   "source": [
    "dfs_to_concat = [df_glb_seasonal,\n",
    "                 df_glb_annual]\n",
    "df_concat_h = pd.concat(dfs_to_concat,axis=1)\n",
    "print(len(df_concat_h))"
   ]
  },
  {
   "cell_type": "code",
   "execution_count": 60,
   "id": "78f84099-d20e-4521-87fe-ef363f500bb9",
   "metadata": {
    "tags": []
   },
   "outputs": [
    {
     "data": {
      "text/html": [
       "<div>\n",
       "<style scoped>\n",
       "    .dataframe tbody tr th:only-of-type {\n",
       "        vertical-align: middle;\n",
       "    }\n",
       "\n",
       "    .dataframe tbody tr th {\n",
       "        vertical-align: top;\n",
       "    }\n",
       "\n",
       "    .dataframe thead th {\n",
       "        text-align: right;\n",
       "    }\n",
       "</style>\n",
       "<table border=\"1\" class=\"dataframe\">\n",
       "  <thead>\n",
       "    <tr style=\"text-align: right;\">\n",
       "      <th></th>\n",
       "      <th>Year</th>\n",
       "      <th>DJF</th>\n",
       "      <th>MAM</th>\n",
       "      <th>JJA</th>\n",
       "      <th>SON</th>\n",
       "      <th>area</th>\n",
       "      <th>Year</th>\n",
       "      <th>J-D</th>\n",
       "      <th>area</th>\n",
       "    </tr>\n",
       "  </thead>\n",
       "  <tbody>\n",
       "    <tr>\n",
       "      <th>0</th>\n",
       "      <td>1880-01-01</td>\n",
       "      <td>NaN</td>\n",
       "      <td>-0.1</td>\n",
       "      <td>-0.2</td>\n",
       "      <td>-0.2</td>\n",
       "      <td>GLB</td>\n",
       "      <td>1880-01-01</td>\n",
       "      <td>-0.2</td>\n",
       "      <td>GLB</td>\n",
       "    </tr>\n",
       "  </tbody>\n",
       "</table>\n",
       "</div>"
      ],
      "text/plain": [
       "        Year  DJF  MAM  JJA  SON area       Year  J-D area\n",
       "0 1880-01-01  NaN -0.1 -0.2 -0.2  GLB 1880-01-01 -0.2  GLB"
      ]
     },
     "execution_count": 60,
     "metadata": {},
     "output_type": "execute_result"
    }
   ],
   "source": [
    "df_concat_h.head(1)"
   ]
  },
  {
   "cell_type": "markdown",
   "id": "e8a8492b-54a6-40c7-be86-2d8bd3120384",
   "metadata": {
    "tags": [],
    "toc-hr-collapsed": true
   },
   "source": [
    "### merge"
   ]
  },
  {
   "cell_type": "markdown",
   "id": "25b71c6f-424e-46ce-abbc-f769bfac6713",
   "metadata": {},
   "source": [
    "- only joins dfs horizontally\n",
    "- only exactly two dfs\n",
    "- has options for inner, left, right, outer, cross\n",
    "- can use any columns to match the dfs\n",
    "- will create unique column names\n",
    "- arguments\n",
    "  - left—The first (“left”) layer  \n",
    "  - right—The second (“right”) layer  \n",
    "  - how—The type of join, one of: \"left\", \"right\", \"outer\", \"inner\", \"cross\" (default is \"inner\")  \n",
    "  - on—The name of the common column where identical values are considered a “match”"
   ]
  },
  {
   "cell_type": "markdown",
   "id": "cec5d62b-7cf5-4068-9ee4-f5683bbe3fb1",
   "metadata": {
    "toc-hr-collapsed": true
   },
   "source": [
    "#### verify dfs can merge"
   ]
  },
  {
   "cell_type": "code",
   "execution_count": 61,
   "id": "383fb4ef-1690-4c07-a57c-e1902086d3bc",
   "metadata": {
    "tags": []
   },
   "outputs": [
    {
     "name": "stdout",
     "output_type": "stream",
     "text": [
      "True\n",
      "True\n",
      "True\n"
     ]
    }
   ],
   "source": [
    "print(df_nh_monthly.index.max() == df_sh_monthly.index.max())\n",
    "print(df_nh_monthly.index.min() == df_sh_monthly.index.min())\n",
    "print(df_nh_monthly.shape == df_sh_monthly.shape)"
   ]
  },
  {
   "cell_type": "markdown",
   "id": "e59aa06e-5eb0-4891-bce3-5666f6863886",
   "metadata": {
    "toc-hr-collapsed": true
   },
   "source": [
    "#### merge (using columns)"
   ]
  },
  {
   "cell_type": "code",
   "execution_count": 62,
   "id": "498b197c-84ad-48de-a74a-ec454e0cd80a",
   "metadata": {
    "tags": []
   },
   "outputs": [
    {
     "data": {
      "text/html": [
       "<div>\n",
       "<style scoped>\n",
       "    .dataframe tbody tr th:only-of-type {\n",
       "        vertical-align: middle;\n",
       "    }\n",
       "\n",
       "    .dataframe tbody tr th {\n",
       "        vertical-align: top;\n",
       "    }\n",
       "\n",
       "    .dataframe thead th {\n",
       "        text-align: right;\n",
       "    }\n",
       "</style>\n",
       "<table border=\"1\" class=\"dataframe\">\n",
       "  <thead>\n",
       "    <tr style=\"text-align: right;\">\n",
       "      <th></th>\n",
       "      <th>Year</th>\n",
       "      <th>J-D</th>\n",
       "      <th>area</th>\n",
       "      <th>DJF</th>\n",
       "      <th>MAM</th>\n",
       "      <th>JJA</th>\n",
       "      <th>SON</th>\n",
       "    </tr>\n",
       "  </thead>\n",
       "  <tbody>\n",
       "    <tr>\n",
       "      <th>0</th>\n",
       "      <td>1880-01-01</td>\n",
       "      <td>-0.2</td>\n",
       "      <td>GLB</td>\n",
       "      <td>NaN</td>\n",
       "      <td>-0.1</td>\n",
       "      <td>-0.2</td>\n",
       "      <td>-0.2</td>\n",
       "    </tr>\n",
       "    <tr>\n",
       "      <th>1</th>\n",
       "      <td>1881-01-01</td>\n",
       "      <td>-0.1</td>\n",
       "      <td>GLB</td>\n",
       "      <td>-0.2</td>\n",
       "      <td>0.1</td>\n",
       "      <td>-0.1</td>\n",
       "      <td>-0.2</td>\n",
       "    </tr>\n",
       "    <tr>\n",
       "      <th>2</th>\n",
       "      <td>1882-01-01</td>\n",
       "      <td>-0.1</td>\n",
       "      <td>GLB</td>\n",
       "      <td>0.1</td>\n",
       "      <td>-0.1</td>\n",
       "      <td>-0.2</td>\n",
       "      <td>-0.2</td>\n",
       "    </tr>\n",
       "  </tbody>\n",
       "</table>\n",
       "</div>"
      ],
      "text/plain": [
       "        Year  J-D area  DJF  MAM  JJA  SON\n",
       "0 1880-01-01 -0.2  GLB  NaN -0.1 -0.2 -0.2\n",
       "1 1881-01-01 -0.1  GLB -0.2  0.1 -0.1 -0.2\n",
       "2 1882-01-01 -0.1  GLB  0.1 -0.1 -0.2 -0.2"
      ]
     },
     "execution_count": 62,
     "metadata": {},
     "output_type": "execute_result"
    }
   ],
   "source": [
    "df_merge = pd.merge(df_glb_annual,\n",
    "                    df_glb_seasonal,\n",
    "                    how='inner',\n",
    "                    on = ['Year','area'])\n",
    "df_merge.head(3)"
   ]
  },
  {
   "cell_type": "markdown",
   "id": "f2d0fadc-ba45-40b5-a3a6-fe74ca4f101e",
   "metadata": {
    "toc-hr-collapsed": true
   },
   "source": [
    "#### merge (using index)  "
   ]
  },
  {
   "cell_type": "code",
   "execution_count": 63,
   "id": "ac70ff96-b9c3-4ba5-b69b-f5888b3df694",
   "metadata": {
    "tags": []
   },
   "outputs": [
    {
     "data": {
      "text/html": [
       "<div>\n",
       "<style scoped>\n",
       "    .dataframe tbody tr th:only-of-type {\n",
       "        vertical-align: middle;\n",
       "    }\n",
       "\n",
       "    .dataframe tbody tr th {\n",
       "        vertical-align: top;\n",
       "    }\n",
       "\n",
       "    .dataframe thead th {\n",
       "        text-align: right;\n",
       "    }\n",
       "</style>\n",
       "<table border=\"1\" class=\"dataframe\">\n",
       "  <thead>\n",
       "    <tr style=\"text-align: right;\">\n",
       "      <th></th>\n",
       "      <th>Year_ann</th>\n",
       "      <th>J-D</th>\n",
       "      <th>area_ann</th>\n",
       "      <th>Year_ssn</th>\n",
       "      <th>DJF</th>\n",
       "      <th>MAM</th>\n",
       "      <th>JJA</th>\n",
       "      <th>SON</th>\n",
       "      <th>area_ssn</th>\n",
       "    </tr>\n",
       "  </thead>\n",
       "  <tbody>\n",
       "    <tr>\n",
       "      <th>0</th>\n",
       "      <td>1880-01-01</td>\n",
       "      <td>-0.2</td>\n",
       "      <td>GLB</td>\n",
       "      <td>1880-01-01</td>\n",
       "      <td>NaN</td>\n",
       "      <td>-0.1</td>\n",
       "      <td>-0.2</td>\n",
       "      <td>-0.2</td>\n",
       "      <td>GLB</td>\n",
       "    </tr>\n",
       "    <tr>\n",
       "      <th>1</th>\n",
       "      <td>1881-01-01</td>\n",
       "      <td>-0.1</td>\n",
       "      <td>GLB</td>\n",
       "      <td>1881-01-01</td>\n",
       "      <td>-0.2</td>\n",
       "      <td>0.1</td>\n",
       "      <td>-0.1</td>\n",
       "      <td>-0.2</td>\n",
       "      <td>GLB</td>\n",
       "    </tr>\n",
       "    <tr>\n",
       "      <th>2</th>\n",
       "      <td>1882-01-01</td>\n",
       "      <td>-0.1</td>\n",
       "      <td>GLB</td>\n",
       "      <td>1882-01-01</td>\n",
       "      <td>0.1</td>\n",
       "      <td>-0.1</td>\n",
       "      <td>-0.2</td>\n",
       "      <td>-0.2</td>\n",
       "      <td>GLB</td>\n",
       "    </tr>\n",
       "  </tbody>\n",
       "</table>\n",
       "</div>"
      ],
      "text/plain": [
       "    Year_ann  J-D area_ann   Year_ssn  DJF  MAM  JJA  SON area_ssn\n",
       "0 1880-01-01 -0.2      GLB 1880-01-01  NaN -0.1 -0.2 -0.2      GLB\n",
       "1 1881-01-01 -0.1      GLB 1881-01-01 -0.2  0.1 -0.1 -0.2      GLB\n",
       "2 1882-01-01 -0.1      GLB 1882-01-01  0.1 -0.1 -0.2 -0.2      GLB"
      ]
     },
     "execution_count": 63,
     "metadata": {},
     "output_type": "execute_result"
    }
   ],
   "source": [
    "nh_sh_merge = pd.merge(df_glb_annual,\n",
    "                       df_glb_seasonal,\n",
    "                       how='inner', \n",
    "                       suffixes=['_ann','_ssn'],\n",
    "                       left_index=True,\n",
    "                       right_index=True)\n",
    "nh_sh_merge.head(3)"
   ]
  },
  {
   "cell_type": "markdown",
   "id": "93059ca4-7119-4df0-916d-222ba5124617",
   "metadata": {
    "toc-hr-collapsed": true
   },
   "source": [
    "### join"
   ]
  },
  {
   "cell_type": "markdown",
   "id": "d82c2484-c024-4134-9ae5-3a6a61f2b772",
   "metadata": {},
   "source": [
    "#### join (using columns)"
   ]
  },
  {
   "cell_type": "code",
   "execution_count": 64,
   "id": "64bc9547-c9df-418a-bd99-30481e6648c8",
   "metadata": {
    "tags": []
   },
   "outputs": [
    {
     "data": {
      "text/html": [
       "<div>\n",
       "<style scoped>\n",
       "    .dataframe tbody tr th:only-of-type {\n",
       "        vertical-align: middle;\n",
       "    }\n",
       "\n",
       "    .dataframe tbody tr th {\n",
       "        vertical-align: top;\n",
       "    }\n",
       "\n",
       "    .dataframe thead th {\n",
       "        text-align: right;\n",
       "    }\n",
       "</style>\n",
       "<table border=\"1\" class=\"dataframe\">\n",
       "  <thead>\n",
       "    <tr style=\"text-align: right;\">\n",
       "      <th></th>\n",
       "      <th>Year</th>\n",
       "      <th>J-D</th>\n",
       "      <th>area</th>\n",
       "      <th>Jan</th>\n",
       "      <th>Feb</th>\n",
       "      <th>Mar</th>\n",
       "      <th>Apr</th>\n",
       "      <th>May</th>\n",
       "      <th>Jun</th>\n",
       "      <th>Jul</th>\n",
       "      <th>Aug</th>\n",
       "      <th>Sep</th>\n",
       "      <th>Oct</th>\n",
       "      <th>Nov</th>\n",
       "      <th>Dec</th>\n",
       "    </tr>\n",
       "  </thead>\n",
       "  <tbody>\n",
       "    <tr>\n",
       "      <th>0</th>\n",
       "      <td>1880-01-01</td>\n",
       "      <td>-0.2</td>\n",
       "      <td>GLB</td>\n",
       "      <td>-0.2</td>\n",
       "      <td>-0.2</td>\n",
       "      <td>-0.1</td>\n",
       "      <td>-0.2</td>\n",
       "      <td>-0.1</td>\n",
       "      <td>-0.2</td>\n",
       "      <td>-0.2</td>\n",
       "      <td>-0.1</td>\n",
       "      <td>-0.1</td>\n",
       "      <td>-0.2</td>\n",
       "      <td>-0.2</td>\n",
       "      <td>-0.2</td>\n",
       "    </tr>\n",
       "    <tr>\n",
       "      <th>1</th>\n",
       "      <td>1881-01-01</td>\n",
       "      <td>-0.1</td>\n",
       "      <td>GLB</td>\n",
       "      <td>-0.2</td>\n",
       "      <td>-0.1</td>\n",
       "      <td>0.0</td>\n",
       "      <td>0.1</td>\n",
       "      <td>0.1</td>\n",
       "      <td>-0.2</td>\n",
       "      <td>0.0</td>\n",
       "      <td>-0.0</td>\n",
       "      <td>-0.1</td>\n",
       "      <td>-0.2</td>\n",
       "      <td>-0.2</td>\n",
       "      <td>-0.1</td>\n",
       "    </tr>\n",
       "    <tr>\n",
       "      <th>2</th>\n",
       "      <td>1882-01-01</td>\n",
       "      <td>-0.1</td>\n",
       "      <td>GLB</td>\n",
       "      <td>0.2</td>\n",
       "      <td>0.1</td>\n",
       "      <td>0.0</td>\n",
       "      <td>-0.2</td>\n",
       "      <td>-0.1</td>\n",
       "      <td>-0.2</td>\n",
       "      <td>-0.2</td>\n",
       "      <td>-0.1</td>\n",
       "      <td>-0.1</td>\n",
       "      <td>-0.2</td>\n",
       "      <td>-0.2</td>\n",
       "      <td>-0.4</td>\n",
       "    </tr>\n",
       "  </tbody>\n",
       "</table>\n",
       "</div>"
      ],
      "text/plain": [
       "        Year  J-D area  Jan  Feb  Mar  Apr  May  Jun  Jul  Aug  Sep  Oct  Nov   \n",
       "0 1880-01-01 -0.2  GLB -0.2 -0.2 -0.1 -0.2 -0.1 -0.2 -0.2 -0.1 -0.1 -0.2 -0.2  \\\n",
       "1 1881-01-01 -0.1  GLB -0.2 -0.1  0.0  0.1  0.1 -0.2  0.0 -0.0 -0.1 -0.2 -0.2   \n",
       "2 1882-01-01 -0.1  GLB  0.2  0.1  0.0 -0.2 -0.1 -0.2 -0.2 -0.1 -0.1 -0.2 -0.2   \n",
       "\n",
       "   Dec  \n",
       "0 -0.2  \n",
       "1 -0.1  \n",
       "2 -0.4  "
      ]
     },
     "execution_count": 64,
     "metadata": {},
     "output_type": "execute_result"
    }
   ],
   "source": [
    "nh_sh_join = df_glb_annual.join(df_glb_monthly.set_index(['Year','area']),                        \n",
    "                        how='inner',\n",
    "                        on = ['Year','area'],\n",
    "                        lsuffix=\"_ann\",\n",
    "                        rsuffix=\"_mth\",)\n",
    "nh_sh_join .head(3)"
   ]
  },
  {
   "cell_type": "markdown",
   "id": "fe4bd8a8-8cc5-46c7-9cac-6fc309f0fd6c",
   "metadata": {
    "toc-hr-collapsed": true
   },
   "source": [
    "#### join (using index)"
   ]
  },
  {
   "cell_type": "code",
   "execution_count": 65,
   "id": "75c18fa0-c347-47c1-ab55-78d78361610e",
   "metadata": {
    "tags": []
   },
   "outputs": [
    {
     "data": {
      "text/html": [
       "<div>\n",
       "<style scoped>\n",
       "    .dataframe tbody tr th:only-of-type {\n",
       "        vertical-align: middle;\n",
       "    }\n",
       "\n",
       "    .dataframe tbody tr th {\n",
       "        vertical-align: top;\n",
       "    }\n",
       "\n",
       "    .dataframe thead th {\n",
       "        text-align: right;\n",
       "    }\n",
       "</style>\n",
       "<table border=\"1\" class=\"dataframe\">\n",
       "  <thead>\n",
       "    <tr style=\"text-align: right;\">\n",
       "      <th></th>\n",
       "      <th>Year_ann</th>\n",
       "      <th>J-D</th>\n",
       "      <th>area_ann</th>\n",
       "      <th>Year_mth</th>\n",
       "      <th>Jan</th>\n",
       "      <th>Feb</th>\n",
       "      <th>Mar</th>\n",
       "      <th>Apr</th>\n",
       "      <th>May</th>\n",
       "      <th>Jun</th>\n",
       "      <th>Jul</th>\n",
       "      <th>Aug</th>\n",
       "      <th>Sep</th>\n",
       "      <th>Oct</th>\n",
       "      <th>Nov</th>\n",
       "      <th>Dec</th>\n",
       "      <th>area_mth</th>\n",
       "    </tr>\n",
       "  </thead>\n",
       "  <tbody>\n",
       "    <tr>\n",
       "      <th>0</th>\n",
       "      <td>1880-01-01</td>\n",
       "      <td>-0.2</td>\n",
       "      <td>GLB</td>\n",
       "      <td>1880-01-01</td>\n",
       "      <td>-0.2</td>\n",
       "      <td>-0.2</td>\n",
       "      <td>-0.1</td>\n",
       "      <td>-0.2</td>\n",
       "      <td>-0.1</td>\n",
       "      <td>-0.2</td>\n",
       "      <td>-0.2</td>\n",
       "      <td>-0.1</td>\n",
       "      <td>-0.1</td>\n",
       "      <td>-0.2</td>\n",
       "      <td>-0.2</td>\n",
       "      <td>-0.2</td>\n",
       "      <td>GLB</td>\n",
       "    </tr>\n",
       "    <tr>\n",
       "      <th>1</th>\n",
       "      <td>1881-01-01</td>\n",
       "      <td>-0.1</td>\n",
       "      <td>GLB</td>\n",
       "      <td>1881-01-01</td>\n",
       "      <td>-0.2</td>\n",
       "      <td>-0.1</td>\n",
       "      <td>0.0</td>\n",
       "      <td>0.1</td>\n",
       "      <td>0.1</td>\n",
       "      <td>-0.2</td>\n",
       "      <td>0.0</td>\n",
       "      <td>-0.0</td>\n",
       "      <td>-0.1</td>\n",
       "      <td>-0.2</td>\n",
       "      <td>-0.2</td>\n",
       "      <td>-0.1</td>\n",
       "      <td>GLB</td>\n",
       "    </tr>\n",
       "    <tr>\n",
       "      <th>2</th>\n",
       "      <td>1882-01-01</td>\n",
       "      <td>-0.1</td>\n",
       "      <td>GLB</td>\n",
       "      <td>1882-01-01</td>\n",
       "      <td>0.2</td>\n",
       "      <td>0.1</td>\n",
       "      <td>0.0</td>\n",
       "      <td>-0.2</td>\n",
       "      <td>-0.1</td>\n",
       "      <td>-0.2</td>\n",
       "      <td>-0.2</td>\n",
       "      <td>-0.1</td>\n",
       "      <td>-0.1</td>\n",
       "      <td>-0.2</td>\n",
       "      <td>-0.2</td>\n",
       "      <td>-0.4</td>\n",
       "      <td>GLB</td>\n",
       "    </tr>\n",
       "  </tbody>\n",
       "</table>\n",
       "</div>"
      ],
      "text/plain": [
       "    Year_ann  J-D area_ann   Year_mth  Jan  Feb  Mar  Apr  May  Jun  Jul  Aug   \n",
       "0 1880-01-01 -0.2      GLB 1880-01-01 -0.2 -0.2 -0.1 -0.2 -0.1 -0.2 -0.2 -0.1  \\\n",
       "1 1881-01-01 -0.1      GLB 1881-01-01 -0.2 -0.1  0.0  0.1  0.1 -0.2  0.0 -0.0   \n",
       "2 1882-01-01 -0.1      GLB 1882-01-01  0.2  0.1  0.0 -0.2 -0.1 -0.2 -0.2 -0.1   \n",
       "\n",
       "   Sep  Oct  Nov  Dec area_mth  \n",
       "0 -0.1 -0.2 -0.2 -0.2      GLB  \n",
       "1 -0.1 -0.2 -0.2 -0.1      GLB  \n",
       "2 -0.1 -0.2 -0.2 -0.4      GLB  "
      ]
     },
     "execution_count": 65,
     "metadata": {},
     "output_type": "execute_result"
    }
   ],
   "source": [
    "nh_sh_join = df_glb_annual.join(df_glb_monthly,                        \n",
    "                        how='inner',\n",
    "                        lsuffix=\"_ann\",\n",
    "                        rsuffix=\"_mth\")\n",
    "nh_sh_join .head(3)"
   ]
  },
  {
   "cell_type": "markdown",
   "id": "ac4991a0-ca5f-4c5f-be66-68cc04c3f716",
   "metadata": {
    "toc-hr-collapsed": true
   },
   "source": [
    "<a id='dr-melt'></a>\n",
    "## melt"
   ]
  },
  {
   "cell_type": "markdown",
   "id": "cc9ac4bf-71a9-45d6-bbd7-134a15987a94",
   "metadata": {},
   "source": [
    "[Return to Start of Notebook](#dr)  "
   ]
  },
  {
   "cell_type": "code",
   "execution_count": 66,
   "id": "1cb460ba-fca0-4bd8-9edd-6b9559a9f815",
   "metadata": {
    "tags": []
   },
   "outputs": [
    {
     "data": {
      "text/html": [
       "<div>\n",
       "<style scoped>\n",
       "    .dataframe tbody tr th:only-of-type {\n",
       "        vertical-align: middle;\n",
       "    }\n",
       "\n",
       "    .dataframe tbody tr th {\n",
       "        vertical-align: top;\n",
       "    }\n",
       "\n",
       "    .dataframe thead th {\n",
       "        text-align: right;\n",
       "    }\n",
       "</style>\n",
       "<table border=\"1\" class=\"dataframe\">\n",
       "  <thead>\n",
       "    <tr style=\"text-align: right;\">\n",
       "      <th></th>\n",
       "      <th>area</th>\n",
       "      <th>Year</th>\n",
       "      <th>month</th>\n",
       "      <th>anomaly</th>\n",
       "    </tr>\n",
       "  </thead>\n",
       "  <tbody>\n",
       "    <tr>\n",
       "      <th>0</th>\n",
       "      <td>GLB</td>\n",
       "      <td>1880-01-01</td>\n",
       "      <td>Jan</td>\n",
       "      <td>-0.2</td>\n",
       "    </tr>\n",
       "  </tbody>\n",
       "</table>\n",
       "</div>"
      ],
      "text/plain": [
       "  area       Year month  anomaly\n",
       "0  GLB 1880-01-01   Jan     -0.2"
      ]
     },
     "execution_count": 66,
     "metadata": {},
     "output_type": "execute_result"
    }
   ],
   "source": [
    "dfg_melt = pd.melt(df_concat_v,\n",
    "                        id_vars=['area','Year'],\n",
    "                        var_name='month', \n",
    "                value_name='anomaly')\n",
    "dfg_melt.head(1)"
   ]
  },
  {
   "cell_type": "code",
   "execution_count": 67,
   "id": "0fa863b6-e0ba-4ed3-a0df-c634a8ca4898",
   "metadata": {
    "tags": []
   },
   "outputs": [
    {
     "data": {
      "text/plain": [
       "month\n",
       "Jan    432\n",
       "Feb    432\n",
       "Mar    432\n",
       "Apr    432\n",
       "May    432\n",
       "      ... \n",
       "Aug    432\n",
       "Sep    432\n",
       "Oct    432\n",
       "Nov    432\n",
       "Dec    432\n",
       "Name: count, Length: 12, dtype: int64"
      ]
     },
     "execution_count": 67,
     "metadata": {},
     "output_type": "execute_result"
    }
   ],
   "source": [
    "dfg_melt['month'].value_counts()"
   ]
  },
  {
   "cell_type": "code",
   "execution_count": 68,
   "id": "2ad400e4-d018-4dde-9870-c3814b53b0b3",
   "metadata": {
    "tags": []
   },
   "outputs": [
    {
     "data": {
      "text/html": [
       "<div>\n",
       "<style scoped>\n",
       "    .dataframe tbody tr th:only-of-type {\n",
       "        vertical-align: middle;\n",
       "    }\n",
       "\n",
       "    .dataframe tbody tr th {\n",
       "        vertical-align: top;\n",
       "    }\n",
       "\n",
       "    .dataframe thead th {\n",
       "        text-align: right;\n",
       "    }\n",
       "</style>\n",
       "<table border=\"1\" class=\"dataframe\">\n",
       "  <thead>\n",
       "    <tr style=\"text-align: right;\">\n",
       "      <th></th>\n",
       "      <th>Year</th>\n",
       "      <th>area</th>\n",
       "      <th>anomaly</th>\n",
       "    </tr>\n",
       "  </thead>\n",
       "  <tbody>\n",
       "    <tr>\n",
       "      <th>0</th>\n",
       "      <td>1880</td>\n",
       "      <td>Glob</td>\n",
       "      <td>-0.2</td>\n",
       "    </tr>\n",
       "  </tbody>\n",
       "</table>\n",
       "</div>"
      ],
      "text/plain": [
       "   Year  area  anomaly\n",
       "0  1880  Glob     -0.2"
      ]
     },
     "execution_count": 68,
     "metadata": {},
     "output_type": "execute_result"
    }
   ],
   "source": [
    "dfz_melt = pd.melt(df_zonal,\n",
    "                id_vars=['Year'],\n",
    "                var_name='area', \n",
    "                value_name='anomaly')\n",
    "dfz_melt.head(1)"
   ]
  },
  {
   "cell_type": "markdown",
   "id": "9c54eaa4-3bdf-467b-8706-e5c3e6a5b1f8",
   "metadata": {
    "tags": [],
    "toc-hr-collapsed": true
   },
   "source": [
    "<a id='dr-nulls'></a>\n",
    "## nulls"
   ]
  },
  {
   "cell_type": "markdown",
   "id": "0244173c-d1f0-4464-a9c7-d0fbadfb4072",
   "metadata": {},
   "source": [
    "[Return to Start of Notebook](#dr)  "
   ]
  },
  {
   "cell_type": "markdown",
   "id": "96936094-5621-4265-b384-70bdd0653b74",
   "metadata": {
    "toc-hr-collapsed": true
   },
   "source": [
    "### np.nan\n",
    "- stored with numpy's float64 dtype, rather than the less efficient object type\n",
    "- it also allows for vectorized operations\n",
    "- can be used as a numerical value in mathematical operations\n",
    "- contrasts with None, which belongs to class NoneType, and forces an object type"
   ]
  },
  {
   "cell_type": "code",
   "execution_count": 69,
   "id": "2982709f-90b1-4751-b272-e1b5bfb44cca",
   "metadata": {
    "tags": []
   },
   "outputs": [],
   "source": [
    "dfcp = dfg_melt.copy();"
   ]
  },
  {
   "cell_type": "code",
   "execution_count": 70,
   "id": "70d3f089-76ef-4b0f-ad27-4154387d7298",
   "metadata": {
    "tags": []
   },
   "outputs": [],
   "source": [
    "dfcp.fillna(np.nan);"
   ]
  },
  {
   "cell_type": "markdown",
   "id": "db0b5fae-8eaa-48bd-ae69-c6bdd305ba4a",
   "metadata": {
    "toc-hr-collapsed": true
   },
   "source": [
    "### .dropna"
   ]
  },
  {
   "cell_type": "code",
   "execution_count": 71,
   "id": "4d1e3ee3-5a60-461a-a140-ec46fd36de83",
   "metadata": {
    "tags": []
   },
   "outputs": [
    {
     "data": {
      "text/plain": [
       "5184"
      ]
     },
     "execution_count": 71,
     "metadata": {},
     "output_type": "execute_result"
    }
   ],
   "source": [
    "len(dfg_melt)"
   ]
  },
  {
   "cell_type": "code",
   "execution_count": 72,
   "id": "bd433975-36e7-43cb-a972-58c620d3dc39",
   "metadata": {
    "tags": []
   },
   "outputs": [
    {
     "data": {
      "text/plain": [
       "5157"
      ]
     },
     "execution_count": 72,
     "metadata": {},
     "output_type": "execute_result"
    }
   ],
   "source": [
    "dfg_melt.dropna(inplace=True) # use axis=1 to drop columns\n",
    "len(dfg_melt)"
   ]
  },
  {
   "cell_type": "code",
   "execution_count": 73,
   "id": "e462792b-0211-4f27-a181-bf1104024a5b",
   "metadata": {
    "tags": []
   },
   "outputs": [],
   "source": [
    "#dfcp.dropna(thresh=3) # row must have at least 4 not null values"
   ]
  },
  {
   "cell_type": "markdown",
   "id": "2f991abc-2e7f-4505-a59e-2a4acf716383",
   "metadata": {
    "tags": [],
    "toc-hr-collapsed": true
   },
   "source": [
    "### .fillna"
   ]
  },
  {
   "cell_type": "markdown",
   "id": "9b858b89-f2ac-4217-8977-9b5de71a1c44",
   "metadata": {},
   "source": [
    "#### specify fill value"
   ]
  },
  {
   "cell_type": "raw",
   "id": "8437801c-b174-4b61-8cb4-786efd665613",
   "metadata": {
    "tags": []
   },
   "source": [
    "dfcp = dfg_melt.copy()\n",
    "fill_value = round(dfcp.median(numeric_only=True),2) # median\n",
    "fill_value = round(dfcp.mean(numeric_only=True),2) # mean\n",
    "fill_value = 0 # constant\n",
    "df_filled = dfcp.fillna(fill_value) \n",
    "df_filled .iloc[-1]"
   ]
  },
  {
   "cell_type": "markdown",
   "id": "5f3d8ddb-40d4-4bbd-b38c-087f5048fb2f",
   "metadata": {},
   "source": [
    "#### use dictionary"
   ]
  },
  {
   "cell_type": "raw",
   "id": "a0ed9447-b5b7-4604-b8da-cccfdf369ad7",
   "metadata": {
    "tags": []
   },
   "source": [
    "dfcp = dfg_melt.copy()\n",
    "df_filled = dfcp.fillna({'anomaly': fill_value}) # use for multiple columns and values\n",
    "df_filled .iloc[-1]"
   ]
  },
  {
   "cell_type": "markdown",
   "id": "962e31f0-28ba-4441-98b4-ee10fe603fd9",
   "metadata": {},
   "source": [
    "#### from preceding or following value"
   ]
  },
  {
   "cell_type": "raw",
   "id": "1ceba802-558e-4593-9c5f-bce72d708601",
   "metadata": {
    "tags": []
   },
   "source": [
    "dfcp = dfg_melt.copy()\n",
    "df_filled = dfcp.fillna(method='ffill') # use previous value\n",
    "#df_filled = dfgc.fillna(method='bfill') # use following value\n",
    "df_filled.tail(2)"
   ]
  },
  {
   "cell_type": "markdown",
   "id": "73508813-413c-4e4d-8c62-f06c1a2b47f7",
   "metadata": {},
   "source": [
    "#### interpolate"
   ]
  },
  {
   "cell_type": "raw",
   "id": "9cbaa20f-367b-4253-b908-55a587863a83",
   "metadata": {
    "tags": []
   },
   "source": [
    "dfcp = dfg_melt.copy()\n",
    "count_na = dfcp.isna().sum().sum()"
   ]
  },
  {
   "cell_type": "raw",
   "id": "f2dd4256-5891-41d3-906f-d29a3f96dc16",
   "metadata": {
    "tags": []
   },
   "source": [
    "dfcp.tail()"
   ]
  },
  {
   "cell_type": "raw",
   "id": "800c41bd-a215-4a7b-b342-470a6dd79e9c",
   "metadata": {
    "tags": []
   },
   "source": [
    "dfcp['anomaly']= dfcp['anomaly'].interpolate('linear')\n",
    "dfcp.tail()"
   ]
  },
  {
   "cell_type": "markdown",
   "id": "36facb24-de64-4782-898b-d7c46cb6c240",
   "metadata": {
    "toc-hr-collapsed": true
   },
   "source": [
    "<a id='dr-map'></a>\n",
    "## map"
   ]
  },
  {
   "cell_type": "markdown",
   "id": "2e0aef43-d823-4bc7-b691-9b0993b654ef",
   "metadata": {},
   "source": [
    "[Return to Start of Notebook](#dr)  "
   ]
  },
  {
   "cell_type": "code",
   "execution_count": 74,
   "id": "b34e8645-6df9-4ba4-9ea4-7fcd762c8cd5",
   "metadata": {
    "tags": []
   },
   "outputs": [
    {
     "data": {
      "text/html": [
       "<div>\n",
       "<style scoped>\n",
       "    .dataframe tbody tr th:only-of-type {\n",
       "        vertical-align: middle;\n",
       "    }\n",
       "\n",
       "    .dataframe tbody tr th {\n",
       "        vertical-align: top;\n",
       "    }\n",
       "\n",
       "    .dataframe thead th {\n",
       "        text-align: right;\n",
       "    }\n",
       "</style>\n",
       "<table border=\"1\" class=\"dataframe\">\n",
       "  <thead>\n",
       "    <tr style=\"text-align: right;\">\n",
       "      <th></th>\n",
       "      <th>area</th>\n",
       "      <th>Year</th>\n",
       "      <th>month</th>\n",
       "      <th>anomaly</th>\n",
       "      <th>season</th>\n",
       "    </tr>\n",
       "  </thead>\n",
       "  <tbody>\n",
       "    <tr>\n",
       "      <th>0</th>\n",
       "      <td>GLB</td>\n",
       "      <td>1880-01-01</td>\n",
       "      <td>Jan</td>\n",
       "      <td>-0.2</td>\n",
       "      <td>Winter</td>\n",
       "    </tr>\n",
       "  </tbody>\n",
       "</table>\n",
       "</div>"
      ],
      "text/plain": [
       "  area       Year month  anomaly  season\n",
       "0  GLB 1880-01-01   Jan     -0.2  Winter"
      ]
     },
     "execution_count": 74,
     "metadata": {},
     "output_type": "execute_result"
    }
   ],
   "source": [
    "dfg_melt['season'] = dfg_melt['month'].map(months_season_dict) \n",
    "dfg_melt.head(1)"
   ]
  },
  {
   "cell_type": "markdown",
   "id": "cfa60127-017d-414e-8bb6-65fbff37ca8e",
   "metadata": {
    "tags": [],
    "toc-hr-collapsed": true
   },
   "source": [
    "<a id='dr-columns'></a>\n",
    "## columns"
   ]
  },
  {
   "cell_type": "markdown",
   "id": "2ff9189b-cb4b-45e9-a577-96426eb0e724",
   "metadata": {},
   "source": [
    "[Return to Start of Notebook](#dr)  "
   ]
  },
  {
   "cell_type": "markdown",
   "id": "193b4673-fe03-45cb-96d4-79b1803386f7",
   "metadata": {
    "tags": [],
    "toc-hr-collapsed": true
   },
   "source": [
    "### rename"
   ]
  },
  {
   "cell_type": "code",
   "execution_count": 75,
   "id": "54cab71e-5a1b-454d-9c15-be77c5c761cc",
   "metadata": {
    "tags": []
   },
   "outputs": [
    {
     "data": {
      "text/plain": [
       "{'Year': 'year'}"
      ]
     },
     "execution_count": 75,
     "metadata": {},
     "output_type": "execute_result"
    }
   ],
   "source": [
    "col_names = {'Year':'year'}"
   ]
  },
  {
   "cell_type": "code",
   "execution_count": 76,
   "id": "0ce260f9-69c1-4615-83b4-187a80c33eae",
   "metadata": {
    "tags": []
   },
   "outputs": [
    {
     "data": {
      "text/html": [
       "<div>\n",
       "<style scoped>\n",
       "    .dataframe tbody tr th:only-of-type {\n",
       "        vertical-align: middle;\n",
       "    }\n",
       "\n",
       "    .dataframe tbody tr th {\n",
       "        vertical-align: top;\n",
       "    }\n",
       "\n",
       "    .dataframe thead th {\n",
       "        text-align: right;\n",
       "    }\n",
       "</style>\n",
       "<table border=\"1\" class=\"dataframe\">\n",
       "  <thead>\n",
       "    <tr style=\"text-align: right;\">\n",
       "      <th></th>\n",
       "      <th>area</th>\n",
       "      <th>year</th>\n",
       "      <th>month</th>\n",
       "      <th>anomaly</th>\n",
       "      <th>season</th>\n",
       "    </tr>\n",
       "  </thead>\n",
       "  <tbody>\n",
       "    <tr>\n",
       "      <th>0</th>\n",
       "      <td>GLB</td>\n",
       "      <td>1880-01-01</td>\n",
       "      <td>Jan</td>\n",
       "      <td>-0.2</td>\n",
       "      <td>Winter</td>\n",
       "    </tr>\n",
       "  </tbody>\n",
       "</table>\n",
       "</div>"
      ],
      "text/plain": [
       "  area       year month  anomaly  season\n",
       "0  GLB 1880-01-01   Jan     -0.2  Winter"
      ]
     },
     "execution_count": 76,
     "metadata": {},
     "output_type": "execute_result"
    }
   ],
   "source": [
    "dfg_melt.rename(columns=col_names,inplace=True)\n",
    "dfg_melt.head(1)"
   ]
  },
  {
   "cell_type": "code",
   "execution_count": 77,
   "id": "15dbf0bf-d71b-4840-8afe-dbb4947ac8bf",
   "metadata": {
    "tags": []
   },
   "outputs": [
    {
     "data": {
      "text/html": [
       "<div>\n",
       "<style scoped>\n",
       "    .dataframe tbody tr th:only-of-type {\n",
       "        vertical-align: middle;\n",
       "    }\n",
       "\n",
       "    .dataframe tbody tr th {\n",
       "        vertical-align: top;\n",
       "    }\n",
       "\n",
       "    .dataframe thead th {\n",
       "        text-align: right;\n",
       "    }\n",
       "</style>\n",
       "<table border=\"1\" class=\"dataframe\">\n",
       "  <thead>\n",
       "    <tr style=\"text-align: right;\">\n",
       "      <th></th>\n",
       "      <th>year</th>\n",
       "      <th>area</th>\n",
       "      <th>anomaly</th>\n",
       "    </tr>\n",
       "  </thead>\n",
       "  <tbody>\n",
       "    <tr>\n",
       "      <th>0</th>\n",
       "      <td>1880</td>\n",
       "      <td>Glob</td>\n",
       "      <td>-0.2</td>\n",
       "    </tr>\n",
       "  </tbody>\n",
       "</table>\n",
       "</div>"
      ],
      "text/plain": [
       "   year  area  anomaly\n",
       "0  1880  Glob     -0.2"
      ]
     },
     "execution_count": 77,
     "metadata": {},
     "output_type": "execute_result"
    }
   ],
   "source": [
    "dfz_melt.rename(columns=col_names,inplace=True)\n",
    "dfz_melt.head(1)"
   ]
  },
  {
   "cell_type": "markdown",
   "id": "2e3538ed-97e8-42b0-a27a-4f8bd675165f",
   "metadata": {
    "toc-hr-collapsed": true
   },
   "source": [
    "### add"
   ]
  },
  {
   "cell_type": "code",
   "execution_count": 78,
   "id": "d5198e07-de70-494d-89ff-5d858cde5d04",
   "metadata": {
    "tags": []
   },
   "outputs": [
    {
     "data": {
      "text/html": [
       "<div>\n",
       "<style scoped>\n",
       "    .dataframe tbody tr th:only-of-type {\n",
       "        vertical-align: middle;\n",
       "    }\n",
       "\n",
       "    .dataframe tbody tr th {\n",
       "        vertical-align: top;\n",
       "    }\n",
       "\n",
       "    .dataframe thead th {\n",
       "        text-align: right;\n",
       "    }\n",
       "</style>\n",
       "<table border=\"1\" class=\"dataframe\">\n",
       "  <thead>\n",
       "    <tr style=\"text-align: right;\">\n",
       "      <th></th>\n",
       "      <th>area</th>\n",
       "      <th>year</th>\n",
       "      <th>month</th>\n",
       "      <th>anomaly</th>\n",
       "      <th>season</th>\n",
       "      <th>year_str</th>\n",
       "    </tr>\n",
       "  </thead>\n",
       "  <tbody>\n",
       "    <tr>\n",
       "      <th>0</th>\n",
       "      <td>GLB</td>\n",
       "      <td>1880-01-01</td>\n",
       "      <td>Jan</td>\n",
       "      <td>-0.2</td>\n",
       "      <td>Winter</td>\n",
       "      <td>1880</td>\n",
       "    </tr>\n",
       "  </tbody>\n",
       "</table>\n",
       "</div>"
      ],
      "text/plain": [
       "  area       year month  anomaly  season year_str\n",
       "0  GLB 1880-01-01   Jan     -0.2  Winter     1880"
      ]
     },
     "execution_count": 78,
     "metadata": {},
     "output_type": "execute_result"
    }
   ],
   "source": [
    "dfg_melt['year_str'] = \\\n",
    "    dfg_melt['year'].dt.strftime('%Y')\n",
    "dfg_melt.head(1)"
   ]
  },
  {
   "cell_type": "code",
   "execution_count": 79,
   "id": "1aac0707-fac3-4dc9-92ea-96a99cc0fe72",
   "metadata": {
    "tags": []
   },
   "outputs": [
    {
     "data": {
      "text/html": [
       "<div>\n",
       "<style scoped>\n",
       "    .dataframe tbody tr th:only-of-type {\n",
       "        vertical-align: middle;\n",
       "    }\n",
       "\n",
       "    .dataframe tbody tr th {\n",
       "        vertical-align: top;\n",
       "    }\n",
       "\n",
       "    .dataframe thead th {\n",
       "        text-align: right;\n",
       "    }\n",
       "</style>\n",
       "<table border=\"1\" class=\"dataframe\">\n",
       "  <thead>\n",
       "    <tr style=\"text-align: right;\">\n",
       "      <th></th>\n",
       "      <th>area</th>\n",
       "      <th>year</th>\n",
       "      <th>month</th>\n",
       "      <th>anomaly</th>\n",
       "      <th>season</th>\n",
       "      <th>year_str</th>\n",
       "      <th>month_str</th>\n",
       "    </tr>\n",
       "  </thead>\n",
       "  <tbody>\n",
       "    <tr>\n",
       "      <th>0</th>\n",
       "      <td>GLB</td>\n",
       "      <td>1880-01-01</td>\n",
       "      <td>Jan</td>\n",
       "      <td>-0.2</td>\n",
       "      <td>Winter</td>\n",
       "      <td>1880</td>\n",
       "      <td>01</td>\n",
       "    </tr>\n",
       "  </tbody>\n",
       "</table>\n",
       "</div>"
      ],
      "text/plain": [
       "  area       year month  anomaly  season year_str month_str\n",
       "0  GLB 1880-01-01   Jan     -0.2  Winter     1880        01"
      ]
     },
     "execution_count": 79,
     "metadata": {},
     "output_type": "execute_result"
    }
   ],
   "source": [
    "dfg_melt['month_str'] = \\\n",
    "    pd.to_datetime(dfg_melt['month'], format='%b').dt.strftime('%m') \n",
    "dfg_melt.head(1)"
   ]
  },
  {
   "cell_type": "code",
   "execution_count": 80,
   "id": "225220b4-4b9c-45b7-849c-871827bfedc5",
   "metadata": {
    "tags": []
   },
   "outputs": [
    {
     "data": {
      "text/html": [
       "<div>\n",
       "<style scoped>\n",
       "    .dataframe tbody tr th:only-of-type {\n",
       "        vertical-align: middle;\n",
       "    }\n",
       "\n",
       "    .dataframe tbody tr th {\n",
       "        vertical-align: top;\n",
       "    }\n",
       "\n",
       "    .dataframe thead th {\n",
       "        text-align: right;\n",
       "    }\n",
       "</style>\n",
       "<table border=\"1\" class=\"dataframe\">\n",
       "  <thead>\n",
       "    <tr style=\"text-align: right;\">\n",
       "      <th></th>\n",
       "      <th>area</th>\n",
       "      <th>year</th>\n",
       "      <th>month</th>\n",
       "      <th>anomaly</th>\n",
       "      <th>season</th>\n",
       "      <th>year_str</th>\n",
       "      <th>month_str</th>\n",
       "      <th>date</th>\n",
       "    </tr>\n",
       "  </thead>\n",
       "  <tbody>\n",
       "    <tr>\n",
       "      <th>0</th>\n",
       "      <td>GLB</td>\n",
       "      <td>1880-01-01</td>\n",
       "      <td>Jan</td>\n",
       "      <td>-0.2</td>\n",
       "      <td>Winter</td>\n",
       "      <td>1880</td>\n",
       "      <td>01</td>\n",
       "      <td>1880-01-01</td>\n",
       "    </tr>\n",
       "  </tbody>\n",
       "</table>\n",
       "</div>"
      ],
      "text/plain": [
       "  area       year month  anomaly  season year_str month_str       date\n",
       "0  GLB 1880-01-01   Jan     -0.2  Winter     1880        01 1880-01-01"
      ]
     },
     "execution_count": 80,
     "metadata": {},
     "output_type": "execute_result"
    }
   ],
   "source": [
    "dfg_melt['date'] = \\\n",
    "    pd.to_datetime(dfg_melt['year_str'] + \\\n",
    "                   dfg_melt['month_str'], format='%Y%m') \n",
    "dfg_melt.head(1)"
   ]
  },
  {
   "cell_type": "code",
   "execution_count": 81,
   "id": "a40c9a9e-c6a4-4f1e-a2f9-fdd09d7870a0",
   "metadata": {
    "tags": []
   },
   "outputs": [
    {
     "data": {
      "text/html": [
       "<div>\n",
       "<style scoped>\n",
       "    .dataframe tbody tr th:only-of-type {\n",
       "        vertical-align: middle;\n",
       "    }\n",
       "\n",
       "    .dataframe tbody tr th {\n",
       "        vertical-align: top;\n",
       "    }\n",
       "\n",
       "    .dataframe thead th {\n",
       "        text-align: right;\n",
       "    }\n",
       "</style>\n",
       "<table border=\"1\" class=\"dataframe\">\n",
       "  <thead>\n",
       "    <tr style=\"text-align: right;\">\n",
       "      <th></th>\n",
       "      <th>area</th>\n",
       "      <th>year</th>\n",
       "      <th>month</th>\n",
       "      <th>anomaly</th>\n",
       "      <th>season</th>\n",
       "      <th>year_str</th>\n",
       "      <th>month_str</th>\n",
       "      <th>date</th>\n",
       "    </tr>\n",
       "  </thead>\n",
       "  <tbody>\n",
       "    <tr>\n",
       "      <th>5182</th>\n",
       "      <td>SH</td>\n",
       "      <td>2022-01-01</td>\n",
       "      <td>Dec</td>\n",
       "      <td>0.5</td>\n",
       "      <td>Winter</td>\n",
       "      <td>2022</td>\n",
       "      <td>12</td>\n",
       "      <td>2022-12-01</td>\n",
       "    </tr>\n",
       "  </tbody>\n",
       "</table>\n",
       "</div>"
      ],
      "text/plain": [
       "     area       year month  anomaly  season year_str month_str       date\n",
       "5182   SH 2022-01-01   Dec      0.5  Winter     2022        12 2022-12-01"
      ]
     },
     "execution_count": 81,
     "metadata": {},
     "output_type": "execute_result"
    }
   ],
   "source": [
    "dfg_melt.tail(1)"
   ]
  },
  {
   "cell_type": "markdown",
   "id": "1b6be8c4-6a78-4f36-bc4d-950afc058260",
   "metadata": {
    "toc-hr-collapsed": true
   },
   "source": [
    "### drop"
   ]
  },
  {
   "cell_type": "code",
   "execution_count": 82,
   "id": "f64b1da9-3854-4f43-9b5b-6570411298ba",
   "metadata": {
    "tags": []
   },
   "outputs": [
    {
     "data": {
      "text/html": [
       "<div>\n",
       "<style scoped>\n",
       "    .dataframe tbody tr th:only-of-type {\n",
       "        vertical-align: middle;\n",
       "    }\n",
       "\n",
       "    .dataframe tbody tr th {\n",
       "        vertical-align: top;\n",
       "    }\n",
       "\n",
       "    .dataframe thead th {\n",
       "        text-align: right;\n",
       "    }\n",
       "</style>\n",
       "<table border=\"1\" class=\"dataframe\">\n",
       "  <thead>\n",
       "    <tr style=\"text-align: right;\">\n",
       "      <th></th>\n",
       "      <th>area</th>\n",
       "      <th>month</th>\n",
       "      <th>anomaly</th>\n",
       "      <th>season</th>\n",
       "      <th>date</th>\n",
       "    </tr>\n",
       "  </thead>\n",
       "  <tbody>\n",
       "    <tr>\n",
       "      <th>0</th>\n",
       "      <td>GLB</td>\n",
       "      <td>Jan</td>\n",
       "      <td>-0.2</td>\n",
       "      <td>Winter</td>\n",
       "      <td>1880-01-01</td>\n",
       "    </tr>\n",
       "  </tbody>\n",
       "</table>\n",
       "</div>"
      ],
      "text/plain": [
       "  area month  anomaly  season       date\n",
       "0  GLB   Jan     -0.2  Winter 1880-01-01"
      ]
     },
     "execution_count": 82,
     "metadata": {},
     "output_type": "execute_result"
    }
   ],
   "source": [
    "dfg_melt.drop(columns=['year_str','month_str','year'],inplace=True) \n",
    "dfg_melt.head(1)"
   ]
  },
  {
   "cell_type": "markdown",
   "id": "76248106-3037-4b3c-a400-7196d5e7cbab",
   "metadata": {
    "toc-hr-collapsed": true
   },
   "source": [
    "### reorder"
   ]
  },
  {
   "cell_type": "code",
   "execution_count": 83,
   "id": "974d810b-2e21-40ef-accf-0c42dd51fe00",
   "metadata": {
    "tags": []
   },
   "outputs": [
    {
     "data": {
      "text/html": [
       "<div>\n",
       "<style scoped>\n",
       "    .dataframe tbody tr th:only-of-type {\n",
       "        vertical-align: middle;\n",
       "    }\n",
       "\n",
       "    .dataframe tbody tr th {\n",
       "        vertical-align: top;\n",
       "    }\n",
       "\n",
       "    .dataframe thead th {\n",
       "        text-align: right;\n",
       "    }\n",
       "</style>\n",
       "<table border=\"1\" class=\"dataframe\">\n",
       "  <thead>\n",
       "    <tr style=\"text-align: right;\">\n",
       "      <th></th>\n",
       "      <th>date</th>\n",
       "      <th>season</th>\n",
       "      <th>month</th>\n",
       "      <th>area</th>\n",
       "      <th>anomaly</th>\n",
       "    </tr>\n",
       "  </thead>\n",
       "  <tbody>\n",
       "    <tr>\n",
       "      <th>0</th>\n",
       "      <td>1880-01-01</td>\n",
       "      <td>Winter</td>\n",
       "      <td>Jan</td>\n",
       "      <td>GLB</td>\n",
       "      <td>-0.2</td>\n",
       "    </tr>\n",
       "  </tbody>\n",
       "</table>\n",
       "</div>"
      ],
      "text/plain": [
       "        date  season month area  anomaly\n",
       "0 1880-01-01  Winter   Jan  GLB     -0.2"
      ]
     },
     "execution_count": 83,
     "metadata": {},
     "output_type": "execute_result"
    }
   ],
   "source": [
    "dfg_melt = dfg_melt.reindex(['date','season','month','area','anomaly'], axis=1)\n",
    "dfg_melt.head(1)"
   ]
  },
  {
   "cell_type": "markdown",
   "id": "d2d99f4a-b898-444f-8783-f2388a605119",
   "metadata": {
    "toc-hr-collapsed": true
   },
   "source": [
    "### sort"
   ]
  },
  {
   "cell_type": "code",
   "execution_count": 84,
   "id": "623f99dd-80e8-42ce-923e-3f352c2a249e",
   "metadata": {
    "tags": []
   },
   "outputs": [
    {
     "data": {
      "text/html": [
       "<div>\n",
       "<style scoped>\n",
       "    .dataframe tbody tr th:only-of-type {\n",
       "        vertical-align: middle;\n",
       "    }\n",
       "\n",
       "    .dataframe tbody tr th {\n",
       "        vertical-align: top;\n",
       "    }\n",
       "\n",
       "    .dataframe thead th {\n",
       "        text-align: right;\n",
       "    }\n",
       "</style>\n",
       "<table border=\"1\" class=\"dataframe\">\n",
       "  <thead>\n",
       "    <tr style=\"text-align: right;\">\n",
       "      <th></th>\n",
       "      <th>24N-44N</th>\n",
       "      <th>24N-90N</th>\n",
       "      <th>24S-24N</th>\n",
       "      <th>24S-EQU</th>\n",
       "      <th>44N-64N</th>\n",
       "      <th>44S-24S</th>\n",
       "      <th>64N-90N</th>\n",
       "      <th>64S-44S</th>\n",
       "      <th>90S-24S</th>\n",
       "      <th>90S-64S</th>\n",
       "      <th>EQU-24N</th>\n",
       "      <th>Glob</th>\n",
       "      <th>NHem</th>\n",
       "      <th>SHem</th>\n",
       "      <th>Year</th>\n",
       "    </tr>\n",
       "  </thead>\n",
       "  <tbody>\n",
       "    <tr>\n",
       "      <th>0</th>\n",
       "      <td>-0.3</td>\n",
       "      <td>-0.4</td>\n",
       "      <td>-0.1</td>\n",
       "      <td>-0.1</td>\n",
       "      <td>-0.5</td>\n",
       "      <td>-0.0</td>\n",
       "      <td>-0.8</td>\n",
       "      <td>0.1</td>\n",
       "      <td>-0.0</td>\n",
       "      <td>0.7</td>\n",
       "      <td>-0.1</td>\n",
       "      <td>-0.2</td>\n",
       "      <td>-0.3</td>\n",
       "      <td>-0.1</td>\n",
       "      <td>1880</td>\n",
       "    </tr>\n",
       "  </tbody>\n",
       "</table>\n",
       "</div>"
      ],
      "text/plain": [
       "   24N-44N  24N-90N  24S-24N  24S-EQU  44N-64N  44S-24S  64N-90N  64S-44S   \n",
       "0     -0.3     -0.4     -0.1     -0.1     -0.5     -0.0     -0.8      0.1  \\\n",
       "\n",
       "   90S-24S  90S-64S  EQU-24N  Glob  NHem  SHem  Year  \n",
       "0     -0.0      0.7     -0.1  -0.2  -0.3  -0.1  1880  "
      ]
     },
     "execution_count": 84,
     "metadata": {},
     "output_type": "execute_result"
    }
   ],
   "source": [
    "dfz_sort_col = df_zonal.sort_index(axis=1) # option: inplace = True\n",
    "dfz_sort_col.head(1)"
   ]
  },
  {
   "cell_type": "markdown",
   "id": "9a44c65a-92bf-4ef6-b231-06722adc3bea",
   "metadata": {
    "toc-hr-collapsed": true
   },
   "source": [
    "<a id='dr-filter'></a>\n",
    "## filter"
   ]
  },
  {
   "cell_type": "markdown",
   "id": "c5cf0940-00b9-440b-bed5-d66a3c4023c6",
   "metadata": {},
   "source": [
    "[Return to Start of Notebook](#dr)  "
   ]
  },
  {
   "cell_type": "code",
   "execution_count": 85,
   "id": "a6891847-1263-44c9-8fb5-bca1d0f69a16",
   "metadata": {
    "tags": []
   },
   "outputs": [
    {
     "data": {
      "text/html": [
       "<div>\n",
       "<style scoped>\n",
       "    .dataframe tbody tr th:only-of-type {\n",
       "        vertical-align: middle;\n",
       "    }\n",
       "\n",
       "    .dataframe tbody tr th {\n",
       "        vertical-align: top;\n",
       "    }\n",
       "\n",
       "    .dataframe thead th {\n",
       "        text-align: right;\n",
       "    }\n",
       "</style>\n",
       "<table border=\"1\" class=\"dataframe\">\n",
       "  <thead>\n",
       "    <tr style=\"text-align: right;\">\n",
       "      <th></th>\n",
       "      <th>date</th>\n",
       "      <th>season</th>\n",
       "      <th>month</th>\n",
       "      <th>area</th>\n",
       "      <th>anomaly</th>\n",
       "    </tr>\n",
       "  </thead>\n",
       "  <tbody>\n",
       "    <tr>\n",
       "      <th>0</th>\n",
       "      <td>1880-01-01</td>\n",
       "      <td>Winter</td>\n",
       "      <td>Jan</td>\n",
       "      <td>GLB</td>\n",
       "      <td>-0.2</td>\n",
       "    </tr>\n",
       "  </tbody>\n",
       "</table>\n",
       "</div>"
      ],
      "text/plain": [
       "        date  season month area  anomaly\n",
       "0 1880-01-01  Winter   Jan  GLB     -0.2"
      ]
     },
     "execution_count": 85,
     "metadata": {},
     "output_type": "execute_result"
    }
   ],
   "source": [
    "filt = dfg_melt['area'] == 'GLB'\n",
    "df_glb = dfg_melt[filt]\n",
    "df_glb.head(1)"
   ]
  },
  {
   "cell_type": "code",
   "execution_count": 86,
   "id": "a3328c0d-0bdf-46b9-b94b-5be73d621ef8",
   "metadata": {
    "tags": []
   },
   "outputs": [
    {
     "data": {
      "text/html": [
       "<div>\n",
       "<style scoped>\n",
       "    .dataframe tbody tr th:only-of-type {\n",
       "        vertical-align: middle;\n",
       "    }\n",
       "\n",
       "    .dataframe tbody tr th {\n",
       "        vertical-align: top;\n",
       "    }\n",
       "\n",
       "    .dataframe thead th {\n",
       "        text-align: right;\n",
       "    }\n",
       "</style>\n",
       "<table border=\"1\" class=\"dataframe\">\n",
       "  <thead>\n",
       "    <tr style=\"text-align: right;\">\n",
       "      <th></th>\n",
       "      <th>date</th>\n",
       "      <th>season</th>\n",
       "      <th>month</th>\n",
       "      <th>area</th>\n",
       "      <th>anomaly</th>\n",
       "    </tr>\n",
       "  </thead>\n",
       "  <tbody>\n",
       "    <tr>\n",
       "      <th>144</th>\n",
       "      <td>1880-01-01</td>\n",
       "      <td>Winter</td>\n",
       "      <td>Jan</td>\n",
       "      <td>NH</td>\n",
       "      <td>-0.4</td>\n",
       "    </tr>\n",
       "  </tbody>\n",
       "</table>\n",
       "</div>"
      ],
      "text/plain": [
       "          date  season month area  anomaly\n",
       "144 1880-01-01  Winter   Jan   NH     -0.4"
      ]
     },
     "execution_count": 86,
     "metadata": {},
     "output_type": "execute_result"
    }
   ],
   "source": [
    "filt = dfg_melt['area'] == 'NH'\n",
    "df_nh = dfg_melt[filt]\n",
    "df_nh.head(1)"
   ]
  },
  {
   "cell_type": "code",
   "execution_count": 87,
   "id": "fa79c333-0776-4f2d-bbe7-4a79c08c14bb",
   "metadata": {
    "tags": []
   },
   "outputs": [
    {
     "data": {
      "text/html": [
       "<div>\n",
       "<style scoped>\n",
       "    .dataframe tbody tr th:only-of-type {\n",
       "        vertical-align: middle;\n",
       "    }\n",
       "\n",
       "    .dataframe tbody tr th {\n",
       "        vertical-align: top;\n",
       "    }\n",
       "\n",
       "    .dataframe thead th {\n",
       "        text-align: right;\n",
       "    }\n",
       "</style>\n",
       "<table border=\"1\" class=\"dataframe\">\n",
       "  <thead>\n",
       "    <tr style=\"text-align: right;\">\n",
       "      <th></th>\n",
       "      <th>date</th>\n",
       "      <th>season</th>\n",
       "      <th>month</th>\n",
       "      <th>area</th>\n",
       "      <th>anomaly</th>\n",
       "    </tr>\n",
       "  </thead>\n",
       "  <tbody>\n",
       "    <tr>\n",
       "      <th>288</th>\n",
       "      <td>1880-01-01</td>\n",
       "      <td>Winter</td>\n",
       "      <td>Jan</td>\n",
       "      <td>SH</td>\n",
       "      <td>0.0</td>\n",
       "    </tr>\n",
       "  </tbody>\n",
       "</table>\n",
       "</div>"
      ],
      "text/plain": [
       "          date  season month area  anomaly\n",
       "288 1880-01-01  Winter   Jan   SH      0.0"
      ]
     },
     "execution_count": 87,
     "metadata": {},
     "output_type": "execute_result"
    }
   ],
   "source": [
    "filt = dfg_melt['area'] == 'SH'\n",
    "df_sh = dfg_melt[filt]\n",
    "df_sh.head(1)"
   ]
  },
  {
   "cell_type": "code",
   "execution_count": 88,
   "id": "2a32295a-2b15-486d-9339-2daa5792bffd",
   "metadata": {
    "tags": []
   },
   "outputs": [
    {
     "data": {
      "text/html": [
       "<div>\n",
       "<style scoped>\n",
       "    .dataframe tbody tr th:only-of-type {\n",
       "        vertical-align: middle;\n",
       "    }\n",
       "\n",
       "    .dataframe tbody tr th {\n",
       "        vertical-align: top;\n",
       "    }\n",
       "\n",
       "    .dataframe thead th {\n",
       "        text-align: right;\n",
       "    }\n",
       "</style>\n",
       "<table border=\"1\" class=\"dataframe\">\n",
       "  <thead>\n",
       "    <tr style=\"text-align: right;\">\n",
       "      <th></th>\n",
       "      <th>date</th>\n",
       "      <th>season</th>\n",
       "      <th>month</th>\n",
       "      <th>area</th>\n",
       "      <th>anomaly</th>\n",
       "    </tr>\n",
       "  </thead>\n",
       "  <tbody>\n",
       "    <tr>\n",
       "      <th>144</th>\n",
       "      <td>1880-01-01</td>\n",
       "      <td>Winter</td>\n",
       "      <td>Jan</td>\n",
       "      <td>NH</td>\n",
       "      <td>-0.4</td>\n",
       "    </tr>\n",
       "  </tbody>\n",
       "</table>\n",
       "</div>"
      ],
      "text/plain": [
       "          date  season month area  anomaly\n",
       "144 1880-01-01  Winter   Jan   NH     -0.4"
      ]
     },
     "execution_count": 88,
     "metadata": {},
     "output_type": "execute_result"
    }
   ],
   "source": [
    "filt = dfg_melt['area'].isin([\"NH\",\"SH\"])\n",
    "df_global_by_hemisphere = dfg_melt[filt]\n",
    "df_global_by_hemisphere.head(1)"
   ]
  },
  {
   "cell_type": "code",
   "execution_count": 89,
   "id": "c3a6a545-04aa-44fd-a682-5f8a67ce9ea4",
   "metadata": {
    "tags": []
   },
   "outputs": [
    {
     "data": {
      "text/html": [
       "<div>\n",
       "<style scoped>\n",
       "    .dataframe tbody tr th:only-of-type {\n",
       "        vertical-align: middle;\n",
       "    }\n",
       "\n",
       "    .dataframe tbody tr th {\n",
       "        vertical-align: top;\n",
       "    }\n",
       "\n",
       "    .dataframe thead th {\n",
       "        text-align: right;\n",
       "    }\n",
       "</style>\n",
       "<table border=\"1\" class=\"dataframe\">\n",
       "  <thead>\n",
       "    <tr style=\"text-align: right;\">\n",
       "      <th></th>\n",
       "      <th>date</th>\n",
       "      <th>season</th>\n",
       "      <th>month</th>\n",
       "      <th>area</th>\n",
       "      <th>anomaly</th>\n",
       "    </tr>\n",
       "  </thead>\n",
       "  <tbody>\n",
       "    <tr>\n",
       "      <th>5182</th>\n",
       "      <td>2022-12-01</td>\n",
       "      <td>Winter</td>\n",
       "      <td>Dec</td>\n",
       "      <td>SH</td>\n",
       "      <td>0.5</td>\n",
       "    </tr>\n",
       "  </tbody>\n",
       "</table>\n",
       "</div>"
      ],
      "text/plain": [
       "           date  season month area  anomaly\n",
       "5182 2022-12-01  Winter   Dec   SH      0.5"
      ]
     },
     "execution_count": 89,
     "metadata": {},
     "output_type": "execute_result"
    }
   ],
   "source": [
    "df_global_by_hemisphere.tail(1)"
   ]
  },
  {
   "cell_type": "markdown",
   "id": "0b4144e1-7c35-4dd2-97e0-34a3f1786a0c",
   "metadata": {
    "tags": []
   },
   "source": [
    "<a id='dr-index'></a>\n",
    "## index"
   ]
  },
  {
   "cell_type": "markdown",
   "id": "d74aae16-5822-4e4a-acba-8737b4b9597b",
   "metadata": {},
   "source": [
    "[Return to Start of Notebook](#dr)  "
   ]
  },
  {
   "cell_type": "markdown",
   "id": "2390a0ac-cd68-4397-b367-94d0b9e238cc",
   "metadata": {
    "toc-hr-collapsed": true
   },
   "source": [
    "### set index"
   ]
  },
  {
   "cell_type": "code",
   "execution_count": 90,
   "id": "5dfb2cec-d455-41ae-a62a-3ce944480d6b",
   "metadata": {
    "tags": []
   },
   "outputs": [
    {
     "data": {
      "text/html": [
       "<div>\n",
       "<style scoped>\n",
       "    .dataframe tbody tr th:only-of-type {\n",
       "        vertical-align: middle;\n",
       "    }\n",
       "\n",
       "    .dataframe tbody tr th {\n",
       "        vertical-align: top;\n",
       "    }\n",
       "\n",
       "    .dataframe thead th {\n",
       "        text-align: right;\n",
       "    }\n",
       "</style>\n",
       "<table border=\"1\" class=\"dataframe\">\n",
       "  <thead>\n",
       "    <tr style=\"text-align: right;\">\n",
       "      <th></th>\n",
       "      <th>season</th>\n",
       "      <th>month</th>\n",
       "      <th>area</th>\n",
       "      <th>anomaly</th>\n",
       "    </tr>\n",
       "    <tr>\n",
       "      <th>date</th>\n",
       "      <th></th>\n",
       "      <th></th>\n",
       "      <th></th>\n",
       "      <th></th>\n",
       "    </tr>\n",
       "  </thead>\n",
       "  <tbody>\n",
       "    <tr>\n",
       "      <th>1880-01-01</th>\n",
       "      <td>Winter</td>\n",
       "      <td>Jan</td>\n",
       "      <td>GLB</td>\n",
       "      <td>-0.2</td>\n",
       "    </tr>\n",
       "  </tbody>\n",
       "</table>\n",
       "</div>"
      ],
      "text/plain": [
       "            season month area  anomaly\n",
       "date                                  \n",
       "1880-01-01  Winter   Jan  GLB     -0.2"
      ]
     },
     "execution_count": 90,
     "metadata": {},
     "output_type": "execute_result"
    }
   ],
   "source": [
    "df_glb.set_index('date',inplace=True, verify_integrity=True, drop=True)\n",
    "#df_glb.index = pd.DatetimeIndex(df_glb.index)\n",
    "df_glb.head(1)"
   ]
  },
  {
   "cell_type": "code",
   "execution_count": 91,
   "id": "69b0bac5-e6f0-4a76-8597-878eb1889acf",
   "metadata": {
    "tags": []
   },
   "outputs": [
    {
     "data": {
      "text/html": [
       "<div>\n",
       "<style scoped>\n",
       "    .dataframe tbody tr th:only-of-type {\n",
       "        vertical-align: middle;\n",
       "    }\n",
       "\n",
       "    .dataframe tbody tr th {\n",
       "        vertical-align: top;\n",
       "    }\n",
       "\n",
       "    .dataframe thead th {\n",
       "        text-align: right;\n",
       "    }\n",
       "</style>\n",
       "<table border=\"1\" class=\"dataframe\">\n",
       "  <thead>\n",
       "    <tr style=\"text-align: right;\">\n",
       "      <th></th>\n",
       "      <th>season</th>\n",
       "      <th>month</th>\n",
       "      <th>area</th>\n",
       "      <th>anomaly</th>\n",
       "    </tr>\n",
       "    <tr>\n",
       "      <th>date</th>\n",
       "      <th></th>\n",
       "      <th></th>\n",
       "      <th></th>\n",
       "      <th></th>\n",
       "    </tr>\n",
       "  </thead>\n",
       "  <tbody>\n",
       "    <tr>\n",
       "      <th>1880-01-01</th>\n",
       "      <td>Winter</td>\n",
       "      <td>Jan</td>\n",
       "      <td>NH</td>\n",
       "      <td>-0.4</td>\n",
       "    </tr>\n",
       "  </tbody>\n",
       "</table>\n",
       "</div>"
      ],
      "text/plain": [
       "            season month area  anomaly\n",
       "date                                  \n",
       "1880-01-01  Winter   Jan   NH     -0.4"
      ]
     },
     "execution_count": 91,
     "metadata": {},
     "output_type": "execute_result"
    }
   ],
   "source": [
    "df_nh.set_index('date',inplace=True, verify_integrity=True, drop=True)\n",
    "df_nh.head(1)"
   ]
  },
  {
   "cell_type": "code",
   "execution_count": 92,
   "id": "ef25bbb5-14ae-43ea-a5ae-8ac511cdd64a",
   "metadata": {
    "tags": []
   },
   "outputs": [
    {
     "data": {
      "text/html": [
       "<div>\n",
       "<style scoped>\n",
       "    .dataframe tbody tr th:only-of-type {\n",
       "        vertical-align: middle;\n",
       "    }\n",
       "\n",
       "    .dataframe tbody tr th {\n",
       "        vertical-align: top;\n",
       "    }\n",
       "\n",
       "    .dataframe thead th {\n",
       "        text-align: right;\n",
       "    }\n",
       "</style>\n",
       "<table border=\"1\" class=\"dataframe\">\n",
       "  <thead>\n",
       "    <tr style=\"text-align: right;\">\n",
       "      <th></th>\n",
       "      <th>season</th>\n",
       "      <th>month</th>\n",
       "      <th>area</th>\n",
       "      <th>anomaly</th>\n",
       "    </tr>\n",
       "    <tr>\n",
       "      <th>date</th>\n",
       "      <th></th>\n",
       "      <th></th>\n",
       "      <th></th>\n",
       "      <th></th>\n",
       "    </tr>\n",
       "  </thead>\n",
       "  <tbody>\n",
       "    <tr>\n",
       "      <th>1880-01-01</th>\n",
       "      <td>Winter</td>\n",
       "      <td>Jan</td>\n",
       "      <td>SH</td>\n",
       "      <td>0.0</td>\n",
       "    </tr>\n",
       "  </tbody>\n",
       "</table>\n",
       "</div>"
      ],
      "text/plain": [
       "            season month area  anomaly\n",
       "date                                  \n",
       "1880-01-01  Winter   Jan   SH      0.0"
      ]
     },
     "execution_count": 92,
     "metadata": {},
     "output_type": "execute_result"
    }
   ],
   "source": [
    "df_sh.set_index('date',inplace=True, verify_integrity=True, drop=True)\n",
    "df_sh.head(1)"
   ]
  },
  {
   "cell_type": "markdown",
   "id": "dd6b5ab0-3e42-42a4-80ff-8e978f786a86",
   "metadata": {
    "toc-hr-collapsed": true
   },
   "source": [
    "### change index name"
   ]
  },
  {
   "cell_type": "code",
   "execution_count": 93,
   "id": "ba39cea9-1174-4c0e-982b-d5c9aac208a0",
   "metadata": {
    "tags": []
   },
   "outputs": [
    {
     "data": {
      "text/html": [
       "<div>\n",
       "<style scoped>\n",
       "    .dataframe tbody tr th:only-of-type {\n",
       "        vertical-align: middle;\n",
       "    }\n",
       "\n",
       "    .dataframe tbody tr th {\n",
       "        vertical-align: top;\n",
       "    }\n",
       "\n",
       "    .dataframe thead th {\n",
       "        text-align: right;\n",
       "    }\n",
       "</style>\n",
       "<table border=\"1\" class=\"dataframe\">\n",
       "  <thead>\n",
       "    <tr style=\"text-align: right;\">\n",
       "      <th></th>\n",
       "      <th>season</th>\n",
       "      <th>month</th>\n",
       "      <th>area</th>\n",
       "      <th>anomaly</th>\n",
       "    </tr>\n",
       "    <tr>\n",
       "      <th>Date</th>\n",
       "      <th></th>\n",
       "      <th></th>\n",
       "      <th></th>\n",
       "      <th></th>\n",
       "    </tr>\n",
       "  </thead>\n",
       "  <tbody>\n",
       "    <tr>\n",
       "      <th>1880-01-01</th>\n",
       "      <td>Winter</td>\n",
       "      <td>Jan</td>\n",
       "      <td>GLB</td>\n",
       "      <td>-0.2</td>\n",
       "    </tr>\n",
       "  </tbody>\n",
       "</table>\n",
       "</div>"
      ],
      "text/plain": [
       "            season month area  anomaly\n",
       "Date                                  \n",
       "1880-01-01  Winter   Jan  GLB     -0.2"
      ]
     },
     "execution_count": 93,
     "metadata": {},
     "output_type": "execute_result"
    }
   ],
   "source": [
    "df_glb.index.names = ['Date']\n",
    "df_glb.head(1)"
   ]
  },
  {
   "cell_type": "code",
   "execution_count": 94,
   "id": "a2a85b11-f97e-48c0-8570-f12d7af4c9d0",
   "metadata": {
    "tags": []
   },
   "outputs": [
    {
     "data": {
      "text/html": [
       "<div>\n",
       "<style scoped>\n",
       "    .dataframe tbody tr th:only-of-type {\n",
       "        vertical-align: middle;\n",
       "    }\n",
       "\n",
       "    .dataframe tbody tr th {\n",
       "        vertical-align: top;\n",
       "    }\n",
       "\n",
       "    .dataframe thead th {\n",
       "        text-align: right;\n",
       "    }\n",
       "</style>\n",
       "<table border=\"1\" class=\"dataframe\">\n",
       "  <thead>\n",
       "    <tr style=\"text-align: right;\">\n",
       "      <th></th>\n",
       "      <th>season</th>\n",
       "      <th>month</th>\n",
       "      <th>area</th>\n",
       "      <th>anomaly</th>\n",
       "    </tr>\n",
       "    <tr>\n",
       "      <th>date</th>\n",
       "      <th></th>\n",
       "      <th></th>\n",
       "      <th></th>\n",
       "      <th></th>\n",
       "    </tr>\n",
       "  </thead>\n",
       "  <tbody>\n",
       "    <tr>\n",
       "      <th>1880-01-01</th>\n",
       "      <td>Winter</td>\n",
       "      <td>Jan</td>\n",
       "      <td>GLB</td>\n",
       "      <td>-0.2</td>\n",
       "    </tr>\n",
       "  </tbody>\n",
       "</table>\n",
       "</div>"
      ],
      "text/plain": [
       "            season month area  anomaly\n",
       "date                                  \n",
       "1880-01-01  Winter   Jan  GLB     -0.2"
      ]
     },
     "execution_count": 94,
     "metadata": {},
     "output_type": "execute_result"
    }
   ],
   "source": [
    "df_glb.index.names = ['date']\n",
    "df_glb.head(1)"
   ]
  },
  {
   "cell_type": "markdown",
   "id": "fd958df0-4dbb-4dde-a073-c877fe565ead",
   "metadata": {
    "toc-hr-collapsed": true
   },
   "source": [
    "### reset index"
   ]
  },
  {
   "cell_type": "markdown",
   "id": "c8e86eef-3ac9-409b-8f1b-f9760f22b22e",
   "metadata": {},
   "source": [
    "#### creates a new range index"
   ]
  },
  {
   "cell_type": "code",
   "execution_count": 95,
   "id": "b15531a2-8d77-4cc8-a828-7c9f6171ab85",
   "metadata": {
    "tags": []
   },
   "outputs": [
    {
     "data": {
      "text/html": [
       "<div>\n",
       "<style scoped>\n",
       "    .dataframe tbody tr th:only-of-type {\n",
       "        vertical-align: middle;\n",
       "    }\n",
       "\n",
       "    .dataframe tbody tr th {\n",
       "        vertical-align: top;\n",
       "    }\n",
       "\n",
       "    .dataframe thead th {\n",
       "        text-align: right;\n",
       "    }\n",
       "</style>\n",
       "<table border=\"1\" class=\"dataframe\">\n",
       "  <thead>\n",
       "    <tr style=\"text-align: right;\">\n",
       "      <th></th>\n",
       "      <th>date</th>\n",
       "      <th>season</th>\n",
       "      <th>month</th>\n",
       "      <th>area</th>\n",
       "      <th>anomaly</th>\n",
       "    </tr>\n",
       "  </thead>\n",
       "  <tbody>\n",
       "    <tr>\n",
       "      <th>0</th>\n",
       "      <td>1880-01-01</td>\n",
       "      <td>Winter</td>\n",
       "      <td>Jan</td>\n",
       "      <td>GLB</td>\n",
       "      <td>-0.2</td>\n",
       "    </tr>\n",
       "  </tbody>\n",
       "</table>\n",
       "</div>"
      ],
      "text/plain": [
       "        date  season month area  anomaly\n",
       "0 1880-01-01  Winter   Jan  GLB     -0.2"
      ]
     },
     "execution_count": 95,
     "metadata": {},
     "output_type": "execute_result"
    }
   ],
   "source": [
    "df_glb.reset_index(inplace=True)\n",
    "df_glb.head(1)"
   ]
  },
  {
   "cell_type": "code",
   "execution_count": 96,
   "id": "5407420b-151a-4e2b-8574-0e1173d50453",
   "metadata": {
    "tags": []
   },
   "outputs": [],
   "source": [
    "df_global_by_hemisphere.reset_index(inplace=True,drop=True)"
   ]
  },
  {
   "cell_type": "code",
   "execution_count": 97,
   "id": "e5ad6232-dc64-455b-9ace-87f989a4254d",
   "metadata": {
    "tags": []
   },
   "outputs": [
    {
     "name": "stdout",
     "output_type": "stream",
     "text": [
      "<class 'pandas.core.frame.DataFrame'>\n",
      "RangeIndex: 3438 entries, 0 to 3437\n",
      "Data columns (total 5 columns):\n",
      " #   Column   Non-Null Count  Dtype         \n",
      "---  ------   --------------  -----         \n",
      " 0   date     3438 non-null   datetime64[ns]\n",
      " 1   season   3438 non-null   object        \n",
      " 2   month    3438 non-null   object        \n",
      " 3   area     3438 non-null   object        \n",
      " 4   anomaly  3438 non-null   float64       \n",
      "dtypes: datetime64[ns](1), float64(1), object(3)\n",
      "memory usage: 134.4+ KB\n"
     ]
    }
   ],
   "source": [
    "df_global_by_hemisphere.info()"
   ]
  },
  {
   "cell_type": "markdown",
   "id": "77242692-3a37-44b5-9f25-5d497db611f9",
   "metadata": {
    "toc-hr-collapsed": true
   },
   "source": [
    "### set index"
   ]
  },
  {
   "cell_type": "code",
   "execution_count": 98,
   "id": "e9000e48-1e5a-4308-b7da-dcd90f7b7918",
   "metadata": {
    "tags": []
   },
   "outputs": [
    {
     "data": {
      "text/html": [
       "<div>\n",
       "<style scoped>\n",
       "    .dataframe tbody tr th:only-of-type {\n",
       "        vertical-align: middle;\n",
       "    }\n",
       "\n",
       "    .dataframe tbody tr th {\n",
       "        vertical-align: top;\n",
       "    }\n",
       "\n",
       "    .dataframe thead th {\n",
       "        text-align: right;\n",
       "    }\n",
       "</style>\n",
       "<table border=\"1\" class=\"dataframe\">\n",
       "  <thead>\n",
       "    <tr style=\"text-align: right;\">\n",
       "      <th></th>\n",
       "      <th>season</th>\n",
       "      <th>month</th>\n",
       "      <th>area</th>\n",
       "      <th>anomaly</th>\n",
       "    </tr>\n",
       "    <tr>\n",
       "      <th>date</th>\n",
       "      <th></th>\n",
       "      <th></th>\n",
       "      <th></th>\n",
       "      <th></th>\n",
       "    </tr>\n",
       "  </thead>\n",
       "  <tbody>\n",
       "    <tr>\n",
       "      <th>1880-01-01</th>\n",
       "      <td>Winter</td>\n",
       "      <td>Jan</td>\n",
       "      <td>GLB</td>\n",
       "      <td>-0.2</td>\n",
       "    </tr>\n",
       "  </tbody>\n",
       "</table>\n",
       "</div>"
      ],
      "text/plain": [
       "            season month area  anomaly\n",
       "date                                  \n",
       "1880-01-01  Winter   Jan  GLB     -0.2"
      ]
     },
     "execution_count": 98,
     "metadata": {},
     "output_type": "execute_result"
    }
   ],
   "source": [
    "df_glb.set_index('date',inplace=True,drop=True)\n",
    "df_glb.head(1)"
   ]
  },
  {
   "cell_type": "markdown",
   "id": "a230e64e-0d5c-4757-9626-b26115d87d81",
   "metadata": {
    "toc-hr-collapsed": true
   },
   "source": [
    "### sort index\n",
    "- df.sort_index(ascending=[True,False],inplace=True)"
   ]
  },
  {
   "cell_type": "code",
   "execution_count": 99,
   "id": "6bdab516-9955-4d0c-bc26-6e410763cf97",
   "metadata": {
    "tags": []
   },
   "outputs": [
    {
     "data": {
      "text/html": [
       "<div>\n",
       "<style scoped>\n",
       "    .dataframe tbody tr th:only-of-type {\n",
       "        vertical-align: middle;\n",
       "    }\n",
       "\n",
       "    .dataframe tbody tr th {\n",
       "        vertical-align: top;\n",
       "    }\n",
       "\n",
       "    .dataframe thead th {\n",
       "        text-align: right;\n",
       "    }\n",
       "</style>\n",
       "<table border=\"1\" class=\"dataframe\">\n",
       "  <thead>\n",
       "    <tr style=\"text-align: right;\">\n",
       "      <th></th>\n",
       "      <th>season</th>\n",
       "      <th>month</th>\n",
       "      <th>area</th>\n",
       "      <th>anomaly</th>\n",
       "    </tr>\n",
       "    <tr>\n",
       "      <th>date</th>\n",
       "      <th></th>\n",
       "      <th></th>\n",
       "      <th></th>\n",
       "      <th></th>\n",
       "    </tr>\n",
       "  </thead>\n",
       "  <tbody>\n",
       "    <tr>\n",
       "      <th>2023-03-01</th>\n",
       "      <td>Spring</td>\n",
       "      <td>Mar</td>\n",
       "      <td>GLB</td>\n",
       "      <td>1.2</td>\n",
       "    </tr>\n",
       "    <tr>\n",
       "      <th>2023-02-01</th>\n",
       "      <td>Winter</td>\n",
       "      <td>Feb</td>\n",
       "      <td>GLB</td>\n",
       "      <td>1.0</td>\n",
       "    </tr>\n",
       "  </tbody>\n",
       "</table>\n",
       "</div>"
      ],
      "text/plain": [
       "            season month area  anomaly\n",
       "date                                  \n",
       "2023-03-01  Spring   Mar  GLB      1.2\n",
       "2023-02-01  Winter   Feb  GLB      1.0"
      ]
     },
     "execution_count": 99,
     "metadata": {},
     "output_type": "execute_result"
    }
   ],
   "source": [
    "df_glb.sort_index(ascending=False, inplace=True)\n",
    "df_glb.head(2)"
   ]
  },
  {
   "cell_type": "code",
   "execution_count": 100,
   "id": "50741bd1-a908-4107-9ad7-32ba80d5bdcd",
   "metadata": {
    "tags": []
   },
   "outputs": [
    {
     "data": {
      "text/html": [
       "<div>\n",
       "<style scoped>\n",
       "    .dataframe tbody tr th:only-of-type {\n",
       "        vertical-align: middle;\n",
       "    }\n",
       "\n",
       "    .dataframe tbody tr th {\n",
       "        vertical-align: top;\n",
       "    }\n",
       "\n",
       "    .dataframe thead th {\n",
       "        text-align: right;\n",
       "    }\n",
       "</style>\n",
       "<table border=\"1\" class=\"dataframe\">\n",
       "  <thead>\n",
       "    <tr style=\"text-align: right;\">\n",
       "      <th></th>\n",
       "      <th>season</th>\n",
       "      <th>month</th>\n",
       "      <th>area</th>\n",
       "      <th>anomaly</th>\n",
       "    </tr>\n",
       "    <tr>\n",
       "      <th>date</th>\n",
       "      <th></th>\n",
       "      <th></th>\n",
       "      <th></th>\n",
       "      <th></th>\n",
       "    </tr>\n",
       "  </thead>\n",
       "  <tbody>\n",
       "    <tr>\n",
       "      <th>1880-01-01</th>\n",
       "      <td>Winter</td>\n",
       "      <td>Jan</td>\n",
       "      <td>GLB</td>\n",
       "      <td>-0.2</td>\n",
       "    </tr>\n",
       "    <tr>\n",
       "      <th>1880-02-01</th>\n",
       "      <td>Winter</td>\n",
       "      <td>Feb</td>\n",
       "      <td>GLB</td>\n",
       "      <td>-0.2</td>\n",
       "    </tr>\n",
       "  </tbody>\n",
       "</table>\n",
       "</div>"
      ],
      "text/plain": [
       "            season month area  anomaly\n",
       "date                                  \n",
       "1880-01-01  Winter   Jan  GLB     -0.2\n",
       "1880-02-01  Winter   Feb  GLB     -0.2"
      ]
     },
     "execution_count": 100,
     "metadata": {},
     "output_type": "execute_result"
    }
   ],
   "source": [
    "df_glb.sort_index(inplace=True)\n",
    "df_glb.head(2)"
   ]
  },
  {
   "cell_type": "markdown",
   "id": "0295d1fa-dba3-4c5b-81a8-98218bb75ae1",
   "metadata": {
    "toc-hr-collapsed": true
   },
   "source": [
    "### .index. date accessor\n",
    "(cannot use .dt)"
   ]
  },
  {
   "cell_type": "code",
   "execution_count": 101,
   "id": "39e4a27b-5946-4f9b-bb1c-3a25b6648149",
   "metadata": {
    "tags": []
   },
   "outputs": [
    {
     "data": {
      "text/html": [
       "<div>\n",
       "<style scoped>\n",
       "    .dataframe tbody tr th:only-of-type {\n",
       "        vertical-align: middle;\n",
       "    }\n",
       "\n",
       "    .dataframe tbody tr th {\n",
       "        vertical-align: top;\n",
       "    }\n",
       "\n",
       "    .dataframe thead th {\n",
       "        text-align: right;\n",
       "    }\n",
       "</style>\n",
       "<table border=\"1\" class=\"dataframe\">\n",
       "  <thead>\n",
       "    <tr style=\"text-align: right;\">\n",
       "      <th></th>\n",
       "      <th>year</th>\n",
       "      <th>month</th>\n",
       "      <th>season</th>\n",
       "      <th>area</th>\n",
       "      <th>anomaly</th>\n",
       "    </tr>\n",
       "    <tr>\n",
       "      <th>date</th>\n",
       "      <th></th>\n",
       "      <th></th>\n",
       "      <th></th>\n",
       "      <th></th>\n",
       "      <th></th>\n",
       "    </tr>\n",
       "  </thead>\n",
       "  <tbody>\n",
       "    <tr>\n",
       "      <th>1880-01-01</th>\n",
       "      <td>1880</td>\n",
       "      <td>Jan</td>\n",
       "      <td>Winter</td>\n",
       "      <td>GLB</td>\n",
       "      <td>-0.2</td>\n",
       "    </tr>\n",
       "  </tbody>\n",
       "</table>\n",
       "</div>"
      ],
      "text/plain": [
       "            year month  season area  anomaly\n",
       "date                                        \n",
       "1880-01-01  1880   Jan  Winter  GLB     -0.2"
      ]
     },
     "execution_count": 101,
     "metadata": {},
     "output_type": "execute_result"
    }
   ],
   "source": [
    "df_glb['year'] = df_glb.index.year \n",
    "#df_glb['month'] = df_glb.index.month\n",
    "df_glb = df_glb.reindex(['year','month','season','area','anomaly'], axis=1)\n",
    "df_glb.head(1)"
   ]
  },
  {
   "cell_type": "code",
   "execution_count": 102,
   "id": "1e032079-32e0-403f-ac0f-ba4951195078",
   "metadata": {
    "tags": []
   },
   "outputs": [
    {
     "data": {
      "text/html": [
       "<div>\n",
       "<style scoped>\n",
       "    .dataframe tbody tr th:only-of-type {\n",
       "        vertical-align: middle;\n",
       "    }\n",
       "\n",
       "    .dataframe tbody tr th {\n",
       "        vertical-align: top;\n",
       "    }\n",
       "\n",
       "    .dataframe thead th {\n",
       "        text-align: right;\n",
       "    }\n",
       "</style>\n",
       "<table border=\"1\" class=\"dataframe\">\n",
       "  <thead>\n",
       "    <tr style=\"text-align: right;\">\n",
       "      <th></th>\n",
       "      <th>year</th>\n",
       "      <th>month</th>\n",
       "      <th>season</th>\n",
       "      <th>area</th>\n",
       "      <th>anomaly</th>\n",
       "    </tr>\n",
       "    <tr>\n",
       "      <th>date</th>\n",
       "      <th></th>\n",
       "      <th></th>\n",
       "      <th></th>\n",
       "      <th></th>\n",
       "      <th></th>\n",
       "    </tr>\n",
       "  </thead>\n",
       "  <tbody>\n",
       "    <tr>\n",
       "      <th>1880-01-01</th>\n",
       "      <td>1880</td>\n",
       "      <td>Jan</td>\n",
       "      <td>Winter</td>\n",
       "      <td>NH</td>\n",
       "      <td>-0.4</td>\n",
       "    </tr>\n",
       "  </tbody>\n",
       "</table>\n",
       "</div>"
      ],
      "text/plain": [
       "            year month  season area  anomaly\n",
       "date                                        \n",
       "1880-01-01  1880   Jan  Winter   NH     -0.4"
      ]
     },
     "execution_count": 102,
     "metadata": {},
     "output_type": "execute_result"
    }
   ],
   "source": [
    "df_nh['year'] = df_nh.index.year \n",
    "#df_nh['month'] = df_nh.index.month\n",
    "df_nh = df_nh.reindex(['year','month','season','area','anomaly'], axis=1)\n",
    "df_nh.head(1)"
   ]
  },
  {
   "cell_type": "code",
   "execution_count": 103,
   "id": "bc7a0525-83ec-423d-a04a-56147dbf4ad7",
   "metadata": {
    "tags": []
   },
   "outputs": [
    {
     "data": {
      "text/html": [
       "<div>\n",
       "<style scoped>\n",
       "    .dataframe tbody tr th:only-of-type {\n",
       "        vertical-align: middle;\n",
       "    }\n",
       "\n",
       "    .dataframe tbody tr th {\n",
       "        vertical-align: top;\n",
       "    }\n",
       "\n",
       "    .dataframe thead th {\n",
       "        text-align: right;\n",
       "    }\n",
       "</style>\n",
       "<table border=\"1\" class=\"dataframe\">\n",
       "  <thead>\n",
       "    <tr style=\"text-align: right;\">\n",
       "      <th></th>\n",
       "      <th>year</th>\n",
       "      <th>month</th>\n",
       "      <th>season</th>\n",
       "      <th>area</th>\n",
       "      <th>anomaly</th>\n",
       "    </tr>\n",
       "    <tr>\n",
       "      <th>date</th>\n",
       "      <th></th>\n",
       "      <th></th>\n",
       "      <th></th>\n",
       "      <th></th>\n",
       "      <th></th>\n",
       "    </tr>\n",
       "  </thead>\n",
       "  <tbody>\n",
       "    <tr>\n",
       "      <th>1880-01-01</th>\n",
       "      <td>1880</td>\n",
       "      <td>Jan</td>\n",
       "      <td>Winter</td>\n",
       "      <td>SH</td>\n",
       "      <td>0.0</td>\n",
       "    </tr>\n",
       "  </tbody>\n",
       "</table>\n",
       "</div>"
      ],
      "text/plain": [
       "            year month  season area  anomaly\n",
       "date                                        \n",
       "1880-01-01  1880   Jan  Winter   SH      0.0"
      ]
     },
     "execution_count": 103,
     "metadata": {},
     "output_type": "execute_result"
    }
   ],
   "source": [
    "df_sh['year'] = df_sh.index.year \n",
    "#df_sh['month'] = df_sh.index.month\n",
    "df_sh = df_sh.reindex(['year','month','season','area','anomaly'], axis=1)\n",
    "df_sh.head(1)"
   ]
  },
  {
   "cell_type": "markdown",
   "id": "0f8630c9-9b3a-40c9-9601-ca3e9cb5cf77",
   "metadata": {
    "toc-hr-collapsed": true
   },
   "source": [
    "<a id='dr-pivot'></a>\n",
    "## pivot"
   ]
  },
  {
   "cell_type": "markdown",
   "id": "b8126011-0e7a-4d19-91a5-a6b84747ad63",
   "metadata": {},
   "source": [
    "[Return to Start of Notebook](#dr)  "
   ]
  },
  {
   "cell_type": "code",
   "execution_count": 104,
   "id": "49c54ff8-b049-449a-85ac-ec60d2752e35",
   "metadata": {
    "tags": []
   },
   "outputs": [
    {
     "data": {
      "text/html": [
       "<div>\n",
       "<style scoped>\n",
       "    .dataframe tbody tr th:only-of-type {\n",
       "        vertical-align: middle;\n",
       "    }\n",
       "\n",
       "    .dataframe tbody tr th {\n",
       "        vertical-align: top;\n",
       "    }\n",
       "\n",
       "    .dataframe thead th {\n",
       "        text-align: right;\n",
       "    }\n",
       "</style>\n",
       "<table border=\"1\" class=\"dataframe\">\n",
       "  <thead>\n",
       "    <tr style=\"text-align: right;\">\n",
       "      <th>area</th>\n",
       "      <th>GLB</th>\n",
       "      <th>NH</th>\n",
       "      <th>SH</th>\n",
       "    </tr>\n",
       "    <tr>\n",
       "      <th>date</th>\n",
       "      <th></th>\n",
       "      <th></th>\n",
       "      <th></th>\n",
       "    </tr>\n",
       "  </thead>\n",
       "  <tbody>\n",
       "    <tr>\n",
       "      <th>1880-01-01</th>\n",
       "      <td>-0.2</td>\n",
       "      <td>-0.4</td>\n",
       "      <td>0.0</td>\n",
       "    </tr>\n",
       "    <tr>\n",
       "      <th>1880-02-01</th>\n",
       "      <td>-0.2</td>\n",
       "      <td>-0.5</td>\n",
       "      <td>0.0</td>\n",
       "    </tr>\n",
       "    <tr>\n",
       "      <th>1880-03-01</th>\n",
       "      <td>-0.1</td>\n",
       "      <td>-0.2</td>\n",
       "      <td>0.1</td>\n",
       "    </tr>\n",
       "  </tbody>\n",
       "</table>\n",
       "</div>"
      ],
      "text/plain": [
       "area        GLB   NH  SH\n",
       "date                    \n",
       "1880-01-01 -0.2 -0.4 0.0\n",
       "1880-02-01 -0.2 -0.5 0.0\n",
       "1880-03-01 -0.1 -0.2 0.1"
      ]
     },
     "execution_count": 104,
     "metadata": {},
     "output_type": "execute_result"
    }
   ],
   "source": [
    "df_hemisphere_by_month = dfg_melt.pivot(index=['date'],\n",
    "                  columns=('area'),\n",
    "                  values='anomaly')\n",
    "df_hemisphere_by_month.head(3)"
   ]
  },
  {
   "cell_type": "code",
   "execution_count": 105,
   "id": "bfeacc5a-5cca-41eb-823a-daf383507b6a",
   "metadata": {
    "tags": []
   },
   "outputs": [
    {
     "data": {
      "text/html": [
       "<div>\n",
       "<style scoped>\n",
       "    .dataframe tbody tr th:only-of-type {\n",
       "        vertical-align: middle;\n",
       "    }\n",
       "\n",
       "    .dataframe tbody tr th {\n",
       "        vertical-align: top;\n",
       "    }\n",
       "\n",
       "    .dataframe thead th {\n",
       "        text-align: right;\n",
       "    }\n",
       "</style>\n",
       "<table border=\"1\" class=\"dataframe\">\n",
       "  <thead>\n",
       "    <tr style=\"text-align: right;\">\n",
       "      <th>month</th>\n",
       "      <th>Jan</th>\n",
       "      <th>Feb</th>\n",
       "      <th>Mar</th>\n",
       "      <th>Apr</th>\n",
       "      <th>May</th>\n",
       "      <th>Jun</th>\n",
       "      <th>Jul</th>\n",
       "      <th>Aug</th>\n",
       "      <th>Sep</th>\n",
       "      <th>Oct</th>\n",
       "      <th>Nov</th>\n",
       "      <th>Dec</th>\n",
       "    </tr>\n",
       "    <tr>\n",
       "      <th>year</th>\n",
       "      <th></th>\n",
       "      <th></th>\n",
       "      <th></th>\n",
       "      <th></th>\n",
       "      <th></th>\n",
       "      <th></th>\n",
       "      <th></th>\n",
       "      <th></th>\n",
       "      <th></th>\n",
       "      <th></th>\n",
       "      <th></th>\n",
       "      <th></th>\n",
       "    </tr>\n",
       "  </thead>\n",
       "  <tbody>\n",
       "    <tr>\n",
       "      <th>1880</th>\n",
       "      <td>-0.2</td>\n",
       "      <td>-0.2</td>\n",
       "      <td>-0.1</td>\n",
       "      <td>-0.2</td>\n",
       "      <td>-0.1</td>\n",
       "      <td>-0.2</td>\n",
       "      <td>-0.2</td>\n",
       "      <td>-0.1</td>\n",
       "      <td>-0.1</td>\n",
       "      <td>-0.2</td>\n",
       "      <td>-0.2</td>\n",
       "      <td>-0.2</td>\n",
       "    </tr>\n",
       "    <tr>\n",
       "      <th>1881</th>\n",
       "      <td>-0.2</td>\n",
       "      <td>-0.1</td>\n",
       "      <td>0.0</td>\n",
       "      <td>0.1</td>\n",
       "      <td>0.1</td>\n",
       "      <td>-0.2</td>\n",
       "      <td>0.0</td>\n",
       "      <td>-0.0</td>\n",
       "      <td>-0.1</td>\n",
       "      <td>-0.2</td>\n",
       "      <td>-0.2</td>\n",
       "      <td>-0.1</td>\n",
       "    </tr>\n",
       "    <tr>\n",
       "      <th>1882</th>\n",
       "      <td>0.2</td>\n",
       "      <td>0.1</td>\n",
       "      <td>0.0</td>\n",
       "      <td>-0.2</td>\n",
       "      <td>-0.1</td>\n",
       "      <td>-0.2</td>\n",
       "      <td>-0.2</td>\n",
       "      <td>-0.1</td>\n",
       "      <td>-0.1</td>\n",
       "      <td>-0.2</td>\n",
       "      <td>-0.2</td>\n",
       "      <td>-0.4</td>\n",
       "    </tr>\n",
       "  </tbody>\n",
       "</table>\n",
       "</div>"
      ],
      "text/plain": [
       "month  Jan  Feb  Mar  Apr  May  Jun  Jul  Aug  Sep  Oct  Nov  Dec\n",
       "year                                                             \n",
       "1880  -0.2 -0.2 -0.1 -0.2 -0.1 -0.2 -0.2 -0.1 -0.1 -0.2 -0.2 -0.2\n",
       "1881  -0.2 -0.1  0.0  0.1  0.1 -0.2  0.0 -0.0 -0.1 -0.2 -0.2 -0.1\n",
       "1882   0.2  0.1  0.0 -0.2 -0.1 -0.2 -0.2 -0.1 -0.1 -0.2 -0.2 -0.4"
      ]
     },
     "execution_count": 105,
     "metadata": {},
     "output_type": "execute_result"
    }
   ],
   "source": [
    "df_glb_pivot_by_year = df_glb.pivot(index=['year'],\n",
    "                  columns=('month'),\n",
    "                  values='anomaly')\n",
    "df_glb_pivot_by_year= df_glb_pivot_by_year.reindex(months,axis=1)\n",
    "\n",
    "df_glb_pivot_by_year.head(3)"
   ]
  },
  {
   "cell_type": "markdown",
   "id": "d2571131-1a0b-4013-8768-b894e321c9c6",
   "metadata": {},
   "source": [
    "#### vs concatenate\n",
    "- can concatenate more than 2 dfs\n",
    "- will not create unique column name"
   ]
  },
  {
   "cell_type": "code",
   "execution_count": 106,
   "id": "0a87fadd-a9eb-422f-a900-765065350812",
   "metadata": {
    "tags": []
   },
   "outputs": [
    {
     "data": {
      "text/html": [
       "<div>\n",
       "<style scoped>\n",
       "    .dataframe tbody tr th:only-of-type {\n",
       "        vertical-align: middle;\n",
       "    }\n",
       "\n",
       "    .dataframe tbody tr th {\n",
       "        vertical-align: top;\n",
       "    }\n",
       "\n",
       "    .dataframe thead th {\n",
       "        text-align: right;\n",
       "    }\n",
       "</style>\n",
       "<table border=\"1\" class=\"dataframe\">\n",
       "  <thead>\n",
       "    <tr style=\"text-align: right;\">\n",
       "      <th></th>\n",
       "      <th>year</th>\n",
       "      <th>month</th>\n",
       "      <th>season</th>\n",
       "      <th>area</th>\n",
       "      <th>anomaly</th>\n",
       "      <th>year</th>\n",
       "      <th>month</th>\n",
       "      <th>season</th>\n",
       "      <th>area</th>\n",
       "      <th>anomaly</th>\n",
       "    </tr>\n",
       "    <tr>\n",
       "      <th>date</th>\n",
       "      <th></th>\n",
       "      <th></th>\n",
       "      <th></th>\n",
       "      <th></th>\n",
       "      <th></th>\n",
       "      <th></th>\n",
       "      <th></th>\n",
       "      <th></th>\n",
       "      <th></th>\n",
       "      <th></th>\n",
       "    </tr>\n",
       "  </thead>\n",
       "  <tbody>\n",
       "    <tr>\n",
       "      <th>1880-01-01</th>\n",
       "      <td>1880</td>\n",
       "      <td>Jan</td>\n",
       "      <td>Winter</td>\n",
       "      <td>NH</td>\n",
       "      <td>-0.4</td>\n",
       "      <td>1880</td>\n",
       "      <td>Jan</td>\n",
       "      <td>Winter</td>\n",
       "      <td>SH</td>\n",
       "      <td>0.0</td>\n",
       "    </tr>\n",
       "  </tbody>\n",
       "</table>\n",
       "</div>"
      ],
      "text/plain": [
       "            year month  season area  anomaly  year month  season area  anomaly\n",
       "date                                                                          \n",
       "1880-01-01  1880   Jan  Winter   NH     -0.4  1880   Jan  Winter   SH      0.0"
      ]
     },
     "execution_count": 106,
     "metadata": {},
     "output_type": "execute_result"
    }
   ],
   "source": [
    "df_horiz_concat = pd.concat([df_nh,\n",
    "                             df_sh],axis=1) \n",
    "df_horiz_concat.head(1)"
   ]
  },
  {
   "cell_type": "markdown",
   "id": "8529c4c2-3afa-4525-bcb4-d2df150943cc",
   "metadata": {
    "tags": [],
    "toc-hr-collapsed": true
   },
   "source": [
    "<a id='dr-plot'></a>\n",
    "## plot"
   ]
  },
  {
   "cell_type": "markdown",
   "id": "ca36bed7-865f-4f88-8de9-f9906526ca0a",
   "metadata": {},
   "source": [
    "[Return to Start of Notebook](#dr)  "
   ]
  },
  {
   "cell_type": "code",
   "execution_count": 107,
   "id": "2e2af0fc-9909-4caa-a9f9-b1c7c62859ff",
   "metadata": {
    "tags": []
   },
   "outputs": [
    {
     "data": {
      "text/plain": [
       "<Axes: xlabel='date'>"
      ]
     },
     "execution_count": 107,
     "metadata": {},
     "output_type": "execute_result"
    },
    {
     "data": {
      "image/png": "[encoded data removed]",
      "text/plain": [
       "<Figure size 576x288 with 1 Axes>"
      ]
     },
     "metadata": {},
     "output_type": "display_data"
    }
   ],
   "source": [
    "df_glb[\"anomaly\"].plot()"
   ]
  },
  {
   "cell_type": "code",
   "execution_count": 108,
   "id": "0752c7e6-5df3-4987-8dd7-ec294dc78b4e",
   "metadata": {
    "tags": []
   },
   "outputs": [
    {
     "data": {
      "text/plain": [
       "<Axes: xlabel='date'>"
      ]
     },
     "execution_count": 108,
     "metadata": {},
     "output_type": "execute_result"
    },
    {
     "data": {
      "image/png": "[encoded data removed]",
      "text/plain": [
       "<Figure size 576x288 with 1 Axes>"
      ]
     },
     "metadata": {},
     "output_type": "display_data"
    }
   ],
   "source": [
    "df_hemisphere_by_month[[\"NH\", \"SH\"]].plot()"
   ]
  },
  {
   "cell_type": "code",
   "execution_count": 109,
   "id": "4ce85a13-4feb-4a7e-b47a-16ddc798611e",
   "metadata": {
    "tags": []
   },
   "outputs": [
    {
     "data": {
      "text/plain": [
       "<Axes: xlabel='NH', ylabel='SH'>"
      ]
     },
     "execution_count": 109,
     "metadata": {},
     "output_type": "execute_result"
    },
    {
     "data": {
      "image/png": "[encoded data removed]",
      "text/plain": [
       "<Figure size 576x288 with 1 Axes>"
      ]
     },
     "metadata": {},
     "output_type": "display_data"
    }
   ],
   "source": [
    "df_hemisphere_by_month.plot.scatter(x = \"NH\", y = \"SH\")"
   ]
  },
  {
   "cell_type": "markdown",
   "id": "646736a1-149b-4348-8ae4-1dc530412185",
   "metadata": {
    "tags": [],
    "toc-hr-collapsed": true
   },
   "source": [
    "<a id='dr-export'></a>\n",
    "## export"
   ]
  },
  {
   "cell_type": "markdown",
   "id": "8015971b-321d-4558-a9c3-e2a37c7d3bdd",
   "metadata": {},
   "source": [
    "[Return to Start of Notebook](#dr)  "
   ]
  },
  {
   "cell_type": "code",
   "execution_count": 126,
   "id": "9e15f639-8ce2-4570-a5fe-1cfa5f30db50",
   "metadata": {
    "tags": []
   },
   "outputs": [],
   "source": [
    "def export_file(file_id, df, index = False):\n",
    "    save_path = os.path.join(restructured_data_dir,\n",
    "                             file_id + '.csv')\n",
    "    df.to_csv(save_path,\n",
    "              header=True,\n",
    "              index=index,\n",
    "              sep=',',\n",
    "              na_rep='NULL',\n",
    "              float_format=\"%.2f\")"
   ]
  },
  {
   "cell_type": "code",
   "execution_count": 127,
   "id": "f3d80168-9dc8-4baf-97d9-daa8890fdb64",
   "metadata": {
    "tags": []
   },
   "outputs": [],
   "source": [
    "export_file('global_tabular_by_month',df_glb, index=True)"
   ]
  },
  {
   "cell_type": "code",
   "execution_count": 128,
   "id": "ddccb93a-6047-48c8-bc28-db66bbaa887b",
   "metadata": {},
   "outputs": [],
   "source": [
    "export_file('hemisphere_tabular_by_month',df_global_by_hemisphere)"
   ]
  },
  {
   "cell_type": "code",
   "execution_count": 129,
   "id": "56b7280d-13de-4da1-bf4e-bd110a009d8c",
   "metadata": {
    "tags": []
   },
   "outputs": [],
   "source": [
    "export_file('zonal_tabular_by_year',dfz_melt)"
   ]
  },
  {
   "cell_type": "code",
   "execution_count": null,
   "id": "005a84a6-6f41-4708-ba57-329b1a0a6bf7",
   "metadata": {},
   "outputs": [],
   "source": []
  },
  {
   "cell_type": "code",
   "execution_count": null,
   "id": "1eab4eab-0569-4877-964b-f72f2a63d287",
   "metadata": {},
   "outputs": [],
   "source": []
  }
 ],
 "metadata": {
  "interpreter": {
   "hash": "dadb38d82647d96d5382ce5812a5d64c7d4d3210fd59b769fd19e4966085dba7"
  },
  "kernelspec": {
   "display_name": "Python 3 (ipykernel)",
   "language": "python",
   "name": "python3"
  },
  "language_info": {
   "codemirror_mode": {
    "name": "ipython",
    "version": 3
   },
   "file_extension": ".py",
   "mimetype": "text/x-python",
   "name": "python",
   "nbconvert_exporter": "python",
   "pygments_lexer": "ipython3",
   "version": "3.10.10"
  },
  "toc-autonumbering": false,
  "toc-showcode": true,
  "toc-showmarkdowntxt": false,
  "toc-showtags": false
 },
 "nbformat": 4,
 "nbformat_minor": 5
}
