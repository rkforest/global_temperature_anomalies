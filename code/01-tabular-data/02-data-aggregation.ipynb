{
 "cells": [
  {
   "cell_type": "markdown",
   "id": "839e0547-8a48-4bb3-bf0a-34266d6a88b9",
   "metadata": {
    "tags": []
   },
   "source": [
    "<a id='da'></a>\n",
    "# tabular data aggregation|"
   ]
  },
  {
   "cell_type": "markdown",
   "id": "6a31597e-6eae-4bcf-b080-3072256b9a12",
   "metadata": {
    "tags": []
   },
   "source": [
    "[libraries](#da-libraries)   \n",
    "[variables](#da-variables)   \n",
    "[categoricals](#da-categoricals)   \n",
    "[directories](#da-directories)   \n",
    "[read](#da-read)   \n",
    "[transform](#da-transform)   \n",
    "[statistics](#da-statistics)  \n",
    "[agg](#da-agg)  \n",
    "[groupby](#da-groupby)  \n",
    "[groupby.agg](#da-groupby.agg)  \n",
    "[resample](#da-resample)  \n",
    "[export](#da-export)  "
   ]
  },
  {
   "cell_type": "markdown",
   "id": "3e1f80cf-05cd-4c17-9089-a4dade9a0ee8",
   "metadata": {},
   "source": [
    "- Aggregation methods\n",
    "\n",
    "- sum, mean, median, min, max, count, std, var, describe, quantile\n",
    "- The technical definition of an aggregation is when a sequence of values is summarized by a single number.\n",
    "\n",
    "- axis parameter\n",
    "  - axis 0\n",
    "    Default axis for most DataFrame methods\n",
    "    Also referenced by the string 'index'\n",
    "    Operations happen vertically, up and down the columns\n",
    "    Example - df.sum() computes the sum of each column individually\n",
    "  - axis 1\n",
    "    Also referenced by the string 'columns'\n",
    "    Operations happen horizontally, left to right across each row\n",
    "    Example - df.sum(axis='columns') computes the sum of each row individually\n",
    "    \n",
    "- numeric_only=True\n",
    "  - eliminates time-consuming calculation of string aggregations (often dropped as nuisance columns anyways)"
   ]
  },
  {
   "cell_type": "markdown",
   "id": "4a0e642c-f0b5-45f8-868f-3fe9782903e3",
   "metadata": {},
   "source": [
    "- Aggregation Methods (minimally sufficient pandas)\n",
    "  - describe\n",
    "  - count, sum, max, min\n",
    "  - idxmax, idxmin\n",
    "  - all, any\n",
    "  - mean, median, mode, std, var\n",
    "  - nunique"
   ]
  },
  {
   "cell_type": "markdown",
   "id": "c59f3855-8bb2-4e20-8bd9-6e7951cee86d",
   "metadata": {},
   "source": [
    "## project"
   ]
  },
  {
   "cell_type": "code",
   "execution_count": 1,
   "id": "870c4066-8693-40f0-b6b7-97c57c709bd9",
   "metadata": {
    "tags": []
   },
   "outputs": [],
   "source": [
    "project_id = 'gta'"
   ]
  },
  {
   "cell_type": "markdown",
   "id": "238b5b39-0fa7-4f22-9259-503bf62c789c",
   "metadata": {
    "tags": [],
    "toc-hr-collapsed": true
   },
   "source": [
    "<a id='da-libraries'></a>\n",
    "## libraries"
   ]
  },
  {
   "cell_type": "code",
   "execution_count": 2,
   "id": "bb6681ab-51fc-4459-aaed-02fc5fbf3a67",
   "metadata": {
    "tags": []
   },
   "outputs": [],
   "source": [
    "import os\n",
    "import glob\n",
    "import calendar\n",
    "import pandas as pd"
   ]
  },
  {
   "cell_type": "code",
   "execution_count": 3,
   "id": "b805d120-5e95-429b-9be8-f2c690ff34a3",
   "metadata": {
    "tags": []
   },
   "outputs": [],
   "source": [
    "import warnings \n",
    "from functools import partial \n",
    "from IPython.core.interactiveshell import InteractiveShell "
   ]
  },
  {
   "cell_type": "markdown",
   "id": "2731417d-b8a8-4204-a581-b1451cc18aaa",
   "metadata": {
    "tags": [],
    "toc-hr-collapsed": true
   },
   "source": [
    "### parameters"
   ]
  },
  {
   "cell_type": "code",
   "execution_count": 4,
   "id": "96b6449f-907f-4576-a7de-14746a8e6f45",
   "metadata": {
    "tags": []
   },
   "outputs": [],
   "source": [
    "# ignore warnings \n",
    "warnings.filterwarnings('ignore')"
   ]
  },
  {
   "cell_type": "code",
   "execution_count": 5,
   "id": "365cb7ce-3a38-49ae-b7b9-53041b611c19",
   "metadata": {
    "tags": []
   },
   "outputs": [],
   "source": [
    "# shorter traceback error messages\n",
    "get_ipython().showtraceback = partial(get_ipython().showtraceback,exception_only=True)"
   ]
  },
  {
   "cell_type": "code",
   "execution_count": 6,
   "id": "955ef1de-db55-44e4-8a83-1d830e13f09e",
   "metadata": {
    "tags": []
   },
   "outputs": [],
   "source": [
    "# shows result of cell without needing print\n",
    "InteractiveShell.ast_node_interactivity = \"last_expr_or_assign\""
   ]
  },
  {
   "cell_type": "code",
   "execution_count": 7,
   "id": "e5366621-8bd5-4002-b192-a4f59b96bb0d",
   "metadata": {
    "tags": []
   },
   "outputs": [],
   "source": [
    "from pandas.api.types import CategoricalDtype"
   ]
  },
  {
   "cell_type": "markdown",
   "id": "612329b3-05f5-49f9-b799-3061b4ef33ee",
   "metadata": {
    "toc-hr-collapsed": true
   },
   "source": [
    "<a id='da-variables'></a>\n",
    "## variables"
   ]
  },
  {
   "cell_type": "markdown",
   "id": "9c3416e6-307b-4353-9a29-f1c6358714f5",
   "metadata": {},
   "source": [
    "[Return to Start of Notebook](#da)  "
   ]
  },
  {
   "cell_type": "code",
   "execution_count": 8,
   "id": "9e7d4dfa-22fb-4422-812f-12fd4672e8ae",
   "metadata": {
    "tags": []
   },
   "outputs": [
    {
     "data": {
      "text/plain": [
       "['Jan',\n",
       " 'Feb',\n",
       " 'Mar',\n",
       " 'Apr',\n",
       " 'May',\n",
       " 'Jun',\n",
       " 'Jul',\n",
       " 'Aug',\n",
       " 'Sep',\n",
       " 'Oct',\n",
       " 'Nov',\n",
       " 'Dec']"
      ]
     },
     "execution_count": 8,
     "metadata": {},
     "output_type": "execute_result"
    }
   ],
   "source": [
    "months = [month for month in calendar.month_abbr if month]"
   ]
  },
  {
   "cell_type": "code",
   "execution_count": 9,
   "id": "b01d9ce3-120d-4de4-8053-43e520df0590",
   "metadata": {
    "tags": []
   },
   "outputs": [
    {
     "data": {
      "text/plain": [
       "['Spring', 'Summer', 'Autumn', 'Winter']"
      ]
     },
     "execution_count": 9,
     "metadata": {},
     "output_type": "execute_result"
    }
   ],
   "source": [
    "seasons = ['Spring', 'Summer', 'Autumn','Winter']"
   ]
  },
  {
   "cell_type": "markdown",
   "id": "fe387e7d-07ef-47ef-a63f-488ea1dc10f7",
   "metadata": {
    "toc-hr-collapsed": true
   },
   "source": [
    "<a id='da-categoricals'></a>\n",
    "## categoricals"
   ]
  },
  {
   "cell_type": "markdown",
   "id": "8413f5ff-843f-4e4f-b6e7-9530631244d8",
   "metadata": {},
   "source": [
    "[Return to Start of Notebook](#da)  "
   ]
  },
  {
   "cell_type": "code",
   "execution_count": 10,
   "id": "b37e07fe-f6b4-4a71-9de6-355b2191825c",
   "metadata": {},
   "outputs": [
    {
     "data": {
      "text/plain": [
       "CategoricalDtype(categories=['Jan', 'Feb', 'Mar', 'Apr', 'May', 'Jun', 'Jul', 'Aug',\n",
       "                  'Sep', 'Oct', 'Nov', 'Dec'],\n",
       ", ordered=True)"
      ]
     },
     "execution_count": 10,
     "metadata": {},
     "output_type": "execute_result"
    }
   ],
   "source": [
    "months_cat = CategoricalDtype(months, ordered=True)"
   ]
  },
  {
   "cell_type": "code",
   "execution_count": 11,
   "id": "a2386410-e79b-4a56-9355-3bae02be486c",
   "metadata": {},
   "outputs": [
    {
     "data": {
      "text/plain": [
       "CategoricalDtype(categories=['Spring', 'Summer', 'Autumn', 'Winter'], ordered=True)"
      ]
     },
     "execution_count": 11,
     "metadata": {},
     "output_type": "execute_result"
    }
   ],
   "source": [
    "seasons_cat = CategoricalDtype(seasons, ordered=True)"
   ]
  },
  {
   "cell_type": "markdown",
   "id": "812bc44a-7e1b-475d-8450-77475e0e56d2",
   "metadata": {
    "toc-hr-collapsed": true
   },
   "source": [
    "<a id='da-directories'></a>\n",
    "## directories"
   ]
  },
  {
   "cell_type": "markdown",
   "id": "fc1c8151-15c2-47b3-9bf7-8c761fe78cb1",
   "metadata": {},
   "source": [
    "[Return to Start of Notebook](#da)  "
   ]
  },
  {
   "cell_type": "code",
   "execution_count": 12,
   "id": "a0c6e64b-9810-465a-908d-3d58d51e64ee",
   "metadata": {
    "tags": []
   },
   "outputs": [
    {
     "data": {
      "text/plain": [
       "'/Users/rkforest/gta/data/aggregated-data'"
      ]
     },
     "execution_count": 12,
     "metadata": {},
     "output_type": "execute_result"
    }
   ],
   "source": [
    "home_dir = os.path.expanduser(\"~\")\n",
    "project_dir = os.path.join(home_dir, project_id)\n",
    "data_dir = os.path.join(project_dir, 'data')\n",
    "restructured_data_dir = os.path.join(data_dir, 'restructured-data')\n",
    "aggregated_data_dir = os.path.join(data_dir, 'aggregated-data') "
   ]
  },
  {
   "cell_type": "code",
   "execution_count": 13,
   "id": "72569bb9-1536-4578-80d5-a772821ca5d6",
   "metadata": {
    "tags": []
   },
   "outputs": [],
   "source": [
    "def create_directory(directory_name):\n",
    "    if not os.path.exists(directory_name):\n",
    "        print('Created new directory: ', directory_name)\n",
    "        os.mkdir(directory_name)"
   ]
  },
  {
   "cell_type": "code",
   "execution_count": 14,
   "id": "4056cc93-26c8-4c85-9e9f-741f03cff3a4",
   "metadata": {
    "tags": []
   },
   "outputs": [
    {
     "name": "stdout",
     "output_type": "stream",
     "text": [
      "Created new directory:  /Users/rkforest/gta/data/aggregated-data\n"
     ]
    }
   ],
   "source": [
    "create_directory(aggregated_data_dir)"
   ]
  },
  {
   "cell_type": "code",
   "execution_count": 15,
   "id": "f43aa59b-555a-4e6b-9113-7b6930c326de",
   "metadata": {
    "tags": []
   },
   "outputs": [
    {
     "data": {
      "text/plain": [
       "'/Users/rkforest/gta'"
      ]
     },
     "execution_count": 15,
     "metadata": {},
     "output_type": "execute_result"
    }
   ],
   "source": [
    "os.chdir(project_dir)\n",
    "os.getcwd()"
   ]
  },
  {
   "cell_type": "markdown",
   "id": "1a9fc6a7-c12a-4144-8e45-76c6659f13ee",
   "metadata": {
    "tags": [],
    "toc-hr-collapsed": true
   },
   "source": [
    "### paths"
   ]
  },
  {
   "cell_type": "code",
   "execution_count": 16,
   "id": "70af116c-790e-488e-809e-adaf873a4cb4",
   "metadata": {
    "tags": []
   },
   "outputs": [
    {
     "name": "stdout",
     "output_type": "stream",
     "text": [
      "/Users/rkforest/gta/data/restructured-data/global_data_by_month.csv\n",
      "/Users/rkforest/gta/data/restructured-data/global_data_by_year.csv\n",
      "/Users/rkforest/gta/data/restructured-data/hemisphere_data_by_month.csv\n",
      "/Users/rkforest/gta/data/restructured-data/nh_data_by_month.csv\n",
      "/Users/rkforest/gta/data/restructured-data/sh_data_by_month.csv\n",
      "/Users/rkforest/gta/data/restructured-data/zonal_data_by_year.csv\n"
     ]
    }
   ],
   "source": [
    "file_paths =  sorted(glob.glob(os.path.join(restructured_data_dir, '*.csv')))\n",
    "[print(path) for path in file_paths];"
   ]
  },
  {
   "cell_type": "markdown",
   "id": "497ce463-0b83-4d16-8f2e-2883e23e5138",
   "metadata": {
    "tags": [],
    "toc-hr-collapsed": true
   },
   "source": [
    "<a id='da-read'></a>\n",
    "## read"
   ]
  },
  {
   "cell_type": "markdown",
   "id": "219ecf54-1a59-4cfe-a9fb-da8ac5d69975",
   "metadata": {},
   "source": [
    "[Return to Start of Notebook](#da)  "
   ]
  },
  {
   "cell_type": "code",
   "execution_count": 17,
   "id": "f9453104-aaf3-49d6-ad61-2b636ef255ac",
   "metadata": {
    "tags": []
   },
   "outputs": [
    {
     "data": {
      "text/html": [
       "<div>\n",
       "<style scoped>\n",
       "    .dataframe tbody tr th:only-of-type {\n",
       "        vertical-align: middle;\n",
       "    }\n",
       "\n",
       "    .dataframe tbody tr th {\n",
       "        vertical-align: top;\n",
       "    }\n",
       "\n",
       "    .dataframe thead th {\n",
       "        text-align: right;\n",
       "    }\n",
       "</style>\n",
       "<table border=\"1\" class=\"dataframe\">\n",
       "  <thead>\n",
       "    <tr style=\"text-align: right;\">\n",
       "      <th></th>\n",
       "      <th>year</th>\n",
       "      <th>month</th>\n",
       "      <th>season</th>\n",
       "      <th>area</th>\n",
       "      <th>anomaly</th>\n",
       "    </tr>\n",
       "    <tr>\n",
       "      <th>date</th>\n",
       "      <th></th>\n",
       "      <th></th>\n",
       "      <th></th>\n",
       "      <th></th>\n",
       "      <th></th>\n",
       "    </tr>\n",
       "  </thead>\n",
       "  <tbody>\n",
       "    <tr>\n",
       "      <th>1880-01-01</th>\n",
       "      <td>1880</td>\n",
       "      <td>Jan</td>\n",
       "      <td>Winter</td>\n",
       "      <td>GLB</td>\n",
       "      <td>-0.18</td>\n",
       "    </tr>\n",
       "  </tbody>\n",
       "</table>\n",
       "</div>"
      ],
      "text/plain": [
       "            year month  season area  anomaly\n",
       "date                                        \n",
       "1880-01-01  1880   Jan  Winter  GLB    -0.18"
      ]
     },
     "execution_count": 17,
     "metadata": {},
     "output_type": "execute_result"
    }
   ],
   "source": [
    "df_global_by_month = pd.read_csv(file_paths[0],\n",
    "                                 parse_dates=['date'],  \n",
    "                                 index_col='date') \n",
    "df_global_by_month.head(1)"
   ]
  },
  {
   "cell_type": "code",
   "execution_count": 18,
   "id": "59ab0faf-bcc7-415e-b8b6-37e8d708dbe7",
   "metadata": {
    "tags": []
   },
   "outputs": [
    {
     "data": {
      "text/html": [
       "<div>\n",
       "<style scoped>\n",
       "    .dataframe tbody tr th:only-of-type {\n",
       "        vertical-align: middle;\n",
       "    }\n",
       "\n",
       "    .dataframe tbody tr th {\n",
       "        vertical-align: top;\n",
       "    }\n",
       "\n",
       "    .dataframe thead th {\n",
       "        text-align: right;\n",
       "    }\n",
       "</style>\n",
       "<table border=\"1\" class=\"dataframe\">\n",
       "  <thead>\n",
       "    <tr style=\"text-align: right;\">\n",
       "      <th></th>\n",
       "      <th>Jan</th>\n",
       "      <th>Feb</th>\n",
       "      <th>Mar</th>\n",
       "      <th>Apr</th>\n",
       "      <th>May</th>\n",
       "      <th>Jun</th>\n",
       "      <th>Jul</th>\n",
       "      <th>Aug</th>\n",
       "      <th>Sep</th>\n",
       "      <th>Oct</th>\n",
       "      <th>Nov</th>\n",
       "      <th>Dec</th>\n",
       "    </tr>\n",
       "    <tr>\n",
       "      <th>year</th>\n",
       "      <th></th>\n",
       "      <th></th>\n",
       "      <th></th>\n",
       "      <th></th>\n",
       "      <th></th>\n",
       "      <th></th>\n",
       "      <th></th>\n",
       "      <th></th>\n",
       "      <th></th>\n",
       "      <th></th>\n",
       "      <th></th>\n",
       "      <th></th>\n",
       "    </tr>\n",
       "  </thead>\n",
       "  <tbody>\n",
       "    <tr>\n",
       "      <th>1880-01-01</th>\n",
       "      <td>-0.18</td>\n",
       "      <td>-0.24</td>\n",
       "      <td>-0.09</td>\n",
       "      <td>-0.16</td>\n",
       "      <td>-0.1</td>\n",
       "      <td>-0.21</td>\n",
       "      <td>-0.18</td>\n",
       "      <td>-0.1</td>\n",
       "      <td>-0.15</td>\n",
       "      <td>-0.23</td>\n",
       "      <td>-0.22</td>\n",
       "      <td>-0.17</td>\n",
       "    </tr>\n",
       "  </tbody>\n",
       "</table>\n",
       "</div>"
      ],
      "text/plain": [
       "             Jan   Feb   Mar   Apr  May   Jun   Jul  Aug   Sep   Oct   Nov   \n",
       "year                                                                         \n",
       "1880-01-01 -0.18 -0.24 -0.09 -0.16 -0.1 -0.21 -0.18 -0.1 -0.15 -0.23 -0.22  \\\n",
       "\n",
       "             Dec  \n",
       "year              \n",
       "1880-01-01 -0.17  "
      ]
     },
     "execution_count": 18,
     "metadata": {},
     "output_type": "execute_result"
    }
   ],
   "source": [
    "df_global_by_year = pd.read_csv(file_paths[1],\n",
    "                                parse_dates=['year'],  \n",
    "                                index_col='year') \n",
    "df_global_by_year.head(1)"
   ]
  },
  {
   "cell_type": "code",
   "execution_count": 19,
   "id": "381e8bfe-ff16-4d9e-afbf-bf57a0c6c51c",
   "metadata": {
    "tags": []
   },
   "outputs": [
    {
     "data": {
      "text/html": [
       "<div>\n",
       "<style scoped>\n",
       "    .dataframe tbody tr th:only-of-type {\n",
       "        vertical-align: middle;\n",
       "    }\n",
       "\n",
       "    .dataframe tbody tr th {\n",
       "        vertical-align: top;\n",
       "    }\n",
       "\n",
       "    .dataframe thead th {\n",
       "        text-align: right;\n",
       "    }\n",
       "</style>\n",
       "<table border=\"1\" class=\"dataframe\">\n",
       "  <thead>\n",
       "    <tr style=\"text-align: right;\">\n",
       "      <th></th>\n",
       "      <th>season</th>\n",
       "      <th>month</th>\n",
       "      <th>area</th>\n",
       "      <th>anomaly</th>\n",
       "    </tr>\n",
       "    <tr>\n",
       "      <th>date</th>\n",
       "      <th></th>\n",
       "      <th></th>\n",
       "      <th></th>\n",
       "      <th></th>\n",
       "    </tr>\n",
       "  </thead>\n",
       "  <tbody>\n",
       "    <tr>\n",
       "      <th>1880-01-01</th>\n",
       "      <td>Winter</td>\n",
       "      <td>Jan</td>\n",
       "      <td>NH</td>\n",
       "      <td>-0.36</td>\n",
       "    </tr>\n",
       "  </tbody>\n",
       "</table>\n",
       "</div>"
      ],
      "text/plain": [
       "            season month area  anomaly\n",
       "date                                  \n",
       "1880-01-01  Winter   Jan   NH    -0.36"
      ]
     },
     "execution_count": 19,
     "metadata": {},
     "output_type": "execute_result"
    }
   ],
   "source": [
    "df_hemisphere_by_year = pd.read_csv(file_paths[2],\n",
    "                                    parse_dates=['date'],  \n",
    "                                    index_col='date') \n",
    "df_hemisphere_by_year.head(1)"
   ]
  },
  {
   "cell_type": "markdown",
   "id": "e834ac25-92ab-40fb-9c93-394fbb96419f",
   "metadata": {
    "toc-hr-collapsed": true
   },
   "source": [
    "<a id='da-transform'></a>\n",
    "## transform"
   ]
  },
  {
   "cell_type": "markdown",
   "id": "c4c1d245-1000-46ed-96c5-85234fdec572",
   "metadata": {},
   "source": [
    "[Return to Start of Notebook](#da)  "
   ]
  },
  {
   "cell_type": "code",
   "execution_count": 20,
   "id": "8904dc3d-09f5-4b50-a0d9-a179067643ce",
   "metadata": {},
   "outputs": [
    {
     "data": {
      "text/plain": [
       "year          int64\n",
       "month      category\n",
       "season     category\n",
       "area         object\n",
       "anomaly     float64\n",
       "dtype: object"
      ]
     },
     "execution_count": 20,
     "metadata": {},
     "output_type": "execute_result"
    }
   ],
   "source": [
    "df_global_by_month['month'] = df_global_by_month['month'].astype(months_cat)\n",
    "df_global_by_month['season'] = df_global_by_month['season'].astype(seasons_cat)\n",
    "df_global_by_month.dtypes"
   ]
  },
  {
   "cell_type": "markdown",
   "id": "ebc5ae82-703b-4548-8936-9cb3e7c1b780",
   "metadata": {
    "tags": [],
    "toc-hr-collapsed": true
   },
   "source": [
    "<a id='da-statistics'></a>\n",
    "## statistics"
   ]
  },
  {
   "cell_type": "markdown",
   "id": "ad69b341-6df9-4662-9b2e-f12e94df1390",
   "metadata": {},
   "source": [
    "[Return to Start of Notebook](#da)  "
   ]
  },
  {
   "cell_type": "markdown",
   "id": "888833e3-a7d3-49df-8c19-c271b3958e84",
   "metadata": {
    "toc-hr-collapsed": true
   },
   "source": [
    "- sum, mean, median, min, max, count, std, var, describe, quantile"
   ]
  },
  {
   "cell_type": "markdown",
   "id": "8ae5f74b-eb2e-435c-b7c6-1355aeef97ad",
   "metadata": {
    "toc-hr-collapsed": true
   },
   "source": [
    "### single column"
   ]
  },
  {
   "cell_type": "code",
   "execution_count": 21,
   "id": "04de4d3b-5adf-402f-bb8e-c872c98678ab",
   "metadata": {
    "tags": []
   },
   "outputs": [
    {
     "data": {
      "text/plain": [
       "0.062390924956369984"
      ]
     },
     "execution_count": 21,
     "metadata": {},
     "output_type": "execute_result"
    }
   ],
   "source": [
    "df_global_by_month['anomaly'].mean()"
   ]
  },
  {
   "cell_type": "markdown",
   "id": "8e16335e-12e2-4aac-a83a-41155fe464fd",
   "metadata": {
    "toc-hr-collapsed": true
   },
   "source": [
    "### all df columns"
   ]
  },
  {
   "cell_type": "code",
   "execution_count": 22,
   "id": "fcd47716-1f25-4db5-8387-b1703c9074e9",
   "metadata": {
    "tags": []
   },
   "outputs": [
    {
     "data": {
      "text/plain": [
       "Jan    0.064236\n",
       "Feb    0.071806\n",
       "Mar    0.090069\n",
       "Apr    0.056783\n",
       "May    0.047343\n",
       "Jun    0.033077\n",
       "Jul    0.056573\n",
       "Aug    0.055035\n",
       "Sep    0.058322\n",
       "Oct    0.084755\n",
       "Nov    0.077762\n",
       "Dec    0.052657\n",
       "dtype: float64"
      ]
     },
     "execution_count": 22,
     "metadata": {},
     "output_type": "execute_result"
    }
   ],
   "source": [
    "months_mean = df_global_by_year.mean()"
   ]
  },
  {
   "cell_type": "code",
   "execution_count": 23,
   "id": "ab1a7acf-ca2b-4bc7-88bb-9a8dd592596e",
   "metadata": {
    "tags": []
   },
   "outputs": [
    {
     "data": {
      "text/plain": [
       "pandas.core.series.Series"
      ]
     },
     "execution_count": 23,
     "metadata": {},
     "output_type": "execute_result"
    }
   ],
   "source": [
    "type(months_mean)"
   ]
  },
  {
   "cell_type": "markdown",
   "id": "32e59c75-9a40-4779-af21-f40fe09d57d6",
   "metadata": {},
   "source": [
    "#### numeric only"
   ]
  },
  {
   "cell_type": "code",
   "execution_count": 24,
   "id": "510b8e57-b3cf-47c3-bacc-67bfee88633c",
   "metadata": {
    "tags": []
   },
   "outputs": [
    {
     "data": {
      "text/plain": [
       "year       1951.125654\n",
       "anomaly       0.062391\n",
       "dtype: float64"
      ]
     },
     "execution_count": 24,
     "metadata": {},
     "output_type": "execute_result"
    }
   ],
   "source": [
    "df_global_by_month.mean(numeric_only=True)"
   ]
  },
  {
   "cell_type": "markdown",
   "id": "fcb8356b-dad5-4b11-98a1-b6698917f7e4",
   "metadata": {
    "toc-hr-collapsed": true
   },
   "source": [
    "<a id='da-agg'></a>\n",
    "## .agg\n",
    "- specify columns\n",
    "- specify statistics\n",
    "- specify axis"
   ]
  },
  {
   "cell_type": "markdown",
   "id": "29cf8f1d-7b6f-45af-917c-40b33e8ff563",
   "metadata": {},
   "source": [
    "[Return to Start of Notebook](#da)  "
   ]
  },
  {
   "cell_type": "code",
   "execution_count": 25,
   "id": "d5aeead3-8648-495e-89ec-32137fda8a2d",
   "metadata": {
    "tags": []
   },
   "outputs": [
    {
     "data": {
      "text/html": [
       "<div>\n",
       "<style scoped>\n",
       "    .dataframe tbody tr th:only-of-type {\n",
       "        vertical-align: middle;\n",
       "    }\n",
       "\n",
       "    .dataframe tbody tr th {\n",
       "        vertical-align: top;\n",
       "    }\n",
       "\n",
       "    .dataframe thead th {\n",
       "        text-align: right;\n",
       "    }\n",
       "</style>\n",
       "<table border=\"1\" class=\"dataframe\">\n",
       "  <thead>\n",
       "    <tr style=\"text-align: right;\">\n",
       "      <th></th>\n",
       "      <th>anomaly</th>\n",
       "    </tr>\n",
       "  </thead>\n",
       "  <tbody>\n",
       "    <tr>\n",
       "      <th>sum</th>\n",
       "      <td>107.250000</td>\n",
       "    </tr>\n",
       "    <tr>\n",
       "      <th>mean</th>\n",
       "      <td>0.062391</td>\n",
       "    </tr>\n",
       "    <tr>\n",
       "      <th>max</th>\n",
       "      <td>1.370000</td>\n",
       "    </tr>\n",
       "    <tr>\n",
       "      <th>min</th>\n",
       "      <td>-0.820000</td>\n",
       "    </tr>\n",
       "    <tr>\n",
       "      <th>median</th>\n",
       "      <td>-0.030000</td>\n",
       "    </tr>\n",
       "    <tr>\n",
       "      <th>count</th>\n",
       "      <td>1719.000000</td>\n",
       "    </tr>\n",
       "  </tbody>\n",
       "</table>\n",
       "</div>"
      ],
      "text/plain": [
       "            anomaly\n",
       "sum      107.250000\n",
       "mean       0.062391\n",
       "max        1.370000\n",
       "min       -0.820000\n",
       "median    -0.030000\n",
       "count   1719.000000"
      ]
     },
     "execution_count": 25,
     "metadata": {},
     "output_type": "execute_result"
    }
   ],
   "source": [
    "column_stats = df_global_by_month\\\n",
    "                    [['anomaly']]\\\n",
    "                    .agg(['sum','mean','max','min','median','count'],\n",
    "                    axis=0)"
   ]
  },
  {
   "cell_type": "code",
   "execution_count": 26,
   "id": "8729d245-bf8a-4b1c-8480-f4bb13ac3e7b",
   "metadata": {
    "tags": []
   },
   "outputs": [
    {
     "data": {
      "text/html": [
       "<div>\n",
       "<style scoped>\n",
       "    .dataframe tbody tr th:only-of-type {\n",
       "        vertical-align: middle;\n",
       "    }\n",
       "\n",
       "    .dataframe tbody tr th {\n",
       "        vertical-align: top;\n",
       "    }\n",
       "\n",
       "    .dataframe thead th {\n",
       "        text-align: right;\n",
       "    }\n",
       "</style>\n",
       "<table border=\"1\" class=\"dataframe\">\n",
       "  <thead>\n",
       "    <tr style=\"text-align: right;\">\n",
       "      <th></th>\n",
       "      <th>sum</th>\n",
       "      <th>mean</th>\n",
       "      <th>max</th>\n",
       "      <th>min</th>\n",
       "      <th>median</th>\n",
       "      <th>count</th>\n",
       "    </tr>\n",
       "  </thead>\n",
       "  <tbody>\n",
       "    <tr>\n",
       "      <th>anomaly</th>\n",
       "      <td>107.25</td>\n",
       "      <td>0.062391</td>\n",
       "      <td>1.37</td>\n",
       "      <td>-0.82</td>\n",
       "      <td>-0.03</td>\n",
       "      <td>1719.0</td>\n",
       "    </tr>\n",
       "  </tbody>\n",
       "</table>\n",
       "</div>"
      ],
      "text/plain": [
       "            sum      mean   max   min  median   count\n",
       "anomaly  107.25  0.062391  1.37 -0.82   -0.03  1719.0"
      ]
     },
     "execution_count": 26,
     "metadata": {},
     "output_type": "execute_result"
    }
   ],
   "source": [
    "column_stats = df_global_by_month\\\n",
    "                    [['anomaly']]\\\n",
    "                    .agg(['sum','mean','max','min','median','count'],\n",
    "                    axis=0).T"
   ]
  },
  {
   "cell_type": "code",
   "execution_count": 27,
   "id": "0addd7fb-99ac-4889-bb80-a9fdfcf7760c",
   "metadata": {
    "tags": []
   },
   "outputs": [
    {
     "data": {
      "text/html": [
       "<div>\n",
       "<style scoped>\n",
       "    .dataframe tbody tr th:only-of-type {\n",
       "        vertical-align: middle;\n",
       "    }\n",
       "\n",
       "    .dataframe tbody tr th {\n",
       "        vertical-align: top;\n",
       "    }\n",
       "\n",
       "    .dataframe thead th {\n",
       "        text-align: right;\n",
       "    }\n",
       "</style>\n",
       "<table border=\"1\" class=\"dataframe\">\n",
       "  <thead>\n",
       "    <tr style=\"text-align: right;\">\n",
       "      <th></th>\n",
       "      <th>Jan</th>\n",
       "      <th>Feb</th>\n",
       "      <th>Mar</th>\n",
       "      <th>Apr</th>\n",
       "      <th>May</th>\n",
       "      <th>Jun</th>\n",
       "      <th>Jul</th>\n",
       "      <th>Aug</th>\n",
       "      <th>Sep</th>\n",
       "      <th>Oct</th>\n",
       "      <th>Nov</th>\n",
       "      <th>Dec</th>\n",
       "    </tr>\n",
       "  </thead>\n",
       "  <tbody>\n",
       "    <tr>\n",
       "      <th>mean</th>\n",
       "      <td>0.064236</td>\n",
       "      <td>0.071806</td>\n",
       "      <td>0.090069</td>\n",
       "      <td>0.056783</td>\n",
       "      <td>0.047343</td>\n",
       "      <td>0.033077</td>\n",
       "      <td>0.056573</td>\n",
       "      <td>0.055035</td>\n",
       "      <td>0.058322</td>\n",
       "      <td>0.084755</td>\n",
       "      <td>0.077762</td>\n",
       "      <td>0.052657</td>\n",
       "    </tr>\n",
       "  </tbody>\n",
       "</table>\n",
       "</div>"
      ],
      "text/plain": [
       "           Jan       Feb       Mar       Apr       May       Jun       Jul   \n",
       "mean  0.064236  0.071806  0.090069  0.056783  0.047343  0.033077  0.056573  \\\n",
       "\n",
       "           Aug       Sep       Oct       Nov       Dec  \n",
       "mean  0.055035  0.058322  0.084755  0.077762  0.052657  "
      ]
     },
     "execution_count": 27,
     "metadata": {},
     "output_type": "execute_result"
    }
   ],
   "source": [
    "all_column_stats = df_global_by_year\\\n",
    "                    .agg(['mean'],\n",
    "                    axis=0)"
   ]
  },
  {
   "cell_type": "code",
   "execution_count": 28,
   "id": "0fc87889-9ef6-49fa-bc1b-b6e3afaa24d5",
   "metadata": {
    "tags": []
   },
   "outputs": [
    {
     "data": {
      "text/html": [
       "<div>\n",
       "<style scoped>\n",
       "    .dataframe tbody tr th:only-of-type {\n",
       "        vertical-align: middle;\n",
       "    }\n",
       "\n",
       "    .dataframe tbody tr th {\n",
       "        vertical-align: top;\n",
       "    }\n",
       "\n",
       "    .dataframe thead th {\n",
       "        text-align: right;\n",
       "    }\n",
       "</style>\n",
       "<table border=\"1\" class=\"dataframe\">\n",
       "  <thead>\n",
       "    <tr style=\"text-align: right;\">\n",
       "      <th></th>\n",
       "      <th>sum</th>\n",
       "      <th>mean</th>\n",
       "      <th>max</th>\n",
       "      <th>min</th>\n",
       "      <th>median</th>\n",
       "      <th>count</th>\n",
       "    </tr>\n",
       "    <tr>\n",
       "      <th>date</th>\n",
       "      <th></th>\n",
       "      <th></th>\n",
       "      <th></th>\n",
       "      <th></th>\n",
       "      <th></th>\n",
       "      <th></th>\n",
       "    </tr>\n",
       "  </thead>\n",
       "  <tbody>\n",
       "    <tr>\n",
       "      <th>1880-01-01</th>\n",
       "      <td>-0.18</td>\n",
       "      <td>-0.18</td>\n",
       "      <td>-0.18</td>\n",
       "      <td>-0.18</td>\n",
       "      <td>-0.18</td>\n",
       "      <td>1.0</td>\n",
       "    </tr>\n",
       "    <tr>\n",
       "      <th>1880-02-01</th>\n",
       "      <td>-0.24</td>\n",
       "      <td>-0.24</td>\n",
       "      <td>-0.24</td>\n",
       "      <td>-0.24</td>\n",
       "      <td>-0.24</td>\n",
       "      <td>1.0</td>\n",
       "    </tr>\n",
       "    <tr>\n",
       "      <th>1880-03-01</th>\n",
       "      <td>-0.09</td>\n",
       "      <td>-0.09</td>\n",
       "      <td>-0.09</td>\n",
       "      <td>-0.09</td>\n",
       "      <td>-0.09</td>\n",
       "      <td>1.0</td>\n",
       "    </tr>\n",
       "  </tbody>\n",
       "</table>\n",
       "</div>"
      ],
      "text/plain": [
       "             sum  mean   max   min  median  count\n",
       "date                                             \n",
       "1880-01-01 -0.18 -0.18 -0.18 -0.18   -0.18    1.0\n",
       "1880-02-01 -0.24 -0.24 -0.24 -0.24   -0.24    1.0\n",
       "1880-03-01 -0.09 -0.09 -0.09 -0.09   -0.09    1.0"
      ]
     },
     "execution_count": 28,
     "metadata": {},
     "output_type": "execute_result"
    }
   ],
   "source": [
    "row_stats = df_global_by_month\\\n",
    "                    [['anomaly']]\\\n",
    "                    .agg(['sum','mean','max','min','median','count'],\n",
    "                    axis=1)\n",
    "row_stats.head(3)"
   ]
  },
  {
   "cell_type": "markdown",
   "id": "d28a126a-f24b-45cb-be39-6bc0b2803fc3",
   "metadata": {
    "tags": []
   },
   "source": [
    "<a id='da-groupby'></a>\n",
    "## groupby"
   ]
  },
  {
   "cell_type": "markdown",
   "id": "ca12d841-3e2f-478e-9905-66533c5bb3e1",
   "metadata": {},
   "source": [
    "[Return to Start of Notebook](#da)  "
   ]
  },
  {
   "cell_type": "markdown",
   "id": "7836dde3-f693-4d7b-b096-1ed2c7e2cee4",
   "metadata": {
    "toc-hr-collapsed": true
   },
   "source": [
    "### group using .groupby()"
   ]
  },
  {
   "cell_type": "code",
   "execution_count": 29,
   "id": "f6fc3d20-4132-43a8-b137-6ce848048b65",
   "metadata": {
    "tags": []
   },
   "outputs": [
    {
     "data": {
      "text/plain": [
       "pandas.core.groupby.generic.DataFrameGroupBy"
      ]
     },
     "execution_count": 29,
     "metadata": {},
     "output_type": "execute_result"
    }
   ],
   "source": [
    "grouped_by_season = df_global_by_month.groupby('season')\n",
    "type(grouped_by_season)"
   ]
  },
  {
   "cell_type": "code",
   "execution_count": 30,
   "id": "517cc707-eae1-43c8-a85f-dca7d4ba42cb",
   "metadata": {
    "tags": []
   },
   "outputs": [
    {
     "data": {
      "text/plain": [
       "pandas.core.groupby.generic.DataFrameGroupBy"
      ]
     },
     "execution_count": 30,
     "metadata": {},
     "output_type": "execute_result"
    }
   ],
   "source": [
    "grouped_by_month = df_global_by_month.groupby('month')\n",
    "type(grouped_by_month)"
   ]
  },
  {
   "cell_type": "markdown",
   "id": "6beeefb2-d5c4-4202-ab19-4c3f00931199",
   "metadata": {
    "tags": [],
    "toc-hr-collapsed": true
   },
   "source": [
    "### group keys"
   ]
  },
  {
   "cell_type": "code",
   "execution_count": 31,
   "id": "6ce934ba-fae9-48d9-9279-a20adeb23b0d",
   "metadata": {
    "tags": []
   },
   "outputs": [
    {
     "data": {
      "text/plain": [
       "dict_keys(['Spring', 'Summer', 'Autumn', 'Winter'])"
      ]
     },
     "execution_count": 31,
     "metadata": {},
     "output_type": "execute_result"
    }
   ],
   "source": [
    "grouped_by_season.groups.keys()"
   ]
  },
  {
   "cell_type": "markdown",
   "id": "45c3af89-61d1-4e5c-a89a-14b9971f8bd4",
   "metadata": {
    "toc-hr-collapsed": true
   },
   "source": [
    "### group len"
   ]
  },
  {
   "cell_type": "code",
   "execution_count": 32,
   "id": "27dad154-47cb-4258-9e33-b777bcbc9cc5",
   "metadata": {
    "tags": []
   },
   "outputs": [
    {
     "name": "stdout",
     "output_type": "stream",
     "text": [
      "Spring 430\n",
      "Summer 429\n",
      "Autumn 429\n",
      "Winter 431\n"
     ]
    }
   ],
   "source": [
    "for idx, grp in grouped_by_season:\n",
    "    print(idx,len(grp))"
   ]
  },
  {
   "cell_type": "markdown",
   "id": "dc9e1369-63b3-4818-bfc8-ce29fe8c3f0b",
   "metadata": {
    "tags": [],
    "toc-hr-collapsed": true
   },
   "source": [
    "### get group"
   ]
  },
  {
   "cell_type": "code",
   "execution_count": 33,
   "id": "2d126dac-ad4b-4e53-8950-77b727cb6656",
   "metadata": {
    "tags": []
   },
   "outputs": [
    {
     "data": {
      "text/html": [
       "<div>\n",
       "<style scoped>\n",
       "    .dataframe tbody tr th:only-of-type {\n",
       "        vertical-align: middle;\n",
       "    }\n",
       "\n",
       "    .dataframe tbody tr th {\n",
       "        vertical-align: top;\n",
       "    }\n",
       "\n",
       "    .dataframe thead th {\n",
       "        text-align: right;\n",
       "    }\n",
       "</style>\n",
       "<table border=\"1\" class=\"dataframe\">\n",
       "  <thead>\n",
       "    <tr style=\"text-align: right;\">\n",
       "      <th></th>\n",
       "      <th>year</th>\n",
       "      <th>month</th>\n",
       "      <th>season</th>\n",
       "      <th>area</th>\n",
       "      <th>anomaly</th>\n",
       "    </tr>\n",
       "    <tr>\n",
       "      <th>date</th>\n",
       "      <th></th>\n",
       "      <th></th>\n",
       "      <th></th>\n",
       "      <th></th>\n",
       "      <th></th>\n",
       "    </tr>\n",
       "  </thead>\n",
       "  <tbody>\n",
       "    <tr>\n",
       "      <th>1880-03-01</th>\n",
       "      <td>1880</td>\n",
       "      <td>Mar</td>\n",
       "      <td>Spring</td>\n",
       "      <td>GLB</td>\n",
       "      <td>-0.09</td>\n",
       "    </tr>\n",
       "    <tr>\n",
       "      <th>1880-04-01</th>\n",
       "      <td>1880</td>\n",
       "      <td>Apr</td>\n",
       "      <td>Spring</td>\n",
       "      <td>GLB</td>\n",
       "      <td>-0.16</td>\n",
       "    </tr>\n",
       "    <tr>\n",
       "      <th>1880-05-01</th>\n",
       "      <td>1880</td>\n",
       "      <td>May</td>\n",
       "      <td>Spring</td>\n",
       "      <td>GLB</td>\n",
       "      <td>-0.10</td>\n",
       "    </tr>\n",
       "  </tbody>\n",
       "</table>\n",
       "</div>"
      ],
      "text/plain": [
       "            year month  season area  anomaly\n",
       "date                                        \n",
       "1880-03-01  1880   Mar  Spring  GLB    -0.09\n",
       "1880-04-01  1880   Apr  Spring  GLB    -0.16\n",
       "1880-05-01  1880   May  Spring  GLB    -0.10"
      ]
     },
     "execution_count": 33,
     "metadata": {},
     "output_type": "execute_result"
    }
   ],
   "source": [
    "key = \"Spring\"\n",
    "group1 = grouped_by_season.get_group(key)\n",
    "group1.head(3)"
   ]
  },
  {
   "cell_type": "code",
   "execution_count": 34,
   "id": "8b392c74-6614-4c56-9636-98b55fe5f852",
   "metadata": {
    "tags": []
   },
   "outputs": [
    {
     "data": {
      "text/plain": [
       "pandas.core.frame.DataFrame"
      ]
     },
     "execution_count": 34,
     "metadata": {},
     "output_type": "execute_result"
    }
   ],
   "source": [
    "type(group1)"
   ]
  },
  {
   "cell_type": "code",
   "execution_count": 35,
   "id": "14398969-e053-45ef-b46f-c8b5a3f3fff0",
   "metadata": {
    "tags": []
   },
   "outputs": [
    {
     "name": "stdout",
     "output_type": "stream",
     "text": [
      "Jan 0.0642361111111111\n",
      "Feb 0.07180555555555557\n",
      "Mar 0.09006944444444447\n",
      "Apr 0.056783216783216815\n",
      "May 0.047342657342657336\n",
      "Jun 0.03307692307692311\n",
      "Jul 0.05657342657342659\n",
      "Aug 0.05503496503496503\n",
      "Sep 0.05832167832167831\n",
      "Oct 0.08475524475524476\n",
      "Nov 0.07776223776223774\n",
      "Dec 0.05265734265734266\n"
     ]
    }
   ],
   "source": [
    "for idx, grp in grouped_by_month:\n",
    "    print(idx,grp['anomaly'].mean())"
   ]
  },
  {
   "cell_type": "markdown",
   "id": "de7113db-a203-48bc-b2d0-45daee9a5c21",
   "metadata": {
    "toc-hr-collapsed": true
   },
   "source": [
    "### apply aggregation to groups\n",
    "(results combined into new df)"
   ]
  },
  {
   "cell_type": "code",
   "execution_count": 36,
   "id": "67877fe8-f49c-4e82-8488-bb408f11c323",
   "metadata": {
    "tags": []
   },
   "outputs": [
    {
     "data": {
      "text/html": [
       "<div>\n",
       "<style scoped>\n",
       "    .dataframe tbody tr th:only-of-type {\n",
       "        vertical-align: middle;\n",
       "    }\n",
       "\n",
       "    .dataframe tbody tr th {\n",
       "        vertical-align: top;\n",
       "    }\n",
       "\n",
       "    .dataframe thead th {\n",
       "        text-align: right;\n",
       "    }\n",
       "</style>\n",
       "<table border=\"1\" class=\"dataframe\">\n",
       "  <thead>\n",
       "    <tr style=\"text-align: right;\">\n",
       "      <th></th>\n",
       "      <th>anomaly</th>\n",
       "    </tr>\n",
       "    <tr>\n",
       "      <th>season</th>\n",
       "      <th></th>\n",
       "    </tr>\n",
       "  </thead>\n",
       "  <tbody>\n",
       "    <tr>\n",
       "      <th>Spring</th>\n",
       "      <td>0.064791</td>\n",
       "    </tr>\n",
       "    <tr>\n",
       "      <th>Summer</th>\n",
       "      <td>0.048228</td>\n",
       "    </tr>\n",
       "    <tr>\n",
       "      <th>Autumn</th>\n",
       "      <td>0.073613</td>\n",
       "    </tr>\n",
       "    <tr>\n",
       "      <th>Winter</th>\n",
       "      <td>0.062923</td>\n",
       "    </tr>\n",
       "  </tbody>\n",
       "</table>\n",
       "</div>"
      ],
      "text/plain": [
       "         anomaly\n",
       "season          \n",
       "Spring  0.064791\n",
       "Summer  0.048228\n",
       "Autumn  0.073613\n",
       "Winter  0.062923"
      ]
     },
     "execution_count": 36,
     "metadata": {},
     "output_type": "execute_result"
    }
   ],
   "source": [
    "season_avg = grouped_by_season[['anomaly']].mean()"
   ]
  },
  {
   "cell_type": "code",
   "execution_count": 37,
   "id": "83078840-b888-462d-bbc1-07ca7d2e13c1",
   "metadata": {
    "tags": []
   },
   "outputs": [
    {
     "name": "stdout",
     "output_type": "stream",
     "text": [
      "<class 'pandas.core.frame.DataFrame'>\n"
     ]
    }
   ],
   "source": [
    "print(type(season_avg))"
   ]
  },
  {
   "cell_type": "markdown",
   "id": "9be118a7-4e86-457f-a103-a61f39db57b8",
   "metadata": {
    "tags": [],
    "toc-hr-collapsed": true
   },
   "source": [
    "### chain as single step"
   ]
  },
  {
   "cell_type": "code",
   "execution_count": 38,
   "id": "6dc13059-1e8e-452c-81b9-5e67bbb7593a",
   "metadata": {
    "tags": []
   },
   "outputs": [
    {
     "data": {
      "text/html": [
       "<div>\n",
       "<style scoped>\n",
       "    .dataframe tbody tr th:only-of-type {\n",
       "        vertical-align: middle;\n",
       "    }\n",
       "\n",
       "    .dataframe tbody tr th {\n",
       "        vertical-align: top;\n",
       "    }\n",
       "\n",
       "    .dataframe thead th {\n",
       "        text-align: right;\n",
       "    }\n",
       "</style>\n",
       "<table border=\"1\" class=\"dataframe\">\n",
       "  <thead>\n",
       "    <tr style=\"text-align: right;\">\n",
       "      <th></th>\n",
       "      <th>anomaly</th>\n",
       "    </tr>\n",
       "    <tr>\n",
       "      <th>season</th>\n",
       "      <th></th>\n",
       "    </tr>\n",
       "  </thead>\n",
       "  <tbody>\n",
       "    <tr>\n",
       "      <th>Spring</th>\n",
       "      <td>0.064791</td>\n",
       "    </tr>\n",
       "    <tr>\n",
       "      <th>Summer</th>\n",
       "      <td>0.048228</td>\n",
       "    </tr>\n",
       "    <tr>\n",
       "      <th>Autumn</th>\n",
       "      <td>0.073613</td>\n",
       "    </tr>\n",
       "    <tr>\n",
       "      <th>Winter</th>\n",
       "      <td>0.062923</td>\n",
       "    </tr>\n",
       "  </tbody>\n",
       "</table>\n",
       "</div>"
      ],
      "text/plain": [
       "         anomaly\n",
       "season          \n",
       "Spring  0.064791\n",
       "Summer  0.048228\n",
       "Autumn  0.073613\n",
       "Winter  0.062923"
      ]
     },
     "execution_count": 38,
     "metadata": {},
     "output_type": "execute_result"
    }
   ],
   "source": [
    "season_avg = df_global_by_month.groupby('season')[['anomaly']].mean()\n",
    "season_avg"
   ]
  },
  {
   "cell_type": "code",
   "execution_count": 39,
   "id": "6888b897-a87b-43d6-8d8b-d6ea09a12531",
   "metadata": {
    "tags": []
   },
   "outputs": [
    {
     "data": {
      "text/html": [
       "<div>\n",
       "<style scoped>\n",
       "    .dataframe tbody tr th:only-of-type {\n",
       "        vertical-align: middle;\n",
       "    }\n",
       "\n",
       "    .dataframe tbody tr th {\n",
       "        vertical-align: top;\n",
       "    }\n",
       "\n",
       "    .dataframe thead th {\n",
       "        text-align: right;\n",
       "    }\n",
       "</style>\n",
       "<table border=\"1\" class=\"dataframe\">\n",
       "  <thead>\n",
       "    <tr style=\"text-align: right;\">\n",
       "      <th></th>\n",
       "      <th>anomaly</th>\n",
       "      <th>month</th>\n",
       "    </tr>\n",
       "    <tr>\n",
       "      <th>date</th>\n",
       "      <th></th>\n",
       "      <th></th>\n",
       "    </tr>\n",
       "  </thead>\n",
       "  <tbody>\n",
       "    <tr>\n",
       "      <th>2016-02-01</th>\n",
       "      <td>1.37</td>\n",
       "      <td>Feb</td>\n",
       "    </tr>\n",
       "    <tr>\n",
       "      <th>2016-03-01</th>\n",
       "      <td>1.36</td>\n",
       "      <td>Mar</td>\n",
       "    </tr>\n",
       "    <tr>\n",
       "      <th>2016-01-01</th>\n",
       "      <td>1.17</td>\n",
       "      <td>Jan</td>\n",
       "    </tr>\n",
       "  </tbody>\n",
       "</table>\n",
       "</div>"
      ],
      "text/plain": [
       "            anomaly month\n",
       "date                     \n",
       "2016-02-01     1.37   Feb\n",
       "2016-03-01     1.36   Mar\n",
       "2016-01-01     1.17   Jan"
      ]
     },
     "execution_count": 39,
     "metadata": {},
     "output_type": "execute_result"
    }
   ],
   "source": [
    "# max for each month\n",
    "months_sorted = df_global_by_month[['anomaly','month']] \\\n",
    "    .sort_values('anomaly',ascending=False) \\\n",
    "    .drop_duplicates(subset=['month'])\n",
    "months_sorted.head(3)"
   ]
  },
  {
   "cell_type": "code",
   "execution_count": 40,
   "id": "ca73eeff-abae-4658-8e5a-d064a07dcb73",
   "metadata": {
    "tags": []
   },
   "outputs": [
    {
     "data": {
      "text/html": [
       "<div>\n",
       "<style scoped>\n",
       "    .dataframe tbody tr th:only-of-type {\n",
       "        vertical-align: middle;\n",
       "    }\n",
       "\n",
       "    .dataframe tbody tr th {\n",
       "        vertical-align: top;\n",
       "    }\n",
       "\n",
       "    .dataframe thead th {\n",
       "        text-align: right;\n",
       "    }\n",
       "</style>\n",
       "<table border=\"1\" class=\"dataframe\">\n",
       "  <thead>\n",
       "    <tr style=\"text-align: right;\">\n",
       "      <th></th>\n",
       "      <th>anomaly</th>\n",
       "      <th>season</th>\n",
       "    </tr>\n",
       "    <tr>\n",
       "      <th>date</th>\n",
       "      <th></th>\n",
       "      <th></th>\n",
       "    </tr>\n",
       "  </thead>\n",
       "  <tbody>\n",
       "    <tr>\n",
       "      <th>1916-12-01</th>\n",
       "      <td>-0.82</td>\n",
       "      <td>Winter</td>\n",
       "    </tr>\n",
       "    <tr>\n",
       "      <th>1917-03-01</th>\n",
       "      <td>-0.63</td>\n",
       "      <td>Spring</td>\n",
       "    </tr>\n",
       "    <tr>\n",
       "      <th>1912-09-01</th>\n",
       "      <td>-0.58</td>\n",
       "      <td>Autumn</td>\n",
       "    </tr>\n",
       "    <tr>\n",
       "      <th>1912-08-01</th>\n",
       "      <td>-0.54</td>\n",
       "      <td>Summer</td>\n",
       "    </tr>\n",
       "  </tbody>\n",
       "</table>\n",
       "</div>"
      ],
      "text/plain": [
       "            anomaly  season\n",
       "date                       \n",
       "1916-12-01    -0.82  Winter\n",
       "1917-03-01    -0.63  Spring\n",
       "1912-09-01    -0.58  Autumn\n",
       "1912-08-01    -0.54  Summer"
      ]
     },
     "execution_count": 40,
     "metadata": {},
     "output_type": "execute_result"
    }
   ],
   "source": [
    "# min for each season\n",
    "months_sorted = df_global_by_month[['anomaly','season']] \\\n",
    "    .sort_values('anomaly',ascending=True) \\\n",
    "    .drop_duplicates(subset=['season'])"
   ]
  },
  {
   "cell_type": "markdown",
   "id": "1f7eea0c-6993-476b-a201-39a466fe3589",
   "metadata": {
    "tags": [],
    "toc-hr-collapsed": true
   },
   "source": [
    "<a id='da-groupby.agg'></a>\n",
    "## .groupby().agg()"
   ]
  },
  {
   "cell_type": "markdown",
   "id": "7282b089-846f-45f1-8ea6-78b0115b6845",
   "metadata": {},
   "source": [
    "[Return to Start of Notebook](#da)  "
   ]
  },
  {
   "cell_type": "markdown",
   "id": "0a5a5af1-4b81-4c96-8adb-5fd59c4fd981",
   "metadata": {},
   "source": [
    "#### group by \n",
    " - specify groupby column\n",
    " - sepcify data column\n",
    " - specify statistics\n",
    " - specify new column names"
   ]
  },
  {
   "cell_type": "code",
   "execution_count": 41,
   "id": "345d18a6-4eca-4c62-b8d0-d903fefca42b",
   "metadata": {
    "tags": []
   },
   "outputs": [
    {
     "data": {
      "text/html": [
       "<div>\n",
       "<style scoped>\n",
       "    .dataframe tbody tr th:only-of-type {\n",
       "        vertical-align: middle;\n",
       "    }\n",
       "\n",
       "    .dataframe tbody tr th {\n",
       "        vertical-align: top;\n",
       "    }\n",
       "\n",
       "    .dataframe thead th {\n",
       "        text-align: right;\n",
       "    }\n",
       "</style>\n",
       "<table border=\"1\" class=\"dataframe\">\n",
       "  <thead>\n",
       "    <tr style=\"text-align: right;\">\n",
       "      <th></th>\n",
       "      <th>avg_anomaly</th>\n",
       "      <th>max_anomaly</th>\n",
       "      <th>min_anomaly</th>\n",
       "      <th>cnt_anomaly</th>\n",
       "    </tr>\n",
       "    <tr>\n",
       "      <th>month</th>\n",
       "      <th></th>\n",
       "      <th></th>\n",
       "      <th></th>\n",
       "      <th></th>\n",
       "    </tr>\n",
       "  </thead>\n",
       "  <tbody>\n",
       "    <tr>\n",
       "      <th>Jan</th>\n",
       "      <td>0.064236</td>\n",
       "      <td>1.17</td>\n",
       "      <td>-0.81</td>\n",
       "      <td>144</td>\n",
       "    </tr>\n",
       "    <tr>\n",
       "      <th>Feb</th>\n",
       "      <td>0.071806</td>\n",
       "      <td>1.37</td>\n",
       "      <td>-0.63</td>\n",
       "      <td>144</td>\n",
       "    </tr>\n",
       "    <tr>\n",
       "      <th>Mar</th>\n",
       "      <td>0.090069</td>\n",
       "      <td>1.36</td>\n",
       "      <td>-0.63</td>\n",
       "      <td>144</td>\n",
       "    </tr>\n",
       "    <tr>\n",
       "      <th>Apr</th>\n",
       "      <td>0.056783</td>\n",
       "      <td>1.13</td>\n",
       "      <td>-0.59</td>\n",
       "      <td>143</td>\n",
       "    </tr>\n",
       "    <tr>\n",
       "      <th>May</th>\n",
       "      <td>0.047343</td>\n",
       "      <td>1.02</td>\n",
       "      <td>-0.55</td>\n",
       "      <td>143</td>\n",
       "    </tr>\n",
       "    <tr>\n",
       "      <th>Jun</th>\n",
       "      <td>0.033077</td>\n",
       "      <td>0.92</td>\n",
       "      <td>-0.52</td>\n",
       "      <td>143</td>\n",
       "    </tr>\n",
       "    <tr>\n",
       "      <th>Jul</th>\n",
       "      <td>0.056573</td>\n",
       "      <td>0.94</td>\n",
       "      <td>-0.51</td>\n",
       "      <td>143</td>\n",
       "    </tr>\n",
       "    <tr>\n",
       "      <th>Aug</th>\n",
       "      <td>0.055035</td>\n",
       "      <td>1.02</td>\n",
       "      <td>-0.54</td>\n",
       "      <td>143</td>\n",
       "    </tr>\n",
       "    <tr>\n",
       "      <th>Sep</th>\n",
       "      <td>0.058322</td>\n",
       "      <td>0.99</td>\n",
       "      <td>-0.58</td>\n",
       "      <td>143</td>\n",
       "    </tr>\n",
       "    <tr>\n",
       "      <th>Oct</th>\n",
       "      <td>0.084755</td>\n",
       "      <td>1.09</td>\n",
       "      <td>-0.57</td>\n",
       "      <td>143</td>\n",
       "    </tr>\n",
       "    <tr>\n",
       "      <th>Nov</th>\n",
       "      <td>0.077762</td>\n",
       "      <td>1.11</td>\n",
       "      <td>-0.55</td>\n",
       "      <td>143</td>\n",
       "    </tr>\n",
       "    <tr>\n",
       "      <th>Dec</th>\n",
       "      <td>0.052657</td>\n",
       "      <td>1.16</td>\n",
       "      <td>-0.82</td>\n",
       "      <td>143</td>\n",
       "    </tr>\n",
       "  </tbody>\n",
       "</table>\n",
       "</div>"
      ],
      "text/plain": [
       "       avg_anomaly  max_anomaly  min_anomaly  cnt_anomaly\n",
       "month                                                    \n",
       "Jan       0.064236         1.17        -0.81          144\n",
       "Feb       0.071806         1.37        -0.63          144\n",
       "Mar       0.090069         1.36        -0.63          144\n",
       "Apr       0.056783         1.13        -0.59          143\n",
       "May       0.047343         1.02        -0.55          143\n",
       "Jun       0.033077         0.92        -0.52          143\n",
       "Jul       0.056573         0.94        -0.51          143\n",
       "Aug       0.055035         1.02        -0.54          143\n",
       "Sep       0.058322         0.99        -0.58          143\n",
       "Oct       0.084755         1.09        -0.57          143\n",
       "Nov       0.077762         1.11        -0.55          143\n",
       "Dec       0.052657         1.16        -0.82          143"
      ]
     },
     "execution_count": 41,
     "metadata": {},
     "output_type": "execute_result"
    }
   ],
   "source": [
    "df_global_grouped_by_month = df_global_by_month\\\n",
    "    .groupby('month')\\\n",
    "    .agg(\n",
    "        avg_anomaly=('anomaly', 'mean'),\n",
    "        max_anomaly=('anomaly', 'max'),\n",
    "        min_anomaly=('anomaly', 'min'),\n",
    "        cnt_anomaly=('anomaly', 'count'))\n",
    "df_global_grouped_by_month"
   ]
  },
  {
   "cell_type": "code",
   "execution_count": 42,
   "id": "229c7ce8-9d56-43d4-b039-15169967e214",
   "metadata": {
    "tags": []
   },
   "outputs": [
    {
     "data": {
      "text/html": [
       "<div>\n",
       "<style scoped>\n",
       "    .dataframe tbody tr th:only-of-type {\n",
       "        vertical-align: middle;\n",
       "    }\n",
       "\n",
       "    .dataframe tbody tr th {\n",
       "        vertical-align: top;\n",
       "    }\n",
       "\n",
       "    .dataframe thead th {\n",
       "        text-align: right;\n",
       "    }\n",
       "</style>\n",
       "<table border=\"1\" class=\"dataframe\">\n",
       "  <thead>\n",
       "    <tr style=\"text-align: right;\">\n",
       "      <th></th>\n",
       "      <th>avg_anomaly</th>\n",
       "      <th>max_anomaly</th>\n",
       "      <th>min_anomaly</th>\n",
       "      <th>cnt_anomaly</th>\n",
       "    </tr>\n",
       "    <tr>\n",
       "      <th>season</th>\n",
       "      <th></th>\n",
       "      <th></th>\n",
       "      <th></th>\n",
       "      <th></th>\n",
       "    </tr>\n",
       "  </thead>\n",
       "  <tbody>\n",
       "    <tr>\n",
       "      <th>Spring</th>\n",
       "      <td>0.064791</td>\n",
       "      <td>1.36</td>\n",
       "      <td>-0.63</td>\n",
       "      <td>430</td>\n",
       "    </tr>\n",
       "    <tr>\n",
       "      <th>Summer</th>\n",
       "      <td>0.048228</td>\n",
       "      <td>1.02</td>\n",
       "      <td>-0.54</td>\n",
       "      <td>429</td>\n",
       "    </tr>\n",
       "    <tr>\n",
       "      <th>Autumn</th>\n",
       "      <td>0.073613</td>\n",
       "      <td>1.11</td>\n",
       "      <td>-0.58</td>\n",
       "      <td>429</td>\n",
       "    </tr>\n",
       "    <tr>\n",
       "      <th>Winter</th>\n",
       "      <td>0.062923</td>\n",
       "      <td>1.37</td>\n",
       "      <td>-0.82</td>\n",
       "      <td>431</td>\n",
       "    </tr>\n",
       "  </tbody>\n",
       "</table>\n",
       "</div>"
      ],
      "text/plain": [
       "        avg_anomaly  max_anomaly  min_anomaly  cnt_anomaly\n",
       "season                                                    \n",
       "Spring     0.064791         1.36        -0.63          430\n",
       "Summer     0.048228         1.02        -0.54          429\n",
       "Autumn     0.073613         1.11        -0.58          429\n",
       "Winter     0.062923         1.37        -0.82          431"
      ]
     },
     "execution_count": 42,
     "metadata": {},
     "output_type": "execute_result"
    }
   ],
   "source": [
    "df_global_grouped_by_season = df_global_by_month\\\n",
    "    .groupby('season')\\\n",
    "    .agg(\n",
    "        avg_anomaly=('anomaly', 'mean'),\n",
    "        max_anomaly=('anomaly', 'max'),\n",
    "        min_anomaly=('anomaly', 'min'),\n",
    "        cnt_anomaly=('anomaly', 'count'))\n",
    "df_global_grouped_by_season"
   ]
  },
  {
   "cell_type": "markdown",
   "id": "80d0ecce-4168-4344-b4d9-cc6fb71fed7e",
   "metadata": {
    "toc-hr-collapsed": true
   },
   "source": [
    "#### dictionary syntax"
   ]
  },
  {
   "cell_type": "code",
   "execution_count": 43,
   "id": "efa4f198-0530-4f30-b709-9577b3aceaf3",
   "metadata": {
    "tags": []
   },
   "outputs": [
    {
     "data": {
      "text/html": [
       "<div>\n",
       "<style scoped>\n",
       "    .dataframe tbody tr th:only-of-type {\n",
       "        vertical-align: middle;\n",
       "    }\n",
       "\n",
       "    .dataframe tbody tr th {\n",
       "        vertical-align: top;\n",
       "    }\n",
       "\n",
       "    .dataframe thead tr th {\n",
       "        text-align: left;\n",
       "    }\n",
       "\n",
       "    .dataframe thead tr:last-of-type th {\n",
       "        text-align: right;\n",
       "    }\n",
       "</style>\n",
       "<table border=\"1\" class=\"dataframe\">\n",
       "  <thead>\n",
       "    <tr>\n",
       "      <th></th>\n",
       "      <th colspan=\"4\" halign=\"left\">anomaly</th>\n",
       "    </tr>\n",
       "    <tr>\n",
       "      <th></th>\n",
       "      <th>mean</th>\n",
       "      <th>max</th>\n",
       "      <th>min</th>\n",
       "      <th>count</th>\n",
       "    </tr>\n",
       "    <tr>\n",
       "      <th>season</th>\n",
       "      <th></th>\n",
       "      <th></th>\n",
       "      <th></th>\n",
       "      <th></th>\n",
       "    </tr>\n",
       "  </thead>\n",
       "  <tbody>\n",
       "    <tr>\n",
       "      <th>Spring</th>\n",
       "      <td>0.064791</td>\n",
       "      <td>1.36</td>\n",
       "      <td>-0.63</td>\n",
       "      <td>430</td>\n",
       "    </tr>\n",
       "    <tr>\n",
       "      <th>Summer</th>\n",
       "      <td>0.048228</td>\n",
       "      <td>1.02</td>\n",
       "      <td>-0.54</td>\n",
       "      <td>429</td>\n",
       "    </tr>\n",
       "    <tr>\n",
       "      <th>Autumn</th>\n",
       "      <td>0.073613</td>\n",
       "      <td>1.11</td>\n",
       "      <td>-0.58</td>\n",
       "      <td>429</td>\n",
       "    </tr>\n",
       "    <tr>\n",
       "      <th>Winter</th>\n",
       "      <td>0.062923</td>\n",
       "      <td>1.37</td>\n",
       "      <td>-0.82</td>\n",
       "      <td>431</td>\n",
       "    </tr>\n",
       "  </tbody>\n",
       "</table>\n",
       "</div>"
      ],
      "text/plain": [
       "         anomaly                  \n",
       "            mean   max   min count\n",
       "season                            \n",
       "Spring  0.064791  1.36 -0.63   430\n",
       "Summer  0.048228  1.02 -0.54   429\n",
       "Autumn  0.073613  1.11 -0.58   429\n",
       "Winter  0.062923  1.37 -0.82   431"
      ]
     },
     "execution_count": 43,
     "metadata": {},
     "output_type": "execute_result"
    }
   ],
   "source": [
    "grouped_by_season = df_global_by_month\\\n",
    "    .groupby('season')\\\n",
    "    .agg(\n",
    "        {'anomaly': ['mean', 'max', 'min', 'count']})\n",
    "grouped_by_season"
   ]
  },
  {
   "cell_type": "markdown",
   "id": "62483a82-1cce-4a81-a5c7-932565d09d3d",
   "metadata": {},
   "source": [
    "##### .droplevel()"
   ]
  },
  {
   "cell_type": "code",
   "execution_count": 44,
   "id": "2c698500-d406-46e6-8d96-a1d3f1976630",
   "metadata": {
    "tags": []
   },
   "outputs": [
    {
     "data": {
      "text/html": [
       "<div>\n",
       "<style scoped>\n",
       "    .dataframe tbody tr th:only-of-type {\n",
       "        vertical-align: middle;\n",
       "    }\n",
       "\n",
       "    .dataframe tbody tr th {\n",
       "        vertical-align: top;\n",
       "    }\n",
       "\n",
       "    .dataframe thead th {\n",
       "        text-align: right;\n",
       "    }\n",
       "</style>\n",
       "<table border=\"1\" class=\"dataframe\">\n",
       "  <thead>\n",
       "    <tr style=\"text-align: right;\">\n",
       "      <th></th>\n",
       "      <th>mean</th>\n",
       "      <th>max</th>\n",
       "      <th>min</th>\n",
       "      <th>count</th>\n",
       "    </tr>\n",
       "    <tr>\n",
       "      <th>season</th>\n",
       "      <th></th>\n",
       "      <th></th>\n",
       "      <th></th>\n",
       "      <th></th>\n",
       "    </tr>\n",
       "  </thead>\n",
       "  <tbody>\n",
       "    <tr>\n",
       "      <th>Spring</th>\n",
       "      <td>0.064791</td>\n",
       "      <td>1.36</td>\n",
       "      <td>-0.63</td>\n",
       "      <td>430</td>\n",
       "    </tr>\n",
       "    <tr>\n",
       "      <th>Summer</th>\n",
       "      <td>0.048228</td>\n",
       "      <td>1.02</td>\n",
       "      <td>-0.54</td>\n",
       "      <td>429</td>\n",
       "    </tr>\n",
       "    <tr>\n",
       "      <th>Autumn</th>\n",
       "      <td>0.073613</td>\n",
       "      <td>1.11</td>\n",
       "      <td>-0.58</td>\n",
       "      <td>429</td>\n",
       "    </tr>\n",
       "    <tr>\n",
       "      <th>Winter</th>\n",
       "      <td>0.062923</td>\n",
       "      <td>1.37</td>\n",
       "      <td>-0.82</td>\n",
       "      <td>431</td>\n",
       "    </tr>\n",
       "  </tbody>\n",
       "</table>\n",
       "</div>"
      ],
      "text/plain": [
       "            mean   max   min  count\n",
       "season                             \n",
       "Spring  0.064791  1.36 -0.63    430\n",
       "Summer  0.048228  1.02 -0.54    429\n",
       "Autumn  0.073613  1.11 -0.58    429\n",
       "Winter  0.062923  1.37 -0.82    431"
      ]
     },
     "execution_count": 44,
     "metadata": {},
     "output_type": "execute_result"
    }
   ],
   "source": [
    "grouped_by_season.columns = grouped_by_season.columns.droplevel(0)\n",
    "grouped_by_season"
   ]
  },
  {
   "cell_type": "markdown",
   "id": "668cdd47-6f10-4866-b3fb-a7ffd5b5f746",
   "metadata": {},
   "source": [
    "#### brackets syntax"
   ]
  },
  {
   "cell_type": "code",
   "execution_count": 45,
   "id": "232e7faa-730f-4475-a8cb-4947a5d044e3",
   "metadata": {
    "tags": []
   },
   "outputs": [
    {
     "data": {
      "text/html": [
       "<div>\n",
       "<style scoped>\n",
       "    .dataframe tbody tr th:only-of-type {\n",
       "        vertical-align: middle;\n",
       "    }\n",
       "\n",
       "    .dataframe tbody tr th {\n",
       "        vertical-align: top;\n",
       "    }\n",
       "\n",
       "    .dataframe thead th {\n",
       "        text-align: right;\n",
       "    }\n",
       "</style>\n",
       "<table border=\"1\" class=\"dataframe\">\n",
       "  <thead>\n",
       "    <tr style=\"text-align: right;\">\n",
       "      <th></th>\n",
       "      <th>mean</th>\n",
       "      <th>max</th>\n",
       "      <th>min</th>\n",
       "      <th>count</th>\n",
       "    </tr>\n",
       "    <tr>\n",
       "      <th>season</th>\n",
       "      <th></th>\n",
       "      <th></th>\n",
       "      <th></th>\n",
       "      <th></th>\n",
       "    </tr>\n",
       "  </thead>\n",
       "  <tbody>\n",
       "    <tr>\n",
       "      <th>Spring</th>\n",
       "      <td>0.064791</td>\n",
       "      <td>1.36</td>\n",
       "      <td>-0.63</td>\n",
       "      <td>430</td>\n",
       "    </tr>\n",
       "    <tr>\n",
       "      <th>Summer</th>\n",
       "      <td>0.048228</td>\n",
       "      <td>1.02</td>\n",
       "      <td>-0.54</td>\n",
       "      <td>429</td>\n",
       "    </tr>\n",
       "    <tr>\n",
       "      <th>Autumn</th>\n",
       "      <td>0.073613</td>\n",
       "      <td>1.11</td>\n",
       "      <td>-0.58</td>\n",
       "      <td>429</td>\n",
       "    </tr>\n",
       "    <tr>\n",
       "      <th>Winter</th>\n",
       "      <td>0.062923</td>\n",
       "      <td>1.37</td>\n",
       "      <td>-0.82</td>\n",
       "      <td>431</td>\n",
       "    </tr>\n",
       "  </tbody>\n",
       "</table>\n",
       "</div>"
      ],
      "text/plain": [
       "            mean   max   min  count\n",
       "season                             \n",
       "Spring  0.064791  1.36 -0.63    430\n",
       "Summer  0.048228  1.02 -0.54    429\n",
       "Autumn  0.073613  1.11 -0.58    429\n",
       "Winter  0.062923  1.37 -0.82    431"
      ]
     },
     "execution_count": 45,
     "metadata": {},
     "output_type": "execute_result"
    }
   ],
   "source": [
    "grouped_by_season = df_global_by_month\\\n",
    "    .groupby('season')['anomaly']\\\n",
    "    .agg(\n",
    "        ['mean', 'max', 'min', 'count'])\n",
    "grouped_by_season"
   ]
  },
  {
   "cell_type": "markdown",
   "id": "0bdfc6d4-bdcd-46ec-9a49-2633feac48cb",
   "metadata": {},
   "source": [
    "#### do not use group column as index"
   ]
  },
  {
   "cell_type": "code",
   "execution_count": 46,
   "id": "46c3478a-41e8-41c2-8de0-bcddcc92ce2f",
   "metadata": {
    "tags": []
   },
   "outputs": [
    {
     "data": {
      "text/html": [
       "<div>\n",
       "<style scoped>\n",
       "    .dataframe tbody tr th:only-of-type {\n",
       "        vertical-align: middle;\n",
       "    }\n",
       "\n",
       "    .dataframe tbody tr th {\n",
       "        vertical-align: top;\n",
       "    }\n",
       "\n",
       "    .dataframe thead th {\n",
       "        text-align: right;\n",
       "    }\n",
       "</style>\n",
       "<table border=\"1\" class=\"dataframe\">\n",
       "  <thead>\n",
       "    <tr style=\"text-align: right;\">\n",
       "      <th></th>\n",
       "      <th>season</th>\n",
       "      <th>mean</th>\n",
       "      <th>max</th>\n",
       "      <th>min</th>\n",
       "      <th>count</th>\n",
       "    </tr>\n",
       "  </thead>\n",
       "  <tbody>\n",
       "    <tr>\n",
       "      <th>0</th>\n",
       "      <td>Spring</td>\n",
       "      <td>0.064791</td>\n",
       "      <td>1.36</td>\n",
       "      <td>-0.63</td>\n",
       "      <td>430</td>\n",
       "    </tr>\n",
       "    <tr>\n",
       "      <th>1</th>\n",
       "      <td>Summer</td>\n",
       "      <td>0.048228</td>\n",
       "      <td>1.02</td>\n",
       "      <td>-0.54</td>\n",
       "      <td>429</td>\n",
       "    </tr>\n",
       "    <tr>\n",
       "      <th>2</th>\n",
       "      <td>Autumn</td>\n",
       "      <td>0.073613</td>\n",
       "      <td>1.11</td>\n",
       "      <td>-0.58</td>\n",
       "      <td>429</td>\n",
       "    </tr>\n",
       "    <tr>\n",
       "      <th>3</th>\n",
       "      <td>Winter</td>\n",
       "      <td>0.062923</td>\n",
       "      <td>1.37</td>\n",
       "      <td>-0.82</td>\n",
       "      <td>431</td>\n",
       "    </tr>\n",
       "  </tbody>\n",
       "</table>\n",
       "</div>"
      ],
      "text/plain": [
       "   season      mean   max   min  count\n",
       "0  Spring  0.064791  1.36 -0.63    430\n",
       "1  Summer  0.048228  1.02 -0.54    429\n",
       "2  Autumn  0.073613  1.11 -0.58    429\n",
       "3  Winter  0.062923  1.37 -0.82    431"
      ]
     },
     "execution_count": 46,
     "metadata": {},
     "output_type": "execute_result"
    }
   ],
   "source": [
    "grouped_by_season = df_global_by_month\\\n",
    "    .groupby('season', as_index=False)['anomaly']\\\n",
    "    .agg(\n",
    "        ['mean', 'max', 'min', 'count'])\n",
    "grouped_by_season"
   ]
  },
  {
   "cell_type": "markdown",
   "id": "6238a2a4-4211-4c53-b2a7-359b203cc395",
   "metadata": {},
   "source": [
    "#### describe"
   ]
  },
  {
   "cell_type": "code",
   "execution_count": 47,
   "id": "686aa5cc-a7b7-4660-b713-a9895dfcaaec",
   "metadata": {
    "tags": []
   },
   "outputs": [
    {
     "data": {
      "text/html": [
       "<div>\n",
       "<style scoped>\n",
       "    .dataframe tbody tr th:only-of-type {\n",
       "        vertical-align: middle;\n",
       "    }\n",
       "\n",
       "    .dataframe tbody tr th {\n",
       "        vertical-align: top;\n",
       "    }\n",
       "\n",
       "    .dataframe thead th {\n",
       "        text-align: right;\n",
       "    }\n",
       "</style>\n",
       "<table border=\"1\" class=\"dataframe\">\n",
       "  <thead>\n",
       "    <tr style=\"text-align: right;\">\n",
       "      <th></th>\n",
       "      <th>count</th>\n",
       "      <th>mean</th>\n",
       "      <th>std</th>\n",
       "      <th>min</th>\n",
       "      <th>25%</th>\n",
       "      <th>50%</th>\n",
       "      <th>75%</th>\n",
       "      <th>max</th>\n",
       "    </tr>\n",
       "    <tr>\n",
       "      <th>season</th>\n",
       "      <th></th>\n",
       "      <th></th>\n",
       "      <th></th>\n",
       "      <th></th>\n",
       "      <th></th>\n",
       "      <th></th>\n",
       "      <th></th>\n",
       "      <th></th>\n",
       "    </tr>\n",
       "  </thead>\n",
       "  <tbody>\n",
       "    <tr>\n",
       "      <th>Spring</th>\n",
       "      <td>430.0</td>\n",
       "      <td>0.064791</td>\n",
       "      <td>0.398307</td>\n",
       "      <td>-0.63</td>\n",
       "      <td>-0.23</td>\n",
       "      <td>-0.03</td>\n",
       "      <td>0.29</td>\n",
       "      <td>1.36</td>\n",
       "    </tr>\n",
       "    <tr>\n",
       "      <th>Summer</th>\n",
       "      <td>429.0</td>\n",
       "      <td>0.048228</td>\n",
       "      <td>0.357961</td>\n",
       "      <td>-0.54</td>\n",
       "      <td>-0.22</td>\n",
       "      <td>-0.04</td>\n",
       "      <td>0.25</td>\n",
       "      <td>1.02</td>\n",
       "    </tr>\n",
       "    <tr>\n",
       "      <th>Autumn</th>\n",
       "      <td>429.0</td>\n",
       "      <td>0.073613</td>\n",
       "      <td>0.366876</td>\n",
       "      <td>-0.58</td>\n",
       "      <td>-0.19</td>\n",
       "      <td>-0.02</td>\n",
       "      <td>0.23</td>\n",
       "      <td>1.11</td>\n",
       "    </tr>\n",
       "    <tr>\n",
       "      <th>Winter</th>\n",
       "      <td>431.0</td>\n",
       "      <td>0.062923</td>\n",
       "      <td>0.413552</td>\n",
       "      <td>-0.82</td>\n",
       "      <td>-0.23</td>\n",
       "      <td>-0.03</td>\n",
       "      <td>0.32</td>\n",
       "      <td>1.37</td>\n",
       "    </tr>\n",
       "  </tbody>\n",
       "</table>\n",
       "</div>"
      ],
      "text/plain": [
       "        count      mean       std   min   25%   50%   75%   max\n",
       "season                                                         \n",
       "Spring  430.0  0.064791  0.398307 -0.63 -0.23 -0.03  0.29  1.36\n",
       "Summer  429.0  0.048228  0.357961 -0.54 -0.22 -0.04  0.25  1.02\n",
       "Autumn  429.0  0.073613  0.366876 -0.58 -0.19 -0.02  0.23  1.11\n",
       "Winter  431.0  0.062923  0.413552 -0.82 -0.23 -0.03  0.32  1.37"
      ]
     },
     "execution_count": 47,
     "metadata": {},
     "output_type": "execute_result"
    }
   ],
   "source": [
    "grouped_by_season = df_global_by_month\\\n",
    "    .groupby('season')['anomaly']\\\n",
    "    .describe()\n",
    "grouped_by_season"
   ]
  },
  {
   "cell_type": "markdown",
   "id": "cb459d67-fe0a-42cb-b222-95ca5026ff1e",
   "metadata": {},
   "source": [
    "#### group with multiple columns\n",
    "observed = True"
   ]
  },
  {
   "cell_type": "code",
   "execution_count": 48,
   "id": "295a94ae-040a-4a00-a58e-7f2c6fab0c1a",
   "metadata": {
    "tags": []
   },
   "outputs": [
    {
     "data": {
      "text/html": [
       "<div>\n",
       "<style scoped>\n",
       "    .dataframe tbody tr th:only-of-type {\n",
       "        vertical-align: middle;\n",
       "    }\n",
       "\n",
       "    .dataframe tbody tr th {\n",
       "        vertical-align: top;\n",
       "    }\n",
       "\n",
       "    .dataframe thead th {\n",
       "        text-align: right;\n",
       "    }\n",
       "</style>\n",
       "<table border=\"1\" class=\"dataframe\">\n",
       "  <thead>\n",
       "    <tr style=\"text-align: right;\">\n",
       "      <th></th>\n",
       "      <th></th>\n",
       "      <th>mean</th>\n",
       "      <th>max</th>\n",
       "      <th>min</th>\n",
       "      <th>count</th>\n",
       "    </tr>\n",
       "    <tr>\n",
       "      <th>season</th>\n",
       "      <th>month</th>\n",
       "      <th></th>\n",
       "      <th></th>\n",
       "      <th></th>\n",
       "      <th></th>\n",
       "    </tr>\n",
       "  </thead>\n",
       "  <tbody>\n",
       "    <tr>\n",
       "      <th rowspan=\"3\" valign=\"top\">Spring</th>\n",
       "      <th>Mar</th>\n",
       "      <td>0.090069</td>\n",
       "      <td>1.36</td>\n",
       "      <td>-0.63</td>\n",
       "      <td>144</td>\n",
       "    </tr>\n",
       "    <tr>\n",
       "      <th>Apr</th>\n",
       "      <td>0.056783</td>\n",
       "      <td>1.13</td>\n",
       "      <td>-0.59</td>\n",
       "      <td>143</td>\n",
       "    </tr>\n",
       "    <tr>\n",
       "      <th>May</th>\n",
       "      <td>0.047343</td>\n",
       "      <td>1.02</td>\n",
       "      <td>-0.55</td>\n",
       "      <td>143</td>\n",
       "    </tr>\n",
       "    <tr>\n",
       "      <th rowspan=\"3\" valign=\"top\">Summer</th>\n",
       "      <th>Jun</th>\n",
       "      <td>0.033077</td>\n",
       "      <td>0.92</td>\n",
       "      <td>-0.52</td>\n",
       "      <td>143</td>\n",
       "    </tr>\n",
       "    <tr>\n",
       "      <th>Jul</th>\n",
       "      <td>0.056573</td>\n",
       "      <td>0.94</td>\n",
       "      <td>-0.51</td>\n",
       "      <td>143</td>\n",
       "    </tr>\n",
       "    <tr>\n",
       "      <th>Aug</th>\n",
       "      <td>0.055035</td>\n",
       "      <td>1.02</td>\n",
       "      <td>-0.54</td>\n",
       "      <td>143</td>\n",
       "    </tr>\n",
       "    <tr>\n",
       "      <th rowspan=\"3\" valign=\"top\">Autumn</th>\n",
       "      <th>Sep</th>\n",
       "      <td>0.058322</td>\n",
       "      <td>0.99</td>\n",
       "      <td>-0.58</td>\n",
       "      <td>143</td>\n",
       "    </tr>\n",
       "    <tr>\n",
       "      <th>Oct</th>\n",
       "      <td>0.084755</td>\n",
       "      <td>1.09</td>\n",
       "      <td>-0.57</td>\n",
       "      <td>143</td>\n",
       "    </tr>\n",
       "    <tr>\n",
       "      <th>Nov</th>\n",
       "      <td>0.077762</td>\n",
       "      <td>1.11</td>\n",
       "      <td>-0.55</td>\n",
       "      <td>143</td>\n",
       "    </tr>\n",
       "    <tr>\n",
       "      <th rowspan=\"3\" valign=\"top\">Winter</th>\n",
       "      <th>Jan</th>\n",
       "      <td>0.064236</td>\n",
       "      <td>1.17</td>\n",
       "      <td>-0.81</td>\n",
       "      <td>144</td>\n",
       "    </tr>\n",
       "    <tr>\n",
       "      <th>Feb</th>\n",
       "      <td>0.071806</td>\n",
       "      <td>1.37</td>\n",
       "      <td>-0.63</td>\n",
       "      <td>144</td>\n",
       "    </tr>\n",
       "    <tr>\n",
       "      <th>Dec</th>\n",
       "      <td>0.052657</td>\n",
       "      <td>1.16</td>\n",
       "      <td>-0.82</td>\n",
       "      <td>143</td>\n",
       "    </tr>\n",
       "  </tbody>\n",
       "</table>\n",
       "</div>"
      ],
      "text/plain": [
       "                  mean   max   min  count\n",
       "season month                             \n",
       "Spring Mar    0.090069  1.36 -0.63    144\n",
       "       Apr    0.056783  1.13 -0.59    143\n",
       "       May    0.047343  1.02 -0.55    143\n",
       "Summer Jun    0.033077  0.92 -0.52    143\n",
       "       Jul    0.056573  0.94 -0.51    143\n",
       "       Aug    0.055035  1.02 -0.54    143\n",
       "Autumn Sep    0.058322  0.99 -0.58    143\n",
       "       Oct    0.084755  1.09 -0.57    143\n",
       "       Nov    0.077762  1.11 -0.55    143\n",
       "Winter Jan    0.064236  1.17 -0.81    144\n",
       "       Feb    0.071806  1.37 -0.63    144\n",
       "       Dec    0.052657  1.16 -0.82    143"
      ]
     },
     "execution_count": 48,
     "metadata": {},
     "output_type": "execute_result"
    }
   ],
   "source": [
    "grouped_by_season = df_global_by_month\\\n",
    "    .groupby(['season','month'],observed=True)\\\n",
    "    .agg(\n",
    "        {'anomaly': ['mean', 'max', 'min', 'count']})\n",
    "grouped_by_season.columns = grouped_by_season.columns.droplevel(0)\n",
    "grouped_by_season"
   ]
  },
  {
   "cell_type": "code",
   "execution_count": 49,
   "id": "fca96887-058b-4946-a7e7-dab8b6a1ea3e",
   "metadata": {
    "tags": []
   },
   "outputs": [
    {
     "data": {
      "text/html": [
       "<div>\n",
       "<style scoped>\n",
       "    .dataframe tbody tr th:only-of-type {\n",
       "        vertical-align: middle;\n",
       "    }\n",
       "\n",
       "    .dataframe tbody tr th {\n",
       "        vertical-align: top;\n",
       "    }\n",
       "\n",
       "    .dataframe thead th {\n",
       "        text-align: right;\n",
       "    }\n",
       "</style>\n",
       "<table border=\"1\" class=\"dataframe\">\n",
       "  <thead>\n",
       "    <tr style=\"text-align: right;\">\n",
       "      <th></th>\n",
       "      <th>season</th>\n",
       "      <th>month</th>\n",
       "      <th>avg_anomaly</th>\n",
       "      <th>max_anomaly</th>\n",
       "      <th>min_anomaly</th>\n",
       "      <th>count_anomaly</th>\n",
       "    </tr>\n",
       "  </thead>\n",
       "  <tbody>\n",
       "    <tr>\n",
       "      <th>0</th>\n",
       "      <td>Spring</td>\n",
       "      <td>Mar</td>\n",
       "      <td>0.090069</td>\n",
       "      <td>1.36</td>\n",
       "      <td>-0.63</td>\n",
       "      <td>144</td>\n",
       "    </tr>\n",
       "    <tr>\n",
       "      <th>1</th>\n",
       "      <td>Spring</td>\n",
       "      <td>Apr</td>\n",
       "      <td>0.056783</td>\n",
       "      <td>1.13</td>\n",
       "      <td>-0.59</td>\n",
       "      <td>143</td>\n",
       "    </tr>\n",
       "    <tr>\n",
       "      <th>2</th>\n",
       "      <td>Spring</td>\n",
       "      <td>May</td>\n",
       "      <td>0.047343</td>\n",
       "      <td>1.02</td>\n",
       "      <td>-0.55</td>\n",
       "      <td>143</td>\n",
       "    </tr>\n",
       "  </tbody>\n",
       "</table>\n",
       "</div>"
      ],
      "text/plain": [
       "   season month  avg_anomaly  max_anomaly  min_anomaly  count_anomaly\n",
       "0  Spring   Mar     0.090069         1.36        -0.63            144\n",
       "1  Spring   Apr     0.056783         1.13        -0.59            143\n",
       "2  Spring   May     0.047343         1.02        -0.55            143"
      ]
     },
     "execution_count": 49,
     "metadata": {},
     "output_type": "execute_result"
    }
   ],
   "source": [
    "grouped_by_season_month = df_global_by_month\\\n",
    "    .groupby(['season','month'],observed=True)\\\n",
    "    .agg(\n",
    "        avg_anomaly=('anomaly', 'mean'),\n",
    "        max_anomaly=('anomaly', 'max'),\n",
    "        min_anomaly=('anomaly', 'min'),\n",
    "        count_anomaly= ('anomaly', 'count'))\n",
    "grouped_by_season_month = grouped_by_season_month.reset_index()\n",
    "grouped_by_season_month.head(3)"
   ]
  },
  {
   "cell_type": "markdown",
   "id": "5b43d07d-999e-44fc-a9be-ca548e93c1a0",
   "metadata": {},
   "source": [
    "#### sort"
   ]
  },
  {
   "cell_type": "code",
   "execution_count": 50,
   "id": "024c790e-c208-423d-982a-6f757314eeab",
   "metadata": {
    "tags": []
   },
   "outputs": [
    {
     "data": {
      "text/html": [
       "<div>\n",
       "<style scoped>\n",
       "    .dataframe tbody tr th:only-of-type {\n",
       "        vertical-align: middle;\n",
       "    }\n",
       "\n",
       "    .dataframe tbody tr th {\n",
       "        vertical-align: top;\n",
       "    }\n",
       "\n",
       "    .dataframe thead th {\n",
       "        text-align: right;\n",
       "    }\n",
       "</style>\n",
       "<table border=\"1\" class=\"dataframe\">\n",
       "  <thead>\n",
       "    <tr style=\"text-align: right;\">\n",
       "      <th></th>\n",
       "      <th>season</th>\n",
       "      <th>month</th>\n",
       "      <th>avg_anomaly</th>\n",
       "      <th>max_anomaly</th>\n",
       "      <th>count_anomaly</th>\n",
       "    </tr>\n",
       "  </thead>\n",
       "  <tbody>\n",
       "    <tr>\n",
       "      <th>0</th>\n",
       "      <td>Spring</td>\n",
       "      <td>Mar</td>\n",
       "      <td>0.090</td>\n",
       "      <td>1.36</td>\n",
       "      <td>144</td>\n",
       "    </tr>\n",
       "    <tr>\n",
       "      <th>1</th>\n",
       "      <td>Autumn</td>\n",
       "      <td>Oct</td>\n",
       "      <td>0.085</td>\n",
       "      <td>1.09</td>\n",
       "      <td>143</td>\n",
       "    </tr>\n",
       "    <tr>\n",
       "      <th>2</th>\n",
       "      <td>Autumn</td>\n",
       "      <td>Nov</td>\n",
       "      <td>0.078</td>\n",
       "      <td>1.11</td>\n",
       "      <td>143</td>\n",
       "    </tr>\n",
       "  </tbody>\n",
       "</table>\n",
       "</div>"
      ],
      "text/plain": [
       "   season month  avg_anomaly  max_anomaly  count_anomaly\n",
       "0  Spring   Mar        0.090         1.36            144\n",
       "1  Autumn   Oct        0.085         1.09            143\n",
       "2  Autumn   Nov        0.078         1.11            143"
      ]
     },
     "execution_count": 50,
     "metadata": {},
     "output_type": "execute_result"
    }
   ],
   "source": [
    "grouped_by_season = df_global_by_month\\\n",
    "    .groupby(['season','month'], observed=True)\\\n",
    "    .agg(avg_anomaly=('anomaly', 'mean'),\n",
    "         max_anomaly=('anomaly', 'max'),\n",
    "         count_anomaly=('anomaly', 'count'))\\\n",
    "    .round(3)\\\n",
    "    .sort_values(by='avg_anomaly',ascending=False)\\\n",
    "    .reset_index()\n",
    "grouped_by_season.head(3)"
   ]
  },
  {
   "cell_type": "markdown",
   "id": "29b05cf3-7bb3-445e-9cbd-8277ee6fd1b6",
   "metadata": {},
   "source": [
    "#### apply function to group"
   ]
  },
  {
   "cell_type": "code",
   "execution_count": 51,
   "id": "afa633c9-f064-42dc-9cd2-c1a853e6f8d2",
   "metadata": {
    "tags": []
   },
   "outputs": [],
   "source": [
    "# A custom IQR function\n",
    "def iqr(column):\n",
    "    return column.quantile(0.75) - column.quantile(0.25)"
   ]
  },
  {
   "cell_type": "code",
   "execution_count": 52,
   "id": "2b627a22-1b7c-43fa-b3a7-3e9a4d395011",
   "metadata": {
    "tags": []
   },
   "outputs": [
    {
     "data": {
      "text/plain": [
       "0.018854166666666672"
      ]
     },
     "execution_count": 52,
     "metadata": {},
     "output_type": "execute_result"
    }
   ],
   "source": [
    "winter_iqr = grouped_by_season_month['avg_anomaly'].agg(iqr)"
   ]
  },
  {
   "cell_type": "code",
   "execution_count": 53,
   "id": "300398d8-bfa5-437e-a1e7-bbe568b72aff",
   "metadata": {
    "tags": []
   },
   "outputs": [
    {
     "data": {
      "text/plain": [
       "iqr    0.018854\n",
       "max    0.090069\n",
       "min    0.033077\n",
       "Name: avg_anomaly, dtype: float64"
      ]
     },
     "execution_count": 53,
     "metadata": {},
     "output_type": "execute_result"
    }
   ],
   "source": [
    "winter_iqr = grouped_by_season_month['avg_anomaly'].agg([iqr,'max','min'])"
   ]
  },
  {
   "cell_type": "code",
   "execution_count": 54,
   "id": "d5618de0-da9a-4361-8024-21120486c1bf",
   "metadata": {
    "tags": []
   },
   "outputs": [],
   "source": [
    "def max_min_diff(x):\n",
    "    return x.max() - x.min()"
   ]
  },
  {
   "cell_type": "code",
   "execution_count": 55,
   "id": "e7cb7798-0775-47d1-a13a-8f5df6d84dde",
   "metadata": {
    "tags": []
   },
   "outputs": [
    {
     "data": {
      "text/plain": [
       "0.05699252136752136"
      ]
     },
     "execution_count": 55,
     "metadata": {},
     "output_type": "execute_result"
    }
   ],
   "source": [
    "max_min =  grouped_by_season_month['avg_anomaly'].agg(max_min_diff)"
   ]
  },
  {
   "cell_type": "markdown",
   "id": "159c64e8-9162-4e7f-95c2-2039e639fd7a",
   "metadata": {},
   "source": [
    "##### lambda"
   ]
  },
  {
   "cell_type": "code",
   "execution_count": 56,
   "id": "09796cf3-ae2d-4794-8b59-5b09564c8b1e",
   "metadata": {
    "tags": []
   },
   "outputs": [
    {
     "data": {
      "text/plain": [
       "0.05699252136752136"
      ]
     },
     "execution_count": 56,
     "metadata": {},
     "output_type": "execute_result"
    }
   ],
   "source": [
    "max_min =  grouped_by_season_month['avg_anomaly'].agg(lambda x: x.max() - x.min())"
   ]
  },
  {
   "cell_type": "code",
   "execution_count": 57,
   "id": "26988e3c-f1f1-4555-8ab1-87e366c1046e",
   "metadata": {
    "tags": []
   },
   "outputs": [
    {
     "data": {
      "text/html": [
       "<div>\n",
       "<style scoped>\n",
       "    .dataframe tbody tr th:only-of-type {\n",
       "        vertical-align: middle;\n",
       "    }\n",
       "\n",
       "    .dataframe tbody tr th {\n",
       "        vertical-align: top;\n",
       "    }\n",
       "\n",
       "    .dataframe thead th {\n",
       "        text-align: right;\n",
       "    }\n",
       "</style>\n",
       "<table border=\"1\" class=\"dataframe\">\n",
       "  <thead>\n",
       "    <tr style=\"text-align: right;\">\n",
       "      <th></th>\n",
       "      <th>season_diff</th>\n",
       "      <th>season_max</th>\n",
       "      <th>season_min</th>\n",
       "    </tr>\n",
       "    <tr>\n",
       "      <th>season</th>\n",
       "      <th></th>\n",
       "      <th></th>\n",
       "      <th></th>\n",
       "    </tr>\n",
       "  </thead>\n",
       "  <tbody>\n",
       "    <tr>\n",
       "      <th>Spring</th>\n",
       "      <td>1.99</td>\n",
       "      <td>1.36</td>\n",
       "      <td>-0.63</td>\n",
       "    </tr>\n",
       "    <tr>\n",
       "      <th>Summer</th>\n",
       "      <td>1.56</td>\n",
       "      <td>1.02</td>\n",
       "      <td>-0.54</td>\n",
       "    </tr>\n",
       "    <tr>\n",
       "      <th>Autumn</th>\n",
       "      <td>1.69</td>\n",
       "      <td>1.11</td>\n",
       "      <td>-0.58</td>\n",
       "    </tr>\n",
       "    <tr>\n",
       "      <th>Winter</th>\n",
       "      <td>2.19</td>\n",
       "      <td>1.37</td>\n",
       "      <td>-0.82</td>\n",
       "    </tr>\n",
       "  </tbody>\n",
       "</table>\n",
       "</div>"
      ],
      "text/plain": [
       "        season_diff  season_max  season_min\n",
       "season                                     \n",
       "Spring         1.99        1.36       -0.63\n",
       "Summer         1.56        1.02       -0.54\n",
       "Autumn         1.69        1.11       -0.58\n",
       "Winter         2.19        1.37       -0.82"
      ]
     },
     "execution_count": 57,
     "metadata": {},
     "output_type": "execute_result"
    }
   ],
   "source": [
    "df_global_by_month.groupby('season')\\\n",
    "    .agg(season_diff=('anomaly', lambda x: x.max() - x.min()),\n",
    "         season_max=('anomaly','max'),\n",
    "         season_min=('anomaly','min'))"
   ]
  },
  {
   "cell_type": "code",
   "execution_count": null,
   "id": "47f9ff15-c750-4963-b100-54680a2e49d5",
   "metadata": {},
   "outputs": [],
   "source": []
  },
  {
   "cell_type": "code",
   "execution_count": 58,
   "id": "a6e5d27b-30ab-49c7-afac-c9368ece6b0e",
   "metadata": {
    "tags": []
   },
   "outputs": [
    {
     "data": {
      "text/html": [
       "<div>\n",
       "<style scoped>\n",
       "    .dataframe tbody tr th:only-of-type {\n",
       "        vertical-align: middle;\n",
       "    }\n",
       "\n",
       "    .dataframe tbody tr th {\n",
       "        vertical-align: top;\n",
       "    }\n",
       "\n",
       "    .dataframe thead th {\n",
       "        text-align: right;\n",
       "    }\n",
       "</style>\n",
       "<table border=\"1\" class=\"dataframe\">\n",
       "  <thead>\n",
       "    <tr style=\"text-align: right;\">\n",
       "      <th></th>\n",
       "      <th>avg_largest_5</th>\n",
       "      <th>anomaly_max</th>\n",
       "    </tr>\n",
       "    <tr>\n",
       "      <th>season</th>\n",
       "      <th></th>\n",
       "      <th></th>\n",
       "    </tr>\n",
       "  </thead>\n",
       "  <tbody>\n",
       "    <tr>\n",
       "      <th>Spring</th>\n",
       "      <td>1.216</td>\n",
       "      <td>1.36</td>\n",
       "    </tr>\n",
       "    <tr>\n",
       "      <th>Summer</th>\n",
       "      <td>0.958</td>\n",
       "      <td>1.02</td>\n",
       "    </tr>\n",
       "    <tr>\n",
       "      <th>Autumn</th>\n",
       "      <td>1.058</td>\n",
       "      <td>1.11</td>\n",
       "    </tr>\n",
       "    <tr>\n",
       "      <th>Winter</th>\n",
       "      <td>1.222</td>\n",
       "      <td>1.37</td>\n",
       "    </tr>\n",
       "  </tbody>\n",
       "</table>\n",
       "</div>"
      ],
      "text/plain": [
       "        avg_largest_5  anomaly_max\n",
       "season                            \n",
       "Spring          1.216         1.36\n",
       "Summer          0.958         1.02\n",
       "Autumn          1.058         1.11\n",
       "Winter          1.222         1.37"
      ]
     },
     "execution_count": 58,
     "metadata": {},
     "output_type": "execute_result"
    }
   ],
   "source": [
    "df_global_by_month.groupby('season')\\\n",
    "    .agg(avg_largest_5=('anomaly', lambda x: x.nlargest(5).mean()),\n",
    "         anomaly_max=('anomaly','max'))"
   ]
  },
  {
   "cell_type": "code",
   "execution_count": 59,
   "id": "4f686b23-06a9-482d-a5bb-8b18073adf11",
   "metadata": {
    "tags": []
   },
   "outputs": [
    {
     "data": {
      "text/html": [
       "<div>\n",
       "<style scoped>\n",
       "    .dataframe tbody tr th:only-of-type {\n",
       "        vertical-align: middle;\n",
       "    }\n",
       "\n",
       "    .dataframe tbody tr th {\n",
       "        vertical-align: top;\n",
       "    }\n",
       "\n",
       "    .dataframe thead th {\n",
       "        text-align: right;\n",
       "    }\n",
       "</style>\n",
       "<table border=\"1\" class=\"dataframe\">\n",
       "  <thead>\n",
       "    <tr style=\"text-align: right;\">\n",
       "      <th></th>\n",
       "      <th>pct_gt_1</th>\n",
       "    </tr>\n",
       "    <tr>\n",
       "      <th>month</th>\n",
       "      <th></th>\n",
       "    </tr>\n",
       "  </thead>\n",
       "  <tbody>\n",
       "    <tr>\n",
       "      <th>Mar</th>\n",
       "      <td>4.17</td>\n",
       "    </tr>\n",
       "    <tr>\n",
       "      <th>Jan</th>\n",
       "      <td>2.78</td>\n",
       "    </tr>\n",
       "    <tr>\n",
       "      <th>Apr</th>\n",
       "      <td>2.10</td>\n",
       "    </tr>\n",
       "  </tbody>\n",
       "</table>\n",
       "</div>"
      ],
      "text/plain": [
       "       pct_gt_1\n",
       "month          \n",
       "Mar        4.17\n",
       "Jan        2.78\n",
       "Apr        2.10"
      ]
     },
     "execution_count": 59,
     "metadata": {},
     "output_type": "execute_result"
    }
   ],
   "source": [
    "grp = df_global_by_month.groupby('month')\\\n",
    "    .agg(pct_gt_1=('anomaly', lambda x: (x>1).mean()*100))\\\n",
    "    .round(2)\\\n",
    "    .sort_values(by='pct_gt_1',ascending=False)   \n",
    "grp.head(3)"
   ]
  },
  {
   "cell_type": "markdown",
   "id": "a7051e55-cb1d-473b-890e-9d8c84b5f919",
   "metadata": {},
   "source": [
    "#### iterrows"
   ]
  },
  {
   "cell_type": "code",
   "execution_count": 60,
   "id": "c1865755-aadc-43ee-87a2-4e6965e0e25e",
   "metadata": {
    "tags": []
   },
   "outputs": [
    {
     "name": "stdout",
     "output_type": "stream",
     "text": [
      "Jan 0.0642361111111111\n",
      "Feb 0.07180555555555555\n",
      "Mar 0.09006944444444444\n",
      "Apr 0.05678321678321678\n",
      "May 0.047342657342657336\n",
      "Jun 0.03307692307692308\n",
      "Jul 0.05657342657342657\n",
      "Aug 0.05503496503496503\n",
      "Sep 0.05832167832167832\n",
      "Oct 0.08475524475524475\n",
      "Nov 0.07776223776223776\n",
      "Dec 0.05265734265734266\n"
     ]
    }
   ],
   "source": [
    "for idx, row in df_global_grouped_by_month.iterrows():\n",
    "    print(idx,row['avg_anomaly'])"
   ]
  },
  {
   "cell_type": "markdown",
   "id": "9cfd8dfa-8d8f-447a-a325-d83851a5dfbc",
   "metadata": {
    "tags": [],
    "toc-hr-collapsed": true
   },
   "source": [
    "### .groupby().filter()\n",
    "- requires writing a custom function or using lambda\n",
    "- function must return a single boolean value\n",
    "- filters passes each group as a df\n",
    "- each group kept or dropped based on returned boolean value\n",
    "- end result is rows in original df that meet criteria"
   ]
  },
  {
   "cell_type": "code",
   "execution_count": 61,
   "id": "7e96abb0-8109-4c98-952a-33809327730e",
   "metadata": {
    "tags": []
   },
   "outputs": [
    {
     "data": {
      "text/html": [
       "<div>\n",
       "<style scoped>\n",
       "    .dataframe tbody tr th:only-of-type {\n",
       "        vertical-align: middle;\n",
       "    }\n",
       "\n",
       "    .dataframe tbody tr th {\n",
       "        vertical-align: top;\n",
       "    }\n",
       "\n",
       "    .dataframe thead th {\n",
       "        text-align: right;\n",
       "    }\n",
       "</style>\n",
       "<table border=\"1\" class=\"dataframe\">\n",
       "  <thead>\n",
       "    <tr style=\"text-align: right;\">\n",
       "      <th></th>\n",
       "      <th>month</th>\n",
       "      <th>max_anomaly</th>\n",
       "    </tr>\n",
       "  </thead>\n",
       "  <tbody>\n",
       "    <tr>\n",
       "      <th>1</th>\n",
       "      <td>Feb</td>\n",
       "      <td>1.37</td>\n",
       "    </tr>\n",
       "    <tr>\n",
       "      <th>2</th>\n",
       "      <td>Mar</td>\n",
       "      <td>1.36</td>\n",
       "    </tr>\n",
       "    <tr>\n",
       "      <th>0</th>\n",
       "      <td>Jan</td>\n",
       "      <td>1.17</td>\n",
       "    </tr>\n",
       "  </tbody>\n",
       "</table>\n",
       "</div>"
      ],
      "text/plain": [
       "  month  max_anomaly\n",
       "1   Feb         1.37\n",
       "2   Mar         1.36\n",
       "0   Jan         1.17"
      ]
     },
     "execution_count": 61,
     "metadata": {},
     "output_type": "execute_result"
    }
   ],
   "source": [
    "# task: returns all rows in group where max anomaly of group > 1.35\n",
    "# use this for checking results of groupby filter\n",
    "grp = df_global_by_month.groupby('month')\\\n",
    "    .agg(max_anomaly=('anomaly', 'max'))\\\n",
    "    .reset_index()\\\n",
    "    .sort_values(by='max_anomaly',ascending=False)\n",
    "grp.head(3)"
   ]
  },
  {
   "cell_type": "markdown",
   "id": "88f6d7ed-27cd-4340-b20c-71960964ca9a",
   "metadata": {},
   "source": [
    "#### single step using .groupby().filter()"
   ]
  },
  {
   "cell_type": "code",
   "execution_count": 62,
   "id": "d3a16e60-f8be-4d98-9d08-dc666d33710e",
   "metadata": {
    "tags": []
   },
   "outputs": [
    {
     "data": {
      "text/html": [
       "<div>\n",
       "<style scoped>\n",
       "    .dataframe tbody tr th:only-of-type {\n",
       "        vertical-align: middle;\n",
       "    }\n",
       "\n",
       "    .dataframe tbody tr th {\n",
       "        vertical-align: top;\n",
       "    }\n",
       "\n",
       "    .dataframe thead th {\n",
       "        text-align: right;\n",
       "    }\n",
       "</style>\n",
       "<table border=\"1\" class=\"dataframe\">\n",
       "  <thead>\n",
       "    <tr style=\"text-align: right;\">\n",
       "      <th></th>\n",
       "      <th>year</th>\n",
       "      <th>month</th>\n",
       "      <th>season</th>\n",
       "      <th>area</th>\n",
       "      <th>anomaly</th>\n",
       "    </tr>\n",
       "    <tr>\n",
       "      <th>date</th>\n",
       "      <th></th>\n",
       "      <th></th>\n",
       "      <th></th>\n",
       "      <th></th>\n",
       "      <th></th>\n",
       "    </tr>\n",
       "  </thead>\n",
       "  <tbody>\n",
       "    <tr>\n",
       "      <th>1880-02-01</th>\n",
       "      <td>1880</td>\n",
       "      <td>Feb</td>\n",
       "      <td>Winter</td>\n",
       "      <td>GLB</td>\n",
       "      <td>-0.24</td>\n",
       "    </tr>\n",
       "    <tr>\n",
       "      <th>1880-03-01</th>\n",
       "      <td>1880</td>\n",
       "      <td>Mar</td>\n",
       "      <td>Spring</td>\n",
       "      <td>GLB</td>\n",
       "      <td>-0.09</td>\n",
       "    </tr>\n",
       "    <tr>\n",
       "      <th>1881-02-01</th>\n",
       "      <td>1881</td>\n",
       "      <td>Feb</td>\n",
       "      <td>Winter</td>\n",
       "      <td>GLB</td>\n",
       "      <td>-0.14</td>\n",
       "    </tr>\n",
       "  </tbody>\n",
       "</table>\n",
       "</div>"
      ],
      "text/plain": [
       "            year month  season area  anomaly\n",
       "date                                        \n",
       "1880-02-01  1880   Feb  Winter  GLB    -0.24\n",
       "1880-03-01  1880   Mar  Spring  GLB    -0.09\n",
       "1881-02-01  1881   Feb  Winter  GLB    -0.14"
      ]
     },
     "execution_count": 62,
     "metadata": {},
     "output_type": "execute_result"
    }
   ],
   "source": [
    "grp = df_global_by_month.groupby('month')\\\n",
    "    .filter(lambda x: x['anomaly'].max() > 1.35)\\\n",
    "    .round(2)\n",
    "grp.head(3)"
   ]
  },
  {
   "cell_type": "markdown",
   "id": "6c739626-edea-4e41-8333-f2e7cb0bf2bf",
   "metadata": {},
   "source": [
    "#### comparable steps without group filter"
   ]
  },
  {
   "cell_type": "raw",
   "id": "05922112-b046-4f7d-9e07-4665b0f53474",
   "metadata": {},
   "source": [
    "grp_max = df_global_by_month.groupby('Month')\\\n",
    "              .agg(max_anomaly=('Anomaly', 'max'))\n",
    "filt = grp_max['max_anomaly'] > 1.35\n",
    "grp_max = grp_max[filt].reset_index()\n",
    "grp_months = list(grp_max['Month'])\n",
    "filt2 = df_global_by_month['Month'].isin(grp_months)\n",
    "grp_months = dfgt.loc[filt2]\n",
    "grp_months.head(3)"
   ]
  },
  {
   "cell_type": "markdown",
   "id": "357dba77-37e8-4b8a-adc5-70a909ec63e9",
   "metadata": {
    "toc-hr-collapsed": true
   },
   "source": [
    "### .groupby().transform()\n",
    "- similar to .agg()\n",
    "- returns same number of rows as orginal df as a series\n",
    "- syntax: df.groupby('grouping col')['transformed col'].transform(func)\n",
    "- can use string name of pandas function or custom function or lambda"
   ]
  },
  {
   "cell_type": "markdown",
   "id": "136a13b9-ffb8-4271-a942-43a5d80619e3",
   "metadata": {},
   "source": [
    "#### add group max to each row"
   ]
  },
  {
   "cell_type": "code",
   "execution_count": 63,
   "id": "5e236b8b-7d9c-4ed4-b9a4-4c9bf94d18e6",
   "metadata": {
    "tags": []
   },
   "outputs": [
    {
     "data": {
      "text/html": [
       "<div>\n",
       "<style scoped>\n",
       "    .dataframe tbody tr th:only-of-type {\n",
       "        vertical-align: middle;\n",
       "    }\n",
       "\n",
       "    .dataframe tbody tr th {\n",
       "        vertical-align: top;\n",
       "    }\n",
       "\n",
       "    .dataframe thead th {\n",
       "        text-align: right;\n",
       "    }\n",
       "</style>\n",
       "<table border=\"1\" class=\"dataframe\">\n",
       "  <thead>\n",
       "    <tr style=\"text-align: right;\">\n",
       "      <th></th>\n",
       "      <th>year</th>\n",
       "      <th>month</th>\n",
       "      <th>season</th>\n",
       "      <th>area</th>\n",
       "      <th>anomaly</th>\n",
       "      <th>month max</th>\n",
       "    </tr>\n",
       "    <tr>\n",
       "      <th>date</th>\n",
       "      <th></th>\n",
       "      <th></th>\n",
       "      <th></th>\n",
       "      <th></th>\n",
       "      <th></th>\n",
       "      <th></th>\n",
       "    </tr>\n",
       "  </thead>\n",
       "  <tbody>\n",
       "    <tr>\n",
       "      <th>1880-01-01</th>\n",
       "      <td>1880</td>\n",
       "      <td>Jan</td>\n",
       "      <td>Winter</td>\n",
       "      <td>GLB</td>\n",
       "      <td>-0.18</td>\n",
       "      <td>9.25</td>\n",
       "    </tr>\n",
       "    <tr>\n",
       "      <th>1880-02-01</th>\n",
       "      <td>1880</td>\n",
       "      <td>Feb</td>\n",
       "      <td>Winter</td>\n",
       "      <td>GLB</td>\n",
       "      <td>-0.24</td>\n",
       "      <td>10.34</td>\n",
       "    </tr>\n",
       "    <tr>\n",
       "      <th>1880-03-01</th>\n",
       "      <td>1880</td>\n",
       "      <td>Mar</td>\n",
       "      <td>Spring</td>\n",
       "      <td>GLB</td>\n",
       "      <td>-0.09</td>\n",
       "      <td>12.97</td>\n",
       "    </tr>\n",
       "  </tbody>\n",
       "</table>\n",
       "</div>"
      ],
      "text/plain": [
       "            year month  season area  anomaly  month max\n",
       "date                                                   \n",
       "1880-01-01  1880   Jan  Winter  GLB    -0.18       9.25\n",
       "1880-02-01  1880   Feb  Winter  GLB    -0.24      10.34\n",
       "1880-03-01  1880   Mar  Spring  GLB    -0.09      12.97"
      ]
     },
     "execution_count": 63,
     "metadata": {},
     "output_type": "execute_result"
    }
   ],
   "source": [
    "dfgtc = df_global_by_month.copy()\n",
    "dfgtc['month max'] = dfgtc.groupby('month')['anomaly'].transform('sum')\n",
    "dfgtc.head(3)"
   ]
  },
  {
   "cell_type": "markdown",
   "id": "c6b7aeb9-b1f3-4e30-8c7a-2400ab579c46",
   "metadata": {},
   "source": [
    "#### add difference from group mean to each row"
   ]
  },
  {
   "cell_type": "code",
   "execution_count": 64,
   "id": "26922765-0d98-4afe-bacb-b0063f08d5d7",
   "metadata": {
    "tags": []
   },
   "outputs": [
    {
     "data": {
      "text/html": [
       "<div>\n",
       "<style scoped>\n",
       "    .dataframe tbody tr th:only-of-type {\n",
       "        vertical-align: middle;\n",
       "    }\n",
       "\n",
       "    .dataframe tbody tr th {\n",
       "        vertical-align: top;\n",
       "    }\n",
       "\n",
       "    .dataframe thead th {\n",
       "        text-align: right;\n",
       "    }\n",
       "</style>\n",
       "<table border=\"1\" class=\"dataframe\">\n",
       "  <thead>\n",
       "    <tr style=\"text-align: right;\">\n",
       "      <th></th>\n",
       "      <th>year</th>\n",
       "      <th>month</th>\n",
       "      <th>season</th>\n",
       "      <th>area</th>\n",
       "      <th>anomaly</th>\n",
       "      <th>month mean</th>\n",
       "      <th>diff_mean</th>\n",
       "    </tr>\n",
       "    <tr>\n",
       "      <th>date</th>\n",
       "      <th></th>\n",
       "      <th></th>\n",
       "      <th></th>\n",
       "      <th></th>\n",
       "      <th></th>\n",
       "      <th></th>\n",
       "      <th></th>\n",
       "    </tr>\n",
       "  </thead>\n",
       "  <tbody>\n",
       "    <tr>\n",
       "      <th>1880-01-01</th>\n",
       "      <td>1880</td>\n",
       "      <td>Jan</td>\n",
       "      <td>Winter</td>\n",
       "      <td>GLB</td>\n",
       "      <td>-0.18</td>\n",
       "      <td>0.06</td>\n",
       "      <td>-0.24</td>\n",
       "    </tr>\n",
       "    <tr>\n",
       "      <th>1880-02-01</th>\n",
       "      <td>1880</td>\n",
       "      <td>Feb</td>\n",
       "      <td>Winter</td>\n",
       "      <td>GLB</td>\n",
       "      <td>-0.24</td>\n",
       "      <td>0.07</td>\n",
       "      <td>-0.31</td>\n",
       "    </tr>\n",
       "    <tr>\n",
       "      <th>1880-03-01</th>\n",
       "      <td>1880</td>\n",
       "      <td>Mar</td>\n",
       "      <td>Spring</td>\n",
       "      <td>GLB</td>\n",
       "      <td>-0.09</td>\n",
       "      <td>0.09</td>\n",
       "      <td>-0.18</td>\n",
       "    </tr>\n",
       "  </tbody>\n",
       "</table>\n",
       "</div>"
      ],
      "text/plain": [
       "            year month  season area  anomaly  month mean  diff_mean\n",
       "date                                                               \n",
       "1880-01-01  1880   Jan  Winter  GLB    -0.18        0.06      -0.24\n",
       "1880-02-01  1880   Feb  Winter  GLB    -0.24        0.07      -0.31\n",
       "1880-03-01  1880   Mar  Spring  GLB    -0.09        0.09      -0.18"
      ]
     },
     "execution_count": 64,
     "metadata": {},
     "output_type": "execute_result"
    }
   ],
   "source": [
    "dfgtc = df_global_by_month.copy()\n",
    "dfgtc['month mean'] = dfgtc.groupby('month')['anomaly'].transform('mean').round(2)\n",
    "dfgtc['diff_mean'] = dfgtc.groupby('month')['anomaly'].transform(lambda x: x - x.mean()).round(2)\n",
    "dfgtc.head(3)"
   ]
  },
  {
   "cell_type": "markdown",
   "id": "9e05342d-3c33-4653-98d7-8c188e2c3154",
   "metadata": {
    "toc-hr-collapsed": true
   },
   "source": [
    "### pivot table"
   ]
  },
  {
   "cell_type": "code",
   "execution_count": 65,
   "id": "9b15e90d-06f9-4aaa-b52b-e21ec6122d20",
   "metadata": {
    "tags": []
   },
   "outputs": [
    {
     "data": {
      "text/html": [
       "<div>\n",
       "<style scoped>\n",
       "    .dataframe tbody tr th:only-of-type {\n",
       "        vertical-align: middle;\n",
       "    }\n",
       "\n",
       "    .dataframe tbody tr th {\n",
       "        vertical-align: top;\n",
       "    }\n",
       "\n",
       "    .dataframe thead tr th {\n",
       "        text-align: left;\n",
       "    }\n",
       "\n",
       "    .dataframe thead tr:last-of-type th {\n",
       "        text-align: right;\n",
       "    }\n",
       "</style>\n",
       "<table border=\"1\" class=\"dataframe\">\n",
       "  <thead>\n",
       "    <tr>\n",
       "      <th></th>\n",
       "      <th colspan=\"13\" halign=\"left\">mean</th>\n",
       "    </tr>\n",
       "    <tr>\n",
       "      <th>month</th>\n",
       "      <th>Jan</th>\n",
       "      <th>Feb</th>\n",
       "      <th>Mar</th>\n",
       "      <th>Apr</th>\n",
       "      <th>May</th>\n",
       "      <th>Jun</th>\n",
       "      <th>Jul</th>\n",
       "      <th>Aug</th>\n",
       "      <th>Sep</th>\n",
       "      <th>Oct</th>\n",
       "      <th>Nov</th>\n",
       "      <th>Dec</th>\n",
       "      <th>All</th>\n",
       "    </tr>\n",
       "    <tr>\n",
       "      <th>season</th>\n",
       "      <th></th>\n",
       "      <th></th>\n",
       "      <th></th>\n",
       "      <th></th>\n",
       "      <th></th>\n",
       "      <th></th>\n",
       "      <th></th>\n",
       "      <th></th>\n",
       "      <th></th>\n",
       "      <th></th>\n",
       "      <th></th>\n",
       "      <th></th>\n",
       "      <th></th>\n",
       "    </tr>\n",
       "  </thead>\n",
       "  <tbody>\n",
       "    <tr>\n",
       "      <th>Spring</th>\n",
       "      <td>0.000</td>\n",
       "      <td>0.000</td>\n",
       "      <td>0.09</td>\n",
       "      <td>0.057</td>\n",
       "      <td>0.047</td>\n",
       "      <td>0.000</td>\n",
       "      <td>0.000</td>\n",
       "      <td>0.000</td>\n",
       "      <td>0.000</td>\n",
       "      <td>0.000</td>\n",
       "      <td>0.000</td>\n",
       "      <td>0.000</td>\n",
       "      <td>0.065</td>\n",
       "    </tr>\n",
       "    <tr>\n",
       "      <th>Summer</th>\n",
       "      <td>0.000</td>\n",
       "      <td>0.000</td>\n",
       "      <td>0.00</td>\n",
       "      <td>0.000</td>\n",
       "      <td>0.000</td>\n",
       "      <td>0.033</td>\n",
       "      <td>0.057</td>\n",
       "      <td>0.055</td>\n",
       "      <td>0.000</td>\n",
       "      <td>0.000</td>\n",
       "      <td>0.000</td>\n",
       "      <td>0.000</td>\n",
       "      <td>0.048</td>\n",
       "    </tr>\n",
       "    <tr>\n",
       "      <th>Autumn</th>\n",
       "      <td>0.000</td>\n",
       "      <td>0.000</td>\n",
       "      <td>0.00</td>\n",
       "      <td>0.000</td>\n",
       "      <td>0.000</td>\n",
       "      <td>0.000</td>\n",
       "      <td>0.000</td>\n",
       "      <td>0.000</td>\n",
       "      <td>0.058</td>\n",
       "      <td>0.085</td>\n",
       "      <td>0.078</td>\n",
       "      <td>0.000</td>\n",
       "      <td>0.074</td>\n",
       "    </tr>\n",
       "    <tr>\n",
       "      <th>Winter</th>\n",
       "      <td>0.064</td>\n",
       "      <td>0.072</td>\n",
       "      <td>0.00</td>\n",
       "      <td>0.000</td>\n",
       "      <td>0.000</td>\n",
       "      <td>0.000</td>\n",
       "      <td>0.000</td>\n",
       "      <td>0.000</td>\n",
       "      <td>0.000</td>\n",
       "      <td>0.000</td>\n",
       "      <td>0.000</td>\n",
       "      <td>0.053</td>\n",
       "      <td>0.063</td>\n",
       "    </tr>\n",
       "    <tr>\n",
       "      <th>All</th>\n",
       "      <td>0.064</td>\n",
       "      <td>0.072</td>\n",
       "      <td>0.09</td>\n",
       "      <td>0.057</td>\n",
       "      <td>0.047</td>\n",
       "      <td>0.033</td>\n",
       "      <td>0.057</td>\n",
       "      <td>0.055</td>\n",
       "      <td>0.058</td>\n",
       "      <td>0.085</td>\n",
       "      <td>0.078</td>\n",
       "      <td>0.053</td>\n",
       "      <td>0.062</td>\n",
       "    </tr>\n",
       "  </tbody>\n",
       "</table>\n",
       "</div>"
      ],
      "text/plain": [
       "         mean                                                                 \n",
       "month     Jan    Feb   Mar    Apr    May    Jun    Jul    Aug    Sep    Oct   \n",
       "season                                                                        \n",
       "Spring  0.000  0.000  0.09  0.057  0.047  0.000  0.000  0.000  0.000  0.000  \\\n",
       "Summer  0.000  0.000  0.00  0.000  0.000  0.033  0.057  0.055  0.000  0.000   \n",
       "Autumn  0.000  0.000  0.00  0.000  0.000  0.000  0.000  0.000  0.058  0.085   \n",
       "Winter  0.064  0.072  0.00  0.000  0.000  0.000  0.000  0.000  0.000  0.000   \n",
       "All     0.064  0.072  0.09  0.057  0.047  0.033  0.057  0.055  0.058  0.085   \n",
       "\n",
       "                             \n",
       "month     Nov    Dec    All  \n",
       "season                       \n",
       "Spring  0.000  0.000  0.065  \n",
       "Summer  0.000  0.000  0.048  \n",
       "Autumn  0.078  0.000  0.074  \n",
       "Winter  0.000  0.053  0.063  \n",
       "All     0.078  0.053  0.062  "
      ]
     },
     "execution_count": 65,
     "metadata": {},
     "output_type": "execute_result"
    }
   ],
   "source": [
    "pt = df_global_by_month.pivot_table(\n",
    "    index='season',\n",
    "    columns='month', \n",
    "    values='anomaly',\n",
    "    aggfunc=['mean'],\n",
    "    fill_value=0,\n",
    "    margins=True).round(3)\n",
    "pt"
   ]
  },
  {
   "cell_type": "markdown",
   "id": "1c19a905-57f8-4a66-b254-33c60884f80a",
   "metadata": {
    "toc-hr-collapsed": true
   },
   "source": [
    "### crosstab\n",
    "adds ability to normalize (normalize options: index, columns, all)"
   ]
  },
  {
   "cell_type": "code",
   "execution_count": 66,
   "id": "1d91ca86-1151-46a4-80a7-ee1b6f694c17",
   "metadata": {
    "tags": []
   },
   "outputs": [
    {
     "data": {
      "text/html": [
       "<div>\n",
       "<style scoped>\n",
       "    .dataframe tbody tr th:only-of-type {\n",
       "        vertical-align: middle;\n",
       "    }\n",
       "\n",
       "    .dataframe tbody tr th {\n",
       "        vertical-align: top;\n",
       "    }\n",
       "\n",
       "    .dataframe thead th {\n",
       "        text-align: right;\n",
       "    }\n",
       "</style>\n",
       "<table border=\"1\" class=\"dataframe\">\n",
       "  <thead>\n",
       "    <tr style=\"text-align: right;\">\n",
       "      <th>month</th>\n",
       "      <th>Jan</th>\n",
       "      <th>Feb</th>\n",
       "      <th>Mar</th>\n",
       "      <th>Apr</th>\n",
       "      <th>May</th>\n",
       "      <th>Jun</th>\n",
       "      <th>Jul</th>\n",
       "      <th>Aug</th>\n",
       "      <th>Sep</th>\n",
       "      <th>Oct</th>\n",
       "      <th>Nov</th>\n",
       "      <th>Dec</th>\n",
       "    </tr>\n",
       "    <tr>\n",
       "      <th>season</th>\n",
       "      <th></th>\n",
       "      <th></th>\n",
       "      <th></th>\n",
       "      <th></th>\n",
       "      <th></th>\n",
       "      <th></th>\n",
       "      <th></th>\n",
       "      <th></th>\n",
       "      <th></th>\n",
       "      <th></th>\n",
       "      <th></th>\n",
       "      <th></th>\n",
       "    </tr>\n",
       "  </thead>\n",
       "  <tbody>\n",
       "    <tr>\n",
       "      <th>Spring</th>\n",
       "      <td>0.0</td>\n",
       "      <td>0.0</td>\n",
       "      <td>8.4</td>\n",
       "      <td>8.3</td>\n",
       "      <td>8.3</td>\n",
       "      <td>0.0</td>\n",
       "      <td>0.0</td>\n",
       "      <td>0.0</td>\n",
       "      <td>0.0</td>\n",
       "      <td>0.0</td>\n",
       "      <td>0.0</td>\n",
       "      <td>0.0</td>\n",
       "    </tr>\n",
       "    <tr>\n",
       "      <th>Summer</th>\n",
       "      <td>0.0</td>\n",
       "      <td>0.0</td>\n",
       "      <td>0.0</td>\n",
       "      <td>0.0</td>\n",
       "      <td>0.0</td>\n",
       "      <td>8.3</td>\n",
       "      <td>8.3</td>\n",
       "      <td>8.3</td>\n",
       "      <td>0.0</td>\n",
       "      <td>0.0</td>\n",
       "      <td>0.0</td>\n",
       "      <td>0.0</td>\n",
       "    </tr>\n",
       "    <tr>\n",
       "      <th>Autumn</th>\n",
       "      <td>0.0</td>\n",
       "      <td>0.0</td>\n",
       "      <td>0.0</td>\n",
       "      <td>0.0</td>\n",
       "      <td>0.0</td>\n",
       "      <td>0.0</td>\n",
       "      <td>0.0</td>\n",
       "      <td>0.0</td>\n",
       "      <td>8.3</td>\n",
       "      <td>8.3</td>\n",
       "      <td>8.3</td>\n",
       "      <td>0.0</td>\n",
       "    </tr>\n",
       "    <tr>\n",
       "      <th>Winter</th>\n",
       "      <td>8.4</td>\n",
       "      <td>8.4</td>\n",
       "      <td>0.0</td>\n",
       "      <td>0.0</td>\n",
       "      <td>0.0</td>\n",
       "      <td>0.0</td>\n",
       "      <td>0.0</td>\n",
       "      <td>0.0</td>\n",
       "      <td>0.0</td>\n",
       "      <td>0.0</td>\n",
       "      <td>0.0</td>\n",
       "      <td>8.3</td>\n",
       "    </tr>\n",
       "  </tbody>\n",
       "</table>\n",
       "</div>"
      ],
      "text/plain": [
       "month   Jan  Feb  Mar  Apr  May  Jun  Jul  Aug  Sep  Oct  Nov  Dec\n",
       "season                                                            \n",
       "Spring  0.0  0.0  8.4  8.3  8.3  0.0  0.0  0.0  0.0  0.0  0.0  0.0\n",
       "Summer  0.0  0.0  0.0  0.0  0.0  8.3  8.3  8.3  0.0  0.0  0.0  0.0\n",
       "Autumn  0.0  0.0  0.0  0.0  0.0  0.0  0.0  0.0  8.3  8.3  8.3  0.0\n",
       "Winter  8.4  8.4  0.0  0.0  0.0  0.0  0.0  0.0  0.0  0.0  0.0  8.3"
      ]
     },
     "execution_count": 66,
     "metadata": {},
     "output_type": "execute_result"
    }
   ],
   "source": [
    "pd.crosstab(index=df_global_by_month['season'], \n",
    "            columns=df_global_by_month['month'], \n",
    "            normalize='all').round(3) * 100"
   ]
  },
  {
   "cell_type": "markdown",
   "id": "da9ab408-da35-4f14-a3fd-6cbec3243c31",
   "metadata": {
    "toc-hr-collapsed": true
   },
   "source": [
    "### bins"
   ]
  },
  {
   "cell_type": "code",
   "execution_count": 67,
   "id": "0dbbe552-58d7-483b-b724-5c3bc002d912",
   "metadata": {
    "tags": []
   },
   "outputs": [
    {
     "name": "stdout",
     "output_type": "stream",
     "text": [
      "1880 2023\n"
     ]
    }
   ],
   "source": [
    "col_min, col_max = df_global_by_month['year'].agg(['min','max'])\n",
    "print(col_min, col_max)"
   ]
  },
  {
   "cell_type": "code",
   "execution_count": 68,
   "id": "00709f70-a048-4bb2-ace3-c6a2cd56ccc8",
   "metadata": {
    "tags": []
   },
   "outputs": [
    {
     "data": {
      "text/html": [
       "<div>\n",
       "<style scoped>\n",
       "    .dataframe tbody tr th:only-of-type {\n",
       "        vertical-align: middle;\n",
       "    }\n",
       "\n",
       "    .dataframe tbody tr th {\n",
       "        vertical-align: top;\n",
       "    }\n",
       "\n",
       "    .dataframe thead th {\n",
       "        text-align: right;\n",
       "    }\n",
       "</style>\n",
       "<table border=\"1\" class=\"dataframe\">\n",
       "  <thead>\n",
       "    <tr style=\"text-align: right;\">\n",
       "      <th></th>\n",
       "      <th>date</th>\n",
       "      <th>year</th>\n",
       "      <th>month</th>\n",
       "      <th>season</th>\n",
       "      <th>area</th>\n",
       "      <th>anomaly</th>\n",
       "      <th>bins</th>\n",
       "    </tr>\n",
       "  </thead>\n",
       "  <tbody>\n",
       "    <tr>\n",
       "      <th>0</th>\n",
       "      <td>1880-01-01</td>\n",
       "      <td>1880</td>\n",
       "      <td>Jan</td>\n",
       "      <td>Winter</td>\n",
       "      <td>GLB</td>\n",
       "      <td>-0.18</td>\n",
       "      <td>(1879, 1880]</td>\n",
       "    </tr>\n",
       "    <tr>\n",
       "      <th>1</th>\n",
       "      <td>1880-02-01</td>\n",
       "      <td>1880</td>\n",
       "      <td>Feb</td>\n",
       "      <td>Winter</td>\n",
       "      <td>GLB</td>\n",
       "      <td>-0.24</td>\n",
       "      <td>(1879, 1880]</td>\n",
       "    </tr>\n",
       "    <tr>\n",
       "      <th>2</th>\n",
       "      <td>1880-03-01</td>\n",
       "      <td>1880</td>\n",
       "      <td>Mar</td>\n",
       "      <td>Spring</td>\n",
       "      <td>GLB</td>\n",
       "      <td>-0.09</td>\n",
       "      <td>(1879, 1880]</td>\n",
       "    </tr>\n",
       "    <tr>\n",
       "      <th>3</th>\n",
       "      <td>1880-04-01</td>\n",
       "      <td>1880</td>\n",
       "      <td>Apr</td>\n",
       "      <td>Spring</td>\n",
       "      <td>GLB</td>\n",
       "      <td>-0.16</td>\n",
       "      <td>(1879, 1880]</td>\n",
       "    </tr>\n",
       "    <tr>\n",
       "      <th>4</th>\n",
       "      <td>1880-05-01</td>\n",
       "      <td>1880</td>\n",
       "      <td>May</td>\n",
       "      <td>Spring</td>\n",
       "      <td>GLB</td>\n",
       "      <td>-0.10</td>\n",
       "      <td>(1879, 1880]</td>\n",
       "    </tr>\n",
       "  </tbody>\n",
       "</table>\n",
       "</div>"
      ],
      "text/plain": [
       "        date  year month  season area  anomaly          bins\n",
       "0 1880-01-01  1880   Jan  Winter  GLB    -0.18  (1879, 1880]\n",
       "1 1880-02-01  1880   Feb  Winter  GLB    -0.24  (1879, 1880]\n",
       "2 1880-03-01  1880   Mar  Spring  GLB    -0.09  (1879, 1880]\n",
       "3 1880-04-01  1880   Apr  Spring  GLB    -0.16  (1879, 1880]\n",
       "4 1880-05-01  1880   May  Spring  GLB    -0.10  (1879, 1880]"
      ]
     },
     "execution_count": 68,
     "metadata": {},
     "output_type": "execute_result"
    }
   ],
   "source": [
    "dfc = df_global_by_month.copy().reset_index()\n",
    "bins_20yr = [col_min-1,1880,1900,1920,1940,1960,1980,2000,2020,col_max]\n",
    "dfc['bins'] = pd.cut(dfc['year'], bins = bins_20yr)\n",
    "dfc.head(5)"
   ]
  },
  {
   "cell_type": "code",
   "execution_count": 69,
   "id": "31a5aae6-ec39-403d-9ebe-0092a7c859c6",
   "metadata": {
    "tags": []
   },
   "outputs": [
    {
     "data": {
      "text/html": [
       "<div>\n",
       "<style scoped>\n",
       "    .dataframe tbody tr th:only-of-type {\n",
       "        vertical-align: middle;\n",
       "    }\n",
       "\n",
       "    .dataframe tbody tr th {\n",
       "        vertical-align: top;\n",
       "    }\n",
       "\n",
       "    .dataframe thead th {\n",
       "        text-align: right;\n",
       "    }\n",
       "</style>\n",
       "<table border=\"1\" class=\"dataframe\">\n",
       "  <thead>\n",
       "    <tr style=\"text-align: right;\">\n",
       "      <th></th>\n",
       "      <th>mean</th>\n",
       "      <th>count</th>\n",
       "    </tr>\n",
       "    <tr>\n",
       "      <th>bins</th>\n",
       "      <th></th>\n",
       "      <th></th>\n",
       "    </tr>\n",
       "  </thead>\n",
       "  <tbody>\n",
       "    <tr>\n",
       "      <th>(1879, 1880]</th>\n",
       "      <td>-0.169167</td>\n",
       "      <td>12</td>\n",
       "    </tr>\n",
       "    <tr>\n",
       "      <th>(1880, 1900]</th>\n",
       "      <td>-0.220667</td>\n",
       "      <td>240</td>\n",
       "    </tr>\n",
       "    <tr>\n",
       "      <th>(1900, 1920]</th>\n",
       "      <td>-0.328958</td>\n",
       "      <td>240</td>\n",
       "    </tr>\n",
       "    <tr>\n",
       "      <th>(1920, 1940]</th>\n",
       "      <td>-0.155958</td>\n",
       "      <td>240</td>\n",
       "    </tr>\n",
       "    <tr>\n",
       "      <th>(1940, 1960]</th>\n",
       "      <td>-0.008042</td>\n",
       "      <td>240</td>\n",
       "    </tr>\n",
       "    <tr>\n",
       "      <th>(1960, 1980]</th>\n",
       "      <td>0.016417</td>\n",
       "      <td>240</td>\n",
       "    </tr>\n",
       "    <tr>\n",
       "      <th>(1980, 2000]</th>\n",
       "      <td>0.323375</td>\n",
       "      <td>240</td>\n",
       "    </tr>\n",
       "    <tr>\n",
       "      <th>(2000, 2020]</th>\n",
       "      <td>0.729250</td>\n",
       "      <td>240</td>\n",
       "    </tr>\n",
       "    <tr>\n",
       "      <th>(2020, 2023]</th>\n",
       "      <td>0.888148</td>\n",
       "      <td>27</td>\n",
       "    </tr>\n",
       "  </tbody>\n",
       "</table>\n",
       "</div>"
      ],
      "text/plain": [
       "                  mean  count\n",
       "bins                         \n",
       "(1879, 1880] -0.169167     12\n",
       "(1880, 1900] -0.220667    240\n",
       "(1900, 1920] -0.328958    240\n",
       "(1920, 1940] -0.155958    240\n",
       "(1940, 1960] -0.008042    240\n",
       "(1960, 1980]  0.016417    240\n",
       "(1980, 2000]  0.323375    240\n",
       "(2000, 2020]  0.729250    240\n",
       "(2020, 2023]  0.888148     27"
      ]
     },
     "execution_count": 69,
     "metadata": {},
     "output_type": "execute_result"
    }
   ],
   "source": [
    "dfc.groupby('bins')['anomaly'].agg(['mean','count'])"
   ]
  },
  {
   "cell_type": "markdown",
   "id": "7cf0dfda-2bcd-434f-a6ed-c05d3f022319",
   "metadata": {},
   "source": [
    "#### quantile binning .qcut()"
   ]
  },
  {
   "cell_type": "code",
   "execution_count": 70,
   "id": "cb2745b8-6ca7-44e1-8c1a-0496b0be9732",
   "metadata": {
    "tags": []
   },
   "outputs": [
    {
     "data": {
      "text/html": [
       "<div>\n",
       "<style scoped>\n",
       "    .dataframe tbody tr th:only-of-type {\n",
       "        vertical-align: middle;\n",
       "    }\n",
       "\n",
       "    .dataframe tbody tr th {\n",
       "        vertical-align: top;\n",
       "    }\n",
       "\n",
       "    .dataframe thead th {\n",
       "        text-align: right;\n",
       "    }\n",
       "</style>\n",
       "<table border=\"1\" class=\"dataframe\">\n",
       "  <thead>\n",
       "    <tr style=\"text-align: right;\">\n",
       "      <th></th>\n",
       "      <th>mean</th>\n",
       "      <th>count</th>\n",
       "    </tr>\n",
       "    <tr>\n",
       "      <th>qbins</th>\n",
       "      <th></th>\n",
       "      <th></th>\n",
       "    </tr>\n",
       "  </thead>\n",
       "  <tbody>\n",
       "    <tr>\n",
       "      <th>(1879.999, 1908.0]</th>\n",
       "      <td>-0.246897</td>\n",
       "      <td>348</td>\n",
       "    </tr>\n",
       "    <tr>\n",
       "      <th>(1908.0, 1937.0]</th>\n",
       "      <td>-0.249397</td>\n",
       "      <td>348</td>\n",
       "    </tr>\n",
       "    <tr>\n",
       "      <th>(1937.0, 1965.0]</th>\n",
       "      <td>-0.007619</td>\n",
       "      <td>336</td>\n",
       "    </tr>\n",
       "    <tr>\n",
       "      <th>(1965.0, 1994.0]</th>\n",
       "      <td>0.149511</td>\n",
       "      <td>348</td>\n",
       "    </tr>\n",
       "    <tr>\n",
       "      <th>(1994.0, 2023.0]</th>\n",
       "      <td>0.679912</td>\n",
       "      <td>339</td>\n",
       "    </tr>\n",
       "  </tbody>\n",
       "</table>\n",
       "</div>"
      ],
      "text/plain": [
       "                        mean  count\n",
       "qbins                              \n",
       "(1879.999, 1908.0] -0.246897    348\n",
       "(1908.0, 1937.0]   -0.249397    348\n",
       "(1937.0, 1965.0]   -0.007619    336\n",
       "(1965.0, 1994.0]    0.149511    348\n",
       "(1994.0, 2023.0]    0.679912    339"
      ]
     },
     "execution_count": 70,
     "metadata": {},
     "output_type": "execute_result"
    }
   ],
   "source": [
    "dfc = df_global_by_month.copy().reset_index()\n",
    "dfc['qbins'] =  pd.qcut(dfc['year'], 5)\n",
    "dfc.groupby('qbins')['anomaly'].agg(['mean','count'])"
   ]
  },
  {
   "cell_type": "markdown",
   "id": "d0de544c-87d7-454a-bdf7-ab9955491a7e",
   "metadata": {
    "toc-hr-collapsed": true
   },
   "source": [
    "### rolling"
   ]
  },
  {
   "cell_type": "code",
   "execution_count": 71,
   "id": "0201f93b-a74b-468c-ab67-2d9018677537",
   "metadata": {
    "tags": []
   },
   "outputs": [
    {
     "data": {
      "text/html": [
       "<div>\n",
       "<style scoped>\n",
       "    .dataframe tbody tr th:only-of-type {\n",
       "        vertical-align: middle;\n",
       "    }\n",
       "\n",
       "    .dataframe tbody tr th {\n",
       "        vertical-align: top;\n",
       "    }\n",
       "\n",
       "    .dataframe thead th {\n",
       "        text-align: right;\n",
       "    }\n",
       "</style>\n",
       "<table border=\"1\" class=\"dataframe\">\n",
       "  <thead>\n",
       "    <tr style=\"text-align: right;\">\n",
       "      <th></th>\n",
       "      <th>min</th>\n",
       "      <th>max</th>\n",
       "      <th>mean</th>\n",
       "      <th>count</th>\n",
       "    </tr>\n",
       "    <tr>\n",
       "      <th>date</th>\n",
       "      <th></th>\n",
       "      <th></th>\n",
       "      <th></th>\n",
       "      <th></th>\n",
       "    </tr>\n",
       "  </thead>\n",
       "  <tbody>\n",
       "    <tr>\n",
       "      <th>1880-01-01</th>\n",
       "      <td>-0.18</td>\n",
       "      <td>-0.18</td>\n",
       "      <td>-0.1800</td>\n",
       "      <td>1.0</td>\n",
       "    </tr>\n",
       "    <tr>\n",
       "      <th>1880-02-01</th>\n",
       "      <td>-0.24</td>\n",
       "      <td>-0.18</td>\n",
       "      <td>-0.2100</td>\n",
       "      <td>2.0</td>\n",
       "    </tr>\n",
       "    <tr>\n",
       "      <th>1880-03-01</th>\n",
       "      <td>-0.24</td>\n",
       "      <td>-0.09</td>\n",
       "      <td>-0.1700</td>\n",
       "      <td>3.0</td>\n",
       "    </tr>\n",
       "    <tr>\n",
       "      <th>1880-04-01</th>\n",
       "      <td>-0.24</td>\n",
       "      <td>-0.09</td>\n",
       "      <td>-0.1675</td>\n",
       "      <td>4.0</td>\n",
       "    </tr>\n",
       "    <tr>\n",
       "      <th>1880-05-01</th>\n",
       "      <td>-0.24</td>\n",
       "      <td>-0.09</td>\n",
       "      <td>-0.1540</td>\n",
       "      <td>5.0</td>\n",
       "    </tr>\n",
       "  </tbody>\n",
       "</table>\n",
       "</div>"
      ],
      "text/plain": [
       "             min   max    mean  count\n",
       "date                                 \n",
       "1880-01-01 -0.18 -0.18 -0.1800    1.0\n",
       "1880-02-01 -0.24 -0.18 -0.2100    2.0\n",
       "1880-03-01 -0.24 -0.09 -0.1700    3.0\n",
       "1880-04-01 -0.24 -0.09 -0.1675    4.0\n",
       "1880-05-01 -0.24 -0.09 -0.1540    5.0"
      ]
     },
     "execution_count": 71,
     "metadata": {},
     "output_type": "execute_result"
    }
   ],
   "source": [
    "df_global_by_month['anomaly'].rolling(5,min_periods=1).agg(['min', 'max', 'mean','count']).head()\n",
    "#dfgt['Anomaly'].rolling(5,min_periods=1,center=True).agg(['min', 'max', 'mean','count']).head()"
   ]
  },
  {
   "cell_type": "markdown",
   "id": "91c403fc-5d3e-45d0-91f6-83d2b52a6317",
   "metadata": {},
   "source": [
    "#### .nunique()"
   ]
  },
  {
   "cell_type": "code",
   "execution_count": 72,
   "id": "023adf10-6a49-4d06-b439-1bb5f0f0a0f4",
   "metadata": {},
   "outputs": [
    {
     "data": {
      "text/html": [
       "<div>\n",
       "<style scoped>\n",
       "    .dataframe tbody tr th:only-of-type {\n",
       "        vertical-align: middle;\n",
       "    }\n",
       "\n",
       "    .dataframe tbody tr th {\n",
       "        vertical-align: top;\n",
       "    }\n",
       "\n",
       "    .dataframe thead th {\n",
       "        text-align: right;\n",
       "    }\n",
       "</style>\n",
       "<table border=\"1\" class=\"dataframe\">\n",
       "  <thead>\n",
       "    <tr style=\"text-align: right;\">\n",
       "      <th></th>\n",
       "      <th>anomaly</th>\n",
       "    </tr>\n",
       "    <tr>\n",
       "      <th>month</th>\n",
       "      <th></th>\n",
       "    </tr>\n",
       "  </thead>\n",
       "  <tbody>\n",
       "    <tr>\n",
       "      <th>Jan</th>\n",
       "      <td>96</td>\n",
       "    </tr>\n",
       "    <tr>\n",
       "      <th>Feb</th>\n",
       "      <td>91</td>\n",
       "    </tr>\n",
       "    <tr>\n",
       "      <th>Mar</th>\n",
       "      <td>88</td>\n",
       "    </tr>\n",
       "    <tr>\n",
       "      <th>Apr</th>\n",
       "      <td>87</td>\n",
       "    </tr>\n",
       "    <tr>\n",
       "      <th>May</th>\n",
       "      <td>87</td>\n",
       "    </tr>\n",
       "    <tr>\n",
       "      <th>Jun</th>\n",
       "      <td>89</td>\n",
       "    </tr>\n",
       "    <tr>\n",
       "      <th>Jul</th>\n",
       "      <td>79</td>\n",
       "    </tr>\n",
       "    <tr>\n",
       "      <th>Aug</th>\n",
       "      <td>88</td>\n",
       "    </tr>\n",
       "    <tr>\n",
       "      <th>Sep</th>\n",
       "      <td>83</td>\n",
       "    </tr>\n",
       "    <tr>\n",
       "      <th>Oct</th>\n",
       "      <td>82</td>\n",
       "    </tr>\n",
       "    <tr>\n",
       "      <th>Nov</th>\n",
       "      <td>82</td>\n",
       "    </tr>\n",
       "    <tr>\n",
       "      <th>Dec</th>\n",
       "      <td>92</td>\n",
       "    </tr>\n",
       "  </tbody>\n",
       "</table>\n",
       "</div>"
      ],
      "text/plain": [
       "       anomaly\n",
       "month         \n",
       "Jan         96\n",
       "Feb         91\n",
       "Mar         88\n",
       "Apr         87\n",
       "May         87\n",
       "Jun         89\n",
       "Jul         79\n",
       "Aug         88\n",
       "Sep         83\n",
       "Oct         82\n",
       "Nov         82\n",
       "Dec         92"
      ]
     },
     "execution_count": 72,
     "metadata": {},
     "output_type": "execute_result"
    }
   ],
   "source": [
    "tmp = df_global_by_month[[\"month\", \"anomaly\"]].groupby(\"month\").nunique()"
   ]
  },
  {
   "cell_type": "markdown",
   "id": "520e13e8-af0e-4582-85c8-1a03fe68532b",
   "metadata": {
    "tags": []
   },
   "source": [
    "<a id='da-resample'></a>\n",
    "## resample"
   ]
  },
  {
   "cell_type": "markdown",
   "id": "e5263d48-9df6-4f8a-92de-0dd0b315c0bc",
   "metadata": {},
   "source": [
    "[Return to Start of Notebook](#da)  "
   ]
  },
  {
   "cell_type": "markdown",
   "id": "58009881-9093-4ac0-8305-69fc55f502e5",
   "metadata": {},
   "source": [
    "- nnAS year start frequency\n",
    "- nnYS year start frequency\n",
    "- nnY year end frequency\n",
    "- nnA year end frequency\n",
    "- 10Y = decade"
   ]
  },
  {
   "cell_type": "markdown",
   "id": "22b65082-9a04-4e49-8755-e8e156094026",
   "metadata": {},
   "source": [
    "- QS quarter start frequency\n",
    "- Q quarter end frequency\n",
    "- MS month start frequency\n",
    "- M month end frequency\n",
    "- W weekly frequency\n",
    "- D calendar day frequency\n",
    "- H hourly frequency"
   ]
  },
  {
   "cell_type": "markdown",
   "id": "720d1eea-316a-4a27-b9d9-da947b6b8489",
   "metadata": {
    "toc-hr-collapsed": true
   },
   "source": [
    "### .resample().agg()"
   ]
  },
  {
   "cell_type": "code",
   "execution_count": 73,
   "id": "1e10f612-f1cd-4344-b87c-40ce68f26dea",
   "metadata": {
    "tags": []
   },
   "outputs": [
    {
     "data": {
      "text/html": [
       "<div>\n",
       "<style scoped>\n",
       "    .dataframe tbody tr th:only-of-type {\n",
       "        vertical-align: middle;\n",
       "    }\n",
       "\n",
       "    .dataframe tbody tr th {\n",
       "        vertical-align: top;\n",
       "    }\n",
       "\n",
       "    .dataframe thead th {\n",
       "        text-align: right;\n",
       "    }\n",
       "</style>\n",
       "<table border=\"1\" class=\"dataframe\">\n",
       "  <thead>\n",
       "    <tr style=\"text-align: right;\">\n",
       "      <th></th>\n",
       "      <th>year</th>\n",
       "      <th>month</th>\n",
       "      <th>season</th>\n",
       "      <th>area</th>\n",
       "      <th>anomaly</th>\n",
       "    </tr>\n",
       "    <tr>\n",
       "      <th>date</th>\n",
       "      <th></th>\n",
       "      <th></th>\n",
       "      <th></th>\n",
       "      <th></th>\n",
       "      <th></th>\n",
       "    </tr>\n",
       "  </thead>\n",
       "  <tbody>\n",
       "    <tr>\n",
       "      <th>1880-01-01</th>\n",
       "      <td>1880</td>\n",
       "      <td>Jan</td>\n",
       "      <td>Winter</td>\n",
       "      <td>GLB</td>\n",
       "      <td>-0.18</td>\n",
       "    </tr>\n",
       "  </tbody>\n",
       "</table>\n",
       "</div>"
      ],
      "text/plain": [
       "            year month  season area  anomaly\n",
       "date                                        \n",
       "1880-01-01  1880   Jan  Winter  GLB    -0.18"
      ]
     },
     "execution_count": 73,
     "metadata": {},
     "output_type": "execute_result"
    }
   ],
   "source": [
    "df_global_by_month.head(1)"
   ]
  },
  {
   "cell_type": "code",
   "execution_count": 74,
   "id": "ec4bcea0-99ba-44d3-ac64-c7c50d3fb620",
   "metadata": {
    "tags": []
   },
   "outputs": [
    {
     "data": {
      "text/plain": [
       "pandas.core.indexes.datetimes.DatetimeIndex"
      ]
     },
     "execution_count": 74,
     "metadata": {},
     "output_type": "execute_result"
    }
   ],
   "source": [
    "type(df_global_by_month.index)"
   ]
  },
  {
   "cell_type": "markdown",
   "id": "a41638cc-2364-41f1-8951-d63fee228609",
   "metadata": {},
   "source": [
    "#### year"
   ]
  },
  {
   "cell_type": "code",
   "execution_count": 75,
   "id": "565d922a-3867-470f-8288-ba0397cd557d",
   "metadata": {
    "tags": []
   },
   "outputs": [
    {
     "data": {
      "text/html": [
       "<div>\n",
       "<style scoped>\n",
       "    .dataframe tbody tr th:only-of-type {\n",
       "        vertical-align: middle;\n",
       "    }\n",
       "\n",
       "    .dataframe tbody tr th {\n",
       "        vertical-align: top;\n",
       "    }\n",
       "\n",
       "    .dataframe thead th {\n",
       "        text-align: right;\n",
       "    }\n",
       "</style>\n",
       "<table border=\"1\" class=\"dataframe\">\n",
       "  <thead>\n",
       "    <tr style=\"text-align: right;\">\n",
       "      <th></th>\n",
       "      <th>avg_anomaly</th>\n",
       "      <th>max_anomaly</th>\n",
       "      <th>min_anomaly</th>\n",
       "      <th>count_anomaly</th>\n",
       "    </tr>\n",
       "    <tr>\n",
       "      <th>date</th>\n",
       "      <th></th>\n",
       "      <th></th>\n",
       "      <th></th>\n",
       "      <th></th>\n",
       "    </tr>\n",
       "  </thead>\n",
       "  <tbody>\n",
       "    <tr>\n",
       "      <th>1880-01-01</th>\n",
       "      <td>-0.17</td>\n",
       "      <td>-0.09</td>\n",
       "      <td>-0.24</td>\n",
       "      <td>12</td>\n",
       "    </tr>\n",
       "    <tr>\n",
       "      <th>1881-01-01</th>\n",
       "      <td>-0.09</td>\n",
       "      <td>0.06</td>\n",
       "      <td>-0.22</td>\n",
       "      <td>12</td>\n",
       "    </tr>\n",
       "    <tr>\n",
       "      <th>1882-01-01</th>\n",
       "      <td>-0.11</td>\n",
       "      <td>0.16</td>\n",
       "      <td>-0.36</td>\n",
       "      <td>12</td>\n",
       "    </tr>\n",
       "  </tbody>\n",
       "</table>\n",
       "</div>"
      ],
      "text/plain": [
       "            avg_anomaly  max_anomaly  min_anomaly  count_anomaly\n",
       "date                                                            \n",
       "1880-01-01        -0.17        -0.09        -0.24             12\n",
       "1881-01-01        -0.09         0.06        -0.22             12\n",
       "1882-01-01        -0.11         0.16        -0.36             12"
      ]
     },
     "execution_count": 75,
     "metadata": {},
     "output_type": "execute_result"
    }
   ],
   "source": [
    "df_global_resampled_by_year = df_global_by_month[['anomaly']]\\\n",
    "            .resample('YS')\\\n",
    "            .agg(avg_anomaly=('anomaly', 'mean'),\n",
    "                 max_anomaly=('anomaly', 'max'),\n",
    "                 min_anomaly=('anomaly', 'min'),\n",
    "                 count_anomaly= ('anomaly', 'count'))\\\n",
    "            .round(2)\\\n",
    "            .reset_index()\\\n",
    "            .set_index('date')\n",
    "df_global_resampled_by_year.head(3)"
   ]
  },
  {
   "cell_type": "markdown",
   "id": "28d09588-010c-42a5-bca9-63886b8fb486",
   "metadata": {},
   "source": [
    "#### decade"
   ]
  },
  {
   "cell_type": "code",
   "execution_count": 76,
   "id": "4c9ea2ba-9049-488a-8b93-f3d7a79fab92",
   "metadata": {
    "tags": []
   },
   "outputs": [
    {
     "data": {
      "text/html": [
       "<div>\n",
       "<style scoped>\n",
       "    .dataframe tbody tr th:only-of-type {\n",
       "        vertical-align: middle;\n",
       "    }\n",
       "\n",
       "    .dataframe tbody tr th {\n",
       "        vertical-align: top;\n",
       "    }\n",
       "\n",
       "    .dataframe thead th {\n",
       "        text-align: right;\n",
       "    }\n",
       "</style>\n",
       "<table border=\"1\" class=\"dataframe\">\n",
       "  <thead>\n",
       "    <tr style=\"text-align: right;\">\n",
       "      <th></th>\n",
       "      <th>avg_anomaly</th>\n",
       "      <th>max_anomaly</th>\n",
       "      <th>min_anomaly</th>\n",
       "      <th>count_anomaly</th>\n",
       "    </tr>\n",
       "    <tr>\n",
       "      <th>date</th>\n",
       "      <th></th>\n",
       "      <th></th>\n",
       "      <th></th>\n",
       "      <th></th>\n",
       "    </tr>\n",
       "  </thead>\n",
       "  <tbody>\n",
       "    <tr>\n",
       "      <th>2000-01-01</th>\n",
       "      <td>0.59</td>\n",
       "      <td>1.02</td>\n",
       "      <td>0.25</td>\n",
       "      <td>120</td>\n",
       "    </tr>\n",
       "    <tr>\n",
       "      <th>2010-01-01</th>\n",
       "      <td>0.81</td>\n",
       "      <td>1.37</td>\n",
       "      <td>0.45</td>\n",
       "      <td>120</td>\n",
       "    </tr>\n",
       "    <tr>\n",
       "      <th>2020-01-01</th>\n",
       "      <td>0.93</td>\n",
       "      <td>1.24</td>\n",
       "      <td>0.64</td>\n",
       "      <td>39</td>\n",
       "    </tr>\n",
       "  </tbody>\n",
       "</table>\n",
       "</div>"
      ],
      "text/plain": [
       "            avg_anomaly  max_anomaly  min_anomaly  count_anomaly\n",
       "date                                                            \n",
       "2000-01-01         0.59         1.02         0.25            120\n",
       "2010-01-01         0.81         1.37         0.45            120\n",
       "2020-01-01         0.93         1.24         0.64             39"
      ]
     },
     "execution_count": 76,
     "metadata": {},
     "output_type": "execute_result"
    }
   ],
   "source": [
    "df_global_resampled_by_decade = df_global_by_month[['anomaly']]\\\n",
    "            .resample('10YS')\\\n",
    "            .agg(avg_anomaly=('anomaly', 'mean'),\n",
    "                 max_anomaly=('anomaly', 'max'),\n",
    "                 min_anomaly=('anomaly', 'min'),\n",
    "                 count_anomaly= ('anomaly', 'count'))\\\n",
    "            .round(2)\\\n",
    "            .reset_index()\\\n",
    "            .set_index('date')\n",
    "df_global_resampled_by_decade.tail(3)"
   ]
  },
  {
   "cell_type": "markdown",
   "id": "68afb450-2cfe-47e6-ad5b-b9bbbc89b8d8",
   "metadata": {
    "tags": [],
    "toc-hr-collapsed": true
   },
   "source": [
    "### filter for complete decades"
   ]
  },
  {
   "cell_type": "code",
   "execution_count": 77,
   "id": "0920c39d-4bfd-4feb-9ecb-844f5cab6a89",
   "metadata": {
    "tags": []
   },
   "outputs": [
    {
     "data": {
      "text/html": [
       "<div>\n",
       "<style scoped>\n",
       "    .dataframe tbody tr th:only-of-type {\n",
       "        vertical-align: middle;\n",
       "    }\n",
       "\n",
       "    .dataframe tbody tr th {\n",
       "        vertical-align: top;\n",
       "    }\n",
       "\n",
       "    .dataframe thead th {\n",
       "        text-align: right;\n",
       "    }\n",
       "</style>\n",
       "<table border=\"1\" class=\"dataframe\">\n",
       "  <thead>\n",
       "    <tr style=\"text-align: right;\">\n",
       "      <th></th>\n",
       "      <th>avg_anomaly</th>\n",
       "      <th>max_anomaly</th>\n",
       "      <th>min_anomaly</th>\n",
       "      <th>count_anomaly</th>\n",
       "    </tr>\n",
       "    <tr>\n",
       "      <th>date</th>\n",
       "      <th></th>\n",
       "      <th></th>\n",
       "      <th></th>\n",
       "      <th></th>\n",
       "    </tr>\n",
       "  </thead>\n",
       "  <tbody>\n",
       "    <tr>\n",
       "      <th>1990-01-01</th>\n",
       "      <td>0.39</td>\n",
       "      <td>0.88</td>\n",
       "      <td>-0.01</td>\n",
       "      <td>120</td>\n",
       "    </tr>\n",
       "    <tr>\n",
       "      <th>2000-01-01</th>\n",
       "      <td>0.59</td>\n",
       "      <td>1.02</td>\n",
       "      <td>0.25</td>\n",
       "      <td>120</td>\n",
       "    </tr>\n",
       "    <tr>\n",
       "      <th>2010-01-01</th>\n",
       "      <td>0.81</td>\n",
       "      <td>1.37</td>\n",
       "      <td>0.45</td>\n",
       "      <td>120</td>\n",
       "    </tr>\n",
       "  </tbody>\n",
       "</table>\n",
       "</div>"
      ],
      "text/plain": [
       "            avg_anomaly  max_anomaly  min_anomaly  count_anomaly\n",
       "date                                                            \n",
       "1990-01-01         0.39         0.88        -0.01            120\n",
       "2000-01-01         0.59         1.02         0.25            120\n",
       "2010-01-01         0.81         1.37         0.45            120"
      ]
     },
     "execution_count": 77,
     "metadata": {},
     "output_type": "execute_result"
    }
   ],
   "source": [
    "filt = df_global_resampled_by_decade[\"count_anomaly\"]==120\n",
    "df_global_resampled_by_decade_cd = df_global_resampled_by_decade.loc[filt]\n",
    "df_global_resampled_by_decade_cd.tail(3)"
   ]
  },
  {
   "cell_type": "markdown",
   "id": "9d1332de-9025-4b63-a085-781e9c4e55ec",
   "metadata": {},
   "source": [
    "#### add decade column"
   ]
  },
  {
   "cell_type": "raw",
   "id": "28180899-6287-4123-9108-bfbdd1f445a1",
   "metadata": {
    "tags": []
   },
   "source": [
    "dfgty['decade'] = dfgty.index.year  # add Decade column to decades df\n",
    "dfgty.tail(3)"
   ]
  },
  {
   "cell_type": "markdown",
   "id": "688744bd-0b8d-4b3a-bafd-db2e640f58ca",
   "metadata": {
    "tags": [],
    "toc-hr-collapsed": true
   },
   "source": [
    "<a id='da-export'></a>\n",
    "## export"
   ]
  },
  {
   "cell_type": "markdown",
   "id": "4b4be7ca-d4c5-4dc6-b903-aaf43448a4b8",
   "metadata": {},
   "source": [
    "[Return to Start of Notebook](#da)  "
   ]
  },
  {
   "cell_type": "code",
   "execution_count": 78,
   "id": "0266a593-ce46-4e3d-8e65-4956007032d6",
   "metadata": {
    "tags": []
   },
   "outputs": [],
   "source": [
    "save_path = os.path.join(aggregated_data_dir, 'global_by_decade.csv')\n",
    "df_global_resampled_by_decade.to_csv(save_path, header=True, index=True, sep=',')"
   ]
  },
  {
   "cell_type": "code",
   "execution_count": 79,
   "id": "29226a86-f736-4e63-8ad8-0f6c7f5b8546",
   "metadata": {},
   "outputs": [],
   "source": [
    "save_path = os.path.join(aggregated_data_dir, 'global_by_year.csv')\n",
    "df_global_resampled_by_year.to_csv(save_path, header=True, index=True, sep=',')"
   ]
  },
  {
   "cell_type": "code",
   "execution_count": 80,
   "id": "591e14ba-641c-48b9-bffa-04e02166b0bc",
   "metadata": {},
   "outputs": [],
   "source": [
    "save_path = os.path.join(aggregated_data_dir, 'global_by_season.csv')\n",
    "df_global_grouped_by_season.to_csv(save_path, header=True, index=True, sep=',')"
   ]
  },
  {
   "cell_type": "code",
   "execution_count": 81,
   "id": "2fa15165-1aa1-4df1-b750-f67159b10327",
   "metadata": {
    "tags": []
   },
   "outputs": [],
   "source": [
    "save_path = os.path.join(aggregated_data_dir, 'global_by_month.csv')\n",
    "df_global_grouped_by_month.to_csv(save_path, header=True, index=True, sep=',')"
   ]
  },
  {
   "cell_type": "code",
   "execution_count": null,
   "id": "50aee4fc-c97a-4615-ac2d-175a07eaac96",
   "metadata": {},
   "outputs": [],
   "source": []
  }
 ],
 "metadata": {
  "kernelspec": {
   "display_name": "Python 3 (ipykernel)",
   "language": "python",
   "name": "python3"
  },
  "language_info": {
   "codemirror_mode": {
    "name": "ipython",
    "version": 3
   },
   "file_extension": ".py",
   "mimetype": "text/x-python",
   "name": "python",
   "nbconvert_exporter": "python",
   "pygments_lexer": "ipython3",
   "version": "3.10.10"
  }
 },
 "nbformat": 4,
 "nbformat_minor": 5
}
